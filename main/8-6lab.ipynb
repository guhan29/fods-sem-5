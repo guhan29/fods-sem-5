{
 "metadata": {
  "language_info": {
   "codemirror_mode": {
    "name": "ipython",
    "version": 3
   },
   "file_extension": ".py",
   "mimetype": "text/x-python",
   "name": "python",
   "nbconvert_exporter": "python",
   "pygments_lexer": "ipython3",
   "version": "3.8.2-final"
  },
  "orig_nbformat": 2,
  "kernelspec": {
   "name": "python_defaultSpec_1597296987787",
   "display_name": "Python 3.8.2 32-bit"
  }
 },
 "nbformat": 4,
 "nbformat_minor": 2,
 "cells": [
  {
   "cell_type": "code",
   "execution_count": 1,
   "metadata": {},
   "outputs": [
    {
     "output_type": "execute_result",
     "data": {
      "text/plain": "    A   B   C\n0  A0  B0  C0\n1  A1  B1  C1\n2  A2  B2  C2",
      "text/html": "<div>\n<style scoped>\n    .dataframe tbody tr th:only-of-type {\n        vertical-align: middle;\n    }\n\n    .dataframe tbody tr th {\n        vertical-align: top;\n    }\n\n    .dataframe thead th {\n        text-align: right;\n    }\n</style>\n<table border=\"1\" class=\"dataframe\">\n  <thead>\n    <tr style=\"text-align: right;\">\n      <th></th>\n      <th>A</th>\n      <th>B</th>\n      <th>C</th>\n    </tr>\n  </thead>\n  <tbody>\n    <tr>\n      <th>0</th>\n      <td>A0</td>\n      <td>B0</td>\n      <td>C0</td>\n    </tr>\n    <tr>\n      <th>1</th>\n      <td>A1</td>\n      <td>B1</td>\n      <td>C1</td>\n    </tr>\n    <tr>\n      <th>2</th>\n      <td>A2</td>\n      <td>B2</td>\n      <td>C2</td>\n    </tr>\n  </tbody>\n</table>\n</div>"
     },
     "metadata": {},
     "execution_count": 1
    }
   ],
   "source": [
    "import pandas as pd \n",
    "import matplotlib as plt\n",
    "def make_df(cols, ind):\n",
    "    \"\"\"Quickly make a DataFrame\"\"\"\n",
    "    data = {c: [str(c) + str(i) for i in ind]\n",
    "            for c in cols}\n",
    "    return pd.DataFrame(data, ind)\n",
    "\n",
    "# example DataFrame\n",
    "make_df('ABC', range(3))\n"
   ]
  },
  {
   "cell_type": "code",
   "execution_count": 2,
   "metadata": {},
   "outputs": [],
   "source": [
    "class display(object):\n",
    "    \"\"\"Display HTML representation of multiple objects\"\"\"\n",
    "    template = \"\"\"<div style=\"float: left; padding: 10px;\">\n",
    "    <p style='font-family:\"Courier New\", Courier, monospace'>{0}</p>{1}\n",
    "    </div>\"\"\"\n",
    "    def __init__(self, *args):\n",
    "        self.args = args\n",
    "        \n",
    "    def _repr_html_(self):\n",
    "        return '\\n'.join(self.template.format(a, eval(a)._repr_html_())\n",
    "                         for a in self.args)\n",
    "    \n",
    "    def __repr__(self):\n",
    "        return '\\n\\n'.join(a + '\\n' + repr(eval(a))\n",
    "                           for a in self.args)\n",
    "df1 = pd.DataFrame({'employee': ['Bob', 'Jake', 'Lisa', 'Sue'],'group': ['Accounting', 'Engineering', 'Engineering', 'HR']})\n",
    "\n",
    "\n",
    "\n",
    "df2 = pd.DataFrame({'employee': ['Lisa', 'Bob', 'Jake', 'Sue'],'hire_date': [2004, 2008, 2012, 2014]})\n",
    "\n",
    "\n",
    "\n",
    "df4 = pd.DataFrame({'group': ['Accounting', 'Engineering', 'HR'],'supervisor': ['Carly', 'Guido', 'Steve']})\n",
    "\n",
    "\n",
    "df5 = pd.DataFrame({'group': ['Accounting', 'Accounting','Engineering', 'Engineering', 'HR', 'HR'],'skills': ['math', 'spreadsheets', 'coding', 'linux', 'spreadsheets', 'organization']})\n",
    "\n",
    "\n",
    "\n",
    "df3 = pd.DataFrame({'name': ['Bob', 'Jake', 'Lisa', 'Sue'],'salary': [70000, 80000, 120000, 90000]})\n",
    "\n",
    "\n",
    "df6 = pd.DataFrame({'name': ['Peter', 'Paul', 'Mary'],'food': ['fish', 'beans', 'bread']},columns=['name', 'food'])\n",
    "df7 = pd.DataFrame({'name': ['Mary', 'Joseph'],\n",
    "                    'drink': ['wine', 'beer']},\n",
    "                   columns=['name', 'drink'])\n",
    "\n",
    "\n",
    "\n",
    "df8 = pd.DataFrame({'name': ['Bob', 'Jake', 'Lisa', 'Sue'],'rank': [1, 2, 3, 4]})\n",
    "\n",
    "\n",
    "df9 = pd.DataFrame({'name': ['Bob', 'Jake', 'Lisa', 'Sue'],'rank': [3, 1, 4, 2]})\n",
    "\n"
   ]
  },
  {
   "cell_type": "code",
   "execution_count": 3,
   "metadata": {},
   "outputs": [
    {
     "output_type": "execute_result",
     "data": {
      "text/plain": "array([1, 2, 3, 4, 5, 6])"
     },
     "metadata": {},
     "execution_count": 3
    }
   ],
   "source": [
    "import numpy as np \n",
    "a=[1,2,3]\n",
    "b=[4,5,6]\n",
    "np.concatenate([a,b])"
   ]
  },
  {
   "cell_type": "code",
   "execution_count": 4,
   "metadata": {},
   "outputs": [
    {
     "output_type": "execute_result",
     "data": {
      "text/plain": "d1\n    A   B\n1  A1  B1\n2  A2  B2\n\nd2\n    A   B\n3  A3  B3\n4  A4  B4\n\npd.concat([d1,d2])\n    A   B\n1  A1  B1\n2  A2  B2\n3  A3  B3\n4  A4  B4",
      "text/html": "<div style=\"float: left; padding: 10px;\">\n    <p style='font-family:\"Courier New\", Courier, monospace'>d1</p><div>\n<style scoped>\n    .dataframe tbody tr th:only-of-type {\n        vertical-align: middle;\n    }\n\n    .dataframe tbody tr th {\n        vertical-align: top;\n    }\n\n    .dataframe thead th {\n        text-align: right;\n    }\n</style>\n<table border=\"1\" class=\"dataframe\">\n  <thead>\n    <tr style=\"text-align: right;\">\n      <th></th>\n      <th>A</th>\n      <th>B</th>\n    </tr>\n  </thead>\n  <tbody>\n    <tr>\n      <th>1</th>\n      <td>A1</td>\n      <td>B1</td>\n    </tr>\n    <tr>\n      <th>2</th>\n      <td>A2</td>\n      <td>B2</td>\n    </tr>\n  </tbody>\n</table>\n</div>\n    </div>\n<div style=\"float: left; padding: 10px;\">\n    <p style='font-family:\"Courier New\", Courier, monospace'>d2</p><div>\n<style scoped>\n    .dataframe tbody tr th:only-of-type {\n        vertical-align: middle;\n    }\n\n    .dataframe tbody tr th {\n        vertical-align: top;\n    }\n\n    .dataframe thead th {\n        text-align: right;\n    }\n</style>\n<table border=\"1\" class=\"dataframe\">\n  <thead>\n    <tr style=\"text-align: right;\">\n      <th></th>\n      <th>A</th>\n      <th>B</th>\n    </tr>\n  </thead>\n  <tbody>\n    <tr>\n      <th>3</th>\n      <td>A3</td>\n      <td>B3</td>\n    </tr>\n    <tr>\n      <th>4</th>\n      <td>A4</td>\n      <td>B4</td>\n    </tr>\n  </tbody>\n</table>\n</div>\n    </div>\n<div style=\"float: left; padding: 10px;\">\n    <p style='font-family:\"Courier New\", Courier, monospace'>pd.concat([d1,d2])</p><div>\n<style scoped>\n    .dataframe tbody tr th:only-of-type {\n        vertical-align: middle;\n    }\n\n    .dataframe tbody tr th {\n        vertical-align: top;\n    }\n\n    .dataframe thead th {\n        text-align: right;\n    }\n</style>\n<table border=\"1\" class=\"dataframe\">\n  <thead>\n    <tr style=\"text-align: right;\">\n      <th></th>\n      <th>A</th>\n      <th>B</th>\n    </tr>\n  </thead>\n  <tbody>\n    <tr>\n      <th>1</th>\n      <td>A1</td>\n      <td>B1</td>\n    </tr>\n    <tr>\n      <th>2</th>\n      <td>A2</td>\n      <td>B2</td>\n    </tr>\n    <tr>\n      <th>3</th>\n      <td>A3</td>\n      <td>B3</td>\n    </tr>\n    <tr>\n      <th>4</th>\n      <td>A4</td>\n      <td>B4</td>\n    </tr>\n  </tbody>\n</table>\n</div>\n    </div>"
     },
     "metadata": {},
     "execution_count": 4
    }
   ],
   "source": [
    "d1=make_df('AB',[1,2])\n",
    "d2=make_df('AB',[3,4])\n",
    "#pd.concat([df1,df2])\n",
    "display('d1','d2','pd.concat([d1,d2])')"
   ]
  },
  {
   "cell_type": "code",
   "execution_count": 5,
   "metadata": {},
   "outputs": [
    {
     "output_type": "execute_result",
     "data": {
      "text/plain": "     A    B    A    B\n1   A1   B1  NaN  NaN\n2   A2   B2  NaN  NaN\n3  NaN  NaN   A3   B3\n4  NaN  NaN   A4   B4",
      "text/html": "<div>\n<style scoped>\n    .dataframe tbody tr th:only-of-type {\n        vertical-align: middle;\n    }\n\n    .dataframe tbody tr th {\n        vertical-align: top;\n    }\n\n    .dataframe thead th {\n        text-align: right;\n    }\n</style>\n<table border=\"1\" class=\"dataframe\">\n  <thead>\n    <tr style=\"text-align: right;\">\n      <th></th>\n      <th>A</th>\n      <th>B</th>\n      <th>A</th>\n      <th>B</th>\n    </tr>\n  </thead>\n  <tbody>\n    <tr>\n      <th>1</th>\n      <td>A1</td>\n      <td>B1</td>\n      <td>NaN</td>\n      <td>NaN</td>\n    </tr>\n    <tr>\n      <th>2</th>\n      <td>A2</td>\n      <td>B2</td>\n      <td>NaN</td>\n      <td>NaN</td>\n    </tr>\n    <tr>\n      <th>3</th>\n      <td>NaN</td>\n      <td>NaN</td>\n      <td>A3</td>\n      <td>B3</td>\n    </tr>\n    <tr>\n      <th>4</th>\n      <td>NaN</td>\n      <td>NaN</td>\n      <td>A4</td>\n      <td>B4</td>\n    </tr>\n  </tbody>\n</table>\n</div>"
     },
     "metadata": {},
     "execution_count": 5
    }
   ],
   "source": [
    "pd.concat([d1,d2],axis=1)"
   ]
  },
  {
   "cell_type": "code",
   "execution_count": 6,
   "metadata": {},
   "outputs": [
    {
     "output_type": "execute_result",
     "data": {
      "text/plain": "d3\n    A   B\n0  A0  B0\n1  A1  B1\n\nd4\n    C   D\n0  C0  D0\n1  C1  D1\n\npd.concat([d3,d4],axis=1)\n    A   B   C   D\n0  A0  B0  C0  D0\n1  A1  B1  C1  D1",
      "text/html": "<div style=\"float: left; padding: 10px;\">\n    <p style='font-family:\"Courier New\", Courier, monospace'>d3</p><div>\n<style scoped>\n    .dataframe tbody tr th:only-of-type {\n        vertical-align: middle;\n    }\n\n    .dataframe tbody tr th {\n        vertical-align: top;\n    }\n\n    .dataframe thead th {\n        text-align: right;\n    }\n</style>\n<table border=\"1\" class=\"dataframe\">\n  <thead>\n    <tr style=\"text-align: right;\">\n      <th></th>\n      <th>A</th>\n      <th>B</th>\n    </tr>\n  </thead>\n  <tbody>\n    <tr>\n      <th>0</th>\n      <td>A0</td>\n      <td>B0</td>\n    </tr>\n    <tr>\n      <th>1</th>\n      <td>A1</td>\n      <td>B1</td>\n    </tr>\n  </tbody>\n</table>\n</div>\n    </div>\n<div style=\"float: left; padding: 10px;\">\n    <p style='font-family:\"Courier New\", Courier, monospace'>d4</p><div>\n<style scoped>\n    .dataframe tbody tr th:only-of-type {\n        vertical-align: middle;\n    }\n\n    .dataframe tbody tr th {\n        vertical-align: top;\n    }\n\n    .dataframe thead th {\n        text-align: right;\n    }\n</style>\n<table border=\"1\" class=\"dataframe\">\n  <thead>\n    <tr style=\"text-align: right;\">\n      <th></th>\n      <th>C</th>\n      <th>D</th>\n    </tr>\n  </thead>\n  <tbody>\n    <tr>\n      <th>0</th>\n      <td>C0</td>\n      <td>D0</td>\n    </tr>\n    <tr>\n      <th>1</th>\n      <td>C1</td>\n      <td>D1</td>\n    </tr>\n  </tbody>\n</table>\n</div>\n    </div>\n<div style=\"float: left; padding: 10px;\">\n    <p style='font-family:\"Courier New\", Courier, monospace'>pd.concat([d3,d4],axis=1)</p><div>\n<style scoped>\n    .dataframe tbody tr th:only-of-type {\n        vertical-align: middle;\n    }\n\n    .dataframe tbody tr th {\n        vertical-align: top;\n    }\n\n    .dataframe thead th {\n        text-align: right;\n    }\n</style>\n<table border=\"1\" class=\"dataframe\">\n  <thead>\n    <tr style=\"text-align: right;\">\n      <th></th>\n      <th>A</th>\n      <th>B</th>\n      <th>C</th>\n      <th>D</th>\n    </tr>\n  </thead>\n  <tbody>\n    <tr>\n      <th>0</th>\n      <td>A0</td>\n      <td>B0</td>\n      <td>C0</td>\n      <td>D0</td>\n    </tr>\n    <tr>\n      <th>1</th>\n      <td>A1</td>\n      <td>B1</td>\n      <td>C1</td>\n      <td>D1</td>\n    </tr>\n  </tbody>\n</table>\n</div>\n    </div>"
     },
     "metadata": {},
     "execution_count": 6
    }
   ],
   "source": [
    "d3=make_df('AB',[0,1])\n",
    "d4=make_df('CD',[0,1])\n",
    "display('d3','d4','pd.concat([d3,d4],axis=1)')"
   ]
  },
  {
   "cell_type": "code",
   "execution_count": 7,
   "metadata": {},
   "outputs": [
    {
     "output_type": "execute_result",
     "data": {
      "text/plain": "x\n    A   B\n1  A1  B1\n2  A2  B2\n\ny\n    A   B\n1  A1  B1\n2  A2  B2\n\npd.concat([x,y],ignore_index=True)\n    A   B\n0  A1  B1\n1  A2  B2\n2  A1  B1\n3  A2  B2",
      "text/html": "<div style=\"float: left; padding: 10px;\">\n    <p style='font-family:\"Courier New\", Courier, monospace'>x</p><div>\n<style scoped>\n    .dataframe tbody tr th:only-of-type {\n        vertical-align: middle;\n    }\n\n    .dataframe tbody tr th {\n        vertical-align: top;\n    }\n\n    .dataframe thead th {\n        text-align: right;\n    }\n</style>\n<table border=\"1\" class=\"dataframe\">\n  <thead>\n    <tr style=\"text-align: right;\">\n      <th></th>\n      <th>A</th>\n      <th>B</th>\n    </tr>\n  </thead>\n  <tbody>\n    <tr>\n      <th>1</th>\n      <td>A1</td>\n      <td>B1</td>\n    </tr>\n    <tr>\n      <th>2</th>\n      <td>A2</td>\n      <td>B2</td>\n    </tr>\n  </tbody>\n</table>\n</div>\n    </div>\n<div style=\"float: left; padding: 10px;\">\n    <p style='font-family:\"Courier New\", Courier, monospace'>y</p><div>\n<style scoped>\n    .dataframe tbody tr th:only-of-type {\n        vertical-align: middle;\n    }\n\n    .dataframe tbody tr th {\n        vertical-align: top;\n    }\n\n    .dataframe thead th {\n        text-align: right;\n    }\n</style>\n<table border=\"1\" class=\"dataframe\">\n  <thead>\n    <tr style=\"text-align: right;\">\n      <th></th>\n      <th>A</th>\n      <th>B</th>\n    </tr>\n  </thead>\n  <tbody>\n    <tr>\n      <th>1</th>\n      <td>A1</td>\n      <td>B1</td>\n    </tr>\n    <tr>\n      <th>2</th>\n      <td>A2</td>\n      <td>B2</td>\n    </tr>\n  </tbody>\n</table>\n</div>\n    </div>\n<div style=\"float: left; padding: 10px;\">\n    <p style='font-family:\"Courier New\", Courier, monospace'>pd.concat([x,y],ignore_index=True)</p><div>\n<style scoped>\n    .dataframe tbody tr th:only-of-type {\n        vertical-align: middle;\n    }\n\n    .dataframe tbody tr th {\n        vertical-align: top;\n    }\n\n    .dataframe thead th {\n        text-align: right;\n    }\n</style>\n<table border=\"1\" class=\"dataframe\">\n  <thead>\n    <tr style=\"text-align: right;\">\n      <th></th>\n      <th>A</th>\n      <th>B</th>\n    </tr>\n  </thead>\n  <tbody>\n    <tr>\n      <th>0</th>\n      <td>A1</td>\n      <td>B1</td>\n    </tr>\n    <tr>\n      <th>1</th>\n      <td>A2</td>\n      <td>B2</td>\n    </tr>\n    <tr>\n      <th>2</th>\n      <td>A1</td>\n      <td>B1</td>\n    </tr>\n    <tr>\n      <th>3</th>\n      <td>A2</td>\n      <td>B2</td>\n    </tr>\n  </tbody>\n</table>\n</div>\n    </div>"
     },
     "metadata": {},
     "execution_count": 7
    }
   ],
   "source": [
    "x=make_df('AB',[1,2])\n",
    "y=make_df('AB',[1,2])\n",
    "display('x','y','pd.concat([x,y],ignore_index=True)')"
   ]
  },
  {
   "cell_type": "code",
   "execution_count": 8,
   "metadata": {},
   "outputs": [
    {
     "output_type": "execute_result",
     "data": {
      "text/plain": "w\n    A   B   C\n1  A1  B1  C1\n2  A2  B2  C2\n\nz\n    B   C   D\n1  B1  C1  D1\n2  B2  C2  D2\n\npd.concat([w,z])\n     A   B   C    D\n1   A1  B1  C1  NaN\n2   A2  B2  C2  NaN\n1  NaN  B1  C1   D1\n2  NaN  B2  C2   D2",
      "text/html": "<div style=\"float: left; padding: 10px;\">\n    <p style='font-family:\"Courier New\", Courier, monospace'>w</p><div>\n<style scoped>\n    .dataframe tbody tr th:only-of-type {\n        vertical-align: middle;\n    }\n\n    .dataframe tbody tr th {\n        vertical-align: top;\n    }\n\n    .dataframe thead th {\n        text-align: right;\n    }\n</style>\n<table border=\"1\" class=\"dataframe\">\n  <thead>\n    <tr style=\"text-align: right;\">\n      <th></th>\n      <th>A</th>\n      <th>B</th>\n      <th>C</th>\n    </tr>\n  </thead>\n  <tbody>\n    <tr>\n      <th>1</th>\n      <td>A1</td>\n      <td>B1</td>\n      <td>C1</td>\n    </tr>\n    <tr>\n      <th>2</th>\n      <td>A2</td>\n      <td>B2</td>\n      <td>C2</td>\n    </tr>\n  </tbody>\n</table>\n</div>\n    </div>\n<div style=\"float: left; padding: 10px;\">\n    <p style='font-family:\"Courier New\", Courier, monospace'>z</p><div>\n<style scoped>\n    .dataframe tbody tr th:only-of-type {\n        vertical-align: middle;\n    }\n\n    .dataframe tbody tr th {\n        vertical-align: top;\n    }\n\n    .dataframe thead th {\n        text-align: right;\n    }\n</style>\n<table border=\"1\" class=\"dataframe\">\n  <thead>\n    <tr style=\"text-align: right;\">\n      <th></th>\n      <th>B</th>\n      <th>C</th>\n      <th>D</th>\n    </tr>\n  </thead>\n  <tbody>\n    <tr>\n      <th>1</th>\n      <td>B1</td>\n      <td>C1</td>\n      <td>D1</td>\n    </tr>\n    <tr>\n      <th>2</th>\n      <td>B2</td>\n      <td>C2</td>\n      <td>D2</td>\n    </tr>\n  </tbody>\n</table>\n</div>\n    </div>\n<div style=\"float: left; padding: 10px;\">\n    <p style='font-family:\"Courier New\", Courier, monospace'>pd.concat([w,z])</p><div>\n<style scoped>\n    .dataframe tbody tr th:only-of-type {\n        vertical-align: middle;\n    }\n\n    .dataframe tbody tr th {\n        vertical-align: top;\n    }\n\n    .dataframe thead th {\n        text-align: right;\n    }\n</style>\n<table border=\"1\" class=\"dataframe\">\n  <thead>\n    <tr style=\"text-align: right;\">\n      <th></th>\n      <th>A</th>\n      <th>B</th>\n      <th>C</th>\n      <th>D</th>\n    </tr>\n  </thead>\n  <tbody>\n    <tr>\n      <th>1</th>\n      <td>A1</td>\n      <td>B1</td>\n      <td>C1</td>\n      <td>NaN</td>\n    </tr>\n    <tr>\n      <th>2</th>\n      <td>A2</td>\n      <td>B2</td>\n      <td>C2</td>\n      <td>NaN</td>\n    </tr>\n    <tr>\n      <th>1</th>\n      <td>NaN</td>\n      <td>B1</td>\n      <td>C1</td>\n      <td>D1</td>\n    </tr>\n    <tr>\n      <th>2</th>\n      <td>NaN</td>\n      <td>B2</td>\n      <td>C2</td>\n      <td>D2</td>\n    </tr>\n  </tbody>\n</table>\n</div>\n    </div>"
     },
     "metadata": {},
     "execution_count": 8
    }
   ],
   "source": [
    "w=make_df('ABC',[1,2])\n",
    "z=make_df('BCD',[1,2])\n",
    "display('w','z','pd.concat([w,z])')"
   ]
  },
  {
   "cell_type": "code",
   "execution_count": 9,
   "metadata": {},
   "outputs": [
    {
     "output_type": "execute_result",
     "data": {
      "text/plain": "w\n    A   B   C\n1  A1  B1  C1\n2  A2  B2  C2\n\nz\n    B   C   D\n1  B1  C1  D1\n2  B2  C2  D2\n\npd.concat([w,z],join=\"inner\")\n    B   C\n1  B1  C1\n2  B2  C2\n1  B1  C1\n2  B2  C2",
      "text/html": "<div style=\"float: left; padding: 10px;\">\n    <p style='font-family:\"Courier New\", Courier, monospace'>w</p><div>\n<style scoped>\n    .dataframe tbody tr th:only-of-type {\n        vertical-align: middle;\n    }\n\n    .dataframe tbody tr th {\n        vertical-align: top;\n    }\n\n    .dataframe thead th {\n        text-align: right;\n    }\n</style>\n<table border=\"1\" class=\"dataframe\">\n  <thead>\n    <tr style=\"text-align: right;\">\n      <th></th>\n      <th>A</th>\n      <th>B</th>\n      <th>C</th>\n    </tr>\n  </thead>\n  <tbody>\n    <tr>\n      <th>1</th>\n      <td>A1</td>\n      <td>B1</td>\n      <td>C1</td>\n    </tr>\n    <tr>\n      <th>2</th>\n      <td>A2</td>\n      <td>B2</td>\n      <td>C2</td>\n    </tr>\n  </tbody>\n</table>\n</div>\n    </div>\n<div style=\"float: left; padding: 10px;\">\n    <p style='font-family:\"Courier New\", Courier, monospace'>z</p><div>\n<style scoped>\n    .dataframe tbody tr th:only-of-type {\n        vertical-align: middle;\n    }\n\n    .dataframe tbody tr th {\n        vertical-align: top;\n    }\n\n    .dataframe thead th {\n        text-align: right;\n    }\n</style>\n<table border=\"1\" class=\"dataframe\">\n  <thead>\n    <tr style=\"text-align: right;\">\n      <th></th>\n      <th>B</th>\n      <th>C</th>\n      <th>D</th>\n    </tr>\n  </thead>\n  <tbody>\n    <tr>\n      <th>1</th>\n      <td>B1</td>\n      <td>C1</td>\n      <td>D1</td>\n    </tr>\n    <tr>\n      <th>2</th>\n      <td>B2</td>\n      <td>C2</td>\n      <td>D2</td>\n    </tr>\n  </tbody>\n</table>\n</div>\n    </div>\n<div style=\"float: left; padding: 10px;\">\n    <p style='font-family:\"Courier New\", Courier, monospace'>pd.concat([w,z],join=\"inner\")</p><div>\n<style scoped>\n    .dataframe tbody tr th:only-of-type {\n        vertical-align: middle;\n    }\n\n    .dataframe tbody tr th {\n        vertical-align: top;\n    }\n\n    .dataframe thead th {\n        text-align: right;\n    }\n</style>\n<table border=\"1\" class=\"dataframe\">\n  <thead>\n    <tr style=\"text-align: right;\">\n      <th></th>\n      <th>B</th>\n      <th>C</th>\n    </tr>\n  </thead>\n  <tbody>\n    <tr>\n      <th>1</th>\n      <td>B1</td>\n      <td>C1</td>\n    </tr>\n    <tr>\n      <th>2</th>\n      <td>B2</td>\n      <td>C2</td>\n    </tr>\n    <tr>\n      <th>1</th>\n      <td>B1</td>\n      <td>C1</td>\n    </tr>\n    <tr>\n      <th>2</th>\n      <td>B2</td>\n      <td>C2</td>\n    </tr>\n  </tbody>\n</table>\n</div>\n    </div>"
     },
     "metadata": {},
     "execution_count": 9
    }
   ],
   "source": [
    "display('w','z','pd.concat([w,z],join=\"inner\")')"
   ]
  },
  {
   "cell_type": "code",
   "execution_count": 10,
   "metadata": {},
   "outputs": [
    {
     "output_type": "execute_result",
     "data": {
      "text/plain": "w\n    A   B   C\n1  A1  B1  C1\n2  A2  B2  C2\n\nz\n    B   C   D\n1  B1  C1  D1\n2  B2  C2  D2\n\npd.concat([w,z],axis=1)\n    A   B   C   B   C   D\n1  A1  B1  C1  B1  C1  D1\n2  A2  B2  C2  B2  C2  D2",
      "text/html": "<div style=\"float: left; padding: 10px;\">\n    <p style='font-family:\"Courier New\", Courier, monospace'>w</p><div>\n<style scoped>\n    .dataframe tbody tr th:only-of-type {\n        vertical-align: middle;\n    }\n\n    .dataframe tbody tr th {\n        vertical-align: top;\n    }\n\n    .dataframe thead th {\n        text-align: right;\n    }\n</style>\n<table border=\"1\" class=\"dataframe\">\n  <thead>\n    <tr style=\"text-align: right;\">\n      <th></th>\n      <th>A</th>\n      <th>B</th>\n      <th>C</th>\n    </tr>\n  </thead>\n  <tbody>\n    <tr>\n      <th>1</th>\n      <td>A1</td>\n      <td>B1</td>\n      <td>C1</td>\n    </tr>\n    <tr>\n      <th>2</th>\n      <td>A2</td>\n      <td>B2</td>\n      <td>C2</td>\n    </tr>\n  </tbody>\n</table>\n</div>\n    </div>\n<div style=\"float: left; padding: 10px;\">\n    <p style='font-family:\"Courier New\", Courier, monospace'>z</p><div>\n<style scoped>\n    .dataframe tbody tr th:only-of-type {\n        vertical-align: middle;\n    }\n\n    .dataframe tbody tr th {\n        vertical-align: top;\n    }\n\n    .dataframe thead th {\n        text-align: right;\n    }\n</style>\n<table border=\"1\" class=\"dataframe\">\n  <thead>\n    <tr style=\"text-align: right;\">\n      <th></th>\n      <th>B</th>\n      <th>C</th>\n      <th>D</th>\n    </tr>\n  </thead>\n  <tbody>\n    <tr>\n      <th>1</th>\n      <td>B1</td>\n      <td>C1</td>\n      <td>D1</td>\n    </tr>\n    <tr>\n      <th>2</th>\n      <td>B2</td>\n      <td>C2</td>\n      <td>D2</td>\n    </tr>\n  </tbody>\n</table>\n</div>\n    </div>\n<div style=\"float: left; padding: 10px;\">\n    <p style='font-family:\"Courier New\", Courier, monospace'>pd.concat([w,z],axis=1)</p><div>\n<style scoped>\n    .dataframe tbody tr th:only-of-type {\n        vertical-align: middle;\n    }\n\n    .dataframe tbody tr th {\n        vertical-align: top;\n    }\n\n    .dataframe thead th {\n        text-align: right;\n    }\n</style>\n<table border=\"1\" class=\"dataframe\">\n  <thead>\n    <tr style=\"text-align: right;\">\n      <th></th>\n      <th>A</th>\n      <th>B</th>\n      <th>C</th>\n      <th>B</th>\n      <th>C</th>\n      <th>D</th>\n    </tr>\n  </thead>\n  <tbody>\n    <tr>\n      <th>1</th>\n      <td>A1</td>\n      <td>B1</td>\n      <td>C1</td>\n      <td>B1</td>\n      <td>C1</td>\n      <td>D1</td>\n    </tr>\n    <tr>\n      <th>2</th>\n      <td>A2</td>\n      <td>B2</td>\n      <td>C2</td>\n      <td>B2</td>\n      <td>C2</td>\n      <td>D2</td>\n    </tr>\n  </tbody>\n</table>\n</div>\n    </div>"
     },
     "metadata": {},
     "execution_count": 10
    }
   ],
   "source": [
    "display('w','z','pd.concat([w,z],axis=1)')"
   ]
  },
  {
   "cell_type": "code",
   "execution_count": 11,
   "metadata": {},
   "outputs": [
    {
     "output_type": "execute_result",
     "data": {
      "text/plain": "w\n    A   B   C\n1  A1  B1  C1\n2  A2  B2  C2\n\nz\n    B   C   D\n1  B1  C1  D1\n2  B2  C2  D2\n\npd.concat([w,z],join=\"inner\",axis=1)\n    A   B   C   B   C   D\n1  A1  B1  C1  B1  C1  D1\n2  A2  B2  C2  B2  C2  D2",
      "text/html": "<div style=\"float: left; padding: 10px;\">\n    <p style='font-family:\"Courier New\", Courier, monospace'>w</p><div>\n<style scoped>\n    .dataframe tbody tr th:only-of-type {\n        vertical-align: middle;\n    }\n\n    .dataframe tbody tr th {\n        vertical-align: top;\n    }\n\n    .dataframe thead th {\n        text-align: right;\n    }\n</style>\n<table border=\"1\" class=\"dataframe\">\n  <thead>\n    <tr style=\"text-align: right;\">\n      <th></th>\n      <th>A</th>\n      <th>B</th>\n      <th>C</th>\n    </tr>\n  </thead>\n  <tbody>\n    <tr>\n      <th>1</th>\n      <td>A1</td>\n      <td>B1</td>\n      <td>C1</td>\n    </tr>\n    <tr>\n      <th>2</th>\n      <td>A2</td>\n      <td>B2</td>\n      <td>C2</td>\n    </tr>\n  </tbody>\n</table>\n</div>\n    </div>\n<div style=\"float: left; padding: 10px;\">\n    <p style='font-family:\"Courier New\", Courier, monospace'>z</p><div>\n<style scoped>\n    .dataframe tbody tr th:only-of-type {\n        vertical-align: middle;\n    }\n\n    .dataframe tbody tr th {\n        vertical-align: top;\n    }\n\n    .dataframe thead th {\n        text-align: right;\n    }\n</style>\n<table border=\"1\" class=\"dataframe\">\n  <thead>\n    <tr style=\"text-align: right;\">\n      <th></th>\n      <th>B</th>\n      <th>C</th>\n      <th>D</th>\n    </tr>\n  </thead>\n  <tbody>\n    <tr>\n      <th>1</th>\n      <td>B1</td>\n      <td>C1</td>\n      <td>D1</td>\n    </tr>\n    <tr>\n      <th>2</th>\n      <td>B2</td>\n      <td>C2</td>\n      <td>D2</td>\n    </tr>\n  </tbody>\n</table>\n</div>\n    </div>\n<div style=\"float: left; padding: 10px;\">\n    <p style='font-family:\"Courier New\", Courier, monospace'>pd.concat([w,z],join=\"inner\",axis=1)</p><div>\n<style scoped>\n    .dataframe tbody tr th:only-of-type {\n        vertical-align: middle;\n    }\n\n    .dataframe tbody tr th {\n        vertical-align: top;\n    }\n\n    .dataframe thead th {\n        text-align: right;\n    }\n</style>\n<table border=\"1\" class=\"dataframe\">\n  <thead>\n    <tr style=\"text-align: right;\">\n      <th></th>\n      <th>A</th>\n      <th>B</th>\n      <th>C</th>\n      <th>B</th>\n      <th>C</th>\n      <th>D</th>\n    </tr>\n  </thead>\n  <tbody>\n    <tr>\n      <th>1</th>\n      <td>A1</td>\n      <td>B1</td>\n      <td>C1</td>\n      <td>B1</td>\n      <td>C1</td>\n      <td>D1</td>\n    </tr>\n    <tr>\n      <th>2</th>\n      <td>A2</td>\n      <td>B2</td>\n      <td>C2</td>\n      <td>B2</td>\n      <td>C2</td>\n      <td>D2</td>\n    </tr>\n  </tbody>\n</table>\n</div>\n    </div>"
     },
     "metadata": {},
     "execution_count": 11
    }
   ],
   "source": [
    "\n",
    "display('w','z','pd.concat([w,z],join=\"inner\",axis=1)')"
   ]
  },
  {
   "cell_type": "code",
   "execution_count": 12,
   "metadata": {},
   "outputs": [
    {
     "output_type": "execute_result",
     "data": {
      "text/plain": "  employee        group  hire_date\n0      Sue           HR       2014\n1     Jake  Engineering       2012\n2      Bob   Accounting       2008\n3     Lisa  Engineering       2004",
      "text/html": "<div>\n<style scoped>\n    .dataframe tbody tr th:only-of-type {\n        vertical-align: middle;\n    }\n\n    .dataframe tbody tr th {\n        vertical-align: top;\n    }\n\n    .dataframe thead th {\n        text-align: right;\n    }\n</style>\n<table border=\"1\" class=\"dataframe\">\n  <thead>\n    <tr style=\"text-align: right;\">\n      <th></th>\n      <th>employee</th>\n      <th>group</th>\n      <th>hire_date</th>\n    </tr>\n  </thead>\n  <tbody>\n    <tr>\n      <th>0</th>\n      <td>Sue</td>\n      <td>HR</td>\n      <td>2014</td>\n    </tr>\n    <tr>\n      <th>1</th>\n      <td>Jake</td>\n      <td>Engineering</td>\n      <td>2012</td>\n    </tr>\n    <tr>\n      <th>2</th>\n      <td>Bob</td>\n      <td>Accounting</td>\n      <td>2008</td>\n    </tr>\n    <tr>\n      <th>3</th>\n      <td>Lisa</td>\n      <td>Engineering</td>\n      <td>2004</td>\n    </tr>\n  </tbody>\n</table>\n</div>"
     },
     "metadata": {},
     "execution_count": 12
    }
   ],
   "source": [
    "ghi=pd.merge(df1,df2).sort_values('hire_date',ascending=False).reset_index(drop=True)\n",
    "ghi"
   ]
  },
  {
   "cell_type": "code",
   "execution_count": 13,
   "metadata": {},
   "outputs": [
    {
     "output_type": "execute_result",
     "data": {
      "text/plain": "ghi\n  employee        group  hire_date\n0      Sue           HR       2014\n1     Jake  Engineering       2012\n2      Bob   Accounting       2008\n3     Lisa  Engineering       2004\n\ndf4\n         group supervisor\n0   Accounting      Carly\n1  Engineering      Guido\n2           HR      Steve\n\ngh\n  employee        group  hire_date supervisor\n0      Sue           HR       2014      Steve\n1     Jake  Engineering       2012      Guido\n2     Lisa  Engineering       2004      Guido\n3      Bob   Accounting       2008      Carly",
      "text/html": "<div style=\"float: left; padding: 10px;\">\n    <p style='font-family:\"Courier New\", Courier, monospace'>ghi</p><div>\n<style scoped>\n    .dataframe tbody tr th:only-of-type {\n        vertical-align: middle;\n    }\n\n    .dataframe tbody tr th {\n        vertical-align: top;\n    }\n\n    .dataframe thead th {\n        text-align: right;\n    }\n</style>\n<table border=\"1\" class=\"dataframe\">\n  <thead>\n    <tr style=\"text-align: right;\">\n      <th></th>\n      <th>employee</th>\n      <th>group</th>\n      <th>hire_date</th>\n    </tr>\n  </thead>\n  <tbody>\n    <tr>\n      <th>0</th>\n      <td>Sue</td>\n      <td>HR</td>\n      <td>2014</td>\n    </tr>\n    <tr>\n      <th>1</th>\n      <td>Jake</td>\n      <td>Engineering</td>\n      <td>2012</td>\n    </tr>\n    <tr>\n      <th>2</th>\n      <td>Bob</td>\n      <td>Accounting</td>\n      <td>2008</td>\n    </tr>\n    <tr>\n      <th>3</th>\n      <td>Lisa</td>\n      <td>Engineering</td>\n      <td>2004</td>\n    </tr>\n  </tbody>\n</table>\n</div>\n    </div>\n<div style=\"float: left; padding: 10px;\">\n    <p style='font-family:\"Courier New\", Courier, monospace'>df4</p><div>\n<style scoped>\n    .dataframe tbody tr th:only-of-type {\n        vertical-align: middle;\n    }\n\n    .dataframe tbody tr th {\n        vertical-align: top;\n    }\n\n    .dataframe thead th {\n        text-align: right;\n    }\n</style>\n<table border=\"1\" class=\"dataframe\">\n  <thead>\n    <tr style=\"text-align: right;\">\n      <th></th>\n      <th>group</th>\n      <th>supervisor</th>\n    </tr>\n  </thead>\n  <tbody>\n    <tr>\n      <th>0</th>\n      <td>Accounting</td>\n      <td>Carly</td>\n    </tr>\n    <tr>\n      <th>1</th>\n      <td>Engineering</td>\n      <td>Guido</td>\n    </tr>\n    <tr>\n      <th>2</th>\n      <td>HR</td>\n      <td>Steve</td>\n    </tr>\n  </tbody>\n</table>\n</div>\n    </div>\n<div style=\"float: left; padding: 10px;\">\n    <p style='font-family:\"Courier New\", Courier, monospace'>gh</p><div>\n<style scoped>\n    .dataframe tbody tr th:only-of-type {\n        vertical-align: middle;\n    }\n\n    .dataframe tbody tr th {\n        vertical-align: top;\n    }\n\n    .dataframe thead th {\n        text-align: right;\n    }\n</style>\n<table border=\"1\" class=\"dataframe\">\n  <thead>\n    <tr style=\"text-align: right;\">\n      <th></th>\n      <th>employee</th>\n      <th>group</th>\n      <th>hire_date</th>\n      <th>supervisor</th>\n    </tr>\n  </thead>\n  <tbody>\n    <tr>\n      <th>0</th>\n      <td>Sue</td>\n      <td>HR</td>\n      <td>2014</td>\n      <td>Steve</td>\n    </tr>\n    <tr>\n      <th>1</th>\n      <td>Jake</td>\n      <td>Engineering</td>\n      <td>2012</td>\n      <td>Guido</td>\n    </tr>\n    <tr>\n      <th>2</th>\n      <td>Lisa</td>\n      <td>Engineering</td>\n      <td>2004</td>\n      <td>Guido</td>\n    </tr>\n    <tr>\n      <th>3</th>\n      <td>Bob</td>\n      <td>Accounting</td>\n      <td>2008</td>\n      <td>Carly</td>\n    </tr>\n  </tbody>\n</table>\n</div>\n    </div>"
     },
     "metadata": {},
     "execution_count": 13
    }
   ],
   "source": [
    "gh=pd.merge(ghi,df4)#many to one mapping\n",
    "display('ghi','df4','gh')"
   ]
  },
  {
   "cell_type": "code",
   "execution_count": 14,
   "metadata": {},
   "outputs": [
    {
     "output_type": "execute_result",
     "data": {
      "text/plain": "df1\n  employee        group\n0      Bob   Accounting\n1     Jake  Engineering\n2     Lisa  Engineering\n3      Sue           HR\n\ndf5\n         group        skills\n0   Accounting          math\n1   Accounting  spreadsheets\n2  Engineering        coding\n3  Engineering         linux\n4           HR  spreadsheets\n5           HR  organization\n\ng\n  employee        group        skills\n0      Bob   Accounting          math\n1      Bob   Accounting  spreadsheets\n2     Jake  Engineering        coding\n3     Jake  Engineering         linux\n4     Lisa  Engineering        coding\n5     Lisa  Engineering         linux\n6      Sue           HR  spreadsheets\n7      Sue           HR  organization",
      "text/html": "<div style=\"float: left; padding: 10px;\">\n    <p style='font-family:\"Courier New\", Courier, monospace'>df1</p><div>\n<style scoped>\n    .dataframe tbody tr th:only-of-type {\n        vertical-align: middle;\n    }\n\n    .dataframe tbody tr th {\n        vertical-align: top;\n    }\n\n    .dataframe thead th {\n        text-align: right;\n    }\n</style>\n<table border=\"1\" class=\"dataframe\">\n  <thead>\n    <tr style=\"text-align: right;\">\n      <th></th>\n      <th>employee</th>\n      <th>group</th>\n    </tr>\n  </thead>\n  <tbody>\n    <tr>\n      <th>0</th>\n      <td>Bob</td>\n      <td>Accounting</td>\n    </tr>\n    <tr>\n      <th>1</th>\n      <td>Jake</td>\n      <td>Engineering</td>\n    </tr>\n    <tr>\n      <th>2</th>\n      <td>Lisa</td>\n      <td>Engineering</td>\n    </tr>\n    <tr>\n      <th>3</th>\n      <td>Sue</td>\n      <td>HR</td>\n    </tr>\n  </tbody>\n</table>\n</div>\n    </div>\n<div style=\"float: left; padding: 10px;\">\n    <p style='font-family:\"Courier New\", Courier, monospace'>df5</p><div>\n<style scoped>\n    .dataframe tbody tr th:only-of-type {\n        vertical-align: middle;\n    }\n\n    .dataframe tbody tr th {\n        vertical-align: top;\n    }\n\n    .dataframe thead th {\n        text-align: right;\n    }\n</style>\n<table border=\"1\" class=\"dataframe\">\n  <thead>\n    <tr style=\"text-align: right;\">\n      <th></th>\n      <th>group</th>\n      <th>skills</th>\n    </tr>\n  </thead>\n  <tbody>\n    <tr>\n      <th>0</th>\n      <td>Accounting</td>\n      <td>math</td>\n    </tr>\n    <tr>\n      <th>1</th>\n      <td>Accounting</td>\n      <td>spreadsheets</td>\n    </tr>\n    <tr>\n      <th>2</th>\n      <td>Engineering</td>\n      <td>coding</td>\n    </tr>\n    <tr>\n      <th>3</th>\n      <td>Engineering</td>\n      <td>linux</td>\n    </tr>\n    <tr>\n      <th>4</th>\n      <td>HR</td>\n      <td>spreadsheets</td>\n    </tr>\n    <tr>\n      <th>5</th>\n      <td>HR</td>\n      <td>organization</td>\n    </tr>\n  </tbody>\n</table>\n</div>\n    </div>\n<div style=\"float: left; padding: 10px;\">\n    <p style='font-family:\"Courier New\", Courier, monospace'>g</p><div>\n<style scoped>\n    .dataframe tbody tr th:only-of-type {\n        vertical-align: middle;\n    }\n\n    .dataframe tbody tr th {\n        vertical-align: top;\n    }\n\n    .dataframe thead th {\n        text-align: right;\n    }\n</style>\n<table border=\"1\" class=\"dataframe\">\n  <thead>\n    <tr style=\"text-align: right;\">\n      <th></th>\n      <th>employee</th>\n      <th>group</th>\n      <th>skills</th>\n    </tr>\n  </thead>\n  <tbody>\n    <tr>\n      <th>0</th>\n      <td>Bob</td>\n      <td>Accounting</td>\n      <td>math</td>\n    </tr>\n    <tr>\n      <th>1</th>\n      <td>Bob</td>\n      <td>Accounting</td>\n      <td>spreadsheets</td>\n    </tr>\n    <tr>\n      <th>2</th>\n      <td>Jake</td>\n      <td>Engineering</td>\n      <td>coding</td>\n    </tr>\n    <tr>\n      <th>3</th>\n      <td>Jake</td>\n      <td>Engineering</td>\n      <td>linux</td>\n    </tr>\n    <tr>\n      <th>4</th>\n      <td>Lisa</td>\n      <td>Engineering</td>\n      <td>coding</td>\n    </tr>\n    <tr>\n      <th>5</th>\n      <td>Lisa</td>\n      <td>Engineering</td>\n      <td>linux</td>\n    </tr>\n    <tr>\n      <th>6</th>\n      <td>Sue</td>\n      <td>HR</td>\n      <td>spreadsheets</td>\n    </tr>\n    <tr>\n      <th>7</th>\n      <td>Sue</td>\n      <td>HR</td>\n      <td>organization</td>\n    </tr>\n  </tbody>\n</table>\n</div>\n    </div>"
     },
     "metadata": {},
     "execution_count": 14
    }
   ],
   "source": [
    "g=pd.merge(df1,df5)#many to many\n",
    "display('df1','df5','g')"
   ]
  },
  {
   "cell_type": "code",
   "execution_count": 15,
   "metadata": {},
   "outputs": [
    {
     "output_type": "execute_result",
     "data": {
      "text/plain": "df1\n  employee        group\n0      Bob   Accounting\n1     Jake  Engineering\n2     Lisa  Engineering\n3      Sue           HR\n\ndf2\n  employee  hire_date\n0     Lisa       2004\n1      Bob       2008\n2     Jake       2012\n3      Sue       2014\n\npd.merge(df1,df2,on=\"employee\")\n  employee        group  hire_date\n0      Bob   Accounting       2008\n1     Jake  Engineering       2012\n2     Lisa  Engineering       2004\n3      Sue           HR       2014",
      "text/html": "<div style=\"float: left; padding: 10px;\">\n    <p style='font-family:\"Courier New\", Courier, monospace'>df1</p><div>\n<style scoped>\n    .dataframe tbody tr th:only-of-type {\n        vertical-align: middle;\n    }\n\n    .dataframe tbody tr th {\n        vertical-align: top;\n    }\n\n    .dataframe thead th {\n        text-align: right;\n    }\n</style>\n<table border=\"1\" class=\"dataframe\">\n  <thead>\n    <tr style=\"text-align: right;\">\n      <th></th>\n      <th>employee</th>\n      <th>group</th>\n    </tr>\n  </thead>\n  <tbody>\n    <tr>\n      <th>0</th>\n      <td>Bob</td>\n      <td>Accounting</td>\n    </tr>\n    <tr>\n      <th>1</th>\n      <td>Jake</td>\n      <td>Engineering</td>\n    </tr>\n    <tr>\n      <th>2</th>\n      <td>Lisa</td>\n      <td>Engineering</td>\n    </tr>\n    <tr>\n      <th>3</th>\n      <td>Sue</td>\n      <td>HR</td>\n    </tr>\n  </tbody>\n</table>\n</div>\n    </div>\n<div style=\"float: left; padding: 10px;\">\n    <p style='font-family:\"Courier New\", Courier, monospace'>df2</p><div>\n<style scoped>\n    .dataframe tbody tr th:only-of-type {\n        vertical-align: middle;\n    }\n\n    .dataframe tbody tr th {\n        vertical-align: top;\n    }\n\n    .dataframe thead th {\n        text-align: right;\n    }\n</style>\n<table border=\"1\" class=\"dataframe\">\n  <thead>\n    <tr style=\"text-align: right;\">\n      <th></th>\n      <th>employee</th>\n      <th>hire_date</th>\n    </tr>\n  </thead>\n  <tbody>\n    <tr>\n      <th>0</th>\n      <td>Lisa</td>\n      <td>2004</td>\n    </tr>\n    <tr>\n      <th>1</th>\n      <td>Bob</td>\n      <td>2008</td>\n    </tr>\n    <tr>\n      <th>2</th>\n      <td>Jake</td>\n      <td>2012</td>\n    </tr>\n    <tr>\n      <th>3</th>\n      <td>Sue</td>\n      <td>2014</td>\n    </tr>\n  </tbody>\n</table>\n</div>\n    </div>\n<div style=\"float: left; padding: 10px;\">\n    <p style='font-family:\"Courier New\", Courier, monospace'>pd.merge(df1,df2,on=\"employee\")</p><div>\n<style scoped>\n    .dataframe tbody tr th:only-of-type {\n        vertical-align: middle;\n    }\n\n    .dataframe tbody tr th {\n        vertical-align: top;\n    }\n\n    .dataframe thead th {\n        text-align: right;\n    }\n</style>\n<table border=\"1\" class=\"dataframe\">\n  <thead>\n    <tr style=\"text-align: right;\">\n      <th></th>\n      <th>employee</th>\n      <th>group</th>\n      <th>hire_date</th>\n    </tr>\n  </thead>\n  <tbody>\n    <tr>\n      <th>0</th>\n      <td>Bob</td>\n      <td>Accounting</td>\n      <td>2008</td>\n    </tr>\n    <tr>\n      <th>1</th>\n      <td>Jake</td>\n      <td>Engineering</td>\n      <td>2012</td>\n    </tr>\n    <tr>\n      <th>2</th>\n      <td>Lisa</td>\n      <td>Engineering</td>\n      <td>2004</td>\n    </tr>\n    <tr>\n      <th>3</th>\n      <td>Sue</td>\n      <td>HR</td>\n      <td>2014</td>\n    </tr>\n  </tbody>\n</table>\n</div>\n    </div>"
     },
     "metadata": {},
     "execution_count": 15
    }
   ],
   "source": [
    "display('df1','df2','pd.merge(df1,df2,on=\"employee\")')"
   ]
  },
  {
   "cell_type": "code",
   "execution_count": 16,
   "metadata": {},
   "outputs": [
    {
     "output_type": "execute_result",
     "data": {
      "text/plain": "df1\n  employee        group\n0      Bob   Accounting\n1     Jake  Engineering\n2     Lisa  Engineering\n3      Sue           HR\n\ndf3\n   name  salary\n0   Bob   70000\n1  Jake   80000\n2  Lisa  120000\n3   Sue   90000\n\npd.merge(df1,df3,left_on=\"employee\",right_on=\"name\")\n  employee        group  name  salary\n0      Bob   Accounting   Bob   70000\n1     Jake  Engineering  Jake   80000\n2     Lisa  Engineering  Lisa  120000\n3      Sue           HR   Sue   90000",
      "text/html": "<div style=\"float: left; padding: 10px;\">\n    <p style='font-family:\"Courier New\", Courier, monospace'>df1</p><div>\n<style scoped>\n    .dataframe tbody tr th:only-of-type {\n        vertical-align: middle;\n    }\n\n    .dataframe tbody tr th {\n        vertical-align: top;\n    }\n\n    .dataframe thead th {\n        text-align: right;\n    }\n</style>\n<table border=\"1\" class=\"dataframe\">\n  <thead>\n    <tr style=\"text-align: right;\">\n      <th></th>\n      <th>employee</th>\n      <th>group</th>\n    </tr>\n  </thead>\n  <tbody>\n    <tr>\n      <th>0</th>\n      <td>Bob</td>\n      <td>Accounting</td>\n    </tr>\n    <tr>\n      <th>1</th>\n      <td>Jake</td>\n      <td>Engineering</td>\n    </tr>\n    <tr>\n      <th>2</th>\n      <td>Lisa</td>\n      <td>Engineering</td>\n    </tr>\n    <tr>\n      <th>3</th>\n      <td>Sue</td>\n      <td>HR</td>\n    </tr>\n  </tbody>\n</table>\n</div>\n    </div>\n<div style=\"float: left; padding: 10px;\">\n    <p style='font-family:\"Courier New\", Courier, monospace'>df3</p><div>\n<style scoped>\n    .dataframe tbody tr th:only-of-type {\n        vertical-align: middle;\n    }\n\n    .dataframe tbody tr th {\n        vertical-align: top;\n    }\n\n    .dataframe thead th {\n        text-align: right;\n    }\n</style>\n<table border=\"1\" class=\"dataframe\">\n  <thead>\n    <tr style=\"text-align: right;\">\n      <th></th>\n      <th>name</th>\n      <th>salary</th>\n    </tr>\n  </thead>\n  <tbody>\n    <tr>\n      <th>0</th>\n      <td>Bob</td>\n      <td>70000</td>\n    </tr>\n    <tr>\n      <th>1</th>\n      <td>Jake</td>\n      <td>80000</td>\n    </tr>\n    <tr>\n      <th>2</th>\n      <td>Lisa</td>\n      <td>120000</td>\n    </tr>\n    <tr>\n      <th>3</th>\n      <td>Sue</td>\n      <td>90000</td>\n    </tr>\n  </tbody>\n</table>\n</div>\n    </div>\n<div style=\"float: left; padding: 10px;\">\n    <p style='font-family:\"Courier New\", Courier, monospace'>pd.merge(df1,df3,left_on=\"employee\",right_on=\"name\")</p><div>\n<style scoped>\n    .dataframe tbody tr th:only-of-type {\n        vertical-align: middle;\n    }\n\n    .dataframe tbody tr th {\n        vertical-align: top;\n    }\n\n    .dataframe thead th {\n        text-align: right;\n    }\n</style>\n<table border=\"1\" class=\"dataframe\">\n  <thead>\n    <tr style=\"text-align: right;\">\n      <th></th>\n      <th>employee</th>\n      <th>group</th>\n      <th>name</th>\n      <th>salary</th>\n    </tr>\n  </thead>\n  <tbody>\n    <tr>\n      <th>0</th>\n      <td>Bob</td>\n      <td>Accounting</td>\n      <td>Bob</td>\n      <td>70000</td>\n    </tr>\n    <tr>\n      <th>1</th>\n      <td>Jake</td>\n      <td>Engineering</td>\n      <td>Jake</td>\n      <td>80000</td>\n    </tr>\n    <tr>\n      <th>2</th>\n      <td>Lisa</td>\n      <td>Engineering</td>\n      <td>Lisa</td>\n      <td>120000</td>\n    </tr>\n    <tr>\n      <th>3</th>\n      <td>Sue</td>\n      <td>HR</td>\n      <td>Sue</td>\n      <td>90000</td>\n    </tr>\n  </tbody>\n</table>\n</div>\n    </div>"
     },
     "metadata": {},
     "execution_count": 16
    }
   ],
   "source": [
    "display('df1','df3','pd.merge(df1,df3,left_on=\"employee\",right_on=\"name\")')"
   ]
  },
  {
   "cell_type": "code",
   "execution_count": 17,
   "metadata": {},
   "outputs": [
    {
     "output_type": "execute_result",
     "data": {
      "text/plain": "  employee        group  salary\n0      Bob   Accounting   70000\n1     Jake  Engineering   80000\n2     Lisa  Engineering  120000\n3      Sue           HR   90000",
      "text/html": "<div>\n<style scoped>\n    .dataframe tbody tr th:only-of-type {\n        vertical-align: middle;\n    }\n\n    .dataframe tbody tr th {\n        vertical-align: top;\n    }\n\n    .dataframe thead th {\n        text-align: right;\n    }\n</style>\n<table border=\"1\" class=\"dataframe\">\n  <thead>\n    <tr style=\"text-align: right;\">\n      <th></th>\n      <th>employee</th>\n      <th>group</th>\n      <th>salary</th>\n    </tr>\n  </thead>\n  <tbody>\n    <tr>\n      <th>0</th>\n      <td>Bob</td>\n      <td>Accounting</td>\n      <td>70000</td>\n    </tr>\n    <tr>\n      <th>1</th>\n      <td>Jake</td>\n      <td>Engineering</td>\n      <td>80000</td>\n    </tr>\n    <tr>\n      <th>2</th>\n      <td>Lisa</td>\n      <td>Engineering</td>\n      <td>120000</td>\n    </tr>\n    <tr>\n      <th>3</th>\n      <td>Sue</td>\n      <td>HR</td>\n      <td>90000</td>\n    </tr>\n  </tbody>\n</table>\n</div>"
     },
     "metadata": {},
     "execution_count": 17
    }
   ],
   "source": [
    "pd.merge(df1,df3,left_on=\"employee\",right_on=\"name\").drop('name',axis=1)"
   ]
  },
  {
   "cell_type": "code",
   "execution_count": 18,
   "metadata": {},
   "outputs": [
    {
     "output_type": "execute_result",
     "data": {
      "text/plain": "a1\n                group\nemployee             \nBob        Accounting\nJake      Engineering\nLisa      Engineering\nSue                HR\n\na2\n          hire_date\nemployee           \nLisa           2004\nBob            2008\nJake           2012\nSue            2014\n\npd.merge(a1,a2,left_index=True,right_index=True)\n                group  hire_date\nemployee                        \nBob        Accounting       2008\nJake      Engineering       2012\nLisa      Engineering       2004\nSue                HR       2014",
      "text/html": "<div style=\"float: left; padding: 10px;\">\n    <p style='font-family:\"Courier New\", Courier, monospace'>a1</p><div>\n<style scoped>\n    .dataframe tbody tr th:only-of-type {\n        vertical-align: middle;\n    }\n\n    .dataframe tbody tr th {\n        vertical-align: top;\n    }\n\n    .dataframe thead th {\n        text-align: right;\n    }\n</style>\n<table border=\"1\" class=\"dataframe\">\n  <thead>\n    <tr style=\"text-align: right;\">\n      <th></th>\n      <th>group</th>\n    </tr>\n    <tr>\n      <th>employee</th>\n      <th></th>\n    </tr>\n  </thead>\n  <tbody>\n    <tr>\n      <th>Bob</th>\n      <td>Accounting</td>\n    </tr>\n    <tr>\n      <th>Jake</th>\n      <td>Engineering</td>\n    </tr>\n    <tr>\n      <th>Lisa</th>\n      <td>Engineering</td>\n    </tr>\n    <tr>\n      <th>Sue</th>\n      <td>HR</td>\n    </tr>\n  </tbody>\n</table>\n</div>\n    </div>\n<div style=\"float: left; padding: 10px;\">\n    <p style='font-family:\"Courier New\", Courier, monospace'>a2</p><div>\n<style scoped>\n    .dataframe tbody tr th:only-of-type {\n        vertical-align: middle;\n    }\n\n    .dataframe tbody tr th {\n        vertical-align: top;\n    }\n\n    .dataframe thead th {\n        text-align: right;\n    }\n</style>\n<table border=\"1\" class=\"dataframe\">\n  <thead>\n    <tr style=\"text-align: right;\">\n      <th></th>\n      <th>hire_date</th>\n    </tr>\n    <tr>\n      <th>employee</th>\n      <th></th>\n    </tr>\n  </thead>\n  <tbody>\n    <tr>\n      <th>Lisa</th>\n      <td>2004</td>\n    </tr>\n    <tr>\n      <th>Bob</th>\n      <td>2008</td>\n    </tr>\n    <tr>\n      <th>Jake</th>\n      <td>2012</td>\n    </tr>\n    <tr>\n      <th>Sue</th>\n      <td>2014</td>\n    </tr>\n  </tbody>\n</table>\n</div>\n    </div>\n<div style=\"float: left; padding: 10px;\">\n    <p style='font-family:\"Courier New\", Courier, monospace'>pd.merge(a1,a2,left_index=True,right_index=True)</p><div>\n<style scoped>\n    .dataframe tbody tr th:only-of-type {\n        vertical-align: middle;\n    }\n\n    .dataframe tbody tr th {\n        vertical-align: top;\n    }\n\n    .dataframe thead th {\n        text-align: right;\n    }\n</style>\n<table border=\"1\" class=\"dataframe\">\n  <thead>\n    <tr style=\"text-align: right;\">\n      <th></th>\n      <th>group</th>\n      <th>hire_date</th>\n    </tr>\n    <tr>\n      <th>employee</th>\n      <th></th>\n      <th></th>\n    </tr>\n  </thead>\n  <tbody>\n    <tr>\n      <th>Bob</th>\n      <td>Accounting</td>\n      <td>2008</td>\n    </tr>\n    <tr>\n      <th>Jake</th>\n      <td>Engineering</td>\n      <td>2012</td>\n    </tr>\n    <tr>\n      <th>Lisa</th>\n      <td>Engineering</td>\n      <td>2004</td>\n    </tr>\n    <tr>\n      <th>Sue</th>\n      <td>HR</td>\n      <td>2014</td>\n    </tr>\n  </tbody>\n</table>\n</div>\n    </div>"
     },
     "metadata": {},
     "execution_count": 18
    }
   ],
   "source": [
    "a1=df1.set_index('employee')\n",
    "a2=df2.set_index('employee')\n",
    "display('a1','a2','pd.merge(a1,a2,left_index=True,right_index=True)')"
   ]
  },
  {
   "cell_type": "code",
   "execution_count": 19,
   "metadata": {},
   "outputs": [
    {
     "output_type": "execute_result",
     "data": {
      "text/plain": "df6\n    name   food\n0  Peter   fish\n1   Paul  beans\n2   Mary  bread\n\ndf7\n     name drink\n0    Mary  wine\n1  Joseph  beer\n\npd.merge(df6,df7)\n   name   food drink\n0  Mary  bread  wine",
      "text/html": "<div style=\"float: left; padding: 10px;\">\n    <p style='font-family:\"Courier New\", Courier, monospace'>df6</p><div>\n<style scoped>\n    .dataframe tbody tr th:only-of-type {\n        vertical-align: middle;\n    }\n\n    .dataframe tbody tr th {\n        vertical-align: top;\n    }\n\n    .dataframe thead th {\n        text-align: right;\n    }\n</style>\n<table border=\"1\" class=\"dataframe\">\n  <thead>\n    <tr style=\"text-align: right;\">\n      <th></th>\n      <th>name</th>\n      <th>food</th>\n    </tr>\n  </thead>\n  <tbody>\n    <tr>\n      <th>0</th>\n      <td>Peter</td>\n      <td>fish</td>\n    </tr>\n    <tr>\n      <th>1</th>\n      <td>Paul</td>\n      <td>beans</td>\n    </tr>\n    <tr>\n      <th>2</th>\n      <td>Mary</td>\n      <td>bread</td>\n    </tr>\n  </tbody>\n</table>\n</div>\n    </div>\n<div style=\"float: left; padding: 10px;\">\n    <p style='font-family:\"Courier New\", Courier, monospace'>df7</p><div>\n<style scoped>\n    .dataframe tbody tr th:only-of-type {\n        vertical-align: middle;\n    }\n\n    .dataframe tbody tr th {\n        vertical-align: top;\n    }\n\n    .dataframe thead th {\n        text-align: right;\n    }\n</style>\n<table border=\"1\" class=\"dataframe\">\n  <thead>\n    <tr style=\"text-align: right;\">\n      <th></th>\n      <th>name</th>\n      <th>drink</th>\n    </tr>\n  </thead>\n  <tbody>\n    <tr>\n      <th>0</th>\n      <td>Mary</td>\n      <td>wine</td>\n    </tr>\n    <tr>\n      <th>1</th>\n      <td>Joseph</td>\n      <td>beer</td>\n    </tr>\n  </tbody>\n</table>\n</div>\n    </div>\n<div style=\"float: left; padding: 10px;\">\n    <p style='font-family:\"Courier New\", Courier, monospace'>pd.merge(df6,df7)</p><div>\n<style scoped>\n    .dataframe tbody tr th:only-of-type {\n        vertical-align: middle;\n    }\n\n    .dataframe tbody tr th {\n        vertical-align: top;\n    }\n\n    .dataframe thead th {\n        text-align: right;\n    }\n</style>\n<table border=\"1\" class=\"dataframe\">\n  <thead>\n    <tr style=\"text-align: right;\">\n      <th></th>\n      <th>name</th>\n      <th>food</th>\n      <th>drink</th>\n    </tr>\n  </thead>\n  <tbody>\n    <tr>\n      <th>0</th>\n      <td>Mary</td>\n      <td>bread</td>\n      <td>wine</td>\n    </tr>\n  </tbody>\n</table>\n</div>\n    </div>"
     },
     "metadata": {},
     "execution_count": 19
    }
   ],
   "source": [
    "display('df6','df7','pd.merge(df6,df7)')"
   ]
  },
  {
   "cell_type": "code",
   "execution_count": 22,
   "metadata": {},
   "outputs": [
    {
     "output_type": "execute_result",
     "data": {
      "text/plain": "   name   food drink\n0  Mary  bread  wine",
      "text/html": "<div>\n<style scoped>\n    .dataframe tbody tr th:only-of-type {\n        vertical-align: middle;\n    }\n\n    .dataframe tbody tr th {\n        vertical-align: top;\n    }\n\n    .dataframe thead th {\n        text-align: right;\n    }\n</style>\n<table border=\"1\" class=\"dataframe\">\n  <thead>\n    <tr style=\"text-align: right;\">\n      <th></th>\n      <th>name</th>\n      <th>food</th>\n      <th>drink</th>\n    </tr>\n  </thead>\n  <tbody>\n    <tr>\n      <th>0</th>\n      <td>Mary</td>\n      <td>bread</td>\n      <td>wine</td>\n    </tr>\n  </tbody>\n</table>\n</div>"
     },
     "metadata": {},
     "execution_count": 22
    }
   ],
   "source": [
    "pd.merge(df6,df7,how='inner')"
   ]
  },
  {
   "cell_type": "code",
   "execution_count": 23,
   "metadata": {},
   "outputs": [
    {
     "output_type": "execute_result",
     "data": {
      "text/plain": "     name   food drink\n0   Peter   fish   NaN\n1    Paul  beans   NaN\n2    Mary  bread  wine\n3  Joseph    NaN  beer",
      "text/html": "<div>\n<style scoped>\n    .dataframe tbody tr th:only-of-type {\n        vertical-align: middle;\n    }\n\n    .dataframe tbody tr th {\n        vertical-align: top;\n    }\n\n    .dataframe thead th {\n        text-align: right;\n    }\n</style>\n<table border=\"1\" class=\"dataframe\">\n  <thead>\n    <tr style=\"text-align: right;\">\n      <th></th>\n      <th>name</th>\n      <th>food</th>\n      <th>drink</th>\n    </tr>\n  </thead>\n  <tbody>\n    <tr>\n      <th>0</th>\n      <td>Peter</td>\n      <td>fish</td>\n      <td>NaN</td>\n    </tr>\n    <tr>\n      <th>1</th>\n      <td>Paul</td>\n      <td>beans</td>\n      <td>NaN</td>\n    </tr>\n    <tr>\n      <th>2</th>\n      <td>Mary</td>\n      <td>bread</td>\n      <td>wine</td>\n    </tr>\n    <tr>\n      <th>3</th>\n      <td>Joseph</td>\n      <td>NaN</td>\n      <td>beer</td>\n    </tr>\n  </tbody>\n</table>\n</div>"
     },
     "metadata": {},
     "execution_count": 23
    }
   ],
   "source": [
    "pd.merge(df6,df7,how='outer')"
   ]
  },
  {
   "cell_type": "code",
   "execution_count": 24,
   "metadata": {},
   "outputs": [
    {
     "output_type": "execute_result",
     "data": {
      "text/plain": "    name   food drink\n0  Peter   fish   NaN\n1   Paul  beans   NaN\n2   Mary  bread  wine",
      "text/html": "<div>\n<style scoped>\n    .dataframe tbody tr th:only-of-type {\n        vertical-align: middle;\n    }\n\n    .dataframe tbody tr th {\n        vertical-align: top;\n    }\n\n    .dataframe thead th {\n        text-align: right;\n    }\n</style>\n<table border=\"1\" class=\"dataframe\">\n  <thead>\n    <tr style=\"text-align: right;\">\n      <th></th>\n      <th>name</th>\n      <th>food</th>\n      <th>drink</th>\n    </tr>\n  </thead>\n  <tbody>\n    <tr>\n      <th>0</th>\n      <td>Peter</td>\n      <td>fish</td>\n      <td>NaN</td>\n    </tr>\n    <tr>\n      <th>1</th>\n      <td>Paul</td>\n      <td>beans</td>\n      <td>NaN</td>\n    </tr>\n    <tr>\n      <th>2</th>\n      <td>Mary</td>\n      <td>bread</td>\n      <td>wine</td>\n    </tr>\n  </tbody>\n</table>\n</div>"
     },
     "metadata": {},
     "execution_count": 24
    }
   ],
   "source": [
    "pd.merge(df6,df7,how='left')"
   ]
  },
  {
   "cell_type": "code",
   "execution_count": 25,
   "metadata": {},
   "outputs": [
    {
     "output_type": "execute_result",
     "data": {
      "text/plain": "     name   food drink\n0    Mary  bread  wine\n1  Joseph    NaN  beer",
      "text/html": "<div>\n<style scoped>\n    .dataframe tbody tr th:only-of-type {\n        vertical-align: middle;\n    }\n\n    .dataframe tbody tr th {\n        vertical-align: top;\n    }\n\n    .dataframe thead th {\n        text-align: right;\n    }\n</style>\n<table border=\"1\" class=\"dataframe\">\n  <thead>\n    <tr style=\"text-align: right;\">\n      <th></th>\n      <th>name</th>\n      <th>food</th>\n      <th>drink</th>\n    </tr>\n  </thead>\n  <tbody>\n    <tr>\n      <th>0</th>\n      <td>Mary</td>\n      <td>bread</td>\n      <td>wine</td>\n    </tr>\n    <tr>\n      <th>1</th>\n      <td>Joseph</td>\n      <td>NaN</td>\n      <td>beer</td>\n    </tr>\n  </tbody>\n</table>\n</div>"
     },
     "metadata": {},
     "execution_count": 25
    }
   ],
   "source": [
    "pd.merge(df6,df7,how='right')"
   ]
  },
  {
   "cell_type": "code",
   "execution_count": 28,
   "metadata": {},
   "outputs": [
    {
     "output_type": "execute_result",
     "data": {
      "text/plain": "df8\n   name  rank\n0   Bob     1\n1  Jake     2\n2  Lisa     3\n3   Sue     4\n\ndf9\n   name  rank\n0   Bob     3\n1  Jake     1\n2  Lisa     4\n3   Sue     2\n\npd.merge(df8,df9,on=\"name\")\n   name  rank_x  rank_y\n0   Bob       1       3\n1  Jake       2       1\n2  Lisa       3       4\n3   Sue       4       2",
      "text/html": "<div style=\"float: left; padding: 10px;\">\n    <p style='font-family:\"Courier New\", Courier, monospace'>df8</p><div>\n<style scoped>\n    .dataframe tbody tr th:only-of-type {\n        vertical-align: middle;\n    }\n\n    .dataframe tbody tr th {\n        vertical-align: top;\n    }\n\n    .dataframe thead th {\n        text-align: right;\n    }\n</style>\n<table border=\"1\" class=\"dataframe\">\n  <thead>\n    <tr style=\"text-align: right;\">\n      <th></th>\n      <th>name</th>\n      <th>rank</th>\n    </tr>\n  </thead>\n  <tbody>\n    <tr>\n      <th>0</th>\n      <td>Bob</td>\n      <td>1</td>\n    </tr>\n    <tr>\n      <th>1</th>\n      <td>Jake</td>\n      <td>2</td>\n    </tr>\n    <tr>\n      <th>2</th>\n      <td>Lisa</td>\n      <td>3</td>\n    </tr>\n    <tr>\n      <th>3</th>\n      <td>Sue</td>\n      <td>4</td>\n    </tr>\n  </tbody>\n</table>\n</div>\n    </div>\n<div style=\"float: left; padding: 10px;\">\n    <p style='font-family:\"Courier New\", Courier, monospace'>df9</p><div>\n<style scoped>\n    .dataframe tbody tr th:only-of-type {\n        vertical-align: middle;\n    }\n\n    .dataframe tbody tr th {\n        vertical-align: top;\n    }\n\n    .dataframe thead th {\n        text-align: right;\n    }\n</style>\n<table border=\"1\" class=\"dataframe\">\n  <thead>\n    <tr style=\"text-align: right;\">\n      <th></th>\n      <th>name</th>\n      <th>rank</th>\n    </tr>\n  </thead>\n  <tbody>\n    <tr>\n      <th>0</th>\n      <td>Bob</td>\n      <td>3</td>\n    </tr>\n    <tr>\n      <th>1</th>\n      <td>Jake</td>\n      <td>1</td>\n    </tr>\n    <tr>\n      <th>2</th>\n      <td>Lisa</td>\n      <td>4</td>\n    </tr>\n    <tr>\n      <th>3</th>\n      <td>Sue</td>\n      <td>2</td>\n    </tr>\n  </tbody>\n</table>\n</div>\n    </div>\n<div style=\"float: left; padding: 10px;\">\n    <p style='font-family:\"Courier New\", Courier, monospace'>pd.merge(df8,df9,on=\"name\")</p><div>\n<style scoped>\n    .dataframe tbody tr th:only-of-type {\n        vertical-align: middle;\n    }\n\n    .dataframe tbody tr th {\n        vertical-align: top;\n    }\n\n    .dataframe thead th {\n        text-align: right;\n    }\n</style>\n<table border=\"1\" class=\"dataframe\">\n  <thead>\n    <tr style=\"text-align: right;\">\n      <th></th>\n      <th>name</th>\n      <th>rank_x</th>\n      <th>rank_y</th>\n    </tr>\n  </thead>\n  <tbody>\n    <tr>\n      <th>0</th>\n      <td>Bob</td>\n      <td>1</td>\n      <td>3</td>\n    </tr>\n    <tr>\n      <th>1</th>\n      <td>Jake</td>\n      <td>2</td>\n      <td>1</td>\n    </tr>\n    <tr>\n      <th>2</th>\n      <td>Lisa</td>\n      <td>3</td>\n      <td>4</td>\n    </tr>\n    <tr>\n      <th>3</th>\n      <td>Sue</td>\n      <td>4</td>\n      <td>2</td>\n    </tr>\n  </tbody>\n</table>\n</div>\n    </div>"
     },
     "metadata": {},
     "execution_count": 28
    }
   ],
   "source": [
    "display('df8','df9','pd.merge(df8,df9,on=\"name\")')"
   ]
  },
  {
   "cell_type": "code",
   "execution_count": 29,
   "metadata": {},
   "outputs": [
    {
     "output_type": "execute_result",
     "data": {
      "text/plain": "df8\n   name  rank\n0   Bob     1\n1  Jake     2\n2  Lisa     3\n3   Sue     4\n\ndf9\n   name  rank\n0   Bob     3\n1  Jake     1\n2  Lisa     4\n3   Sue     2\n\npd.merge(df8,df9,on=\"rank\")\n  name_x  rank name_y\n0    Bob     1   Jake\n1   Jake     2    Sue\n2   Lisa     3    Bob\n3    Sue     4   Lisa",
      "text/html": "<div style=\"float: left; padding: 10px;\">\n    <p style='font-family:\"Courier New\", Courier, monospace'>df8</p><div>\n<style scoped>\n    .dataframe tbody tr th:only-of-type {\n        vertical-align: middle;\n    }\n\n    .dataframe tbody tr th {\n        vertical-align: top;\n    }\n\n    .dataframe thead th {\n        text-align: right;\n    }\n</style>\n<table border=\"1\" class=\"dataframe\">\n  <thead>\n    <tr style=\"text-align: right;\">\n      <th></th>\n      <th>name</th>\n      <th>rank</th>\n    </tr>\n  </thead>\n  <tbody>\n    <tr>\n      <th>0</th>\n      <td>Bob</td>\n      <td>1</td>\n    </tr>\n    <tr>\n      <th>1</th>\n      <td>Jake</td>\n      <td>2</td>\n    </tr>\n    <tr>\n      <th>2</th>\n      <td>Lisa</td>\n      <td>3</td>\n    </tr>\n    <tr>\n      <th>3</th>\n      <td>Sue</td>\n      <td>4</td>\n    </tr>\n  </tbody>\n</table>\n</div>\n    </div>\n<div style=\"float: left; padding: 10px;\">\n    <p style='font-family:\"Courier New\", Courier, monospace'>df9</p><div>\n<style scoped>\n    .dataframe tbody tr th:only-of-type {\n        vertical-align: middle;\n    }\n\n    .dataframe tbody tr th {\n        vertical-align: top;\n    }\n\n    .dataframe thead th {\n        text-align: right;\n    }\n</style>\n<table border=\"1\" class=\"dataframe\">\n  <thead>\n    <tr style=\"text-align: right;\">\n      <th></th>\n      <th>name</th>\n      <th>rank</th>\n    </tr>\n  </thead>\n  <tbody>\n    <tr>\n      <th>0</th>\n      <td>Bob</td>\n      <td>3</td>\n    </tr>\n    <tr>\n      <th>1</th>\n      <td>Jake</td>\n      <td>1</td>\n    </tr>\n    <tr>\n      <th>2</th>\n      <td>Lisa</td>\n      <td>4</td>\n    </tr>\n    <tr>\n      <th>3</th>\n      <td>Sue</td>\n      <td>2</td>\n    </tr>\n  </tbody>\n</table>\n</div>\n    </div>\n<div style=\"float: left; padding: 10px;\">\n    <p style='font-family:\"Courier New\", Courier, monospace'>pd.merge(df8,df9,on=\"rank\")</p><div>\n<style scoped>\n    .dataframe tbody tr th:only-of-type {\n        vertical-align: middle;\n    }\n\n    .dataframe tbody tr th {\n        vertical-align: top;\n    }\n\n    .dataframe thead th {\n        text-align: right;\n    }\n</style>\n<table border=\"1\" class=\"dataframe\">\n  <thead>\n    <tr style=\"text-align: right;\">\n      <th></th>\n      <th>name_x</th>\n      <th>rank</th>\n      <th>name_y</th>\n    </tr>\n  </thead>\n  <tbody>\n    <tr>\n      <th>0</th>\n      <td>Bob</td>\n      <td>1</td>\n      <td>Jake</td>\n    </tr>\n    <tr>\n      <th>1</th>\n      <td>Jake</td>\n      <td>2</td>\n      <td>Sue</td>\n    </tr>\n    <tr>\n      <th>2</th>\n      <td>Lisa</td>\n      <td>3</td>\n      <td>Bob</td>\n    </tr>\n    <tr>\n      <th>3</th>\n      <td>Sue</td>\n      <td>4</td>\n      <td>Lisa</td>\n    </tr>\n  </tbody>\n</table>\n</div>\n    </div>"
     },
     "metadata": {},
     "execution_count": 29
    }
   ],
   "source": [
    "display('df8','df9','pd.merge(df8,df9,on=\"rank\")')"
   ]
  },
  {
   "cell_type": "code",
   "execution_count": 30,
   "metadata": {},
   "outputs": [
    {
     "output_type": "execute_result",
     "data": {
      "text/plain": "df8\n   name  rank\n0   Bob     1\n1  Jake     2\n2  Lisa     3\n3   Sue     4\n\ndf9\n   name  rank\n0   Bob     3\n1  Jake     1\n2  Lisa     4\n3   Sue     2\n\npd.merge(df8,df9,on=\"name\",suffixes=[\"_L\",\"_R\"])\n   name  rank_L  rank_R\n0   Bob       1       3\n1  Jake       2       1\n2  Lisa       3       4\n3   Sue       4       2",
      "text/html": "<div style=\"float: left; padding: 10px;\">\n    <p style='font-family:\"Courier New\", Courier, monospace'>df8</p><div>\n<style scoped>\n    .dataframe tbody tr th:only-of-type {\n        vertical-align: middle;\n    }\n\n    .dataframe tbody tr th {\n        vertical-align: top;\n    }\n\n    .dataframe thead th {\n        text-align: right;\n    }\n</style>\n<table border=\"1\" class=\"dataframe\">\n  <thead>\n    <tr style=\"text-align: right;\">\n      <th></th>\n      <th>name</th>\n      <th>rank</th>\n    </tr>\n  </thead>\n  <tbody>\n    <tr>\n      <th>0</th>\n      <td>Bob</td>\n      <td>1</td>\n    </tr>\n    <tr>\n      <th>1</th>\n      <td>Jake</td>\n      <td>2</td>\n    </tr>\n    <tr>\n      <th>2</th>\n      <td>Lisa</td>\n      <td>3</td>\n    </tr>\n    <tr>\n      <th>3</th>\n      <td>Sue</td>\n      <td>4</td>\n    </tr>\n  </tbody>\n</table>\n</div>\n    </div>\n<div style=\"float: left; padding: 10px;\">\n    <p style='font-family:\"Courier New\", Courier, monospace'>df9</p><div>\n<style scoped>\n    .dataframe tbody tr th:only-of-type {\n        vertical-align: middle;\n    }\n\n    .dataframe tbody tr th {\n        vertical-align: top;\n    }\n\n    .dataframe thead th {\n        text-align: right;\n    }\n</style>\n<table border=\"1\" class=\"dataframe\">\n  <thead>\n    <tr style=\"text-align: right;\">\n      <th></th>\n      <th>name</th>\n      <th>rank</th>\n    </tr>\n  </thead>\n  <tbody>\n    <tr>\n      <th>0</th>\n      <td>Bob</td>\n      <td>3</td>\n    </tr>\n    <tr>\n      <th>1</th>\n      <td>Jake</td>\n      <td>1</td>\n    </tr>\n    <tr>\n      <th>2</th>\n      <td>Lisa</td>\n      <td>4</td>\n    </tr>\n    <tr>\n      <th>3</th>\n      <td>Sue</td>\n      <td>2</td>\n    </tr>\n  </tbody>\n</table>\n</div>\n    </div>\n<div style=\"float: left; padding: 10px;\">\n    <p style='font-family:\"Courier New\", Courier, monospace'>pd.merge(df8,df9,on=\"name\",suffixes=[\"_L\",\"_R\"])</p><div>\n<style scoped>\n    .dataframe tbody tr th:only-of-type {\n        vertical-align: middle;\n    }\n\n    .dataframe tbody tr th {\n        vertical-align: top;\n    }\n\n    .dataframe thead th {\n        text-align: right;\n    }\n</style>\n<table border=\"1\" class=\"dataframe\">\n  <thead>\n    <tr style=\"text-align: right;\">\n      <th></th>\n      <th>name</th>\n      <th>rank_L</th>\n      <th>rank_R</th>\n    </tr>\n  </thead>\n  <tbody>\n    <tr>\n      <th>0</th>\n      <td>Bob</td>\n      <td>1</td>\n      <td>3</td>\n    </tr>\n    <tr>\n      <th>1</th>\n      <td>Jake</td>\n      <td>2</td>\n      <td>1</td>\n    </tr>\n    <tr>\n      <th>2</th>\n      <td>Lisa</td>\n      <td>3</td>\n      <td>4</td>\n    </tr>\n    <tr>\n      <th>3</th>\n      <td>Sue</td>\n      <td>4</td>\n      <td>2</td>\n    </tr>\n  </tbody>\n</table>\n</div>\n    </div>"
     },
     "metadata": {},
     "execution_count": 30
    }
   ],
   "source": [
    "display('df8','df9','pd.merge(df8,df9,on=\"name\",suffixes=[\"_L\",\"_R\"])')"
   ]
  },
  {
   "cell_type": "code",
   "execution_count": 32,
   "metadata": {},
   "outputs": [
    {
     "output_type": "execute_result",
     "data": {
      "text/plain": "  state/region     ages  year  population\n0           AL  under18  2012   1117489.0\n1           AL    total  2012   4817528.0\n2           AL  under18  2010   1130966.0\n3           AL    total  2010   4785570.0\n4           AL  under18  2011   1125763.0",
      "text/html": "<div>\n<style scoped>\n    .dataframe tbody tr th:only-of-type {\n        vertical-align: middle;\n    }\n\n    .dataframe tbody tr th {\n        vertical-align: top;\n    }\n\n    .dataframe thead th {\n        text-align: right;\n    }\n</style>\n<table border=\"1\" class=\"dataframe\">\n  <thead>\n    <tr style=\"text-align: right;\">\n      <th></th>\n      <th>state/region</th>\n      <th>ages</th>\n      <th>year</th>\n      <th>population</th>\n    </tr>\n  </thead>\n  <tbody>\n    <tr>\n      <th>0</th>\n      <td>AL</td>\n      <td>under18</td>\n      <td>2012</td>\n      <td>1117489.0</td>\n    </tr>\n    <tr>\n      <th>1</th>\n      <td>AL</td>\n      <td>total</td>\n      <td>2012</td>\n      <td>4817528.0</td>\n    </tr>\n    <tr>\n      <th>2</th>\n      <td>AL</td>\n      <td>under18</td>\n      <td>2010</td>\n      <td>1130966.0</td>\n    </tr>\n    <tr>\n      <th>3</th>\n      <td>AL</td>\n      <td>total</td>\n      <td>2010</td>\n      <td>4785570.0</td>\n    </tr>\n    <tr>\n      <th>4</th>\n      <td>AL</td>\n      <td>under18</td>\n      <td>2011</td>\n      <td>1125763.0</td>\n    </tr>\n  </tbody>\n</table>\n</div>"
     },
     "metadata": {},
     "execution_count": 32
    }
   ],
   "source": [
    "e1.head()"
   ]
  },
  {
   "cell_type": "code",
   "execution_count": 34,
   "metadata": {},
   "outputs": [
    {
     "output_type": "execute_result",
     "data": {
      "text/plain": "        state  area (sq. mi)\n0     Alabama          52423\n1      Alaska         656425\n2     Arizona         114006\n3    Arkansas          53182\n4  California         163707",
      "text/html": "<div>\n<style scoped>\n    .dataframe tbody tr th:only-of-type {\n        vertical-align: middle;\n    }\n\n    .dataframe tbody tr th {\n        vertical-align: top;\n    }\n\n    .dataframe thead th {\n        text-align: right;\n    }\n</style>\n<table border=\"1\" class=\"dataframe\">\n  <thead>\n    <tr style=\"text-align: right;\">\n      <th></th>\n      <th>state</th>\n      <th>area (sq. mi)</th>\n    </tr>\n  </thead>\n  <tbody>\n    <tr>\n      <th>0</th>\n      <td>Alabama</td>\n      <td>52423</td>\n    </tr>\n    <tr>\n      <th>1</th>\n      <td>Alaska</td>\n      <td>656425</td>\n    </tr>\n    <tr>\n      <th>2</th>\n      <td>Arizona</td>\n      <td>114006</td>\n    </tr>\n    <tr>\n      <th>3</th>\n      <td>Arkansas</td>\n      <td>53182</td>\n    </tr>\n    <tr>\n      <th>4</th>\n      <td>California</td>\n      <td>163707</td>\n    </tr>\n  </tbody>\n</table>\n</div>"
     },
     "metadata": {},
     "execution_count": 34
    }
   ],
   "source": [
    "e2=pd.read_csv('https://raw.githubusercontent.com/jakevdp/data-USstates/master/state-areas.csv')\n",
    "e2.head()"
   ]
  },
  {
   "cell_type": "code",
   "execution_count": 36,
   "metadata": {},
   "outputs": [
    {
     "output_type": "execute_result",
     "data": {
      "text/plain": "        state abbreviation\n0     Alabama           AL\n1      Alaska           AK\n2     Arizona           AZ\n3    Arkansas           AR\n4  California           CA",
      "text/html": "<div>\n<style scoped>\n    .dataframe tbody tr th:only-of-type {\n        vertical-align: middle;\n    }\n\n    .dataframe tbody tr th {\n        vertical-align: top;\n    }\n\n    .dataframe thead th {\n        text-align: right;\n    }\n</style>\n<table border=\"1\" class=\"dataframe\">\n  <thead>\n    <tr style=\"text-align: right;\">\n      <th></th>\n      <th>state</th>\n      <th>abbreviation</th>\n    </tr>\n  </thead>\n  <tbody>\n    <tr>\n      <th>0</th>\n      <td>Alabama</td>\n      <td>AL</td>\n    </tr>\n    <tr>\n      <th>1</th>\n      <td>Alaska</td>\n      <td>AK</td>\n    </tr>\n    <tr>\n      <th>2</th>\n      <td>Arizona</td>\n      <td>AZ</td>\n    </tr>\n    <tr>\n      <th>3</th>\n      <td>Arkansas</td>\n      <td>AR</td>\n    </tr>\n    <tr>\n      <th>4</th>\n      <td>California</td>\n      <td>CA</td>\n    </tr>\n  </tbody>\n</table>\n</div>"
     },
     "metadata": {},
     "execution_count": 36
    }
   ],
   "source": [
    "e3=pd.read_csv('https://raw.githubusercontent.com/jakevdp/data-USstates/master/state-abbrevs.csv')\n",
    "e3.head()"
   ]
  },
  {
   "cell_type": "code",
   "execution_count": 37,
   "metadata": {},
   "outputs": [
    {
     "output_type": "error",
     "ename": "MergeError",
     "evalue": "No common columns to perform merge on. Merge options: left_on=None, right_on=None, left_index=False, right_index=False",
     "traceback": [
      "\u001b[1;31m---------------------------------------------------------------------------\u001b[0m",
      "\u001b[1;31mMergeError\u001b[0m                                Traceback (most recent call last)",
      "\u001b[1;32m<ipython-input-37-0bed65040e13>\u001b[0m in \u001b[0;36m<module>\u001b[1;34m\u001b[0m\n\u001b[1;32m----> 1\u001b[1;33m \u001b[0mpd\u001b[0m\u001b[1;33m.\u001b[0m\u001b[0mmerge\u001b[0m\u001b[1;33m(\u001b[0m\u001b[0me1\u001b[0m\u001b[1;33m,\u001b[0m\u001b[0me2\u001b[0m\u001b[1;33m)\u001b[0m\u001b[1;33m\u001b[0m\u001b[1;33m\u001b[0m\u001b[0m\n\u001b[0m",
      "\u001b[1;32m~\\AppData\\Local\\Programs\\Python\\Python38-32\\lib\\site-packages\\pandas\\core\\reshape\\merge.py\u001b[0m in \u001b[0;36mmerge\u001b[1;34m(left, right, how, on, left_on, right_on, left_index, right_index, sort, suffixes, copy, indicator, validate)\u001b[0m\n\u001b[0;32m     71\u001b[0m     \u001b[0mvalidate\u001b[0m\u001b[1;33m=\u001b[0m\u001b[1;32mNone\u001b[0m\u001b[1;33m,\u001b[0m\u001b[1;33m\u001b[0m\u001b[1;33m\u001b[0m\u001b[0m\n\u001b[0;32m     72\u001b[0m ) -> \"DataFrame\":\n\u001b[1;32m---> 73\u001b[1;33m     op = _MergeOperation(\n\u001b[0m\u001b[0;32m     74\u001b[0m         \u001b[0mleft\u001b[0m\u001b[1;33m,\u001b[0m\u001b[1;33m\u001b[0m\u001b[1;33m\u001b[0m\u001b[0m\n\u001b[0;32m     75\u001b[0m         \u001b[0mright\u001b[0m\u001b[1;33m,\u001b[0m\u001b[1;33m\u001b[0m\u001b[1;33m\u001b[0m\u001b[0m\n",
      "\u001b[1;32m~\\AppData\\Local\\Programs\\Python\\Python38-32\\lib\\site-packages\\pandas\\core\\reshape\\merge.py\u001b[0m in \u001b[0;36m__init__\u001b[1;34m(self, left, right, how, on, left_on, right_on, axis, left_index, right_index, sort, suffixes, copy, indicator, validate)\u001b[0m\n\u001b[0;32m    618\u001b[0m             \u001b[0mwarnings\u001b[0m\u001b[1;33m.\u001b[0m\u001b[0mwarn\u001b[0m\u001b[1;33m(\u001b[0m\u001b[0mmsg\u001b[0m\u001b[1;33m,\u001b[0m \u001b[0mUserWarning\u001b[0m\u001b[1;33m)\u001b[0m\u001b[1;33m\u001b[0m\u001b[1;33m\u001b[0m\u001b[0m\n\u001b[0;32m    619\u001b[0m \u001b[1;33m\u001b[0m\u001b[0m\n\u001b[1;32m--> 620\u001b[1;33m         \u001b[0mself\u001b[0m\u001b[1;33m.\u001b[0m\u001b[0m_validate_specification\u001b[0m\u001b[1;33m(\u001b[0m\u001b[1;33m)\u001b[0m\u001b[1;33m\u001b[0m\u001b[1;33m\u001b[0m\u001b[0m\n\u001b[0m\u001b[0;32m    621\u001b[0m \u001b[1;33m\u001b[0m\u001b[0m\n\u001b[0;32m    622\u001b[0m         \u001b[1;31m# note this function has side effects\u001b[0m\u001b[1;33m\u001b[0m\u001b[1;33m\u001b[0m\u001b[1;33m\u001b[0m\u001b[0m\n",
      "\u001b[1;32m~\\AppData\\Local\\Programs\\Python\\Python38-32\\lib\\site-packages\\pandas\\core\\reshape\\merge.py\u001b[0m in \u001b[0;36m_validate_specification\u001b[1;34m(self)\u001b[0m\n\u001b[0;32m   1189\u001b[0m                 \u001b[0mcommon_cols\u001b[0m \u001b[1;33m=\u001b[0m \u001b[0mself\u001b[0m\u001b[1;33m.\u001b[0m\u001b[0mleft\u001b[0m\u001b[1;33m.\u001b[0m\u001b[0mcolumns\u001b[0m\u001b[1;33m.\u001b[0m\u001b[0mintersection\u001b[0m\u001b[1;33m(\u001b[0m\u001b[0mself\u001b[0m\u001b[1;33m.\u001b[0m\u001b[0mright\u001b[0m\u001b[1;33m.\u001b[0m\u001b[0mcolumns\u001b[0m\u001b[1;33m)\u001b[0m\u001b[1;33m\u001b[0m\u001b[1;33m\u001b[0m\u001b[0m\n\u001b[0;32m   1190\u001b[0m                 \u001b[1;32mif\u001b[0m \u001b[0mlen\u001b[0m\u001b[1;33m(\u001b[0m\u001b[0mcommon_cols\u001b[0m\u001b[1;33m)\u001b[0m \u001b[1;33m==\u001b[0m \u001b[1;36m0\u001b[0m\u001b[1;33m:\u001b[0m\u001b[1;33m\u001b[0m\u001b[1;33m\u001b[0m\u001b[0m\n\u001b[1;32m-> 1191\u001b[1;33m                     raise MergeError(\n\u001b[0m\u001b[0;32m   1192\u001b[0m                         \u001b[1;34m\"No common columns to perform merge on. \"\u001b[0m\u001b[1;33m\u001b[0m\u001b[1;33m\u001b[0m\u001b[0m\n\u001b[0;32m   1193\u001b[0m                         \u001b[1;34m\"Merge options: left_on={lon}, right_on={ron}, \"\u001b[0m\u001b[1;33m\u001b[0m\u001b[1;33m\u001b[0m\u001b[0m\n",
      "\u001b[1;31mMergeError\u001b[0m: No common columns to perform merge on. Merge options: left_on=None, right_on=None, left_index=False, right_index=False"
     ]
    }
   ],
   "source": [
    "pd.merge(e1,e2)"
   ]
  },
  {
   "cell_type": "code",
   "execution_count": null,
   "metadata": {},
   "outputs": [],
   "source": []
  }
 ]
}