{
 "metadata": {
  "language_info": {
   "codemirror_mode": {
    "name": "ipython",
    "version": 3
   },
   "file_extension": ".py",
   "mimetype": "text/x-python",
   "name": "python",
   "nbconvert_exporter": "python",
   "pygments_lexer": "ipython3",
   "version": "3.8.2-final"
  },
  "orig_nbformat": 2,
  "kernelspec": {
   "name": "python_defaultSpec_1597655760543",
   "display_name": "Python 3.8.2 32-bit"
  }
 },
 "nbformat": 4,
 "nbformat_minor": 2,
 "cells": [
  {
   "cell_type": "code",
   "execution_count": 2,
   "metadata": {},
   "outputs": [],
   "source": [
    " import pandas as pd\n",
    " import numpy as np \n",
    " # Define the headers since the data does not have any\n",
    "headers = [\"symboling\", \"normalized_losses\", \"make\", \"fuel_type\", \"aspiration\",\n",
    "\"num_doors\", \"body_style\", \"drive_wheels\", \"engine_location\",\n",
    "\"wheel_base\", \"length\", \"width\", \"height\", \"curb_weight\",\n",
    "\"engine_type\", \"num_cylinders\", \"engine_size\", \"fuel_system\",\n",
    "\"bore\", \"stroke\", \"compression_ratio\", \"horsepower\", \"peak_rpm\",\n",
    "\"city_mpg\", \"highway_mpg\", \"price\"]\n",
    " \n",
    "# Read in the CSV file and convert \"?\" to NaN\n",
    "df = pd.read_csv(\"https://archive.ics.uci.edu/ml/machine-learning-databases/autos/imports-85.data\",\n",
    "                  header=None, names=headers, na_values=\"?\" )"
   ]
  },
  {
   "cell_type": "code",
   "execution_count": 3,
   "metadata": {},
   "outputs": [
    {
     "output_type": "execute_result",
     "data": {
      "text/plain": "          make fuel_type aspiration num_doors   body_style drive_wheels  \\\n0  alfa-romero       gas        std       two  convertible          rwd   \n1  alfa-romero       gas        std       two  convertible          rwd   \n\n  engine_location engine_type num_cylinders fuel_system  \n0           front        dohc          four        mpfi  \n1           front        dohc          four        mpfi  ",
      "text/html": "<div>\n<style scoped>\n    .dataframe tbody tr th:only-of-type {\n        vertical-align: middle;\n    }\n\n    .dataframe tbody tr th {\n        vertical-align: top;\n    }\n\n    .dataframe thead th {\n        text-align: right;\n    }\n</style>\n<table border=\"1\" class=\"dataframe\">\n  <thead>\n    <tr style=\"text-align: right;\">\n      <th></th>\n      <th>make</th>\n      <th>fuel_type</th>\n      <th>aspiration</th>\n      <th>num_doors</th>\n      <th>body_style</th>\n      <th>drive_wheels</th>\n      <th>engine_location</th>\n      <th>engine_type</th>\n      <th>num_cylinders</th>\n      <th>fuel_system</th>\n    </tr>\n  </thead>\n  <tbody>\n    <tr>\n      <th>0</th>\n      <td>alfa-romero</td>\n      <td>gas</td>\n      <td>std</td>\n      <td>two</td>\n      <td>convertible</td>\n      <td>rwd</td>\n      <td>front</td>\n      <td>dohc</td>\n      <td>four</td>\n      <td>mpfi</td>\n    </tr>\n    <tr>\n      <th>1</th>\n      <td>alfa-romero</td>\n      <td>gas</td>\n      <td>std</td>\n      <td>two</td>\n      <td>convertible</td>\n      <td>rwd</td>\n      <td>front</td>\n      <td>dohc</td>\n      <td>four</td>\n      <td>mpfi</td>\n    </tr>\n  </tbody>\n</table>\n</div>"
     },
     "metadata": {},
     "execution_count": 3
    }
   ],
   "source": [
    "ob=df.select_dtypes(include=['object']).copy()\n",
    "ob.head(2)"
   ]
  },
  {
   "cell_type": "code",
   "execution_count": 4,
   "metadata": {},
   "outputs": [
    {
     "output_type": "execute_result",
     "data": {
      "text/plain": "make               0\nfuel_type          0\naspiration         0\nnum_doors          2\nbody_style         0\ndrive_wheels       0\nengine_location    0\nengine_type        0\nnum_cylinders      0\nfuel_system        0\ndtype: int64"
     },
     "metadata": {},
     "execution_count": 4
    }
   ],
   "source": [
    "ob.isnull().sum()"
   ]
  },
  {
   "cell_type": "code",
   "execution_count": 5,
   "metadata": {},
   "outputs": [
    {
     "output_type": "execute_result",
     "data": {
      "text/plain": "four      159\nsix        24\nfive       11\neight       5\ntwo         4\ntwelve      1\nthree       1\nName: num_cylinders, dtype: int64"
     },
     "metadata": {},
     "execution_count": 5
    }
   ],
   "source": [
    "ob['num_cylinders'].value_counts()"
   ]
  },
  {
   "cell_type": "code",
   "execution_count": 6,
   "metadata": {},
   "outputs": [],
   "source": [
    "ob=ob.fillna({'num_doors':'four'})"
   ]
  },
  {
   "cell_type": "code",
   "execution_count": 7,
   "metadata": {},
   "outputs": [],
   "source": [
    "clean_num={'num_doors':{\"four\":4,\"two\":2},\n",
    "            'num_cylinders':{'four':4,'two':2,\"twelve\":12,\"three\":3,\"five\":5,\"six\":6,'eight':8}}\n",
    "ob.replace(clean_num,inplace=True)"
   ]
  },
  {
   "cell_type": "code",
   "execution_count": 8,
   "metadata": {},
   "outputs": [
    {
     "output_type": "execute_result",
     "data": {
      "text/plain": "make               object\nfuel_type          object\naspiration         object\nnum_doors           int64\nbody_style         object\ndrive_wheels       object\nengine_location    object\nengine_type        object\nnum_cylinders       int64\nfuel_system        object\ndtype: object"
     },
     "metadata": {},
     "execution_count": 8
    }
   ],
   "source": [
    "ob.dtypes"
   ]
  },
  {
   "cell_type": "code",
   "execution_count": 9,
   "metadata": {},
   "outputs": [
    {
     "output_type": "execute_result",
     "data": {
      "text/plain": "symboling               int64\nnormalized_losses     float64\nmake                   object\nfuel_type              object\naspiration             object\nnum_doors              object\nbody_style           category\ndrive_wheels           object\nengine_location        object\nwheel_base            float64\nlength                float64\nwidth                 float64\nheight                float64\ncurb_weight             int64\nengine_type            object\nnum_cylinders          object\nengine_size             int64\nfuel_system            object\nbore                  float64\nstroke                float64\ncompression_ratio     float64\nhorsepower            float64\npeak_rpm              float64\ncity_mpg                int64\nhighway_mpg             int64\nprice                 float64\ndtype: object"
     },
     "metadata": {},
     "execution_count": 9
    }
   ],
   "source": [
    "df['body_style']=df['body_style'].astype('category')\n",
    "df.dtypes"
   ]
  },
  {
   "cell_type": "code",
   "execution_count": 10,
   "metadata": {},
   "outputs": [
    {
     "output_type": "execute_result",
     "data": {
      "text/plain": "          make fuel_type aspiration  num_doors   body_style drive_wheels  \\\n0  alfa-romero       gas        std          2  convertible          rwd   \n1  alfa-romero       gas        std          2  convertible          rwd   \n2  alfa-romero       gas        std          2    hatchback          rwd   \n3         audi       gas        std          4        sedan          fwd   \n4         audi       gas        std          4        sedan          4wd   \n\n  engine_location engine_type  num_cylinders fuel_system  body_style_cat  \n0           front        dohc              4        mpfi               0  \n1           front        dohc              4        mpfi               0  \n2           front        ohcv              6        mpfi               2  \n3           front         ohc              4        mpfi               3  \n4           front         ohc              5        mpfi               3  ",
      "text/html": "<div>\n<style scoped>\n    .dataframe tbody tr th:only-of-type {\n        vertical-align: middle;\n    }\n\n    .dataframe tbody tr th {\n        vertical-align: top;\n    }\n\n    .dataframe thead th {\n        text-align: right;\n    }\n</style>\n<table border=\"1\" class=\"dataframe\">\n  <thead>\n    <tr style=\"text-align: right;\">\n      <th></th>\n      <th>make</th>\n      <th>fuel_type</th>\n      <th>aspiration</th>\n      <th>num_doors</th>\n      <th>body_style</th>\n      <th>drive_wheels</th>\n      <th>engine_location</th>\n      <th>engine_type</th>\n      <th>num_cylinders</th>\n      <th>fuel_system</th>\n      <th>body_style_cat</th>\n    </tr>\n  </thead>\n  <tbody>\n    <tr>\n      <th>0</th>\n      <td>alfa-romero</td>\n      <td>gas</td>\n      <td>std</td>\n      <td>2</td>\n      <td>convertible</td>\n      <td>rwd</td>\n      <td>front</td>\n      <td>dohc</td>\n      <td>4</td>\n      <td>mpfi</td>\n      <td>0</td>\n    </tr>\n    <tr>\n      <th>1</th>\n      <td>alfa-romero</td>\n      <td>gas</td>\n      <td>std</td>\n      <td>2</td>\n      <td>convertible</td>\n      <td>rwd</td>\n      <td>front</td>\n      <td>dohc</td>\n      <td>4</td>\n      <td>mpfi</td>\n      <td>0</td>\n    </tr>\n    <tr>\n      <th>2</th>\n      <td>alfa-romero</td>\n      <td>gas</td>\n      <td>std</td>\n      <td>2</td>\n      <td>hatchback</td>\n      <td>rwd</td>\n      <td>front</td>\n      <td>ohcv</td>\n      <td>6</td>\n      <td>mpfi</td>\n      <td>2</td>\n    </tr>\n    <tr>\n      <th>3</th>\n      <td>audi</td>\n      <td>gas</td>\n      <td>std</td>\n      <td>4</td>\n      <td>sedan</td>\n      <td>fwd</td>\n      <td>front</td>\n      <td>ohc</td>\n      <td>4</td>\n      <td>mpfi</td>\n      <td>3</td>\n    </tr>\n    <tr>\n      <th>4</th>\n      <td>audi</td>\n      <td>gas</td>\n      <td>std</td>\n      <td>4</td>\n      <td>sedan</td>\n      <td>4wd</td>\n      <td>front</td>\n      <td>ohc</td>\n      <td>5</td>\n      <td>mpfi</td>\n      <td>3</td>\n    </tr>\n  </tbody>\n</table>\n</div>"
     },
     "metadata": {},
     "execution_count": 10
    }
   ],
   "source": [
    "ob['body_style_cat']=df['body_style'].cat.codes\n",
    "ob.head()"
   ]
  },
  {
   "cell_type": "code",
   "execution_count": 11,
   "metadata": {},
   "outputs": [
    {
     "output_type": "execute_result",
     "data": {
      "text/plain": "make               object\nfuel_type          object\naspiration         object\nnum_doors           int64\nbody_style         object\ndrive_wheels       object\nengine_location    object\nengine_type        object\nnum_cylinders       int64\nfuel_system        object\nbody_style_cat       int8\ndtype: object"
     },
     "metadata": {},
     "execution_count": 11
    }
   ],
   "source": [
    "ob.dtypes"
   ]
  },
  {
   "cell_type": "code",
   "execution_count": 12,
   "metadata": {},
   "outputs": [
    {
     "output_type": "execute_result",
     "data": {
      "text/plain": "sedan          96\nhatchback      70\nwagon          25\nhardtop         8\nconvertible     6\nName: body_style, dtype: int64"
     },
     "metadata": {},
     "execution_count": 12
    }
   ],
   "source": [
    "ob['body_style'].value_counts()\n"
   ]
  },
  {
   "cell_type": "code",
   "execution_count": 13,
   "metadata": {},
   "outputs": [
    {
     "output_type": "execute_result",
     "data": {
      "text/plain": "          make fuel_type aspiration  num_doors   body_style engine_location  \\\n0  alfa-romero       gas        std          2  convertible           front   \n1  alfa-romero       gas        std          2  convertible           front   \n2  alfa-romero       gas        std          2    hatchback           front   \n3         audi       gas        std          4        sedan           front   \n4         audi       gas        std          4        sedan           front   \n\n  engine_type  num_cylinders fuel_system  body_style_cat  drive_wheels_4wd  \\\n0        dohc              4        mpfi               0                 0   \n1        dohc              4        mpfi               0                 0   \n2        ohcv              6        mpfi               2                 0   \n3         ohc              4        mpfi               3                 0   \n4         ohc              5        mpfi               3                 1   \n\n   drive_wheels_fwd  drive_wheels_rwd  \n0                 0                 1  \n1                 0                 1  \n2                 0                 1  \n3                 1                 0  \n4                 0                 0  ",
      "text/html": "<div>\n<style scoped>\n    .dataframe tbody tr th:only-of-type {\n        vertical-align: middle;\n    }\n\n    .dataframe tbody tr th {\n        vertical-align: top;\n    }\n\n    .dataframe thead th {\n        text-align: right;\n    }\n</style>\n<table border=\"1\" class=\"dataframe\">\n  <thead>\n    <tr style=\"text-align: right;\">\n      <th></th>\n      <th>make</th>\n      <th>fuel_type</th>\n      <th>aspiration</th>\n      <th>num_doors</th>\n      <th>body_style</th>\n      <th>engine_location</th>\n      <th>engine_type</th>\n      <th>num_cylinders</th>\n      <th>fuel_system</th>\n      <th>body_style_cat</th>\n      <th>drive_wheels_4wd</th>\n      <th>drive_wheels_fwd</th>\n      <th>drive_wheels_rwd</th>\n    </tr>\n  </thead>\n  <tbody>\n    <tr>\n      <th>0</th>\n      <td>alfa-romero</td>\n      <td>gas</td>\n      <td>std</td>\n      <td>2</td>\n      <td>convertible</td>\n      <td>front</td>\n      <td>dohc</td>\n      <td>4</td>\n      <td>mpfi</td>\n      <td>0</td>\n      <td>0</td>\n      <td>0</td>\n      <td>1</td>\n    </tr>\n    <tr>\n      <th>1</th>\n      <td>alfa-romero</td>\n      <td>gas</td>\n      <td>std</td>\n      <td>2</td>\n      <td>convertible</td>\n      <td>front</td>\n      <td>dohc</td>\n      <td>4</td>\n      <td>mpfi</td>\n      <td>0</td>\n      <td>0</td>\n      <td>0</td>\n      <td>1</td>\n    </tr>\n    <tr>\n      <th>2</th>\n      <td>alfa-romero</td>\n      <td>gas</td>\n      <td>std</td>\n      <td>2</td>\n      <td>hatchback</td>\n      <td>front</td>\n      <td>ohcv</td>\n      <td>6</td>\n      <td>mpfi</td>\n      <td>2</td>\n      <td>0</td>\n      <td>0</td>\n      <td>1</td>\n    </tr>\n    <tr>\n      <th>3</th>\n      <td>audi</td>\n      <td>gas</td>\n      <td>std</td>\n      <td>4</td>\n      <td>sedan</td>\n      <td>front</td>\n      <td>ohc</td>\n      <td>4</td>\n      <td>mpfi</td>\n      <td>3</td>\n      <td>0</td>\n      <td>1</td>\n      <td>0</td>\n    </tr>\n    <tr>\n      <th>4</th>\n      <td>audi</td>\n      <td>gas</td>\n      <td>std</td>\n      <td>4</td>\n      <td>sedan</td>\n      <td>front</td>\n      <td>ohc</td>\n      <td>5</td>\n      <td>mpfi</td>\n      <td>3</td>\n      <td>1</td>\n      <td>0</td>\n      <td>0</td>\n    </tr>\n  </tbody>\n</table>\n</div>"
     },
     "metadata": {},
     "execution_count": 13
    }
   ],
   "source": [
    "pd.get_dummies(ob,columns=['drive_wheels']).head(5)"
   ]
  },
  {
   "cell_type": "code",
   "execution_count": 14,
   "metadata": {},
   "outputs": [
    {
     "output_type": "execute_result",
     "data": {
      "text/plain": "          make fuel_type aspiration  num_doors engine_location engine_type  \\\n0  alfa-romero       gas        std          2           front        dohc   \n1  alfa-romero       gas        std          2           front        dohc   \n2  alfa-romero       gas        std          2           front        ohcv   \n3         audi       gas        std          4           front         ohc   \n4         audi       gas        std          4           front         ohc   \n\n   num_cylinders fuel_system  body_style_cat  body_convertible  body_hardtop  \\\n0              4        mpfi               0                 1             0   \n1              4        mpfi               0                 1             0   \n2              6        mpfi               2                 0             0   \n3              4        mpfi               3                 0             0   \n4              5        mpfi               3                 0             0   \n\n   body_hatchback  body_sedan  body_wagon  drive_4wd  drive_fwd  drive_rwd  \n0               0           0           0          0          0          1  \n1               0           0           0          0          0          1  \n2               1           0           0          0          0          1  \n3               0           1           0          0          1          0  \n4               0           1           0          1          0          0  ",
      "text/html": "<div>\n<style scoped>\n    .dataframe tbody tr th:only-of-type {\n        vertical-align: middle;\n    }\n\n    .dataframe tbody tr th {\n        vertical-align: top;\n    }\n\n    .dataframe thead th {\n        text-align: right;\n    }\n</style>\n<table border=\"1\" class=\"dataframe\">\n  <thead>\n    <tr style=\"text-align: right;\">\n      <th></th>\n      <th>make</th>\n      <th>fuel_type</th>\n      <th>aspiration</th>\n      <th>num_doors</th>\n      <th>engine_location</th>\n      <th>engine_type</th>\n      <th>num_cylinders</th>\n      <th>fuel_system</th>\n      <th>body_style_cat</th>\n      <th>body_convertible</th>\n      <th>body_hardtop</th>\n      <th>body_hatchback</th>\n      <th>body_sedan</th>\n      <th>body_wagon</th>\n      <th>drive_4wd</th>\n      <th>drive_fwd</th>\n      <th>drive_rwd</th>\n    </tr>\n  </thead>\n  <tbody>\n    <tr>\n      <th>0</th>\n      <td>alfa-romero</td>\n      <td>gas</td>\n      <td>std</td>\n      <td>2</td>\n      <td>front</td>\n      <td>dohc</td>\n      <td>4</td>\n      <td>mpfi</td>\n      <td>0</td>\n      <td>1</td>\n      <td>0</td>\n      <td>0</td>\n      <td>0</td>\n      <td>0</td>\n      <td>0</td>\n      <td>0</td>\n      <td>1</td>\n    </tr>\n    <tr>\n      <th>1</th>\n      <td>alfa-romero</td>\n      <td>gas</td>\n      <td>std</td>\n      <td>2</td>\n      <td>front</td>\n      <td>dohc</td>\n      <td>4</td>\n      <td>mpfi</td>\n      <td>0</td>\n      <td>1</td>\n      <td>0</td>\n      <td>0</td>\n      <td>0</td>\n      <td>0</td>\n      <td>0</td>\n      <td>0</td>\n      <td>1</td>\n    </tr>\n    <tr>\n      <th>2</th>\n      <td>alfa-romero</td>\n      <td>gas</td>\n      <td>std</td>\n      <td>2</td>\n      <td>front</td>\n      <td>ohcv</td>\n      <td>6</td>\n      <td>mpfi</td>\n      <td>2</td>\n      <td>0</td>\n      <td>0</td>\n      <td>1</td>\n      <td>0</td>\n      <td>0</td>\n      <td>0</td>\n      <td>0</td>\n      <td>1</td>\n    </tr>\n    <tr>\n      <th>3</th>\n      <td>audi</td>\n      <td>gas</td>\n      <td>std</td>\n      <td>4</td>\n      <td>front</td>\n      <td>ohc</td>\n      <td>4</td>\n      <td>mpfi</td>\n      <td>3</td>\n      <td>0</td>\n      <td>0</td>\n      <td>0</td>\n      <td>1</td>\n      <td>0</td>\n      <td>0</td>\n      <td>1</td>\n      <td>0</td>\n    </tr>\n    <tr>\n      <th>4</th>\n      <td>audi</td>\n      <td>gas</td>\n      <td>std</td>\n      <td>4</td>\n      <td>front</td>\n      <td>ohc</td>\n      <td>5</td>\n      <td>mpfi</td>\n      <td>3</td>\n      <td>0</td>\n      <td>0</td>\n      <td>0</td>\n      <td>1</td>\n      <td>0</td>\n      <td>1</td>\n      <td>0</td>\n      <td>0</td>\n    </tr>\n  </tbody>\n</table>\n</div>"
     },
     "metadata": {},
     "execution_count": 14
    }
   ],
   "source": [
    "pd.get_dummies(ob,columns=['body_style','drive_wheels'],prefix=['body','drive']).head(5)"
   ]
  },
  {
   "cell_type": "code",
   "execution_count": 15,
   "metadata": {},
   "outputs": [],
   "source": [
    "ob['ohc_code']=np.where(ob['engine_type'].str.contains('ohc'),1,0)"
   ]
  },
  {
   "cell_type": "code",
   "execution_count": 16,
   "metadata": {},
   "outputs": [
    {
     "output_type": "execute_result",
     "data": {
      "text/plain": "          make fuel_type aspiration  num_doors   body_style drive_wheels  \\\n0  alfa-romero       gas        std          2  convertible          rwd   \n1  alfa-romero       gas        std          2  convertible          rwd   \n2  alfa-romero       gas        std          2    hatchback          rwd   \n3         audi       gas        std          4        sedan          fwd   \n4         audi       gas        std          4        sedan          4wd   \n\n  engine_location engine_type  num_cylinders fuel_system  body_style_cat  \\\n0           front        dohc              4        mpfi               0   \n1           front        dohc              4        mpfi               0   \n2           front        ohcv              6        mpfi               2   \n3           front         ohc              4        mpfi               3   \n4           front         ohc              5        mpfi               3   \n\n   ohc_code  \n0         1  \n1         1  \n2         1  \n3         1  \n4         1  ",
      "text/html": "<div>\n<style scoped>\n    .dataframe tbody tr th:only-of-type {\n        vertical-align: middle;\n    }\n\n    .dataframe tbody tr th {\n        vertical-align: top;\n    }\n\n    .dataframe thead th {\n        text-align: right;\n    }\n</style>\n<table border=\"1\" class=\"dataframe\">\n  <thead>\n    <tr style=\"text-align: right;\">\n      <th></th>\n      <th>make</th>\n      <th>fuel_type</th>\n      <th>aspiration</th>\n      <th>num_doors</th>\n      <th>body_style</th>\n      <th>drive_wheels</th>\n      <th>engine_location</th>\n      <th>engine_type</th>\n      <th>num_cylinders</th>\n      <th>fuel_system</th>\n      <th>body_style_cat</th>\n      <th>ohc_code</th>\n    </tr>\n  </thead>\n  <tbody>\n    <tr>\n      <th>0</th>\n      <td>alfa-romero</td>\n      <td>gas</td>\n      <td>std</td>\n      <td>2</td>\n      <td>convertible</td>\n      <td>rwd</td>\n      <td>front</td>\n      <td>dohc</td>\n      <td>4</td>\n      <td>mpfi</td>\n      <td>0</td>\n      <td>1</td>\n    </tr>\n    <tr>\n      <th>1</th>\n      <td>alfa-romero</td>\n      <td>gas</td>\n      <td>std</td>\n      <td>2</td>\n      <td>convertible</td>\n      <td>rwd</td>\n      <td>front</td>\n      <td>dohc</td>\n      <td>4</td>\n      <td>mpfi</td>\n      <td>0</td>\n      <td>1</td>\n    </tr>\n    <tr>\n      <th>2</th>\n      <td>alfa-romero</td>\n      <td>gas</td>\n      <td>std</td>\n      <td>2</td>\n      <td>hatchback</td>\n      <td>rwd</td>\n      <td>front</td>\n      <td>ohcv</td>\n      <td>6</td>\n      <td>mpfi</td>\n      <td>2</td>\n      <td>1</td>\n    </tr>\n    <tr>\n      <th>3</th>\n      <td>audi</td>\n      <td>gas</td>\n      <td>std</td>\n      <td>4</td>\n      <td>sedan</td>\n      <td>fwd</td>\n      <td>front</td>\n      <td>ohc</td>\n      <td>4</td>\n      <td>mpfi</td>\n      <td>3</td>\n      <td>1</td>\n    </tr>\n    <tr>\n      <th>4</th>\n      <td>audi</td>\n      <td>gas</td>\n      <td>std</td>\n      <td>4</td>\n      <td>sedan</td>\n      <td>4wd</td>\n      <td>front</td>\n      <td>ohc</td>\n      <td>5</td>\n      <td>mpfi</td>\n      <td>3</td>\n      <td>1</td>\n    </tr>\n  </tbody>\n</table>\n</div>"
     },
     "metadata": {},
     "execution_count": 16
    }
   ],
   "source": [
    "ob.head(5)"
   ]
  },
  {
   "cell_type": "code",
   "execution_count": 17,
   "metadata": {},
   "outputs": [
    {
     "output_type": "execute_result",
     "data": {
      "text/plain": "           make  make_code\n0   alfa-romero          0\n1   alfa-romero          0\n2   alfa-romero          0\n3          audi          1\n4          audi          1\n5          audi          1\n6          audi          1\n7          audi          1\n8          audi          1\n9          audi          1\n10          bmw          2\n11          bmw          2\n12          bmw          2\n13          bmw          2\n14          bmw          2\n15          bmw          2\n16          bmw          2\n17          bmw          2\n18    chevrolet          3\n19    chevrolet          3",
      "text/html": "<div>\n<style scoped>\n    .dataframe tbody tr th:only-of-type {\n        vertical-align: middle;\n    }\n\n    .dataframe tbody tr th {\n        vertical-align: top;\n    }\n\n    .dataframe thead th {\n        text-align: right;\n    }\n</style>\n<table border=\"1\" class=\"dataframe\">\n  <thead>\n    <tr style=\"text-align: right;\">\n      <th></th>\n      <th>make</th>\n      <th>make_code</th>\n    </tr>\n  </thead>\n  <tbody>\n    <tr>\n      <th>0</th>\n      <td>alfa-romero</td>\n      <td>0</td>\n    </tr>\n    <tr>\n      <th>1</th>\n      <td>alfa-romero</td>\n      <td>0</td>\n    </tr>\n    <tr>\n      <th>2</th>\n      <td>alfa-romero</td>\n      <td>0</td>\n    </tr>\n    <tr>\n      <th>3</th>\n      <td>audi</td>\n      <td>1</td>\n    </tr>\n    <tr>\n      <th>4</th>\n      <td>audi</td>\n      <td>1</td>\n    </tr>\n    <tr>\n      <th>5</th>\n      <td>audi</td>\n      <td>1</td>\n    </tr>\n    <tr>\n      <th>6</th>\n      <td>audi</td>\n      <td>1</td>\n    </tr>\n    <tr>\n      <th>7</th>\n      <td>audi</td>\n      <td>1</td>\n    </tr>\n    <tr>\n      <th>8</th>\n      <td>audi</td>\n      <td>1</td>\n    </tr>\n    <tr>\n      <th>9</th>\n      <td>audi</td>\n      <td>1</td>\n    </tr>\n    <tr>\n      <th>10</th>\n      <td>bmw</td>\n      <td>2</td>\n    </tr>\n    <tr>\n      <th>11</th>\n      <td>bmw</td>\n      <td>2</td>\n    </tr>\n    <tr>\n      <th>12</th>\n      <td>bmw</td>\n      <td>2</td>\n    </tr>\n    <tr>\n      <th>13</th>\n      <td>bmw</td>\n      <td>2</td>\n    </tr>\n    <tr>\n      <th>14</th>\n      <td>bmw</td>\n      <td>2</td>\n    </tr>\n    <tr>\n      <th>15</th>\n      <td>bmw</td>\n      <td>2</td>\n    </tr>\n    <tr>\n      <th>16</th>\n      <td>bmw</td>\n      <td>2</td>\n    </tr>\n    <tr>\n      <th>17</th>\n      <td>bmw</td>\n      <td>2</td>\n    </tr>\n    <tr>\n      <th>18</th>\n      <td>chevrolet</td>\n      <td>3</td>\n    </tr>\n    <tr>\n      <th>19</th>\n      <td>chevrolet</td>\n      <td>3</td>\n    </tr>\n  </tbody>\n</table>\n</div>"
     },
     "metadata": {},
     "execution_count": 17
    }
   ],
   "source": [
    "from sklearn.preprocessing import LabelEncoder\n",
    "lb_make=LabelEncoder()\n",
    "ob['make_code']=lb_make.fit_transform(ob['make'])\n",
    "ob[['make','make_code']].head(20)\n"
   ]
  },
  {
   "cell_type": "code",
   "execution_count": 18,
   "metadata": {},
   "outputs": [
    {
     "output_type": "execute_result",
     "data": {
      "text/plain": "   convertible  hardtop  hatchback  sedan  wagon\n0            1        0          0      0      0\n1            1        0          0      0      0\n2            0        0          1      0      0\n3            0        0          0      1      0\n4            0        0          0      1      0",
      "text/html": "<div>\n<style scoped>\n    .dataframe tbody tr th:only-of-type {\n        vertical-align: middle;\n    }\n\n    .dataframe tbody tr th {\n        vertical-align: top;\n    }\n\n    .dataframe thead th {\n        text-align: right;\n    }\n</style>\n<table border=\"1\" class=\"dataframe\">\n  <thead>\n    <tr style=\"text-align: right;\">\n      <th></th>\n      <th>convertible</th>\n      <th>hardtop</th>\n      <th>hatchback</th>\n      <th>sedan</th>\n      <th>wagon</th>\n    </tr>\n  </thead>\n  <tbody>\n    <tr>\n      <th>0</th>\n      <td>1</td>\n      <td>0</td>\n      <td>0</td>\n      <td>0</td>\n      <td>0</td>\n    </tr>\n    <tr>\n      <th>1</th>\n      <td>1</td>\n      <td>0</td>\n      <td>0</td>\n      <td>0</td>\n      <td>0</td>\n    </tr>\n    <tr>\n      <th>2</th>\n      <td>0</td>\n      <td>0</td>\n      <td>1</td>\n      <td>0</td>\n      <td>0</td>\n    </tr>\n    <tr>\n      <th>3</th>\n      <td>0</td>\n      <td>0</td>\n      <td>0</td>\n      <td>1</td>\n      <td>0</td>\n    </tr>\n    <tr>\n      <th>4</th>\n      <td>0</td>\n      <td>0</td>\n      <td>0</td>\n      <td>1</td>\n      <td>0</td>\n    </tr>\n  </tbody>\n</table>\n</div>"
     },
     "metadata": {},
     "execution_count": 18
    }
   ],
   "source": [
    "from sklearn.preprocessing import LabelBinarizer\n",
    "lb_style = LabelBinarizer()\n",
    "lb_results = lb_style.fit_transform(ob['body_style'])\n",
    "pd.DataFrame(lb_results, columns = lb_style.classes_).head()"
   ]
  },
  {
   "cell_type": "code",
   "execution_count": 19,
   "metadata": {},
   "outputs": [],
   "source": [
    "df1=pd.read_csv('https://raw.githubusercontent.com/fivethirtyeight/data/master/biopics/biopics.csv',encoding='latin1')"
   ]
  },
  {
   "cell_type": "code",
   "execution_count": 20,
   "metadata": {},
   "outputs": [
    {
     "output_type": "execute_result",
     "data": {
      "text/plain": "(761, 14)"
     },
     "metadata": {},
     "execution_count": 20
    }
   ],
   "source": [
    "df1.shape"
   ]
  },
  {
   "cell_type": "code",
   "execution_count": 21,
   "metadata": {},
   "outputs": [
    {
     "output_type": "execute_result",
     "data": {
      "text/plain": "                 title                                  site country  \\\n0  10 Rillington Place  http://www.imdb.com/title/tt0066730/      UK   \n1     12 Years a Slave  http://www.imdb.com/title/tt2024544/   US/UK   \n2            127 Hours  http://www.imdb.com/title/tt1542344/   US/UK   \n3                 1987  http://www.imdb.com/title/tt2833074/  Canada   \n4             20 Dates  http://www.imdb.com/title/tt0138987/      US   \n\n   year_release box_office           director  number_of_subjects  \\\n0          1971          -  Richard Fleischer                   1   \n1          2013     $56.7M      Steve McQueen                   1   \n2          2010     $18.3M        Danny Boyle                   1   \n3          2014          -      Ricardo Trogi                   1   \n4          1998      $537K    Myles Berkowitz                   1   \n\n            subject type_of_subject race_known      subject_race  \\\n0     John Christie        Criminal    Unknown               NaN   \n1   Solomon Northup           Other      Known  African American   \n2      Aron Ralston         Athlete    Unknown               NaN   \n3     Ricardo Trogi           Other      Known             White   \n4   Myles Berkowitz           Other    Unknown               NaN   \n\n   person_of_color subject_sex    lead_actor_actress  \n0                0        Male  Richard Attenborough  \n1                1        Male      Chiwetel Ejiofor  \n2                0        Male          James Franco  \n3                0        Male     Jean-Carl Boucher  \n4                0        Male       Myles Berkowitz  ",
      "text/html": "<div>\n<style scoped>\n    .dataframe tbody tr th:only-of-type {\n        vertical-align: middle;\n    }\n\n    .dataframe tbody tr th {\n        vertical-align: top;\n    }\n\n    .dataframe thead th {\n        text-align: right;\n    }\n</style>\n<table border=\"1\" class=\"dataframe\">\n  <thead>\n    <tr style=\"text-align: right;\">\n      <th></th>\n      <th>title</th>\n      <th>site</th>\n      <th>country</th>\n      <th>year_release</th>\n      <th>box_office</th>\n      <th>director</th>\n      <th>number_of_subjects</th>\n      <th>subject</th>\n      <th>type_of_subject</th>\n      <th>race_known</th>\n      <th>subject_race</th>\n      <th>person_of_color</th>\n      <th>subject_sex</th>\n      <th>lead_actor_actress</th>\n    </tr>\n  </thead>\n  <tbody>\n    <tr>\n      <th>0</th>\n      <td>10 Rillington Place</td>\n      <td>http://www.imdb.com/title/tt0066730/</td>\n      <td>UK</td>\n      <td>1971</td>\n      <td>-</td>\n      <td>Richard Fleischer</td>\n      <td>1</td>\n      <td>John Christie</td>\n      <td>Criminal</td>\n      <td>Unknown</td>\n      <td>NaN</td>\n      <td>0</td>\n      <td>Male</td>\n      <td>Richard Attenborough</td>\n    </tr>\n    <tr>\n      <th>1</th>\n      <td>12 Years a Slave</td>\n      <td>http://www.imdb.com/title/tt2024544/</td>\n      <td>US/UK</td>\n      <td>2013</td>\n      <td>$56.7M</td>\n      <td>Steve McQueen</td>\n      <td>1</td>\n      <td>Solomon Northup</td>\n      <td>Other</td>\n      <td>Known</td>\n      <td>African American</td>\n      <td>1</td>\n      <td>Male</td>\n      <td>Chiwetel Ejiofor</td>\n    </tr>\n    <tr>\n      <th>2</th>\n      <td>127 Hours</td>\n      <td>http://www.imdb.com/title/tt1542344/</td>\n      <td>US/UK</td>\n      <td>2010</td>\n      <td>$18.3M</td>\n      <td>Danny Boyle</td>\n      <td>1</td>\n      <td>Aron Ralston</td>\n      <td>Athlete</td>\n      <td>Unknown</td>\n      <td>NaN</td>\n      <td>0</td>\n      <td>Male</td>\n      <td>James Franco</td>\n    </tr>\n    <tr>\n      <th>3</th>\n      <td>1987</td>\n      <td>http://www.imdb.com/title/tt2833074/</td>\n      <td>Canada</td>\n      <td>2014</td>\n      <td>-</td>\n      <td>Ricardo Trogi</td>\n      <td>1</td>\n      <td>Ricardo Trogi</td>\n      <td>Other</td>\n      <td>Known</td>\n      <td>White</td>\n      <td>0</td>\n      <td>Male</td>\n      <td>Jean-Carl Boucher</td>\n    </tr>\n    <tr>\n      <th>4</th>\n      <td>20 Dates</td>\n      <td>http://www.imdb.com/title/tt0138987/</td>\n      <td>US</td>\n      <td>1998</td>\n      <td>$537K</td>\n      <td>Myles Berkowitz</td>\n      <td>1</td>\n      <td>Myles Berkowitz</td>\n      <td>Other</td>\n      <td>Unknown</td>\n      <td>NaN</td>\n      <td>0</td>\n      <td>Male</td>\n      <td>Myles Berkowitz</td>\n    </tr>\n  </tbody>\n</table>\n</div>"
     },
     "metadata": {},
     "execution_count": 21
    }
   ],
   "source": [
    "df1.head()"
   ]
  },
  {
   "cell_type": "code",
   "execution_count": 22,
   "metadata": {},
   "outputs": [
    {
     "output_type": "execute_result",
     "data": {
      "text/plain": "7"
     },
     "metadata": {},
     "execution_count": 22
    }
   ],
   "source": [
    "df1['country'].nunique()"
   ]
  },
  {
   "cell_type": "code",
   "execution_count": 23,
   "metadata": {},
   "outputs": [],
   "source": [
    "df1['sub_race']=df1['subject_race'].astype('category').cat.codes"
   ]
  },
  {
   "cell_type": "code",
   "execution_count": 24,
   "metadata": {},
   "outputs": [
    {
     "output_type": "execute_result",
     "data": {
      "text/plain": "                    title                                  site    country  \\\n551  The Color of Freedom  http://www.imdb.com/title/tt0438859/         UK   \n233  Gorillas in the Mist  http://www.imdb.com/title/tt0095243/         US   \n130                  Che!  http://www.imdb.com/title/tt0064158/         US   \n688      The Winning Team  http://www.imdb.com/title/tt0045332/         US   \n201      Fear Strikes Out  http://www.imdb.com/title/tt0050383/         US   \n441             Quo Vadis  http://www.imdb.com/title/tt0043949/         US   \n514     Swimming Upstream  http://www.imdb.com/title/tt0326664/         US   \n502                 Star!  http://www.imdb.com/title/tt0063642/         US   \n758      Young Tom Edison  http://www.imdb.com/title/tt0033289/         US   \n71               Big Eyes  http://www.imdb.com/title/tt1126590/  US/Canada   \n\n     year_release box_office           director  number_of_subjects  \\\n551          2007          -       Bille August                   1   \n233          1988     $24.7M      Michael Apted                   1   \n130          1969        $2M  Richard Fleischer                   1   \n688          1952          -       Lewis Seiler                   1   \n201          1957          -    Robert Mulligan                   1   \n441          1951          -       Mervyn LeRoy                   2   \n514          2003     $47.2K    Russell Mulcahy                   1   \n502          1968        $4M        Robert Wise                   1   \n758          1940          -      Norman Taurog                   1   \n71           2014     $14.5M         Tim Burton                   1   \n\n                        subject type_of_subject race_known  \\\n551               James Gregory           Other      Known   \n233                 Dian Fossey        Academic    Unknown   \n130                 Che Guevara        Activist      Known   \n688  Grover Cleveland Alexander         Athlete      Known   \n201              Jimmy Piersall         Athlete    Unknown   \n441                       Lygia      Historical      Known   \n514              Tony Fingleton         Athlete    Unknown   \n502           Gertrude Lawrence         Actress      Known   \n758               Thomas Edison           Other      Known   \n71               Margaret Keane          Artist      Known   \n\n                  subject_race  person_of_color subject_sex  \\\n551                      White                0        Male   \n233                        NaN                0      Female   \n130  Hispanic (Latin American)                0        Male   \n688                      White                0        Male   \n201                        NaN                0        Male   \n441                      White                0      Female   \n514                        NaN                0        Male   \n502                      White                0      Female   \n758                      White                0        Male   \n71                       White                0      Female   \n\n    lead_actor_actress  sub_race  \n551     Joseph Fiennes        16  \n233   Sigourney Weaver        -1  \n130        Omar Sharif         6  \n688      Ronald Reagan        16  \n201    Anthony Perkins        -1  \n441       Deborah Kerr        16  \n514      Geoffrey Rush        -1  \n502      Julie Andrews        16  \n758      Mickey Rooney        16  \n71           Amy Adams        16  ",
      "text/html": "<div>\n<style scoped>\n    .dataframe tbody tr th:only-of-type {\n        vertical-align: middle;\n    }\n\n    .dataframe tbody tr th {\n        vertical-align: top;\n    }\n\n    .dataframe thead th {\n        text-align: right;\n    }\n</style>\n<table border=\"1\" class=\"dataframe\">\n  <thead>\n    <tr style=\"text-align: right;\">\n      <th></th>\n      <th>title</th>\n      <th>site</th>\n      <th>country</th>\n      <th>year_release</th>\n      <th>box_office</th>\n      <th>director</th>\n      <th>number_of_subjects</th>\n      <th>subject</th>\n      <th>type_of_subject</th>\n      <th>race_known</th>\n      <th>subject_race</th>\n      <th>person_of_color</th>\n      <th>subject_sex</th>\n      <th>lead_actor_actress</th>\n      <th>sub_race</th>\n    </tr>\n  </thead>\n  <tbody>\n    <tr>\n      <th>551</th>\n      <td>The Color of Freedom</td>\n      <td>http://www.imdb.com/title/tt0438859/</td>\n      <td>UK</td>\n      <td>2007</td>\n      <td>-</td>\n      <td>Bille August</td>\n      <td>1</td>\n      <td>James Gregory</td>\n      <td>Other</td>\n      <td>Known</td>\n      <td>White</td>\n      <td>0</td>\n      <td>Male</td>\n      <td>Joseph Fiennes</td>\n      <td>16</td>\n    </tr>\n    <tr>\n      <th>233</th>\n      <td>Gorillas in the Mist</td>\n      <td>http://www.imdb.com/title/tt0095243/</td>\n      <td>US</td>\n      <td>1988</td>\n      <td>$24.7M</td>\n      <td>Michael Apted</td>\n      <td>1</td>\n      <td>Dian Fossey</td>\n      <td>Academic</td>\n      <td>Unknown</td>\n      <td>NaN</td>\n      <td>0</td>\n      <td>Female</td>\n      <td>Sigourney Weaver</td>\n      <td>-1</td>\n    </tr>\n    <tr>\n      <th>130</th>\n      <td>Che!</td>\n      <td>http://www.imdb.com/title/tt0064158/</td>\n      <td>US</td>\n      <td>1969</td>\n      <td>$2M</td>\n      <td>Richard Fleischer</td>\n      <td>1</td>\n      <td>Che Guevara</td>\n      <td>Activist</td>\n      <td>Known</td>\n      <td>Hispanic (Latin American)</td>\n      <td>0</td>\n      <td>Male</td>\n      <td>Omar Sharif</td>\n      <td>6</td>\n    </tr>\n    <tr>\n      <th>688</th>\n      <td>The Winning Team</td>\n      <td>http://www.imdb.com/title/tt0045332/</td>\n      <td>US</td>\n      <td>1952</td>\n      <td>-</td>\n      <td>Lewis Seiler</td>\n      <td>1</td>\n      <td>Grover Cleveland Alexander</td>\n      <td>Athlete</td>\n      <td>Known</td>\n      <td>White</td>\n      <td>0</td>\n      <td>Male</td>\n      <td>Ronald Reagan</td>\n      <td>16</td>\n    </tr>\n    <tr>\n      <th>201</th>\n      <td>Fear Strikes Out</td>\n      <td>http://www.imdb.com/title/tt0050383/</td>\n      <td>US</td>\n      <td>1957</td>\n      <td>-</td>\n      <td>Robert Mulligan</td>\n      <td>1</td>\n      <td>Jimmy Piersall</td>\n      <td>Athlete</td>\n      <td>Unknown</td>\n      <td>NaN</td>\n      <td>0</td>\n      <td>Male</td>\n      <td>Anthony Perkins</td>\n      <td>-1</td>\n    </tr>\n    <tr>\n      <th>441</th>\n      <td>Quo Vadis</td>\n      <td>http://www.imdb.com/title/tt0043949/</td>\n      <td>US</td>\n      <td>1951</td>\n      <td>-</td>\n      <td>Mervyn LeRoy</td>\n      <td>2</td>\n      <td>Lygia</td>\n      <td>Historical</td>\n      <td>Known</td>\n      <td>White</td>\n      <td>0</td>\n      <td>Female</td>\n      <td>Deborah Kerr</td>\n      <td>16</td>\n    </tr>\n    <tr>\n      <th>514</th>\n      <td>Swimming Upstream</td>\n      <td>http://www.imdb.com/title/tt0326664/</td>\n      <td>US</td>\n      <td>2003</td>\n      <td>$47.2K</td>\n      <td>Russell Mulcahy</td>\n      <td>1</td>\n      <td>Tony Fingleton</td>\n      <td>Athlete</td>\n      <td>Unknown</td>\n      <td>NaN</td>\n      <td>0</td>\n      <td>Male</td>\n      <td>Geoffrey Rush</td>\n      <td>-1</td>\n    </tr>\n    <tr>\n      <th>502</th>\n      <td>Star!</td>\n      <td>http://www.imdb.com/title/tt0063642/</td>\n      <td>US</td>\n      <td>1968</td>\n      <td>$4M</td>\n      <td>Robert Wise</td>\n      <td>1</td>\n      <td>Gertrude Lawrence</td>\n      <td>Actress</td>\n      <td>Known</td>\n      <td>White</td>\n      <td>0</td>\n      <td>Female</td>\n      <td>Julie Andrews</td>\n      <td>16</td>\n    </tr>\n    <tr>\n      <th>758</th>\n      <td>Young Tom Edison</td>\n      <td>http://www.imdb.com/title/tt0033289/</td>\n      <td>US</td>\n      <td>1940</td>\n      <td>-</td>\n      <td>Norman Taurog</td>\n      <td>1</td>\n      <td>Thomas Edison</td>\n      <td>Other</td>\n      <td>Known</td>\n      <td>White</td>\n      <td>0</td>\n      <td>Male</td>\n      <td>Mickey Rooney</td>\n      <td>16</td>\n    </tr>\n    <tr>\n      <th>71</th>\n      <td>Big Eyes</td>\n      <td>http://www.imdb.com/title/tt1126590/</td>\n      <td>US/Canada</td>\n      <td>2014</td>\n      <td>$14.5M</td>\n      <td>Tim Burton</td>\n      <td>1</td>\n      <td>Margaret Keane</td>\n      <td>Artist</td>\n      <td>Known</td>\n      <td>White</td>\n      <td>0</td>\n      <td>Female</td>\n      <td>Amy Adams</td>\n      <td>16</td>\n    </tr>\n  </tbody>\n</table>\n</div>"
     },
     "metadata": {},
     "execution_count": 24
    }
   ],
   "source": [
    "df1.sample(10)"
   ]
  },
  {
   "cell_type": "code",
   "execution_count": 25,
   "metadata": {},
   "outputs": [
    {
     "output_type": "execute_result",
     "data": {
      "text/plain": "White                        428\nAfrican American              35\nMulti racial                  24\nHispanic (Latin American)     13\nMiddle Eastern (White)        13\nMiddle Eastern                11\nAfrican                        9\nHispanic (White)               6\nHispanic (Latino)              6\nAsian                          5\nNative American                4\nAsian American                 3\nIndian                         2\nCaribbean                      2\nEurasian                       1\nMediterranean                  1\nHispanic (Latina)              1\nName: subject_race, dtype: int64"
     },
     "metadata": {},
     "execution_count": 25
    }
   ],
   "source": [
    "df1['subject_race'].value_counts()"
   ]
  },
  {
   "cell_type": "code",
   "execution_count": 28,
   "metadata": {},
   "outputs": [
    {
     "output_type": "execute_result",
     "data": {
      "text/plain": "7"
     },
     "metadata": {},
     "execution_count": 28
    }
   ],
   "source": [
    "df1['country'].nunique()"
   ]
  },
  {
   "cell_type": "code",
   "execution_count": null,
   "metadata": {},
   "outputs": [],
   "source": []
  }
 ]
}