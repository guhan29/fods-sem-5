{
 "metadata": {
  "language_info": {
   "codemirror_mode": {
    "name": "ipython",
    "version": 3
   },
   "file_extension": ".py",
   "mimetype": "text/x-python",
   "name": "python",
   "nbconvert_exporter": "python",
   "pygments_lexer": "ipython3",
   "version": "3.8.2-final"
  },
  "orig_nbformat": 2,
  "kernelspec": {
   "name": "python_defaultSpec_1598176361916",
   "display_name": "Python 3.8.2 32-bit"
  }
 },
 "nbformat": 4,
 "nbformat_minor": 2,
 "cells": [
  {
   "cell_type": "markdown",
   "metadata": {},
   "source": [
    "# ILOC AND LOC"
   ]
  },
  {
   "cell_type": "code",
   "execution_count": 1,
   "metadata": {},
   "outputs": [],
   "source": [
    "import pandas as pd\n",
    "df=pd.read_csv(\"https://s3-eu-west-1.amazonaws.com/shanebucket/downloads/uk-500.csv\")"
   ]
  },
  {
   "cell_type": "code",
   "execution_count": 2,
   "metadata": {},
   "outputs": [
    {
     "output_type": "execute_result",
     "data": {
      "text/plain": "  first_name   last_name             company_name       address  \\\n0    Aleshia  Tomkiewicz  Alan D Rosenburg Cpa Pc  14 Taylor St   \n1       Evan   Zigomalas       Cap Gemini America   5 Binney St   \n\n                city           county    postal        phone1        phone2  \\\n0  St. Stephens Ward             Kent   CT2 7PP  01835-703597  01944-369967   \n1         Abbey Ward  Buckinghamshire  HP11 2AX  01937-864715  01714-737668   \n\n                      email                                   web  \n0   atomkiewicz@hotmail.com  http://www.alandrosenburgcpapc.co.uk  \n1  evan.zigomalas@gmail.com     http://www.capgeminiamerica.co.uk  ",
      "text/html": "<div>\n<style scoped>\n    .dataframe tbody tr th:only-of-type {\n        vertical-align: middle;\n    }\n\n    .dataframe tbody tr th {\n        vertical-align: top;\n    }\n\n    .dataframe thead th {\n        text-align: right;\n    }\n</style>\n<table border=\"1\" class=\"dataframe\">\n  <thead>\n    <tr style=\"text-align: right;\">\n      <th></th>\n      <th>first_name</th>\n      <th>last_name</th>\n      <th>company_name</th>\n      <th>address</th>\n      <th>city</th>\n      <th>county</th>\n      <th>postal</th>\n      <th>phone1</th>\n      <th>phone2</th>\n      <th>email</th>\n      <th>web</th>\n    </tr>\n  </thead>\n  <tbody>\n    <tr>\n      <th>0</th>\n      <td>Aleshia</td>\n      <td>Tomkiewicz</td>\n      <td>Alan D Rosenburg Cpa Pc</td>\n      <td>14 Taylor St</td>\n      <td>St. Stephens Ward</td>\n      <td>Kent</td>\n      <td>CT2 7PP</td>\n      <td>01835-703597</td>\n      <td>01944-369967</td>\n      <td>atomkiewicz@hotmail.com</td>\n      <td>http://www.alandrosenburgcpapc.co.uk</td>\n    </tr>\n    <tr>\n      <th>1</th>\n      <td>Evan</td>\n      <td>Zigomalas</td>\n      <td>Cap Gemini America</td>\n      <td>5 Binney St</td>\n      <td>Abbey Ward</td>\n      <td>Buckinghamshire</td>\n      <td>HP11 2AX</td>\n      <td>01937-864715</td>\n      <td>01714-737668</td>\n      <td>evan.zigomalas@gmail.com</td>\n      <td>http://www.capgeminiamerica.co.uk</td>\n    </tr>\n  </tbody>\n</table>\n</div>"
     },
     "metadata": {},
     "execution_count": 2
    }
   ],
   "source": [
    "df.head(2)"
   ]
  },
  {
   "cell_type": "code",
   "execution_count": 3,
   "metadata": {},
   "outputs": [
    {
     "output_type": "execute_result",
     "data": {
      "text/plain": "(500, 11)"
     },
     "metadata": {},
     "execution_count": 3
    }
   ],
   "source": [
    "df.shape"
   ]
  },
  {
   "cell_type": "code",
   "execution_count": 4,
   "metadata": {},
   "outputs": [
    {
     "output_type": "execute_result",
     "data": {
      "text/plain": "    first_name   last_name                  company_name             address  \\\n111    Cristen      Nesset        Johnson, Matthew E Esq      4679 Curzon St   \n487   Isabelle        Kono  Rock Springs Petroleum Equip  4920 Fazakerley Rd   \n489   Krystina  Schlabaugh         Harris Oldsmobile Inc       7316 Friar St   \n408     Remona       Heier        M A C Insurance Agency    7199 St Clare Rd   \n\n                        city       county    postal        phone1  \\\n111             Central Ward   Lancashire   BB5 0SJ  01354-864473   \n487  Plymstock Dunstone Ward        Devon   PL9 8RD  01552-682601   \n489          Salvington Ward  West Sussex  BN13 3FL  01441-846477   \n408    Inverclyde South Ward   Inverclyde  PA16 7BT  01718-274321   \n\n           phone2                         email  \\\n111  01994-347546          cnesset@nesset.co.uk   \n487  01953-816728       isabelle.kono@yahoo.com   \n489  01332-799979  kschlabaugh@schlabaugh.co.uk   \n408  01967-508345      remona.heier@heier.co.uk   \n\n                                            web  \n111         http://www.johnsonmattheweesq.co.uk  \n487  http://www.rockspringspetroleumequip.co.uk  \n489        http://www.harrisoldsmobileinc.co.uk  \n408         http://www.macinsuranceagency.co.uk  ",
      "text/html": "<div>\n<style scoped>\n    .dataframe tbody tr th:only-of-type {\n        vertical-align: middle;\n    }\n\n    .dataframe tbody tr th {\n        vertical-align: top;\n    }\n\n    .dataframe thead th {\n        text-align: right;\n    }\n</style>\n<table border=\"1\" class=\"dataframe\">\n  <thead>\n    <tr style=\"text-align: right;\">\n      <th></th>\n      <th>first_name</th>\n      <th>last_name</th>\n      <th>company_name</th>\n      <th>address</th>\n      <th>city</th>\n      <th>county</th>\n      <th>postal</th>\n      <th>phone1</th>\n      <th>phone2</th>\n      <th>email</th>\n      <th>web</th>\n    </tr>\n  </thead>\n  <tbody>\n    <tr>\n      <th>111</th>\n      <td>Cristen</td>\n      <td>Nesset</td>\n      <td>Johnson, Matthew E Esq</td>\n      <td>4679 Curzon St</td>\n      <td>Central Ward</td>\n      <td>Lancashire</td>\n      <td>BB5 0SJ</td>\n      <td>01354-864473</td>\n      <td>01994-347546</td>\n      <td>cnesset@nesset.co.uk</td>\n      <td>http://www.johnsonmattheweesq.co.uk</td>\n    </tr>\n    <tr>\n      <th>487</th>\n      <td>Isabelle</td>\n      <td>Kono</td>\n      <td>Rock Springs Petroleum Equip</td>\n      <td>4920 Fazakerley Rd</td>\n      <td>Plymstock Dunstone Ward</td>\n      <td>Devon</td>\n      <td>PL9 8RD</td>\n      <td>01552-682601</td>\n      <td>01953-816728</td>\n      <td>isabelle.kono@yahoo.com</td>\n      <td>http://www.rockspringspetroleumequip.co.uk</td>\n    </tr>\n    <tr>\n      <th>489</th>\n      <td>Krystina</td>\n      <td>Schlabaugh</td>\n      <td>Harris Oldsmobile Inc</td>\n      <td>7316 Friar St</td>\n      <td>Salvington Ward</td>\n      <td>West Sussex</td>\n      <td>BN13 3FL</td>\n      <td>01441-846477</td>\n      <td>01332-799979</td>\n      <td>kschlabaugh@schlabaugh.co.uk</td>\n      <td>http://www.harrisoldsmobileinc.co.uk</td>\n    </tr>\n    <tr>\n      <th>408</th>\n      <td>Remona</td>\n      <td>Heier</td>\n      <td>M A C Insurance Agency</td>\n      <td>7199 St Clare Rd</td>\n      <td>Inverclyde South Ward</td>\n      <td>Inverclyde</td>\n      <td>PA16 7BT</td>\n      <td>01718-274321</td>\n      <td>01967-508345</td>\n      <td>remona.heier@heier.co.uk</td>\n      <td>http://www.macinsuranceagency.co.uk</td>\n    </tr>\n  </tbody>\n</table>\n</div>"
     },
     "metadata": {},
     "execution_count": 4
    }
   ],
   "source": [
    "df.sample(4)"
   ]
  },
  {
   "cell_type": "code",
   "execution_count": 5,
   "metadata": {},
   "outputs": [
    {
     "output_type": "execute_result",
     "data": {
      "text/plain": "              address                            city\n27      211 Hobart St                         Newquay\n71  1 Back Canning St  Dunblane and Bridge of Allan W",
      "text/html": "<div>\n<style scoped>\n    .dataframe tbody tr th:only-of-type {\n        vertical-align: middle;\n    }\n\n    .dataframe tbody tr th {\n        vertical-align: top;\n    }\n\n    .dataframe thead th {\n        text-align: right;\n    }\n</style>\n<table border=\"1\" class=\"dataframe\">\n  <thead>\n    <tr style=\"text-align: right;\">\n      <th></th>\n      <th>address</th>\n      <th>city</th>\n    </tr>\n  </thead>\n  <tbody>\n    <tr>\n      <th>27</th>\n      <td>211 Hobart St</td>\n      <td>Newquay</td>\n    </tr>\n    <tr>\n      <th>71</th>\n      <td>1 Back Canning St</td>\n      <td>Dunblane and Bridge of Allan W</td>\n    </tr>\n  </tbody>\n</table>\n</div>"
     },
     "metadata": {},
     "execution_count": 5
    }
   ],
   "source": [
    "df.loc[[27,71],'address':'city']"
   ]
  },
  {
   "cell_type": "code",
   "execution_count": 6,
   "metadata": {},
   "outputs": [
    {
     "output_type": "execute_result",
     "data": {
      "text/plain": "               address        phone1\n1          5 Binney St  01937-864715\n23  2200 Nelson St #58  01217-342071\n4    5396 Forth Street  01547-429341",
      "text/html": "<div>\n<style scoped>\n    .dataframe tbody tr th:only-of-type {\n        vertical-align: middle;\n    }\n\n    .dataframe tbody tr th {\n        vertical-align: top;\n    }\n\n    .dataframe thead th {\n        text-align: right;\n    }\n</style>\n<table border=\"1\" class=\"dataframe\">\n  <thead>\n    <tr style=\"text-align: right;\">\n      <th></th>\n      <th>address</th>\n      <th>phone1</th>\n    </tr>\n  </thead>\n  <tbody>\n    <tr>\n      <th>1</th>\n      <td>5 Binney St</td>\n      <td>01937-864715</td>\n    </tr>\n    <tr>\n      <th>23</th>\n      <td>2200 Nelson St #58</td>\n      <td>01217-342071</td>\n    </tr>\n    <tr>\n      <th>4</th>\n      <td>5396 Forth Street</td>\n      <td>01547-429341</td>\n    </tr>\n  </tbody>\n</table>\n</div>"
     },
     "metadata": {},
     "execution_count": 6
    }
   ],
   "source": [
    "df.loc[[1,23,4],['address','phone1']]"
   ]
  },
  {
   "cell_type": "code",
   "execution_count": 7,
   "metadata": {},
   "outputs": [
    {
     "output_type": "execute_result",
     "data": {
      "text/plain": "first_name                                          Avery\nlast_name                                            Veit\ncompany_name                   Plaza Gourmet Delicatessen\naddress                                9166 Devon St #905\ncity                       Knightsbridge and Belgravia Wa\ncounty                                     Greater London\npostal                                           SW1W 8JY\nphone1                                         1234567890\nphone2                                       01369-185737\nemail                                    avery@veit.co.uk\nweb             http://www.plazagourmetdelicatessen.co.uk\nName: 495, dtype: object"
     },
     "metadata": {},
     "execution_count": 7
    }
   ],
   "source": [
    "temp=df.copy()\n",
    "temp.loc[temp['email'].str.endswith('co.uk'),['phone1']]=1234567890\n",
    "temp.loc[495]"
   ]
  },
  {
   "cell_type": "code",
   "execution_count": 8,
   "metadata": {},
   "outputs": [
    {
     "output_type": "execute_result",
     "data": {
      "text/plain": "first_name                                          Avery\nlast_name                                            Veit\ncompany_name                   Plaza Gourmet Delicatessen\naddress                                9166 Devon St #905\ncity                       Knightsbridge and Belgravia Wa\ncounty                                     Greater London\npostal                                           SW1W 8JY\nphone1                                       01748-625058\nphone2                                       01369-185737\nemail                                    avery@veit.co.uk\nweb             http://www.plazagourmetdelicatessen.co.uk\nName: 495, dtype: object"
     },
     "metadata": {},
     "execution_count": 8
    }
   ],
   "source": [
    "df.loc[495]"
   ]
  },
  {
   "cell_type": "code",
   "execution_count": 9,
   "metadata": {},
   "outputs": [
    {
     "output_type": "execute_result",
     "data": {
      "text/plain": "    first_name last_name           company_name            address  \\\n27         Pok  Molaison  Portal Metal Products      211 Hobart St   \n63         Sol    Cowser          Omni Mandalay    6448 Tillard St   \n446        Ona   Bowhall     Cohen And Fromm Pc     527 Harding St   \n471        Val    Villot   Horizon Air Magazine  1980 Tynemouth St   \n\n                            city           county    postal        phone1  \\\n27                       Newquay         Cornwall   TR7 1LS  01866-248660   \n63   Conisbrough and Denaby Ward  South Yorkshire  DN12 4JF  01412-528394   \n446                 Market Rasen     Lincolnshire   LN8 3AD  01467-554624   \n471                  Almond Ward     West Lothian  EH52 5PY  01375-870188   \n\n           phone2          email                                   web  \n27   01315-284286  pok@yahoo.com  http://www.portalmetalproducts.co.uk  \n63   01580-134516  sol@gmail.com         http://www.omnimandalay.co.uk  \n446  01984-207421  ona@yahoo.com      http://www.cohenandfrommpc.co.uk  \n471  01602-987840  val@yahoo.com   http://www.horizonairmagazine.co.uk  ",
      "text/html": "<div>\n<style scoped>\n    .dataframe tbody tr th:only-of-type {\n        vertical-align: middle;\n    }\n\n    .dataframe tbody tr th {\n        vertical-align: top;\n    }\n\n    .dataframe thead th {\n        text-align: right;\n    }\n</style>\n<table border=\"1\" class=\"dataframe\">\n  <thead>\n    <tr style=\"text-align: right;\">\n      <th></th>\n      <th>first_name</th>\n      <th>last_name</th>\n      <th>company_name</th>\n      <th>address</th>\n      <th>city</th>\n      <th>county</th>\n      <th>postal</th>\n      <th>phone1</th>\n      <th>phone2</th>\n      <th>email</th>\n      <th>web</th>\n    </tr>\n  </thead>\n  <tbody>\n    <tr>\n      <th>27</th>\n      <td>Pok</td>\n      <td>Molaison</td>\n      <td>Portal Metal Products</td>\n      <td>211 Hobart St</td>\n      <td>Newquay</td>\n      <td>Cornwall</td>\n      <td>TR7 1LS</td>\n      <td>01866-248660</td>\n      <td>01315-284286</td>\n      <td>pok@yahoo.com</td>\n      <td>http://www.portalmetalproducts.co.uk</td>\n    </tr>\n    <tr>\n      <th>63</th>\n      <td>Sol</td>\n      <td>Cowser</td>\n      <td>Omni Mandalay</td>\n      <td>6448 Tillard St</td>\n      <td>Conisbrough and Denaby Ward</td>\n      <td>South Yorkshire</td>\n      <td>DN12 4JF</td>\n      <td>01412-528394</td>\n      <td>01580-134516</td>\n      <td>sol@gmail.com</td>\n      <td>http://www.omnimandalay.co.uk</td>\n    </tr>\n    <tr>\n      <th>446</th>\n      <td>Ona</td>\n      <td>Bowhall</td>\n      <td>Cohen And Fromm Pc</td>\n      <td>527 Harding St</td>\n      <td>Market Rasen</td>\n      <td>Lincolnshire</td>\n      <td>LN8 3AD</td>\n      <td>01467-554624</td>\n      <td>01984-207421</td>\n      <td>ona@yahoo.com</td>\n      <td>http://www.cohenandfrommpc.co.uk</td>\n    </tr>\n    <tr>\n      <th>471</th>\n      <td>Val</td>\n      <td>Villot</td>\n      <td>Horizon Air Magazine</td>\n      <td>1980 Tynemouth St</td>\n      <td>Almond Ward</td>\n      <td>West Lothian</td>\n      <td>EH52 5PY</td>\n      <td>01375-870188</td>\n      <td>01602-987840</td>\n      <td>val@yahoo.com</td>\n      <td>http://www.horizonairmagazine.co.uk</td>\n    </tr>\n  </tbody>\n</table>\n</div>"
     },
     "metadata": {},
     "execution_count": 9
    }
   ],
   "source": [
    "temp.loc[temp['email'].str.len()<14]"
   ]
  },
  {
   "cell_type": "code",
   "execution_count": null,
   "metadata": {},
   "outputs": [],
   "source": []
  }
 ]
}