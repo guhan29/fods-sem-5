{
 "metadata": {
  "language_info": {
   "codemirror_mode": {
    "name": "ipython",
    "version": 3
   },
   "file_extension": ".py",
   "mimetype": "text/x-python",
   "name": "python",
   "nbconvert_exporter": "python",
   "pygments_lexer": "ipython3",
   "version": 3
  },
  "orig_nbformat": 2,
  "kernelspec": {
   "name": "python_defaultSpec_1596691738940",
   "display_name": "Python 3.8.2 32-bit"
  }
 },
 "nbformat": 4,
 "nbformat_minor": 2,
 "cells": [
  {
   "cell_type": "code",
   "execution_count": 2,
   "metadata": {},
   "outputs": [],
   "source": [
    "import pandas as pd \n",
    "df=pd.read_csv('https://raw.githubusercontent.com/resbaz/r-novice-gapminder-files/master/data/gapminder-FiveYearData.csv')"
   ]
  },
  {
   "cell_type": "code",
   "execution_count": 3,
   "metadata": {},
   "outputs": [
    {
     "output_type": "execute_result",
     "data": {
      "text/plain": "       country  year         pop continent  lifeExp   gdpPercap\n0  Afghanistan  1952   8425333.0      Asia   28.801  779.445314\n1  Afghanistan  1957   9240934.0      Asia   30.332  820.853030\n2  Afghanistan  1962  10267083.0      Asia   31.997  853.100710",
      "text/html": "<div>\n<style scoped>\n    .dataframe tbody tr th:only-of-type {\n        vertical-align: middle;\n    }\n\n    .dataframe tbody tr th {\n        vertical-align: top;\n    }\n\n    .dataframe thead th {\n        text-align: right;\n    }\n</style>\n<table border=\"1\" class=\"dataframe\">\n  <thead>\n    <tr style=\"text-align: right;\">\n      <th></th>\n      <th>country</th>\n      <th>year</th>\n      <th>pop</th>\n      <th>continent</th>\n      <th>lifeExp</th>\n      <th>gdpPercap</th>\n    </tr>\n  </thead>\n  <tbody>\n    <tr>\n      <th>0</th>\n      <td>Afghanistan</td>\n      <td>1952</td>\n      <td>8425333.0</td>\n      <td>Asia</td>\n      <td>28.801</td>\n      <td>779.445314</td>\n    </tr>\n    <tr>\n      <th>1</th>\n      <td>Afghanistan</td>\n      <td>1957</td>\n      <td>9240934.0</td>\n      <td>Asia</td>\n      <td>30.332</td>\n      <td>820.853030</td>\n    </tr>\n    <tr>\n      <th>2</th>\n      <td>Afghanistan</td>\n      <td>1962</td>\n      <td>10267083.0</td>\n      <td>Asia</td>\n      <td>31.997</td>\n      <td>853.100710</td>\n    </tr>\n  </tbody>\n</table>\n</div>"
     },
     "metadata": {},
     "execution_count": 3
    }
   ],
   "source": [
    "df.head(3)"
   ]
  },
  {
   "cell_type": "code",
   "execution_count": 7,
   "metadata": {},
   "outputs": [
    {
     "output_type": "execute_result",
     "data": {
      "text/plain": "              country  year          pop continent  lifeExp     gdpPercap\n1292           Rwanda  1992    7290203.0    Africa   23.599    737.068595\n0         Afghanistan  1952    8425333.0      Asia   28.801    779.445314\n552            Gambia  1952     284320.0    Africa   30.000    485.230659\n36             Angola  1952    4232095.0    Africa   30.015   3520.610273\n1344     Sierra Leone  1952    2143249.0    Africa   30.331    879.787736\n...               ...   ...          ...       ...      ...           ...\n1487      Switzerland  2007    7554661.0    Europe   81.701  37506.419070\n695           Iceland  2007     301931.0    Europe   81.757  36180.789190\n802             Japan  2002  127065841.0      Asia   82.000  28604.591900\n671   Hong Kong China  2007    6980412.0      Asia   82.208  39724.978670\n803             Japan  2007  127467972.0      Asia   82.603  31656.068060\n\n[1704 rows x 6 columns]",
      "text/html": "<div>\n<style scoped>\n    .dataframe tbody tr th:only-of-type {\n        vertical-align: middle;\n    }\n\n    .dataframe tbody tr th {\n        vertical-align: top;\n    }\n\n    .dataframe thead th {\n        text-align: right;\n    }\n</style>\n<table border=\"1\" class=\"dataframe\">\n  <thead>\n    <tr style=\"text-align: right;\">\n      <th></th>\n      <th>country</th>\n      <th>year</th>\n      <th>pop</th>\n      <th>continent</th>\n      <th>lifeExp</th>\n      <th>gdpPercap</th>\n    </tr>\n  </thead>\n  <tbody>\n    <tr>\n      <th>1292</th>\n      <td>Rwanda</td>\n      <td>1992</td>\n      <td>7290203.0</td>\n      <td>Africa</td>\n      <td>23.599</td>\n      <td>737.068595</td>\n    </tr>\n    <tr>\n      <th>0</th>\n      <td>Afghanistan</td>\n      <td>1952</td>\n      <td>8425333.0</td>\n      <td>Asia</td>\n      <td>28.801</td>\n      <td>779.445314</td>\n    </tr>\n    <tr>\n      <th>552</th>\n      <td>Gambia</td>\n      <td>1952</td>\n      <td>284320.0</td>\n      <td>Africa</td>\n      <td>30.000</td>\n      <td>485.230659</td>\n    </tr>\n    <tr>\n      <th>36</th>\n      <td>Angola</td>\n      <td>1952</td>\n      <td>4232095.0</td>\n      <td>Africa</td>\n      <td>30.015</td>\n      <td>3520.610273</td>\n    </tr>\n    <tr>\n      <th>1344</th>\n      <td>Sierra Leone</td>\n      <td>1952</td>\n      <td>2143249.0</td>\n      <td>Africa</td>\n      <td>30.331</td>\n      <td>879.787736</td>\n    </tr>\n    <tr>\n      <th>...</th>\n      <td>...</td>\n      <td>...</td>\n      <td>...</td>\n      <td>...</td>\n      <td>...</td>\n      <td>...</td>\n    </tr>\n    <tr>\n      <th>1487</th>\n      <td>Switzerland</td>\n      <td>2007</td>\n      <td>7554661.0</td>\n      <td>Europe</td>\n      <td>81.701</td>\n      <td>37506.419070</td>\n    </tr>\n    <tr>\n      <th>695</th>\n      <td>Iceland</td>\n      <td>2007</td>\n      <td>301931.0</td>\n      <td>Europe</td>\n      <td>81.757</td>\n      <td>36180.789190</td>\n    </tr>\n    <tr>\n      <th>802</th>\n      <td>Japan</td>\n      <td>2002</td>\n      <td>127065841.0</td>\n      <td>Asia</td>\n      <td>82.000</td>\n      <td>28604.591900</td>\n    </tr>\n    <tr>\n      <th>671</th>\n      <td>Hong Kong China</td>\n      <td>2007</td>\n      <td>6980412.0</td>\n      <td>Asia</td>\n      <td>82.208</td>\n      <td>39724.978670</td>\n    </tr>\n    <tr>\n      <th>803</th>\n      <td>Japan</td>\n      <td>2007</td>\n      <td>127467972.0</td>\n      <td>Asia</td>\n      <td>82.603</td>\n      <td>31656.068060</td>\n    </tr>\n  </tbody>\n</table>\n<p>1704 rows × 6 columns</p>\n</div>"
     },
     "metadata": {},
     "execution_count": 7
    }
   ],
   "source": [
    "df.sort_values('lifeExp')"
   ]
  },
  {
   "cell_type": "code",
   "execution_count": 15,
   "metadata": {},
   "outputs": [
    {
     "output_type": "execute_result",
     "data": {
      "text/plain": "              country  year          pop continent  lifeExp    gdpPercap\n803             Japan  2007  127467972.0      Asia   82.603  31656.06806\n671   Hong Kong China  2007    6980412.0      Asia   82.208  39724.97867\n802             Japan  2002  127065841.0      Asia   82.000  28604.59190\n695           Iceland  2007     301931.0    Europe   81.757  36180.78919\n1487      Switzerland  2007    7554661.0    Europe   81.701  37506.41907",
      "text/html": "<div>\n<style scoped>\n    .dataframe tbody tr th:only-of-type {\n        vertical-align: middle;\n    }\n\n    .dataframe tbody tr th {\n        vertical-align: top;\n    }\n\n    .dataframe thead th {\n        text-align: right;\n    }\n</style>\n<table border=\"1\" class=\"dataframe\">\n  <thead>\n    <tr style=\"text-align: right;\">\n      <th></th>\n      <th>country</th>\n      <th>year</th>\n      <th>pop</th>\n      <th>continent</th>\n      <th>lifeExp</th>\n      <th>gdpPercap</th>\n    </tr>\n  </thead>\n  <tbody>\n    <tr>\n      <th>803</th>\n      <td>Japan</td>\n      <td>2007</td>\n      <td>127467972.0</td>\n      <td>Asia</td>\n      <td>82.603</td>\n      <td>31656.06806</td>\n    </tr>\n    <tr>\n      <th>671</th>\n      <td>Hong Kong China</td>\n      <td>2007</td>\n      <td>6980412.0</td>\n      <td>Asia</td>\n      <td>82.208</td>\n      <td>39724.97867</td>\n    </tr>\n    <tr>\n      <th>802</th>\n      <td>Japan</td>\n      <td>2002</td>\n      <td>127065841.0</td>\n      <td>Asia</td>\n      <td>82.000</td>\n      <td>28604.59190</td>\n    </tr>\n    <tr>\n      <th>695</th>\n      <td>Iceland</td>\n      <td>2007</td>\n      <td>301931.0</td>\n      <td>Europe</td>\n      <td>81.757</td>\n      <td>36180.78919</td>\n    </tr>\n    <tr>\n      <th>1487</th>\n      <td>Switzerland</td>\n      <td>2007</td>\n      <td>7554661.0</td>\n      <td>Europe</td>\n      <td>81.701</td>\n      <td>37506.41907</td>\n    </tr>\n  </tbody>\n</table>\n</div>"
     },
     "metadata": {},
     "execution_count": 15
    }
   ],
   "source": [
    "df=df.sort_values('lifeExp',ascending=False)\n",
    "df.head(5)"
   ]
  },
  {
   "cell_type": "code",
   "execution_count": 11,
   "metadata": {},
   "outputs": [
    {
     "output_type": "execute_result",
     "data": {
      "text/plain": "        country  year         pop continent  lifeExp   gdpPercap\n11  Afghanistan  2007  31889923.0      Asia   43.828  974.580338\n4   Afghanistan  1972  13079460.0      Asia   36.088  739.981106\n10  Afghanistan  2002  25268405.0      Asia   42.129  726.734055",
      "text/html": "<div>\n<style scoped>\n    .dataframe tbody tr th:only-of-type {\n        vertical-align: middle;\n    }\n\n    .dataframe tbody tr th {\n        vertical-align: top;\n    }\n\n    .dataframe thead th {\n        text-align: right;\n    }\n</style>\n<table border=\"1\" class=\"dataframe\">\n  <thead>\n    <tr style=\"text-align: right;\">\n      <th></th>\n      <th>country</th>\n      <th>year</th>\n      <th>pop</th>\n      <th>continent</th>\n      <th>lifeExp</th>\n      <th>gdpPercap</th>\n    </tr>\n  </thead>\n  <tbody>\n    <tr>\n      <th>11</th>\n      <td>Afghanistan</td>\n      <td>2007</td>\n      <td>31889923.0</td>\n      <td>Asia</td>\n      <td>43.828</td>\n      <td>974.580338</td>\n    </tr>\n    <tr>\n      <th>4</th>\n      <td>Afghanistan</td>\n      <td>1972</td>\n      <td>13079460.0</td>\n      <td>Asia</td>\n      <td>36.088</td>\n      <td>739.981106</td>\n    </tr>\n    <tr>\n      <th>10</th>\n      <td>Afghanistan</td>\n      <td>2002</td>\n      <td>25268405.0</td>\n      <td>Asia</td>\n      <td>42.129</td>\n      <td>726.734055</td>\n    </tr>\n  </tbody>\n</table>\n</div>"
     },
     "metadata": {},
     "execution_count": 11
    }
   ],
   "source": [
    "df.sort_values('country',na_position='first').head(3)"
   ]
  },
  {
   "cell_type": "code",
   "execution_count": 14,
   "metadata": {},
   "outputs": [
    {
     "output_type": "execute_result",
     "data": {
      "text/plain": "             year           pop      lifeExp      gdpPercap\ncount  1704.00000  1.704000e+03  1704.000000    1704.000000\nmean   1979.50000  2.960121e+07    59.474439    7215.327081\nstd      17.26533  1.061579e+08    12.917107    9857.454543\nmin    1952.00000  6.001100e+04    23.599000     241.165877\n25%    1965.75000  2.793664e+06    48.198000    1202.060309\n50%    1979.50000  7.023596e+06    60.712500    3531.846989\n75%    1993.25000  1.958522e+07    70.845500    9325.462346\nmax    2007.00000  1.318683e+09    82.603000  113523.132900",
      "text/html": "<div>\n<style scoped>\n    .dataframe tbody tr th:only-of-type {\n        vertical-align: middle;\n    }\n\n    .dataframe tbody tr th {\n        vertical-align: top;\n    }\n\n    .dataframe thead th {\n        text-align: right;\n    }\n</style>\n<table border=\"1\" class=\"dataframe\">\n  <thead>\n    <tr style=\"text-align: right;\">\n      <th></th>\n      <th>year</th>\n      <th>pop</th>\n      <th>lifeExp</th>\n      <th>gdpPercap</th>\n    </tr>\n  </thead>\n  <tbody>\n    <tr>\n      <th>count</th>\n      <td>1704.00000</td>\n      <td>1.704000e+03</td>\n      <td>1704.000000</td>\n      <td>1704.000000</td>\n    </tr>\n    <tr>\n      <th>mean</th>\n      <td>1979.50000</td>\n      <td>2.960121e+07</td>\n      <td>59.474439</td>\n      <td>7215.327081</td>\n    </tr>\n    <tr>\n      <th>std</th>\n      <td>17.26533</td>\n      <td>1.061579e+08</td>\n      <td>12.917107</td>\n      <td>9857.454543</td>\n    </tr>\n    <tr>\n      <th>min</th>\n      <td>1952.00000</td>\n      <td>6.001100e+04</td>\n      <td>23.599000</td>\n      <td>241.165877</td>\n    </tr>\n    <tr>\n      <th>25%</th>\n      <td>1965.75000</td>\n      <td>2.793664e+06</td>\n      <td>48.198000</td>\n      <td>1202.060309</td>\n    </tr>\n    <tr>\n      <th>50%</th>\n      <td>1979.50000</td>\n      <td>7.023596e+06</td>\n      <td>60.712500</td>\n      <td>3531.846989</td>\n    </tr>\n    <tr>\n      <th>75%</th>\n      <td>1993.25000</td>\n      <td>1.958522e+07</td>\n      <td>70.845500</td>\n      <td>9325.462346</td>\n    </tr>\n    <tr>\n      <th>max</th>\n      <td>2007.00000</td>\n      <td>1.318683e+09</td>\n      <td>82.603000</td>\n      <td>113523.132900</td>\n    </tr>\n  </tbody>\n</table>\n</div>"
     },
     "metadata": {},
     "execution_count": 14
    }
   ],
   "source": [
    "df.describe()"
   ]
  },
  {
   "cell_type": "code",
   "execution_count": 17,
   "metadata": {},
   "outputs": [
    {
     "output_type": "execute_result",
     "data": {
      "text/plain": "       country  year         pop continent  lifeExp   gdpPercap\n0  Afghanistan  1952   8425333.0      Asia   28.801  779.445314\n1  Afghanistan  1957   9240934.0      Asia   30.332  820.853030\n2  Afghanistan  1962  10267083.0      Asia   31.997  853.100710\n3  Afghanistan  1967  11537966.0      Asia   34.020  836.197138",
      "text/html": "<div>\n<style scoped>\n    .dataframe tbody tr th:only-of-type {\n        vertical-align: middle;\n    }\n\n    .dataframe tbody tr th {\n        vertical-align: top;\n    }\n\n    .dataframe thead th {\n        text-align: right;\n    }\n</style>\n<table border=\"1\" class=\"dataframe\">\n  <thead>\n    <tr style=\"text-align: right;\">\n      <th></th>\n      <th>country</th>\n      <th>year</th>\n      <th>pop</th>\n      <th>continent</th>\n      <th>lifeExp</th>\n      <th>gdpPercap</th>\n    </tr>\n  </thead>\n  <tbody>\n    <tr>\n      <th>0</th>\n      <td>Afghanistan</td>\n      <td>1952</td>\n      <td>8425333.0</td>\n      <td>Asia</td>\n      <td>28.801</td>\n      <td>779.445314</td>\n    </tr>\n    <tr>\n      <th>1</th>\n      <td>Afghanistan</td>\n      <td>1957</td>\n      <td>9240934.0</td>\n      <td>Asia</td>\n      <td>30.332</td>\n      <td>820.853030</td>\n    </tr>\n    <tr>\n      <th>2</th>\n      <td>Afghanistan</td>\n      <td>1962</td>\n      <td>10267083.0</td>\n      <td>Asia</td>\n      <td>31.997</td>\n      <td>853.100710</td>\n    </tr>\n    <tr>\n      <th>3</th>\n      <td>Afghanistan</td>\n      <td>1967</td>\n      <td>11537966.0</td>\n      <td>Asia</td>\n      <td>34.020</td>\n      <td>836.197138</td>\n    </tr>\n  </tbody>\n</table>\n</div>"
     },
     "metadata": {},
     "execution_count": 17
    }
   ],
   "source": [
    "df=df.sort_index()\n",
    "df.head(4)"
   ]
  },
  {
   "cell_type": "code",
   "execution_count": 19,
   "metadata": {},
   "outputs": [
    {
     "output_type": "execute_result",
     "data": {
      "text/plain": "      index      country  year         pop continent  lifeExp   gdpPercap\n0         0  Afghanistan  1952   8425333.0      Asia   28.801  779.445314\n1         1  Afghanistan  1957   9240934.0      Asia   30.332  820.853030\n2         2  Afghanistan  1962  10267083.0      Asia   31.997  853.100710\n3         3  Afghanistan  1967  11537966.0      Asia   34.020  836.197138\n4         4  Afghanistan  1972  13079460.0      Asia   36.088  739.981106\n...     ...          ...   ...         ...       ...      ...         ...\n1699   1699     Zimbabwe  1987   9216418.0    Africa   62.351  706.157306\n1700   1700     Zimbabwe  1992  10704340.0    Africa   60.377  693.420786\n1701   1701     Zimbabwe  1997  11404948.0    Africa   46.809  792.449960\n1702   1702     Zimbabwe  2002  11926563.0    Africa   39.989  672.038623\n1703   1703     Zimbabwe  2007  12311143.0    Africa   43.487  469.709298\n\n[1704 rows x 7 columns]",
      "text/html": "<div>\n<style scoped>\n    .dataframe tbody tr th:only-of-type {\n        vertical-align: middle;\n    }\n\n    .dataframe tbody tr th {\n        vertical-align: top;\n    }\n\n    .dataframe thead th {\n        text-align: right;\n    }\n</style>\n<table border=\"1\" class=\"dataframe\">\n  <thead>\n    <tr style=\"text-align: right;\">\n      <th></th>\n      <th>index</th>\n      <th>country</th>\n      <th>year</th>\n      <th>pop</th>\n      <th>continent</th>\n      <th>lifeExp</th>\n      <th>gdpPercap</th>\n    </tr>\n  </thead>\n  <tbody>\n    <tr>\n      <th>0</th>\n      <td>0</td>\n      <td>Afghanistan</td>\n      <td>1952</td>\n      <td>8425333.0</td>\n      <td>Asia</td>\n      <td>28.801</td>\n      <td>779.445314</td>\n    </tr>\n    <tr>\n      <th>1</th>\n      <td>1</td>\n      <td>Afghanistan</td>\n      <td>1957</td>\n      <td>9240934.0</td>\n      <td>Asia</td>\n      <td>30.332</td>\n      <td>820.853030</td>\n    </tr>\n    <tr>\n      <th>2</th>\n      <td>2</td>\n      <td>Afghanistan</td>\n      <td>1962</td>\n      <td>10267083.0</td>\n      <td>Asia</td>\n      <td>31.997</td>\n      <td>853.100710</td>\n    </tr>\n    <tr>\n      <th>3</th>\n      <td>3</td>\n      <td>Afghanistan</td>\n      <td>1967</td>\n      <td>11537966.0</td>\n      <td>Asia</td>\n      <td>34.020</td>\n      <td>836.197138</td>\n    </tr>\n    <tr>\n      <th>4</th>\n      <td>4</td>\n      <td>Afghanistan</td>\n      <td>1972</td>\n      <td>13079460.0</td>\n      <td>Asia</td>\n      <td>36.088</td>\n      <td>739.981106</td>\n    </tr>\n    <tr>\n      <th>...</th>\n      <td>...</td>\n      <td>...</td>\n      <td>...</td>\n      <td>...</td>\n      <td>...</td>\n      <td>...</td>\n      <td>...</td>\n    </tr>\n    <tr>\n      <th>1699</th>\n      <td>1699</td>\n      <td>Zimbabwe</td>\n      <td>1987</td>\n      <td>9216418.0</td>\n      <td>Africa</td>\n      <td>62.351</td>\n      <td>706.157306</td>\n    </tr>\n    <tr>\n      <th>1700</th>\n      <td>1700</td>\n      <td>Zimbabwe</td>\n      <td>1992</td>\n      <td>10704340.0</td>\n      <td>Africa</td>\n      <td>60.377</td>\n      <td>693.420786</td>\n    </tr>\n    <tr>\n      <th>1701</th>\n      <td>1701</td>\n      <td>Zimbabwe</td>\n      <td>1997</td>\n      <td>11404948.0</td>\n      <td>Africa</td>\n      <td>46.809</td>\n      <td>792.449960</td>\n    </tr>\n    <tr>\n      <th>1702</th>\n      <td>1702</td>\n      <td>Zimbabwe</td>\n      <td>2002</td>\n      <td>11926563.0</td>\n      <td>Africa</td>\n      <td>39.989</td>\n      <td>672.038623</td>\n    </tr>\n    <tr>\n      <th>1703</th>\n      <td>1703</td>\n      <td>Zimbabwe</td>\n      <td>2007</td>\n      <td>12311143.0</td>\n      <td>Africa</td>\n      <td>43.487</td>\n      <td>469.709298</td>\n    </tr>\n  </tbody>\n</table>\n<p>1704 rows × 7 columns</p>\n</div>"
     },
     "metadata": {},
     "execution_count": 19
    }
   ],
   "source": [
    "df.reset_index()"
   ]
  },
  {
   "cell_type": "code",
   "execution_count": 22,
   "metadata": {},
   "outputs": [
    {
     "output_type": "execute_result",
     "data": {
      "text/plain": "      index          country  year          pop continent  lifeExp  \\\n0      1292           Rwanda  1992    7290203.0    Africa   23.599   \n1         0      Afghanistan  1952    8425333.0      Asia   28.801   \n2       552           Gambia  1952     284320.0    Africa   30.000   \n3        36           Angola  1952    4232095.0    Africa   30.015   \n4      1344     Sierra Leone  1952    2143249.0    Africa   30.331   \n...     ...              ...   ...          ...       ...      ...   \n1699   1487      Switzerland  2007    7554661.0    Europe   81.701   \n1700    695          Iceland  2007     301931.0    Europe   81.757   \n1701    802            Japan  2002  127065841.0      Asia   82.000   \n1702    671  Hong Kong China  2007    6980412.0      Asia   82.208   \n1703    803            Japan  2007  127467972.0      Asia   82.603   \n\n         gdpPercap  \n0       737.068595  \n1       779.445314  \n2       485.230659  \n3      3520.610273  \n4       879.787736  \n...            ...  \n1699  37506.419070  \n1700  36180.789190  \n1701  28604.591900  \n1702  39724.978670  \n1703  31656.068060  \n\n[1704 rows x 7 columns]",
      "text/html": "<div>\n<style scoped>\n    .dataframe tbody tr th:only-of-type {\n        vertical-align: middle;\n    }\n\n    .dataframe tbody tr th {\n        vertical-align: top;\n    }\n\n    .dataframe thead th {\n        text-align: right;\n    }\n</style>\n<table border=\"1\" class=\"dataframe\">\n  <thead>\n    <tr style=\"text-align: right;\">\n      <th></th>\n      <th>index</th>\n      <th>country</th>\n      <th>year</th>\n      <th>pop</th>\n      <th>continent</th>\n      <th>lifeExp</th>\n      <th>gdpPercap</th>\n    </tr>\n  </thead>\n  <tbody>\n    <tr>\n      <th>0</th>\n      <td>1292</td>\n      <td>Rwanda</td>\n      <td>1992</td>\n      <td>7290203.0</td>\n      <td>Africa</td>\n      <td>23.599</td>\n      <td>737.068595</td>\n    </tr>\n    <tr>\n      <th>1</th>\n      <td>0</td>\n      <td>Afghanistan</td>\n      <td>1952</td>\n      <td>8425333.0</td>\n      <td>Asia</td>\n      <td>28.801</td>\n      <td>779.445314</td>\n    </tr>\n    <tr>\n      <th>2</th>\n      <td>552</td>\n      <td>Gambia</td>\n      <td>1952</td>\n      <td>284320.0</td>\n      <td>Africa</td>\n      <td>30.000</td>\n      <td>485.230659</td>\n    </tr>\n    <tr>\n      <th>3</th>\n      <td>36</td>\n      <td>Angola</td>\n      <td>1952</td>\n      <td>4232095.0</td>\n      <td>Africa</td>\n      <td>30.015</td>\n      <td>3520.610273</td>\n    </tr>\n    <tr>\n      <th>4</th>\n      <td>1344</td>\n      <td>Sierra Leone</td>\n      <td>1952</td>\n      <td>2143249.0</td>\n      <td>Africa</td>\n      <td>30.331</td>\n      <td>879.787736</td>\n    </tr>\n    <tr>\n      <th>...</th>\n      <td>...</td>\n      <td>...</td>\n      <td>...</td>\n      <td>...</td>\n      <td>...</td>\n      <td>...</td>\n      <td>...</td>\n    </tr>\n    <tr>\n      <th>1699</th>\n      <td>1487</td>\n      <td>Switzerland</td>\n      <td>2007</td>\n      <td>7554661.0</td>\n      <td>Europe</td>\n      <td>81.701</td>\n      <td>37506.419070</td>\n    </tr>\n    <tr>\n      <th>1700</th>\n      <td>695</td>\n      <td>Iceland</td>\n      <td>2007</td>\n      <td>301931.0</td>\n      <td>Europe</td>\n      <td>81.757</td>\n      <td>36180.789190</td>\n    </tr>\n    <tr>\n      <th>1701</th>\n      <td>802</td>\n      <td>Japan</td>\n      <td>2002</td>\n      <td>127065841.0</td>\n      <td>Asia</td>\n      <td>82.000</td>\n      <td>28604.591900</td>\n    </tr>\n    <tr>\n      <th>1702</th>\n      <td>671</td>\n      <td>Hong Kong China</td>\n      <td>2007</td>\n      <td>6980412.0</td>\n      <td>Asia</td>\n      <td>82.208</td>\n      <td>39724.978670</td>\n    </tr>\n    <tr>\n      <th>1703</th>\n      <td>803</td>\n      <td>Japan</td>\n      <td>2007</td>\n      <td>127467972.0</td>\n      <td>Asia</td>\n      <td>82.603</td>\n      <td>31656.068060</td>\n    </tr>\n  </tbody>\n</table>\n<p>1704 rows × 7 columns</p>\n</div>"
     },
     "metadata": {},
     "execution_count": 22
    }
   ],
   "source": [
    "df.sort_values(['lifeExp','gdpPercap']).reset_index()"
   ]
  },
  {
   "cell_type": "code",
   "execution_count": 23,
   "metadata": {},
   "outputs": [
    {
     "output_type": "execute_result",
     "data": {
      "text/plain": "              country  year          pop continent  lifeExp     gdpPercap\n803             Japan  2007  127467972.0      Asia   82.603  31656.068060\n671   Hong Kong China  2007    6980412.0      Asia   82.208  39724.978670\n802             Japan  2002  127065841.0      Asia   82.000  28604.591900\n695           Iceland  2007     301931.0    Europe   81.757  36180.789190\n1487      Switzerland  2007    7554661.0    Europe   81.701  37506.419070\n...               ...   ...          ...       ...      ...           ...\n1344     Sierra Leone  1952    2143249.0    Africa   30.331    879.787736\n36             Angola  1952    4232095.0    Africa   30.015   3520.610273\n552            Gambia  1952     284320.0    Africa   30.000    485.230659\n0         Afghanistan  1952    8425333.0      Asia   28.801    779.445314\n1292           Rwanda  1992    7290203.0    Africa   23.599    737.068595\n\n[1704 rows x 6 columns]",
      "text/html": "<div>\n<style scoped>\n    .dataframe tbody tr th:only-of-type {\n        vertical-align: middle;\n    }\n\n    .dataframe tbody tr th {\n        vertical-align: top;\n    }\n\n    .dataframe thead th {\n        text-align: right;\n    }\n</style>\n<table border=\"1\" class=\"dataframe\">\n  <thead>\n    <tr style=\"text-align: right;\">\n      <th></th>\n      <th>country</th>\n      <th>year</th>\n      <th>pop</th>\n      <th>continent</th>\n      <th>lifeExp</th>\n      <th>gdpPercap</th>\n    </tr>\n  </thead>\n  <tbody>\n    <tr>\n      <th>803</th>\n      <td>Japan</td>\n      <td>2007</td>\n      <td>127467972.0</td>\n      <td>Asia</td>\n      <td>82.603</td>\n      <td>31656.068060</td>\n    </tr>\n    <tr>\n      <th>671</th>\n      <td>Hong Kong China</td>\n      <td>2007</td>\n      <td>6980412.0</td>\n      <td>Asia</td>\n      <td>82.208</td>\n      <td>39724.978670</td>\n    </tr>\n    <tr>\n      <th>802</th>\n      <td>Japan</td>\n      <td>2002</td>\n      <td>127065841.0</td>\n      <td>Asia</td>\n      <td>82.000</td>\n      <td>28604.591900</td>\n    </tr>\n    <tr>\n      <th>695</th>\n      <td>Iceland</td>\n      <td>2007</td>\n      <td>301931.0</td>\n      <td>Europe</td>\n      <td>81.757</td>\n      <td>36180.789190</td>\n    </tr>\n    <tr>\n      <th>1487</th>\n      <td>Switzerland</td>\n      <td>2007</td>\n      <td>7554661.0</td>\n      <td>Europe</td>\n      <td>81.701</td>\n      <td>37506.419070</td>\n    </tr>\n    <tr>\n      <th>...</th>\n      <td>...</td>\n      <td>...</td>\n      <td>...</td>\n      <td>...</td>\n      <td>...</td>\n      <td>...</td>\n    </tr>\n    <tr>\n      <th>1344</th>\n      <td>Sierra Leone</td>\n      <td>1952</td>\n      <td>2143249.0</td>\n      <td>Africa</td>\n      <td>30.331</td>\n      <td>879.787736</td>\n    </tr>\n    <tr>\n      <th>36</th>\n      <td>Angola</td>\n      <td>1952</td>\n      <td>4232095.0</td>\n      <td>Africa</td>\n      <td>30.015</td>\n      <td>3520.610273</td>\n    </tr>\n    <tr>\n      <th>552</th>\n      <td>Gambia</td>\n      <td>1952</td>\n      <td>284320.0</td>\n      <td>Africa</td>\n      <td>30.000</td>\n      <td>485.230659</td>\n    </tr>\n    <tr>\n      <th>0</th>\n      <td>Afghanistan</td>\n      <td>1952</td>\n      <td>8425333.0</td>\n      <td>Asia</td>\n      <td>28.801</td>\n      <td>779.445314</td>\n    </tr>\n    <tr>\n      <th>1292</th>\n      <td>Rwanda</td>\n      <td>1992</td>\n      <td>7290203.0</td>\n      <td>Africa</td>\n      <td>23.599</td>\n      <td>737.068595</td>\n    </tr>\n  </tbody>\n</table>\n<p>1704 rows × 6 columns</p>\n</div>"
     },
     "metadata": {},
     "execution_count": 23
    }
   ],
   "source": [
    "df.sort_values(['lifeExp','gdpPercap'],ascending=[False,True])"
   ]
  },
  {
   "cell_type": "code",
   "execution_count": 34,
   "metadata": {},
   "outputs": [
    {
     "output_type": "execute_result",
     "data": {
      "text/plain": "              population      GDP alpha-2\nSouth Africa    58812491  2033594      SA\nCanada          37522972  1833594      CA\nAustralia         339757   153594      AU\nMaldives          339757    14520      MV\nIceland           339757    10128      IS",
      "text/html": "<div>\n<style scoped>\n    .dataframe tbody tr th:only-of-type {\n        vertical-align: middle;\n    }\n\n    .dataframe tbody tr th {\n        vertical-align: top;\n    }\n\n    .dataframe thead th {\n        text-align: right;\n    }\n</style>\n<table border=\"1\" class=\"dataframe\">\n  <thead>\n    <tr style=\"text-align: right;\">\n      <th></th>\n      <th>population</th>\n      <th>GDP</th>\n      <th>alpha-2</th>\n    </tr>\n  </thead>\n  <tbody>\n    <tr>\n      <th>South Africa</th>\n      <td>58812491</td>\n      <td>2033594</td>\n      <td>SA</td>\n    </tr>\n    <tr>\n      <th>Canada</th>\n      <td>37522972</td>\n      <td>1833594</td>\n      <td>CA</td>\n    </tr>\n    <tr>\n      <th>Australia</th>\n      <td>339757</td>\n      <td>153594</td>\n      <td>AU</td>\n    </tr>\n    <tr>\n      <th>Maldives</th>\n      <td>339757</td>\n      <td>14520</td>\n      <td>MV</td>\n    </tr>\n    <tr>\n      <th>Iceland</th>\n      <td>339757</td>\n      <td>10128</td>\n      <td>IS</td>\n    </tr>\n  </tbody>\n</table>\n</div>"
     },
     "metadata": {},
     "execution_count": 34
    }
   ],
   "source": [
    " d= pd.DataFrame({'population': [58812491, 37522972, 339757,\n",
    "339757, 339757, 38964, 11646, 11646, 11646],\n",
    "'GDP': [2033594, 1833594 , 153594, 14520, 10128,\n",
    "836, 139, 39, 539],\n",
    "'alpha-2': [\"SA\", \"CA\", \"AU\", \"MV\", \"IS\",\n",
    "\"MC\", \"NU\", \"TV\", \"PW\"]},\n",
    "                  index=[\"South Africa\", \"Canada\", \"Australia\",\n",
    "\"Maldives\", \"Iceland\", \"Monaco\", \"Niue\",\n",
    "\"Tuvalu\", \"Palau\"])\n",
    "d.head()\n"
   ]
  },
  {
   "cell_type": "code",
   "execution_count": 31,
   "metadata": {},
   "outputs": [
    {
     "output_type": "execute_result",
     "data": {
      "text/plain": "          country  year         pop continent  lifeExp  gdpPercap\n0     Afghanistan  1952   8425333.0      Asia    28.80    779.445\n1     Afghanistan  1957   9240934.0      Asia    30.33    820.853\n2     Afghanistan  1962  10267083.0      Asia    32.00    853.101\n3     Afghanistan  1967  11537966.0      Asia    34.02    836.197\n4     Afghanistan  1972  13079460.0      Asia    36.09    739.981\n...           ...   ...         ...       ...      ...        ...\n1699     Zimbabwe  1987   9216418.0    Africa    62.35    706.157\n1700     Zimbabwe  1992  10704340.0    Africa    60.38    693.421\n1701     Zimbabwe  1997  11404948.0    Africa    46.81    792.450\n1702     Zimbabwe  2002  11926563.0    Africa    39.99    672.039\n1703     Zimbabwe  2007  12311143.0    Africa    43.49    469.709\n\n[1704 rows x 6 columns]",
      "text/html": "<div>\n<style scoped>\n    .dataframe tbody tr th:only-of-type {\n        vertical-align: middle;\n    }\n\n    .dataframe tbody tr th {\n        vertical-align: top;\n    }\n\n    .dataframe thead th {\n        text-align: right;\n    }\n</style>\n<table border=\"1\" class=\"dataframe\">\n  <thead>\n    <tr style=\"text-align: right;\">\n      <th></th>\n      <th>country</th>\n      <th>year</th>\n      <th>pop</th>\n      <th>continent</th>\n      <th>lifeExp</th>\n      <th>gdpPercap</th>\n    </tr>\n  </thead>\n  <tbody>\n    <tr>\n      <th>0</th>\n      <td>Afghanistan</td>\n      <td>1952</td>\n      <td>8425333.0</td>\n      <td>Asia</td>\n      <td>28.80</td>\n      <td>779.445</td>\n    </tr>\n    <tr>\n      <th>1</th>\n      <td>Afghanistan</td>\n      <td>1957</td>\n      <td>9240934.0</td>\n      <td>Asia</td>\n      <td>30.33</td>\n      <td>820.853</td>\n    </tr>\n    <tr>\n      <th>2</th>\n      <td>Afghanistan</td>\n      <td>1962</td>\n      <td>10267083.0</td>\n      <td>Asia</td>\n      <td>32.00</td>\n      <td>853.101</td>\n    </tr>\n    <tr>\n      <th>3</th>\n      <td>Afghanistan</td>\n      <td>1967</td>\n      <td>11537966.0</td>\n      <td>Asia</td>\n      <td>34.02</td>\n      <td>836.197</td>\n    </tr>\n    <tr>\n      <th>4</th>\n      <td>Afghanistan</td>\n      <td>1972</td>\n      <td>13079460.0</td>\n      <td>Asia</td>\n      <td>36.09</td>\n      <td>739.981</td>\n    </tr>\n    <tr>\n      <th>...</th>\n      <td>...</td>\n      <td>...</td>\n      <td>...</td>\n      <td>...</td>\n      <td>...</td>\n      <td>...</td>\n    </tr>\n    <tr>\n      <th>1699</th>\n      <td>Zimbabwe</td>\n      <td>1987</td>\n      <td>9216418.0</td>\n      <td>Africa</td>\n      <td>62.35</td>\n      <td>706.157</td>\n    </tr>\n    <tr>\n      <th>1700</th>\n      <td>Zimbabwe</td>\n      <td>1992</td>\n      <td>10704340.0</td>\n      <td>Africa</td>\n      <td>60.38</td>\n      <td>693.421</td>\n    </tr>\n    <tr>\n      <th>1701</th>\n      <td>Zimbabwe</td>\n      <td>1997</td>\n      <td>11404948.0</td>\n      <td>Africa</td>\n      <td>46.81</td>\n      <td>792.450</td>\n    </tr>\n    <tr>\n      <th>1702</th>\n      <td>Zimbabwe</td>\n      <td>2002</td>\n      <td>11926563.0</td>\n      <td>Africa</td>\n      <td>39.99</td>\n      <td>672.039</td>\n    </tr>\n    <tr>\n      <th>1703</th>\n      <td>Zimbabwe</td>\n      <td>2007</td>\n      <td>12311143.0</td>\n      <td>Africa</td>\n      <td>43.49</td>\n      <td>469.709</td>\n    </tr>\n  </tbody>\n</table>\n<p>1704 rows × 6 columns</p>\n</div>"
     },
     "metadata": {},
     "execution_count": 31
    }
   ],
   "source": [
    "df.round({'lifeExp':2,'gdpPercap':3})"
   ]
  },
  {
   "cell_type": "code",
   "execution_count": 36,
   "metadata": {},
   "outputs": [
    {
     "output_type": "execute_result",
     "data": {
      "text/plain": "              population      GDP alpha-2\nSouth Africa    58812491  2033594      SA\nCanada          37522972  1833594      CA\nAustralia         339757   153594      AU",
      "text/html": "<div>\n<style scoped>\n    .dataframe tbody tr th:only-of-type {\n        vertical-align: middle;\n    }\n\n    .dataframe tbody tr th {\n        vertical-align: top;\n    }\n\n    .dataframe thead th {\n        text-align: right;\n    }\n</style>\n<table border=\"1\" class=\"dataframe\">\n  <thead>\n    <tr style=\"text-align: right;\">\n      <th></th>\n      <th>population</th>\n      <th>GDP</th>\n      <th>alpha-2</th>\n    </tr>\n  </thead>\n  <tbody>\n    <tr>\n      <th>South Africa</th>\n      <td>58812491</td>\n      <td>2033594</td>\n      <td>SA</td>\n    </tr>\n    <tr>\n      <th>Canada</th>\n      <td>37522972</td>\n      <td>1833594</td>\n      <td>CA</td>\n    </tr>\n    <tr>\n      <th>Australia</th>\n      <td>339757</td>\n      <td>153594</td>\n      <td>AU</td>\n    </tr>\n  </tbody>\n</table>\n</div>"
     },
     "metadata": {},
     "execution_count": 36
    }
   ],
   "source": [
    "d.nlargest(3,'population')"
   ]
  },
  {
   "cell_type": "code",
   "execution_count": 37,
   "metadata": {},
   "outputs": [
    {
     "output_type": "execute_result",
     "data": {
      "text/plain": "              population      GDP alpha-2\nSouth Africa    58812491  2033594      SA\nCanada          37522972  1833594      CA\nIceland           339757    10128      IS",
      "text/html": "<div>\n<style scoped>\n    .dataframe tbody tr th:only-of-type {\n        vertical-align: middle;\n    }\n\n    .dataframe tbody tr th {\n        vertical-align: top;\n    }\n\n    .dataframe thead th {\n        text-align: right;\n    }\n</style>\n<table border=\"1\" class=\"dataframe\">\n  <thead>\n    <tr style=\"text-align: right;\">\n      <th></th>\n      <th>population</th>\n      <th>GDP</th>\n      <th>alpha-2</th>\n    </tr>\n  </thead>\n  <tbody>\n    <tr>\n      <th>South Africa</th>\n      <td>58812491</td>\n      <td>2033594</td>\n      <td>SA</td>\n    </tr>\n    <tr>\n      <th>Canada</th>\n      <td>37522972</td>\n      <td>1833594</td>\n      <td>CA</td>\n    </tr>\n    <tr>\n      <th>Iceland</th>\n      <td>339757</td>\n      <td>10128</td>\n      <td>IS</td>\n    </tr>\n  </tbody>\n</table>\n</div>"
     },
     "metadata": {},
     "execution_count": 37
    }
   ],
   "source": [
    "d.nlargest(3,'population',keep='last')"
   ]
  },
  {
   "cell_type": "code",
   "execution_count": 38,
   "metadata": {},
   "outputs": [
    {
     "output_type": "execute_result",
     "data": {
      "text/plain": "              population      GDP alpha-2\nSouth Africa    58812491  2033594      SA\nCanada          37522972  1833594      CA\nAustralia         339757   153594      AU\nMaldives          339757    14520      MV\nIceland           339757    10128      IS\nMonaco             38964      836      MC\nNiue               11646      139      NU\nTuvalu             11646       39      TV\nPalau              11646      539      PW",
      "text/html": "<div>\n<style scoped>\n    .dataframe tbody tr th:only-of-type {\n        vertical-align: middle;\n    }\n\n    .dataframe tbody tr th {\n        vertical-align: top;\n    }\n\n    .dataframe thead th {\n        text-align: right;\n    }\n</style>\n<table border=\"1\" class=\"dataframe\">\n  <thead>\n    <tr style=\"text-align: right;\">\n      <th></th>\n      <th>population</th>\n      <th>GDP</th>\n      <th>alpha-2</th>\n    </tr>\n  </thead>\n  <tbody>\n    <tr>\n      <th>South Africa</th>\n      <td>58812491</td>\n      <td>2033594</td>\n      <td>SA</td>\n    </tr>\n    <tr>\n      <th>Canada</th>\n      <td>37522972</td>\n      <td>1833594</td>\n      <td>CA</td>\n    </tr>\n    <tr>\n      <th>Australia</th>\n      <td>339757</td>\n      <td>153594</td>\n      <td>AU</td>\n    </tr>\n    <tr>\n      <th>Maldives</th>\n      <td>339757</td>\n      <td>14520</td>\n      <td>MV</td>\n    </tr>\n    <tr>\n      <th>Iceland</th>\n      <td>339757</td>\n      <td>10128</td>\n      <td>IS</td>\n    </tr>\n    <tr>\n      <th>Monaco</th>\n      <td>38964</td>\n      <td>836</td>\n      <td>MC</td>\n    </tr>\n    <tr>\n      <th>Niue</th>\n      <td>11646</td>\n      <td>139</td>\n      <td>NU</td>\n    </tr>\n    <tr>\n      <th>Tuvalu</th>\n      <td>11646</td>\n      <td>39</td>\n      <td>TV</td>\n    </tr>\n    <tr>\n      <th>Palau</th>\n      <td>11646</td>\n      <td>539</td>\n      <td>PW</td>\n    </tr>\n  </tbody>\n</table>\n</div>"
     },
     "metadata": {},
     "execution_count": 38
    }
   ],
   "source": [
    "d"
   ]
  },
  {
   "cell_type": "code",
   "execution_count": 40,
   "metadata": {},
   "outputs": [
    {
     "output_type": "execute_result",
     "data": {
      "text/plain": "        population  GDP alpha-2\nTuvalu       11646   39      TV\nNiue         11646  139      NU\nPalau        11646  539      PW",
      "text/html": "<div>\n<style scoped>\n    .dataframe tbody tr th:only-of-type {\n        vertical-align: middle;\n    }\n\n    .dataframe tbody tr th {\n        vertical-align: top;\n    }\n\n    .dataframe thead th {\n        text-align: right;\n    }\n</style>\n<table border=\"1\" class=\"dataframe\">\n  <thead>\n    <tr style=\"text-align: right;\">\n      <th></th>\n      <th>population</th>\n      <th>GDP</th>\n      <th>alpha-2</th>\n    </tr>\n  </thead>\n  <tbody>\n    <tr>\n      <th>Tuvalu</th>\n      <td>11646</td>\n      <td>39</td>\n      <td>TV</td>\n    </tr>\n    <tr>\n      <th>Niue</th>\n      <td>11646</td>\n      <td>139</td>\n      <td>NU</td>\n    </tr>\n    <tr>\n      <th>Palau</th>\n      <td>11646</td>\n      <td>539</td>\n      <td>PW</td>\n    </tr>\n  </tbody>\n</table>\n</div>"
     },
     "metadata": {},
     "execution_count": 40
    }
   ],
   "source": [
    "d.nsmallest(3,['population','GDP'])"
   ]
  },
  {
   "cell_type": "code",
   "execution_count": 41,
   "metadata": {},
   "outputs": [
    {
     "output_type": "execute_result",
     "data": {
      "text/plain": "              population      GDP alpha-2\nSouth Africa    58812491  2033594      SA\nCanada          37522972  1833594      CA\nAustralia         339757   153594      AU",
      "text/html": "<div>\n<style scoped>\n    .dataframe tbody tr th:only-of-type {\n        vertical-align: middle;\n    }\n\n    .dataframe tbody tr th {\n        vertical-align: top;\n    }\n\n    .dataframe thead th {\n        text-align: right;\n    }\n</style>\n<table border=\"1\" class=\"dataframe\">\n  <thead>\n    <tr style=\"text-align: right;\">\n      <th></th>\n      <th>population</th>\n      <th>GDP</th>\n      <th>alpha-2</th>\n    </tr>\n  </thead>\n  <tbody>\n    <tr>\n      <th>South Africa</th>\n      <td>58812491</td>\n      <td>2033594</td>\n      <td>SA</td>\n    </tr>\n    <tr>\n      <th>Canada</th>\n      <td>37522972</td>\n      <td>1833594</td>\n      <td>CA</td>\n    </tr>\n    <tr>\n      <th>Australia</th>\n      <td>339757</td>\n      <td>153594</td>\n      <td>AU</td>\n    </tr>\n  </tbody>\n</table>\n</div>"
     },
     "metadata": {},
     "execution_count": 41
    }
   ],
   "source": [
    "d.nlargest(3,['population','GDP'])"
   ]
  },
  {
   "cell_type": "code",
   "execution_count": 43,
   "metadata": {},
   "outputs": [
    {
     "output_type": "execute_result",
     "data": {
      "text/plain": "              population      GDP alpha-2\nSouth Africa    58812491  2033594      SA\nCanada          37522972  1833594      CA\nAustralia         339757   153594      AU\nMaldives          339757    14520      MV\nIceland           339757    10128      IS",
      "text/html": "<div>\n<style scoped>\n    .dataframe tbody tr th:only-of-type {\n        vertical-align: middle;\n    }\n\n    .dataframe tbody tr th {\n        vertical-align: top;\n    }\n\n    .dataframe thead th {\n        text-align: right;\n    }\n</style>\n<table border=\"1\" class=\"dataframe\">\n  <thead>\n    <tr style=\"text-align: right;\">\n      <th></th>\n      <th>population</th>\n      <th>GDP</th>\n      <th>alpha-2</th>\n    </tr>\n  </thead>\n  <tbody>\n    <tr>\n      <th>South Africa</th>\n      <td>58812491</td>\n      <td>2033594</td>\n      <td>SA</td>\n    </tr>\n    <tr>\n      <th>Canada</th>\n      <td>37522972</td>\n      <td>1833594</td>\n      <td>CA</td>\n    </tr>\n    <tr>\n      <th>Australia</th>\n      <td>339757</td>\n      <td>153594</td>\n      <td>AU</td>\n    </tr>\n    <tr>\n      <th>Maldives</th>\n      <td>339757</td>\n      <td>14520</td>\n      <td>MV</td>\n    </tr>\n    <tr>\n      <th>Iceland</th>\n      <td>339757</td>\n      <td>10128</td>\n      <td>IS</td>\n    </tr>\n  </tbody>\n</table>\n</div>"
     },
     "metadata": {},
     "execution_count": 43
    }
   ],
   "source": [
    "d.nlargest(3,'population',keep='all')"
   ]
  },
  {
   "cell_type": "code",
   "execution_count": null,
   "metadata": {},
   "outputs": [],
   "source": []
  }
 ]
}