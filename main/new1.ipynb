import pandas as pd
ss = pd.read_csv('desp.csv')
print(ss)
ss
ss.describe()
ss['THICK'].value_counts()
ss

