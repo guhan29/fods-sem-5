{
 "metadata": {
  "language_info": {
   "codemirror_mode": {
    "name": "ipython",
    "version": 3
   },
   "file_extension": ".py",
   "mimetype": "text/x-python",
   "name": "python",
   "nbconvert_exporter": "python",
   "pygments_lexer": "ipython3",
   "version": 3
  },
  "orig_nbformat": 2,
  "kernelspec": {
   "name": "python_defaultSpec_1596446657215",
   "display_name": "Python 3.8.2 32-bit"
  }
 },
 "nbformat": 4,
 "nbformat_minor": 2,
 "cells": [
  {
   "cell_type": "code",
   "execution_count": null,
   "metadata": {},
   "outputs": [],
   "source": []
  },
  {
   "cell_type": "code",
   "execution_count": 1,
   "metadata": {},
   "outputs": [],
   "source": [
    "import pandas as pd"
   ]
  },
  {
   "cell_type": "code",
   "execution_count": 2,
   "metadata": {},
   "outputs": [],
   "source": [
    "ss=pd.read_csv('https://raw.githubusercontent.com/sams248/DataQuest/master/Missions/2.%20Data%20Analysis%20and%20Visualisation/1.%20Pandas%20and%20NumPy%20Fundamentals/3.%20Introduction%20to%20Pandas/f500.csv')"
   ]
  },
  {
   "cell_type": "code",
   "execution_count": 4,
   "metadata": {},
   "outputs": [],
   "source": [
    "link='https://raw.githubusercontent.com/sams248/DataQuest/master/Missions/2.%20Data%20Analysis%20and%20Visualisation/1.%20Pandas%20and%20NumPy%20Fundamentals/3.%20Introduction%20to%20Pandas/f500.csv'\n",
    "df=pd.read_csv(link)"
   ]
  },
  {
   "cell_type": "code",
   "execution_count": 5,
   "metadata": {},
   "outputs": [
    {
     "output_type": "execute_result",
     "data": {
      "text/plain": "                            company  rank  revenues  revenue_change  profits  \\\n0                           Walmart     1    485873             0.8  13643.0   \n1                        State Grid     2    315199            -4.4   9571.3   \n2                     Sinopec Group     3    267518            -9.1   1257.9   \n3          China National Petroleum     4    262573           -12.3   1867.5   \n4                      Toyota Motor     5    254694             7.7  16899.3   \n..                              ...   ...       ...             ...      ...   \n495  Teva Pharmaceutical Industries   496     21903            11.5    329.0   \n496        New China Life Insurance   497     21796           -13.3    743.9   \n497       Wm. Morrison Supermarkets   498     21741           -11.3    406.4   \n498                             TUI   499     21655            -5.5   1151.7   \n499                      AutoNation   500     21609             3.6    430.5   \n\n     assets  profit_change                  ceo  \\\n0    198825           -7.2  C. Douglas McMillon   \n1    489838           -6.2              Kou Wei   \n2    310726          -65.0            Wang Yupu   \n3    585619          -73.7        Zhang Jianhua   \n4    437575          -12.3          Akio Toyoda   \n..      ...            ...                  ...   \n495   92890          -79.3    Yitzhak Peterburg   \n496  100609          -45.6             Wan Feng   \n497   11630           20.4       David T. Potts   \n498   16247          195.5    Friedrich Joussen   \n499   10060           -2.7   Michael J. Jackson   \n\n                            industry                  sector  previous_rank  \\\n0              General Merchandisers               Retailing              1   \n1                          Utilities                  Energy              2   \n2                 Petroleum Refining                  Energy              4   \n3                 Petroleum Refining                  Energy              3   \n4           Motor Vehicles and Parts  Motor Vehicles & Parts              8   \n..                               ...                     ...            ...   \n495                  Pharmaceuticals             Health Care              0   \n496  Insurance: Life, Health (stock)              Financials            427   \n497             Food and Drug Stores      Food & Drug Stores            437   \n498                  Travel Services       Business Services            467   \n499              Specialty Retailers               Retailing              0   \n\n     country           hq_location                       website  \\\n0        USA       Bentonville, AR        http://www.walmart.com   \n1      China        Beijing, China        http://www.sgcc.com.cn   \n2      China        Beijing, China        http://www.sinopec.com   \n3      China        Beijing, China        http://www.cnpc.com.cn   \n4      Japan         Toyota, Japan  http://www.toyota-global.com   \n..       ...                   ...                           ...   \n495   Israel  Petach Tikva, Israel      http://www.tevapharm.com   \n496    China        Beijing, China   http://www.newchinalife.com   \n497  Britain     Bradford, Britain      http://www.morrisons.com   \n498  Germany      Hanover, Germany       http://www.tuigroup.com   \n499      USA   Fort Lauderdale, FL     http://www.autonation.com   \n\n     years_on_global_500_list  employees  total_stockholder_equity  \n0                          23    2300000                     77798  \n1                          17     926067                    209456  \n2                          19     713288                    106523  \n3                          17    1512048                    301893  \n4                          23     364445                    157210  \n..                        ...        ...                       ...  \n495                         1      56960                     33337  \n496                         2      54378                      8507  \n497                        13      77210                      5111  \n498                        23      66779                      3006  \n499                        12      26000                      2310  \n\n[500 rows x 17 columns]",
      "text/html": "<div>\n<style scoped>\n    .dataframe tbody tr th:only-of-type {\n        vertical-align: middle;\n    }\n\n    .dataframe tbody tr th {\n        vertical-align: top;\n    }\n\n    .dataframe thead th {\n        text-align: right;\n    }\n</style>\n<table border=\"1\" class=\"dataframe\">\n  <thead>\n    <tr style=\"text-align: right;\">\n      <th></th>\n      <th>company</th>\n      <th>rank</th>\n      <th>revenues</th>\n      <th>revenue_change</th>\n      <th>profits</th>\n      <th>assets</th>\n      <th>profit_change</th>\n      <th>ceo</th>\n      <th>industry</th>\n      <th>sector</th>\n      <th>previous_rank</th>\n      <th>country</th>\n      <th>hq_location</th>\n      <th>website</th>\n      <th>years_on_global_500_list</th>\n      <th>employees</th>\n      <th>total_stockholder_equity</th>\n    </tr>\n  </thead>\n  <tbody>\n    <tr>\n      <th>0</th>\n      <td>Walmart</td>\n      <td>1</td>\n      <td>485873</td>\n      <td>0.8</td>\n      <td>13643.0</td>\n      <td>198825</td>\n      <td>-7.2</td>\n      <td>C. Douglas McMillon</td>\n      <td>General Merchandisers</td>\n      <td>Retailing</td>\n      <td>1</td>\n      <td>USA</td>\n      <td>Bentonville, AR</td>\n      <td>http://www.walmart.com</td>\n      <td>23</td>\n      <td>2300000</td>\n      <td>77798</td>\n    </tr>\n    <tr>\n      <th>1</th>\n      <td>State Grid</td>\n      <td>2</td>\n      <td>315199</td>\n      <td>-4.4</td>\n      <td>9571.3</td>\n      <td>489838</td>\n      <td>-6.2</td>\n      <td>Kou Wei</td>\n      <td>Utilities</td>\n      <td>Energy</td>\n      <td>2</td>\n      <td>China</td>\n      <td>Beijing, China</td>\n      <td>http://www.sgcc.com.cn</td>\n      <td>17</td>\n      <td>926067</td>\n      <td>209456</td>\n    </tr>\n    <tr>\n      <th>2</th>\n      <td>Sinopec Group</td>\n      <td>3</td>\n      <td>267518</td>\n      <td>-9.1</td>\n      <td>1257.9</td>\n      <td>310726</td>\n      <td>-65.0</td>\n      <td>Wang Yupu</td>\n      <td>Petroleum Refining</td>\n      <td>Energy</td>\n      <td>4</td>\n      <td>China</td>\n      <td>Beijing, China</td>\n      <td>http://www.sinopec.com</td>\n      <td>19</td>\n      <td>713288</td>\n      <td>106523</td>\n    </tr>\n    <tr>\n      <th>3</th>\n      <td>China National Petroleum</td>\n      <td>4</td>\n      <td>262573</td>\n      <td>-12.3</td>\n      <td>1867.5</td>\n      <td>585619</td>\n      <td>-73.7</td>\n      <td>Zhang Jianhua</td>\n      <td>Petroleum Refining</td>\n      <td>Energy</td>\n      <td>3</td>\n      <td>China</td>\n      <td>Beijing, China</td>\n      <td>http://www.cnpc.com.cn</td>\n      <td>17</td>\n      <td>1512048</td>\n      <td>301893</td>\n    </tr>\n    <tr>\n      <th>4</th>\n      <td>Toyota Motor</td>\n      <td>5</td>\n      <td>254694</td>\n      <td>7.7</td>\n      <td>16899.3</td>\n      <td>437575</td>\n      <td>-12.3</td>\n      <td>Akio Toyoda</td>\n      <td>Motor Vehicles and Parts</td>\n      <td>Motor Vehicles &amp; Parts</td>\n      <td>8</td>\n      <td>Japan</td>\n      <td>Toyota, Japan</td>\n      <td>http://www.toyota-global.com</td>\n      <td>23</td>\n      <td>364445</td>\n      <td>157210</td>\n    </tr>\n    <tr>\n      <th>...</th>\n      <td>...</td>\n      <td>...</td>\n      <td>...</td>\n      <td>...</td>\n      <td>...</td>\n      <td>...</td>\n      <td>...</td>\n      <td>...</td>\n      <td>...</td>\n      <td>...</td>\n      <td>...</td>\n      <td>...</td>\n      <td>...</td>\n      <td>...</td>\n      <td>...</td>\n      <td>...</td>\n      <td>...</td>\n    </tr>\n    <tr>\n      <th>495</th>\n      <td>Teva Pharmaceutical Industries</td>\n      <td>496</td>\n      <td>21903</td>\n      <td>11.5</td>\n      <td>329.0</td>\n      <td>92890</td>\n      <td>-79.3</td>\n      <td>Yitzhak Peterburg</td>\n      <td>Pharmaceuticals</td>\n      <td>Health Care</td>\n      <td>0</td>\n      <td>Israel</td>\n      <td>Petach Tikva, Israel</td>\n      <td>http://www.tevapharm.com</td>\n      <td>1</td>\n      <td>56960</td>\n      <td>33337</td>\n    </tr>\n    <tr>\n      <th>496</th>\n      <td>New China Life Insurance</td>\n      <td>497</td>\n      <td>21796</td>\n      <td>-13.3</td>\n      <td>743.9</td>\n      <td>100609</td>\n      <td>-45.6</td>\n      <td>Wan Feng</td>\n      <td>Insurance: Life, Health (stock)</td>\n      <td>Financials</td>\n      <td>427</td>\n      <td>China</td>\n      <td>Beijing, China</td>\n      <td>http://www.newchinalife.com</td>\n      <td>2</td>\n      <td>54378</td>\n      <td>8507</td>\n    </tr>\n    <tr>\n      <th>497</th>\n      <td>Wm. Morrison Supermarkets</td>\n      <td>498</td>\n      <td>21741</td>\n      <td>-11.3</td>\n      <td>406.4</td>\n      <td>11630</td>\n      <td>20.4</td>\n      <td>David T. Potts</td>\n      <td>Food and Drug Stores</td>\n      <td>Food &amp; Drug Stores</td>\n      <td>437</td>\n      <td>Britain</td>\n      <td>Bradford, Britain</td>\n      <td>http://www.morrisons.com</td>\n      <td>13</td>\n      <td>77210</td>\n      <td>5111</td>\n    </tr>\n    <tr>\n      <th>498</th>\n      <td>TUI</td>\n      <td>499</td>\n      <td>21655</td>\n      <td>-5.5</td>\n      <td>1151.7</td>\n      <td>16247</td>\n      <td>195.5</td>\n      <td>Friedrich Joussen</td>\n      <td>Travel Services</td>\n      <td>Business Services</td>\n      <td>467</td>\n      <td>Germany</td>\n      <td>Hanover, Germany</td>\n      <td>http://www.tuigroup.com</td>\n      <td>23</td>\n      <td>66779</td>\n      <td>3006</td>\n    </tr>\n    <tr>\n      <th>499</th>\n      <td>AutoNation</td>\n      <td>500</td>\n      <td>21609</td>\n      <td>3.6</td>\n      <td>430.5</td>\n      <td>10060</td>\n      <td>-2.7</td>\n      <td>Michael J. Jackson</td>\n      <td>Specialty Retailers</td>\n      <td>Retailing</td>\n      <td>0</td>\n      <td>USA</td>\n      <td>Fort Lauderdale, FL</td>\n      <td>http://www.autonation.com</td>\n      <td>12</td>\n      <td>26000</td>\n      <td>2310</td>\n    </tr>\n  </tbody>\n</table>\n<p>500 rows × 17 columns</p>\n</div>"
     },
     "metadata": {},
     "execution_count": 5
    }
   ],
   "source": [
    "df"
   ]
  },
  {
   "cell_type": "code",
   "execution_count": 6,
   "metadata": {},
   "outputs": [],
   "source": [
    "d=pd.read_csv(link,header=0)"
   ]
  },
  {
   "cell_type": "code",
   "execution_count": 7,
   "metadata": {},
   "outputs": [
    {
     "output_type": "execute_result",
     "data": {
      "text/plain": "      company  rank  revenues  revenue_change  profits  assets  profit_change  \\\n0     Walmart     1    485873             0.8  13643.0  198825           -7.2   \n1  State Grid     2    315199            -4.4   9571.3  489838           -6.2   \n\n                   ceo               industry     sector  previous_rank  \\\n0  C. Douglas McMillon  General Merchandisers  Retailing              1   \n1              Kou Wei              Utilities     Energy              2   \n\n  country      hq_location                 website  years_on_global_500_list  \\\n0     USA  Bentonville, AR  http://www.walmart.com                        23   \n1   China   Beijing, China  http://www.sgcc.com.cn                        17   \n\n   employees  total_stockholder_equity  \n0    2300000                     77798  \n1     926067                    209456  ",
      "text/html": "<div>\n<style scoped>\n    .dataframe tbody tr th:only-of-type {\n        vertical-align: middle;\n    }\n\n    .dataframe tbody tr th {\n        vertical-align: top;\n    }\n\n    .dataframe thead th {\n        text-align: right;\n    }\n</style>\n<table border=\"1\" class=\"dataframe\">\n  <thead>\n    <tr style=\"text-align: right;\">\n      <th></th>\n      <th>company</th>\n      <th>rank</th>\n      <th>revenues</th>\n      <th>revenue_change</th>\n      <th>profits</th>\n      <th>assets</th>\n      <th>profit_change</th>\n      <th>ceo</th>\n      <th>industry</th>\n      <th>sector</th>\n      <th>previous_rank</th>\n      <th>country</th>\n      <th>hq_location</th>\n      <th>website</th>\n      <th>years_on_global_500_list</th>\n      <th>employees</th>\n      <th>total_stockholder_equity</th>\n    </tr>\n  </thead>\n  <tbody>\n    <tr>\n      <th>0</th>\n      <td>Walmart</td>\n      <td>1</td>\n      <td>485873</td>\n      <td>0.8</td>\n      <td>13643.0</td>\n      <td>198825</td>\n      <td>-7.2</td>\n      <td>C. Douglas McMillon</td>\n      <td>General Merchandisers</td>\n      <td>Retailing</td>\n      <td>1</td>\n      <td>USA</td>\n      <td>Bentonville, AR</td>\n      <td>http://www.walmart.com</td>\n      <td>23</td>\n      <td>2300000</td>\n      <td>77798</td>\n    </tr>\n    <tr>\n      <th>1</th>\n      <td>State Grid</td>\n      <td>2</td>\n      <td>315199</td>\n      <td>-4.4</td>\n      <td>9571.3</td>\n      <td>489838</td>\n      <td>-6.2</td>\n      <td>Kou Wei</td>\n      <td>Utilities</td>\n      <td>Energy</td>\n      <td>2</td>\n      <td>China</td>\n      <td>Beijing, China</td>\n      <td>http://www.sgcc.com.cn</td>\n      <td>17</td>\n      <td>926067</td>\n      <td>209456</td>\n    </tr>\n  </tbody>\n</table>\n</div>"
     },
     "metadata": {},
     "execution_count": 7
    }
   ],
   "source": [
    "d.head(2)\n"
   ]
  },
  {
   "cell_type": "code",
   "execution_count": 8,
   "metadata": {},
   "outputs": [
    {
     "output_type": "execute_result",
     "data": {
      "text/plain": "         company  rank  revenues\n0        Walmart     1    485873\n1     State Grid     2    315199\n2  Sinopec Group     3    267518",
      "text/html": "<div>\n<style scoped>\n    .dataframe tbody tr th:only-of-type {\n        vertical-align: middle;\n    }\n\n    .dataframe tbody tr th {\n        vertical-align: top;\n    }\n\n    .dataframe thead th {\n        text-align: right;\n    }\n</style>\n<table border=\"1\" class=\"dataframe\">\n  <thead>\n    <tr style=\"text-align: right;\">\n      <th></th>\n      <th>company</th>\n      <th>rank</th>\n      <th>revenues</th>\n    </tr>\n  </thead>\n  <tbody>\n    <tr>\n      <th>0</th>\n      <td>Walmart</td>\n      <td>1</td>\n      <td>485873</td>\n    </tr>\n    <tr>\n      <th>1</th>\n      <td>State Grid</td>\n      <td>2</td>\n      <td>315199</td>\n    </tr>\n    <tr>\n      <th>2</th>\n      <td>Sinopec Group</td>\n      <td>3</td>\n      <td>267518</td>\n    </tr>\n  </tbody>\n</table>\n</div>"
     },
     "metadata": {},
     "execution_count": 8
    }
   ],
   "source": [
    "dd=pd.read_csv(link,usecols=['company','rank','revenues'])\n",
    "dd.head(3)"
   ]
  },
  {
   "cell_type": "code",
   "execution_count": 9,
   "metadata": {},
   "outputs": [
    {
     "output_type": "execute_result",
     "data": {
      "text/plain": "   revenues  revenue_change  profits  assets  profit_change  \\\n0    485873             0.8  13643.0  198825           -7.2   \n1    315199            -4.4   9571.3  489838           -6.2   \n2    267518            -9.1   1257.9  310726          -65.0   \n\n                   ceo               industry     sector  previous_rank  \\\n0  C. Douglas McMillon  General Merchandisers  Retailing              1   \n1              Kou Wei              Utilities     Energy              2   \n2            Wang Yupu     Petroleum Refining     Energy              4   \n\n  country      hq_location                 website  years_on_global_500_list  \\\n0     USA  Bentonville, AR  http://www.walmart.com                        23   \n1   China   Beijing, China  http://www.sgcc.com.cn                        17   \n2   China   Beijing, China  http://www.sinopec.com                        19   \n\n   employees  total_stockholder_equity  \n0    2300000                     77798  \n1     926067                    209456  \n2     713288                    106523  ",
      "text/html": "<div>\n<style scoped>\n    .dataframe tbody tr th:only-of-type {\n        vertical-align: middle;\n    }\n\n    .dataframe tbody tr th {\n        vertical-align: top;\n    }\n\n    .dataframe thead th {\n        text-align: right;\n    }\n</style>\n<table border=\"1\" class=\"dataframe\">\n  <thead>\n    <tr style=\"text-align: right;\">\n      <th></th>\n      <th>revenues</th>\n      <th>revenue_change</th>\n      <th>profits</th>\n      <th>assets</th>\n      <th>profit_change</th>\n      <th>ceo</th>\n      <th>industry</th>\n      <th>sector</th>\n      <th>previous_rank</th>\n      <th>country</th>\n      <th>hq_location</th>\n      <th>website</th>\n      <th>years_on_global_500_list</th>\n      <th>employees</th>\n      <th>total_stockholder_equity</th>\n    </tr>\n  </thead>\n  <tbody>\n    <tr>\n      <th>0</th>\n      <td>485873</td>\n      <td>0.8</td>\n      <td>13643.0</td>\n      <td>198825</td>\n      <td>-7.2</td>\n      <td>C. Douglas McMillon</td>\n      <td>General Merchandisers</td>\n      <td>Retailing</td>\n      <td>1</td>\n      <td>USA</td>\n      <td>Bentonville, AR</td>\n      <td>http://www.walmart.com</td>\n      <td>23</td>\n      <td>2300000</td>\n      <td>77798</td>\n    </tr>\n    <tr>\n      <th>1</th>\n      <td>315199</td>\n      <td>-4.4</td>\n      <td>9571.3</td>\n      <td>489838</td>\n      <td>-6.2</td>\n      <td>Kou Wei</td>\n      <td>Utilities</td>\n      <td>Energy</td>\n      <td>2</td>\n      <td>China</td>\n      <td>Beijing, China</td>\n      <td>http://www.sgcc.com.cn</td>\n      <td>17</td>\n      <td>926067</td>\n      <td>209456</td>\n    </tr>\n    <tr>\n      <th>2</th>\n      <td>267518</td>\n      <td>-9.1</td>\n      <td>1257.9</td>\n      <td>310726</td>\n      <td>-65.0</td>\n      <td>Wang Yupu</td>\n      <td>Petroleum Refining</td>\n      <td>Energy</td>\n      <td>4</td>\n      <td>China</td>\n      <td>Beijing, China</td>\n      <td>http://www.sinopec.com</td>\n      <td>19</td>\n      <td>713288</td>\n      <td>106523</td>\n    </tr>\n  </tbody>\n</table>\n</div>"
     },
     "metadata": {},
     "execution_count": 9
    }
   ],
   "source": [
    "d1=pd.read_csv(link,usecols=lambda column : column not in['company','rank'])\n",
    "d1.head(3)"
   ]
  },
  {
   "cell_type": "code",
   "execution_count": 9,
   "metadata": {},
   "outputs": [
    {
     "output_type": "execute_result",
     "data": {
      "text/plain": "dict_keys(['Data_Tab_1', 'Data_Tab_2', 'Data_Tab_3'])"
     },
     "metadata": {},
     "execution_count": 9
    }
   ],
   "source": [
    "import pandas as pd\n",
    "dict_df=pd.read_excel('Housing_data.xlsx',sheet_name=None)\n",
    "dict_df.keys()"
   ]
  },
  {
   "cell_type": "code",
   "execution_count": 7,
   "metadata": {},
   "outputs": [
    {
     "output_type": "execute_result",
     "data": {
      "text/plain": "   Bedroom   Sq. foot  Locality   Price ($)\n3        3       1850       Bad      280000\n4        2       1640      Good      310000",
      "text/html": "<div>\n<style scoped>\n    .dataframe tbody tr th:only-of-type {\n        vertical-align: middle;\n    }\n\n    .dataframe tbody tr th {\n        vertical-align: top;\n    }\n\n    .dataframe thead th {\n        text-align: right;\n    }\n</style>\n<table border=\"1\" class=\"dataframe\">\n  <thead>\n    <tr style=\"text-align: right;\">\n      <th></th>\n      <th>Bedroom</th>\n      <th>Sq. foot</th>\n      <th>Locality</th>\n      <th>Price ($)</th>\n    </tr>\n  </thead>\n  <tbody>\n    <tr>\n      <th>3</th>\n      <td>3</td>\n      <td>1850</td>\n      <td>Bad</td>\n      <td>280000</td>\n    </tr>\n    <tr>\n      <th>4</th>\n      <td>2</td>\n      <td>1640</td>\n      <td>Good</td>\n      <td>310000</td>\n    </tr>\n  </tbody>\n</table>\n</div>"
     },
     "metadata": {},
     "execution_count": 7
    }
   ],
   "source": [
    "df_table=pd.read_table('Table_EX_1.txt',sep=',')\n",
    "df_table.tail(2)"
   ]
  },
  {
   "cell_type": "code",
   "execution_count": 11,
   "metadata": {},
   "outputs": [
    {
     "output_type": "execute_result",
     "data": {
      "text/plain": "      CRIM    ZN  INDUS  CHAS    NOX     RM    AGE     DIS  RAD  TAX  PTRATIO  \\\n7  0.14455  12.5   7.87     0  0.524  6.172   96.1  5.9505    5  311     15.2   \n8  0.21124  12.5   7.87     0  0.524  5.631  100.0  6.0821    5  311     15.2   \n\n        B  LSTAT  PRICE  \n7  396.90  19.15   27.1  \n8  386.63  29.93   16.5  ",
      "text/html": "<div>\n<style scoped>\n    .dataframe tbody tr th:only-of-type {\n        vertical-align: middle;\n    }\n\n    .dataframe tbody tr th {\n        vertical-align: top;\n    }\n\n    .dataframe thead th {\n        text-align: right;\n    }\n</style>\n<table border=\"1\" class=\"dataframe\">\n  <thead>\n    <tr style=\"text-align: right;\">\n      <th></th>\n      <th>CRIM</th>\n      <th>ZN</th>\n      <th>INDUS</th>\n      <th>CHAS</th>\n      <th>NOX</th>\n      <th>RM</th>\n      <th>AGE</th>\n      <th>DIS</th>\n      <th>RAD</th>\n      <th>TAX</th>\n      <th>PTRATIO</th>\n      <th>B</th>\n      <th>LSTAT</th>\n      <th>PRICE</th>\n    </tr>\n  </thead>\n  <tbody>\n    <tr>\n      <th>7</th>\n      <td>0.14455</td>\n      <td>12.5</td>\n      <td>7.87</td>\n      <td>0</td>\n      <td>0.524</td>\n      <td>6.172</td>\n      <td>96.1</td>\n      <td>5.9505</td>\n      <td>5</td>\n      <td>311</td>\n      <td>15.2</td>\n      <td>396.90</td>\n      <td>19.15</td>\n      <td>27.1</td>\n    </tr>\n    <tr>\n      <th>8</th>\n      <td>0.21124</td>\n      <td>12.5</td>\n      <td>7.87</td>\n      <td>0</td>\n      <td>0.524</td>\n      <td>5.631</td>\n      <td>100.0</td>\n      <td>6.0821</td>\n      <td>5</td>\n      <td>311</td>\n      <td>15.2</td>\n      <td>386.63</td>\n      <td>29.93</td>\n      <td>16.5</td>\n    </tr>\n  </tbody>\n</table>\n</div>"
     },
     "metadata": {},
     "execution_count": 11
    }
   ],
   "source": [
    "dict_1=pd.read_excel('Housing_data.xlsx')#without parameter sheetname,returns only 1st sheet\n",
    "dict_1.tail(2)"
   ]
  },
  {
   "cell_type": "code",
   "execution_count": 6,
   "metadata": {},
   "outputs": [
    {
     "output_type": "execute_result",
     "data": {
      "text/plain": "   Bedroom  Sq. foot   Locality  Price ($)\n0        2      1500       Good     300000\n1        3      1300       Fair     240000\n2        3      1900  Very good     450000\n3        3      1850        Bad     280000\n4        2      1640       Good     310000",
      "text/html": "<div>\n<style scoped>\n    .dataframe tbody tr th:only-of-type {\n        vertical-align: middle;\n    }\n\n    .dataframe tbody tr th {\n        vertical-align: top;\n    }\n\n    .dataframe thead th {\n        text-align: right;\n    }\n</style>\n<table border=\"1\" class=\"dataframe\">\n  <thead>\n    <tr style=\"text-align: right;\">\n      <th></th>\n      <th>Bedroom</th>\n      <th>Sq. foot</th>\n      <th>Locality</th>\n      <th>Price ($)</th>\n    </tr>\n  </thead>\n  <tbody>\n    <tr>\n      <th>0</th>\n      <td>2</td>\n      <td>1500</td>\n      <td>Good</td>\n      <td>300000</td>\n    </tr>\n    <tr>\n      <th>1</th>\n      <td>3</td>\n      <td>1300</td>\n      <td>Fair</td>\n      <td>240000</td>\n    </tr>\n    <tr>\n      <th>2</th>\n      <td>3</td>\n      <td>1900</td>\n      <td>Very good</td>\n      <td>450000</td>\n    </tr>\n    <tr>\n      <th>3</th>\n      <td>3</td>\n      <td>1850</td>\n      <td>Bad</td>\n      <td>280000</td>\n    </tr>\n    <tr>\n      <th>4</th>\n      <td>2</td>\n      <td>1640</td>\n      <td>Good</td>\n      <td>310000</td>\n    </tr>\n  </tbody>\n</table>\n</div>"
     },
     "metadata": {},
     "execution_count": 6
    }
   ],
   "source": [
    "df_tab=pd.read_table('Table_tab_separated.txt')\n",
    "df_tab.head()"
   ]
  },
  {
   "cell_type": "code",
   "execution_count": 3,
   "metadata": {},
   "outputs": [
    {
     "output_type": "execute_result",
     "data": {
      "text/plain": "                             Bank Name           City  ST   CERT  \\\n0                 The First State Bank  Barboursville  WV  14361   \n1                   Ericson State Bank        Ericson  NE  18265   \n2     City National Bank of New Jersey         Newark  NJ  21111   \n3                        Resolute Bank         Maumee  OH  58317   \n4                Louisa Community Bank         Louisa  KY  58112   \n..                                 ...            ...  ..    ...   \n556                 Superior Bank, FSB       Hinsdale  IL  32646   \n557                Malta National Bank          Malta  OH   6629   \n558    First Alliance Bank & Trust Co.     Manchester  NH  34264   \n559  National State Bank of Metropolis     Metropolis  IL   3815   \n560                   Bank of Honolulu       Honolulu  HI  21029   \n\n                   Acquiring Institution       Closing Date  \n0                         MVB Bank, Inc.      April 3, 2020  \n1             Farmers and Merchants Bank  February 14, 2020  \n2                        Industrial Bank   November 1, 2019  \n3                     Buckeye State Bank   October 25, 2019  \n4      Kentucky Farmers Bank Corporation   October 25, 2019  \n..                                   ...                ...  \n556                Superior Federal, FSB      July 27, 2001  \n557                    North Valley Bank        May 3, 2001  \n558  Southern New Hampshire Bank & Trust   February 2, 2001  \n559              Banterra Bank of Marion  December 14, 2000  \n560                   Bank of the Orient   October 13, 2000  \n\n[561 rows x 6 columns]",
      "text/html": "<div>\n<style scoped>\n    .dataframe tbody tr th:only-of-type {\n        vertical-align: middle;\n    }\n\n    .dataframe tbody tr th {\n        vertical-align: top;\n    }\n\n    .dataframe thead th {\n        text-align: right;\n    }\n</style>\n<table border=\"1\" class=\"dataframe\">\n  <thead>\n    <tr style=\"text-align: right;\">\n      <th></th>\n      <th>Bank Name</th>\n      <th>City</th>\n      <th>ST</th>\n      <th>CERT</th>\n      <th>Acquiring Institution</th>\n      <th>Closing Date</th>\n    </tr>\n  </thead>\n  <tbody>\n    <tr>\n      <th>0</th>\n      <td>The First State Bank</td>\n      <td>Barboursville</td>\n      <td>WV</td>\n      <td>14361</td>\n      <td>MVB Bank, Inc.</td>\n      <td>April 3, 2020</td>\n    </tr>\n    <tr>\n      <th>1</th>\n      <td>Ericson State Bank</td>\n      <td>Ericson</td>\n      <td>NE</td>\n      <td>18265</td>\n      <td>Farmers and Merchants Bank</td>\n      <td>February 14, 2020</td>\n    </tr>\n    <tr>\n      <th>2</th>\n      <td>City National Bank of New Jersey</td>\n      <td>Newark</td>\n      <td>NJ</td>\n      <td>21111</td>\n      <td>Industrial Bank</td>\n      <td>November 1, 2019</td>\n    </tr>\n    <tr>\n      <th>3</th>\n      <td>Resolute Bank</td>\n      <td>Maumee</td>\n      <td>OH</td>\n      <td>58317</td>\n      <td>Buckeye State Bank</td>\n      <td>October 25, 2019</td>\n    </tr>\n    <tr>\n      <th>4</th>\n      <td>Louisa Community Bank</td>\n      <td>Louisa</td>\n      <td>KY</td>\n      <td>58112</td>\n      <td>Kentucky Farmers Bank Corporation</td>\n      <td>October 25, 2019</td>\n    </tr>\n    <tr>\n      <th>...</th>\n      <td>...</td>\n      <td>...</td>\n      <td>...</td>\n      <td>...</td>\n      <td>...</td>\n      <td>...</td>\n    </tr>\n    <tr>\n      <th>556</th>\n      <td>Superior Bank, FSB</td>\n      <td>Hinsdale</td>\n      <td>IL</td>\n      <td>32646</td>\n      <td>Superior Federal, FSB</td>\n      <td>July 27, 2001</td>\n    </tr>\n    <tr>\n      <th>557</th>\n      <td>Malta National Bank</td>\n      <td>Malta</td>\n      <td>OH</td>\n      <td>6629</td>\n      <td>North Valley Bank</td>\n      <td>May 3, 2001</td>\n    </tr>\n    <tr>\n      <th>558</th>\n      <td>First Alliance Bank &amp; Trust Co.</td>\n      <td>Manchester</td>\n      <td>NH</td>\n      <td>34264</td>\n      <td>Southern New Hampshire Bank &amp; Trust</td>\n      <td>February 2, 2001</td>\n    </tr>\n    <tr>\n      <th>559</th>\n      <td>National State Bank of Metropolis</td>\n      <td>Metropolis</td>\n      <td>IL</td>\n      <td>3815</td>\n      <td>Banterra Bank of Marion</td>\n      <td>December 14, 2000</td>\n    </tr>\n    <tr>\n      <th>560</th>\n      <td>Bank of Honolulu</td>\n      <td>Honolulu</td>\n      <td>HI</td>\n      <td>21029</td>\n      <td>Bank of the Orient</td>\n      <td>October 13, 2000</td>\n    </tr>\n  </tbody>\n</table>\n<p>561 rows × 6 columns</p>\n</div>"
     },
     "metadata": {},
     "execution_count": 3
    }
   ],
   "source": [
    "import pandas as pd\n",
    "link2=\"http://www.fdic.gov/bank/individual/failed/banklist.html\"\n",
    "df_htm=pd.read_html(link2)\n",
    "df_htm[0]"
   ]
  },
  {
   "cell_type": "code",
   "execution_count": 4,
   "metadata": {},
   "outputs": [
    {
     "output_type": "execute_result",
     "data": {
      "text/plain": "                                  title  year cast genres\n0            After Dark in Central Park  1900   []     []\n1  Boarding School Girls' Pajama Parade  1900   []     []",
      "text/html": "<div>\n<style scoped>\n    .dataframe tbody tr th:only-of-type {\n        vertical-align: middle;\n    }\n\n    .dataframe tbody tr th {\n        vertical-align: top;\n    }\n\n    .dataframe thead th {\n        text-align: right;\n    }\n</style>\n<table border=\"1\" class=\"dataframe\">\n  <thead>\n    <tr style=\"text-align: right;\">\n      <th></th>\n      <th>title</th>\n      <th>year</th>\n      <th>cast</th>\n      <th>genres</th>\n    </tr>\n  </thead>\n  <tbody>\n    <tr>\n      <th>0</th>\n      <td>After Dark in Central Park</td>\n      <td>1900</td>\n      <td>[]</td>\n      <td>[]</td>\n    </tr>\n    <tr>\n      <th>1</th>\n      <td>Boarding School Girls' Pajama Parade</td>\n      <td>1900</td>\n      <td>[]</td>\n      <td>[]</td>\n    </tr>\n  </tbody>\n</table>\n</div>"
     },
     "metadata": {},
     "execution_count": 4
    }
   ],
   "source": [
    "df_js=pd.read_json('movies.json')\n",
    "df_js.head(2)"
   ]
  },
  {
   "cell_type": "code",
   "execution_count": 2,
   "metadata": {},
   "outputs": [
    {
     "output_type": "execute_result",
     "data": {
      "text/plain": "   YY1  Y1          wgt  hhsex  age  agecl  educ  edcl  married  kids  ...  \\\n0    1  11  6427.136676      2   71      5    10     3        2     0  ...   \n1    1  12  6428.350592      2   71      5    10     3        2     0  ...   \n2    1  13  6414.477294      2   71      5    10     3        2     0  ...   \n3    1  14  6428.487972      2   71      5    10     3        2     0  ...   \n4    1  15  6425.256822      2   71      5    10     3        2     0  ...   \n\n   LLOAN11  LLOAN12  nwcat  inccat  assetcat  ninccat  NINC2CAT  nwpctlecat  \\\n0        0        0      3       1         3        1         1           7   \n1        0        0      3       1         3        1         1           7   \n2        0        0      3       1         3        1         1           7   \n3        0        0      3       1         3        1         1           7   \n4        0        0      3       1         3        1         1           7   \n\n   incpctlecat  nincpctlecat  \n0            1             1  \n1            1             1  \n2            1             1  \n3            1             1  \n4            1             1  \n\n[5 rows x 348 columns]",
      "text/html": "<div>\n<style scoped>\n    .dataframe tbody tr th:only-of-type {\n        vertical-align: middle;\n    }\n\n    .dataframe tbody tr th {\n        vertical-align: top;\n    }\n\n    .dataframe thead th {\n        text-align: right;\n    }\n</style>\n<table border=\"1\" class=\"dataframe\">\n  <thead>\n    <tr style=\"text-align: right;\">\n      <th></th>\n      <th>YY1</th>\n      <th>Y1</th>\n      <th>wgt</th>\n      <th>hhsex</th>\n      <th>age</th>\n      <th>agecl</th>\n      <th>educ</th>\n      <th>edcl</th>\n      <th>married</th>\n      <th>kids</th>\n      <th>...</th>\n      <th>LLOAN11</th>\n      <th>LLOAN12</th>\n      <th>nwcat</th>\n      <th>inccat</th>\n      <th>assetcat</th>\n      <th>ninccat</th>\n      <th>NINC2CAT</th>\n      <th>nwpctlecat</th>\n      <th>incpctlecat</th>\n      <th>nincpctlecat</th>\n    </tr>\n  </thead>\n  <tbody>\n    <tr>\n      <th>0</th>\n      <td>1</td>\n      <td>11</td>\n      <td>6427.136676</td>\n      <td>2</td>\n      <td>71</td>\n      <td>5</td>\n      <td>10</td>\n      <td>3</td>\n      <td>2</td>\n      <td>0</td>\n      <td>...</td>\n      <td>0</td>\n      <td>0</td>\n      <td>3</td>\n      <td>1</td>\n      <td>3</td>\n      <td>1</td>\n      <td>1</td>\n      <td>7</td>\n      <td>1</td>\n      <td>1</td>\n    </tr>\n    <tr>\n      <th>1</th>\n      <td>1</td>\n      <td>12</td>\n      <td>6428.350592</td>\n      <td>2</td>\n      <td>71</td>\n      <td>5</td>\n      <td>10</td>\n      <td>3</td>\n      <td>2</td>\n      <td>0</td>\n      <td>...</td>\n      <td>0</td>\n      <td>0</td>\n      <td>3</td>\n      <td>1</td>\n      <td>3</td>\n      <td>1</td>\n      <td>1</td>\n      <td>7</td>\n      <td>1</td>\n      <td>1</td>\n    </tr>\n    <tr>\n      <th>2</th>\n      <td>1</td>\n      <td>13</td>\n      <td>6414.477294</td>\n      <td>2</td>\n      <td>71</td>\n      <td>5</td>\n      <td>10</td>\n      <td>3</td>\n      <td>2</td>\n      <td>0</td>\n      <td>...</td>\n      <td>0</td>\n      <td>0</td>\n      <td>3</td>\n      <td>1</td>\n      <td>3</td>\n      <td>1</td>\n      <td>1</td>\n      <td>7</td>\n      <td>1</td>\n      <td>1</td>\n    </tr>\n    <tr>\n      <th>3</th>\n      <td>1</td>\n      <td>14</td>\n      <td>6428.487972</td>\n      <td>2</td>\n      <td>71</td>\n      <td>5</td>\n      <td>10</td>\n      <td>3</td>\n      <td>2</td>\n      <td>0</td>\n      <td>...</td>\n      <td>0</td>\n      <td>0</td>\n      <td>3</td>\n      <td>1</td>\n      <td>3</td>\n      <td>1</td>\n      <td>1</td>\n      <td>7</td>\n      <td>1</td>\n      <td>1</td>\n    </tr>\n    <tr>\n      <th>4</th>\n      <td>1</td>\n      <td>15</td>\n      <td>6425.256822</td>\n      <td>2</td>\n      <td>71</td>\n      <td>5</td>\n      <td>10</td>\n      <td>3</td>\n      <td>2</td>\n      <td>0</td>\n      <td>...</td>\n      <td>0</td>\n      <td>0</td>\n      <td>3</td>\n      <td>1</td>\n      <td>3</td>\n      <td>1</td>\n      <td>1</td>\n      <td>7</td>\n      <td>1</td>\n      <td>1</td>\n    </tr>\n  </tbody>\n</table>\n<p>5 rows × 348 columns</p>\n</div>"
     },
     "metadata": {},
     "execution_count": 2
    }
   ],
   "source": [
    "import pandas as pd \n",
    "df_stat=pd.read_stata('rscfp2016.dta')\n",
    "df_stat.head()"
   ]
  },
  {
   "cell_type": "code",
   "execution_count": 116,
   "metadata": {},
   "outputs": [
    {
     "output_type": "execute_result",
     "data": {
      "text/plain": "       Speed (mph)\ncount    12.000000\nmean    544.813750\nstd     104.598569\nmin     407.447000\n25%     460.094250\n50%     545.919500\n75%     606.052500\nmax     763.035000",
      "text/html": "<div>\n<style scoped>\n    .dataframe tbody tr th:only-of-type {\n        vertical-align: middle;\n    }\n\n    .dataframe tbody tr th {\n        vertical-align: top;\n    }\n\n    .dataframe thead th {\n        text-align: right;\n    }\n</style>\n<table border=\"1\" class=\"dataframe\">\n  <thead>\n    <tr style=\"text-align: right;\">\n      <th></th>\n      <th>Speed (mph)</th>\n    </tr>\n  </thead>\n  <tbody>\n    <tr>\n      <th>count</th>\n      <td>12.000000</td>\n    </tr>\n    <tr>\n      <th>mean</th>\n      <td>544.813750</td>\n    </tr>\n    <tr>\n      <th>std</th>\n      <td>104.598569</td>\n    </tr>\n    <tr>\n      <th>min</th>\n      <td>407.447000</td>\n    </tr>\n    <tr>\n      <th>25%</th>\n      <td>460.094250</td>\n    </tr>\n    <tr>\n      <th>50%</th>\n      <td>545.919500</td>\n    </tr>\n    <tr>\n      <th>75%</th>\n      <td>606.052500</td>\n    </tr>\n    <tr>\n      <th>max</th>\n      <td>763.035000</td>\n    </tr>\n  </tbody>\n</table>\n</div>"
     },
     "metadata": {},
     "execution_count": 116
    }
   ],
   "source": [
    "from tabula import read_pdf\n",
    "df_pdf=read_pdf('https://sedl.org/afterschool/toolkits/science/pdf/ast_sci_data_tables_sample.pdf',pages=[2])\n",
    "df_pdf[0].describe()"
   ]
  },
  {
   "cell_type": "code",
   "execution_count": 9,
   "metadata": {},
   "outputs": [
    {
     "output_type": "execute_result",
     "data": {
      "text/plain": "         0     1     2  3      4      5     6       7  8    9\n0  0.17004  12.5  7.87  0  0.524  6.004  85.9  6.5921  5  311\n1  0.22489  12.5  7.87  0  0.524  6.377  94.3  6.3467  5  311\n2  0.11747  12.5  7.87  0  0.524  6.009  82.9  6.2267  5  311\n3  0.09378  12.5  7.87  0  0.524  5.889  39.0  5.4509  5  311",
      "text/html": "<div>\n<style scoped>\n    .dataframe tbody tr th:only-of-type {\n        vertical-align: middle;\n    }\n\n    .dataframe tbody tr th {\n        vertical-align: top;\n    }\n\n    .dataframe thead th {\n        text-align: right;\n    }\n</style>\n<table border=\"1\" class=\"dataframe\">\n  <thead>\n    <tr style=\"text-align: right;\">\n      <th></th>\n      <th>0</th>\n      <th>1</th>\n      <th>2</th>\n      <th>3</th>\n      <th>4</th>\n      <th>5</th>\n      <th>6</th>\n      <th>7</th>\n      <th>8</th>\n      <th>9</th>\n    </tr>\n  </thead>\n  <tbody>\n    <tr>\n      <th>0</th>\n      <td>0.17004</td>\n      <td>12.5</td>\n      <td>7.87</td>\n      <td>0</td>\n      <td>0.524</td>\n      <td>6.004</td>\n      <td>85.9</td>\n      <td>6.5921</td>\n      <td>5</td>\n      <td>311</td>\n    </tr>\n    <tr>\n      <th>1</th>\n      <td>0.22489</td>\n      <td>12.5</td>\n      <td>7.87</td>\n      <td>0</td>\n      <td>0.524</td>\n      <td>6.377</td>\n      <td>94.3</td>\n      <td>6.3467</td>\n      <td>5</td>\n      <td>311</td>\n    </tr>\n    <tr>\n      <th>2</th>\n      <td>0.11747</td>\n      <td>12.5</td>\n      <td>7.87</td>\n      <td>0</td>\n      <td>0.524</td>\n      <td>6.009</td>\n      <td>82.9</td>\n      <td>6.2267</td>\n      <td>5</td>\n      <td>311</td>\n    </tr>\n    <tr>\n      <th>3</th>\n      <td>0.09378</td>\n      <td>12.5</td>\n      <td>7.87</td>\n      <td>0</td>\n      <td>0.524</td>\n      <td>5.889</td>\n      <td>39.0</td>\n      <td>5.4509</td>\n      <td>5</td>\n      <td>311</td>\n    </tr>\n  </tbody>\n</table>\n</div>"
     },
     "metadata": {},
     "execution_count": 9
    }
   ],
   "source": [
    "df_pdf[0]"
   ]
  },
  {
   "cell_type": "code",
   "execution_count": 11,
   "metadata": {},
   "outputs": [
    {
     "output_type": "execute_result",
     "data": {
      "text/plain": "   0.17004  12.5  7.87  0  0.524  6.004  85.9  6.5921  5  311\n0  0.22489  12.5  7.87  0  0.524  6.377  94.3  6.3467  5  311\n1  0.11747  12.5  7.87  0  0.524  6.009  82.9  6.2267  5  311\n2  0.09378  12.5  7.87  0  0.524  5.889  39.0  5.4509  5  311",
      "text/html": "<div>\n<style scoped>\n    .dataframe tbody tr th:only-of-type {\n        vertical-align: middle;\n    }\n\n    .dataframe tbody tr th {\n        vertical-align: top;\n    }\n\n    .dataframe thead th {\n        text-align: right;\n    }\n</style>\n<table border=\"1\" class=\"dataframe\">\n  <thead>\n    <tr style=\"text-align: right;\">\n      <th></th>\n      <th>0.17004</th>\n      <th>12.5</th>\n      <th>7.87</th>\n      <th>0</th>\n      <th>0.524</th>\n      <th>6.004</th>\n      <th>85.9</th>\n      <th>6.5921</th>\n      <th>5</th>\n      <th>311</th>\n    </tr>\n  </thead>\n  <tbody>\n    <tr>\n      <th>0</th>\n      <td>0.22489</td>\n      <td>12.5</td>\n      <td>7.87</td>\n      <td>0</td>\n      <td>0.524</td>\n      <td>6.377</td>\n      <td>94.3</td>\n      <td>6.3467</td>\n      <td>5</td>\n      <td>311</td>\n    </tr>\n    <tr>\n      <th>1</th>\n      <td>0.11747</td>\n      <td>12.5</td>\n      <td>7.87</td>\n      <td>0</td>\n      <td>0.524</td>\n      <td>6.009</td>\n      <td>82.9</td>\n      <td>6.2267</td>\n      <td>5</td>\n      <td>311</td>\n    </tr>\n    <tr>\n      <th>2</th>\n      <td>0.09378</td>\n      <td>12.5</td>\n      <td>7.87</td>\n      <td>0</td>\n      <td>0.524</td>\n      <td>5.889</td>\n      <td>39.0</td>\n      <td>5.4509</td>\n      <td>5</td>\n      <td>311</td>\n    </tr>\n  </tbody>\n</table>\n</div>"
     },
     "metadata": {},
     "execution_count": 11
    }
   ],
   "source": [
    "df_1pdf=read_pdf('Housing_data.pdf',pages=[1])\n",
    "df_1pdf[0]"
   ]
  },
  {
   "cell_type": "code",
   "execution_count": 13,
   "metadata": {},
   "outputs": [
    {
     "output_type": "execute_result",
     "data": {
      "text/plain": "         0     1     2  3      4      5     6       7  8    9\n0  0.17004  12.5  7.87  0  0.524  6.004  85.9  6.5921  5  311\n1  0.22489  12.5  7.87  0  0.524  6.377  94.3  6.3467  5  311\n2  0.11747  12.5  7.87  0  0.524  6.009  82.9  6.2267  5  311\n3  0.09378  12.5  7.87  0  0.524  5.889  39.0  5.4509  5  311",
      "text/html": "<div>\n<style scoped>\n    .dataframe tbody tr th:only-of-type {\n        vertical-align: middle;\n    }\n\n    .dataframe tbody tr th {\n        vertical-align: top;\n    }\n\n    .dataframe thead th {\n        text-align: right;\n    }\n</style>\n<table border=\"1\" class=\"dataframe\">\n  <thead>\n    <tr style=\"text-align: right;\">\n      <th></th>\n      <th>0</th>\n      <th>1</th>\n      <th>2</th>\n      <th>3</th>\n      <th>4</th>\n      <th>5</th>\n      <th>6</th>\n      <th>7</th>\n      <th>8</th>\n      <th>9</th>\n    </tr>\n  </thead>\n  <tbody>\n    <tr>\n      <th>0</th>\n      <td>0.17004</td>\n      <td>12.5</td>\n      <td>7.87</td>\n      <td>0</td>\n      <td>0.524</td>\n      <td>6.004</td>\n      <td>85.9</td>\n      <td>6.5921</td>\n      <td>5</td>\n      <td>311</td>\n    </tr>\n    <tr>\n      <th>1</th>\n      <td>0.22489</td>\n      <td>12.5</td>\n      <td>7.87</td>\n      <td>0</td>\n      <td>0.524</td>\n      <td>6.377</td>\n      <td>94.3</td>\n      <td>6.3467</td>\n      <td>5</td>\n      <td>311</td>\n    </tr>\n    <tr>\n      <th>2</th>\n      <td>0.11747</td>\n      <td>12.5</td>\n      <td>7.87</td>\n      <td>0</td>\n      <td>0.524</td>\n      <td>6.009</td>\n      <td>82.9</td>\n      <td>6.2267</td>\n      <td>5</td>\n      <td>311</td>\n    </tr>\n    <tr>\n      <th>3</th>\n      <td>0.09378</td>\n      <td>12.5</td>\n      <td>7.87</td>\n      <td>0</td>\n      <td>0.524</td>\n      <td>5.889</td>\n      <td>39.0</td>\n      <td>5.4509</td>\n      <td>5</td>\n      <td>311</td>\n    </tr>\n  </tbody>\n</table>\n</div>"
     },
     "metadata": {},
     "execution_count": 13
    }
   ],
   "source": [
    "df_2pdf=read_pdf('Housing_data.pdf',pages=[1],pandas_options={'header':range(10)})\n",
    "df_2pdf[0]"
   ]
  },
  {
   "cell_type": "code",
   "execution_count": 1,
   "metadata": {},
   "outputs": [],
   "source": [
    "import pandas as pd \n",
    "link1='https://s3-eu-west-1.amazonaws.com/shanebucket/downloads/uk-500.csv'\n",
    "data=pd.read_csv('https://s3-eu-west-1.amazonaws.com/shanebucket/downloads/uk-500.csv')"
   ]
  },
  {
   "cell_type": "code",
   "execution_count": 3,
   "metadata": {},
   "outputs": [
    {
     "output_type": "execute_result",
     "data": {
      "text/plain": "first_name                                   Aleshia\nlast_name                                 Tomkiewicz\ncompany_name                 Alan D Rosenburg Cpa Pc\naddress                                 14 Taylor St\ncity                               St. Stephens Ward\ncounty                                          Kent\npostal                                       CT2 7PP\nphone1                                  01835-703597\nphone2                                  01944-369967\nemail                        atomkiewicz@hotmail.com\nweb             http://www.alandrosenburgcpapc.co.uk\nName: 0, dtype: object"
     },
     "metadata": {},
     "execution_count": 3
    }
   ],
   "source": [
    "data.iloc[0]"
   ]
  },
  {
   "cell_type": "code",
   "execution_count": 5,
   "metadata": {},
   "outputs": [
    {
     "output_type": "execute_result",
     "data": {
      "text/plain": "first_name                                               Mi\nlast_name                                            Richan\ncompany_name                 Nelson Wright Haworth Golf Crs\naddress                                     6 Norwood Grove\ncity                                      Tanworth-in-Arden\ncounty                                         Warwickshire\npostal                                              B94 5RZ\nphone1                                         01451-785624\nphone2                                         01202-738406\nemail                                        mi@hotmail.com\nweb             http://www.nelsonwrighthaworthgolfcrs.co.uk\nName: 499, dtype: object"
     },
     "metadata": {},
     "execution_count": 5
    }
   ],
   "source": [
    "data.iloc[-1]#from last"
   ]
  },
  {
   "cell_type": "code",
   "execution_count": 10,
   "metadata": {},
   "outputs": [
    {
     "output_type": "execute_result",
     "data": {
      "text/plain": "0      Tomkiewicz\n1       Zigomalas\n2         Andrade\n3       Mcwalters\n4          Veness\n          ...    \n495          Veit\n496       Euresti\n497      Brenning\n498         Keeny\n499        Richan\nName: last_name, Length: 500, dtype: object"
     },
     "metadata": {},
     "execution_count": 10
    }
   ],
   "source": [
    "data.iloc[:,1]#column_wise"
   ]
  },
  {
   "cell_type": "code",
   "execution_count": 8,
   "metadata": {},
   "outputs": [
    {
     "output_type": "execute_result",
     "data": {
      "text/plain": "0             http://www.alandrosenburgcpapc.co.uk\n1                http://www.capgeminiamerica.co.uk\n2                 http://www.elliottjohnwesq.co.uk\n3                     http://www.mcmahanbenl.co.uk\n4                   http://www.champagneroom.co.uk\n                          ...                     \n495      http://www.plazagourmetdelicatessen.co.uk\n496             http://www.fitzgeraldedwardj.co.uk\n497               http://www.fureyassociates.co.uk\n498         http://www.bfgfederalcreditunion.co.uk\n499    http://www.nelsonwrighthaworthgolfcrs.co.uk\nName: web, Length: 500, dtype: object"
     },
     "metadata": {},
     "execution_count": 8
    }
   ],
   "source": [
    "data.iloc[:,-1]"
   ]
  },
  {
   "cell_type": "code",
   "execution_count": 11,
   "metadata": {},
   "outputs": [
    {
     "output_type": "execute_result",
     "data": {
      "text/plain": "  first_name   last_name             company_name            address  \\\n0    Aleshia  Tomkiewicz  Alan D Rosenburg Cpa Pc       14 Taylor St   \n1       Evan   Zigomalas       Cap Gemini America        5 Binney St   \n2     France     Andrade      Elliott, John W Esq       8 Moor Place   \n3    Ulysses   Mcwalters           Mcmahan, Ben L      505 Exeter Rd   \n4     Tyisha      Veness           Champagne Room  5396 Forth Street   \n\n                             city           county    postal        phone1  \\\n0               St. Stephens Ward             Kent   CT2 7PP  01835-703597   \n1                      Abbey Ward  Buckinghamshire  HP11 2AX  01937-864715   \n2  East Southbourne and Tuckton W      Bournemouth   BH6 3BE  01347-368222   \n3              Hawerby cum Beesby     Lincolnshire  DN36 5RP  01912-771311   \n4      Greets Green and Lyng Ward    West Midlands   B70 9DT  01547-429341   \n\n         phone2                       email  \\\n0  01944-369967     atomkiewicz@hotmail.com   \n1  01714-737668    evan.zigomalas@gmail.com   \n2  01935-821636  france.andrade@hotmail.com   \n3  01302-601380         ulysses@hotmail.com   \n4  01290-367248   tyisha.veness@hotmail.com   \n\n                                    web  \n0  http://www.alandrosenburgcpapc.co.uk  \n1     http://www.capgeminiamerica.co.uk  \n2      http://www.elliottjohnwesq.co.uk  \n3          http://www.mcmahanbenl.co.uk  \n4        http://www.champagneroom.co.uk  ",
      "text/html": "<div>\n<style scoped>\n    .dataframe tbody tr th:only-of-type {\n        vertical-align: middle;\n    }\n\n    .dataframe tbody tr th {\n        vertical-align: top;\n    }\n\n    .dataframe thead th {\n        text-align: right;\n    }\n</style>\n<table border=\"1\" class=\"dataframe\">\n  <thead>\n    <tr style=\"text-align: right;\">\n      <th></th>\n      <th>first_name</th>\n      <th>last_name</th>\n      <th>company_name</th>\n      <th>address</th>\n      <th>city</th>\n      <th>county</th>\n      <th>postal</th>\n      <th>phone1</th>\n      <th>phone2</th>\n      <th>email</th>\n      <th>web</th>\n    </tr>\n  </thead>\n  <tbody>\n    <tr>\n      <th>0</th>\n      <td>Aleshia</td>\n      <td>Tomkiewicz</td>\n      <td>Alan D Rosenburg Cpa Pc</td>\n      <td>14 Taylor St</td>\n      <td>St. Stephens Ward</td>\n      <td>Kent</td>\n      <td>CT2 7PP</td>\n      <td>01835-703597</td>\n      <td>01944-369967</td>\n      <td>atomkiewicz@hotmail.com</td>\n      <td>http://www.alandrosenburgcpapc.co.uk</td>\n    </tr>\n    <tr>\n      <th>1</th>\n      <td>Evan</td>\n      <td>Zigomalas</td>\n      <td>Cap Gemini America</td>\n      <td>5 Binney St</td>\n      <td>Abbey Ward</td>\n      <td>Buckinghamshire</td>\n      <td>HP11 2AX</td>\n      <td>01937-864715</td>\n      <td>01714-737668</td>\n      <td>evan.zigomalas@gmail.com</td>\n      <td>http://www.capgeminiamerica.co.uk</td>\n    </tr>\n    <tr>\n      <th>2</th>\n      <td>France</td>\n      <td>Andrade</td>\n      <td>Elliott, John W Esq</td>\n      <td>8 Moor Place</td>\n      <td>East Southbourne and Tuckton W</td>\n      <td>Bournemouth</td>\n      <td>BH6 3BE</td>\n      <td>01347-368222</td>\n      <td>01935-821636</td>\n      <td>france.andrade@hotmail.com</td>\n      <td>http://www.elliottjohnwesq.co.uk</td>\n    </tr>\n    <tr>\n      <th>3</th>\n      <td>Ulysses</td>\n      <td>Mcwalters</td>\n      <td>Mcmahan, Ben L</td>\n      <td>505 Exeter Rd</td>\n      <td>Hawerby cum Beesby</td>\n      <td>Lincolnshire</td>\n      <td>DN36 5RP</td>\n      <td>01912-771311</td>\n      <td>01302-601380</td>\n      <td>ulysses@hotmail.com</td>\n      <td>http://www.mcmahanbenl.co.uk</td>\n    </tr>\n    <tr>\n      <th>4</th>\n      <td>Tyisha</td>\n      <td>Veness</td>\n      <td>Champagne Room</td>\n      <td>5396 Forth Street</td>\n      <td>Greets Green and Lyng Ward</td>\n      <td>West Midlands</td>\n      <td>B70 9DT</td>\n      <td>01547-429341</td>\n      <td>01290-367248</td>\n      <td>tyisha.veness@hotmail.com</td>\n      <td>http://www.champagneroom.co.uk</td>\n    </tr>\n  </tbody>\n</table>\n</div>"
     },
     "metadata": {},
     "execution_count": 11
    }
   ],
   "source": [
    "data.iloc[0:5]#1st 5 rows"
   ]
  },
  {
   "cell_type": "code",
   "execution_count": 12,
   "metadata": {},
   "outputs": [
    {
     "output_type": "execute_result",
     "data": {
      "text/plain": "              county    postal        phone1        phone2  \\\n0               Kent   CT2 7PP  01835-703597  01944-369967   \n1    Buckinghamshire  HP11 2AX  01937-864715  01714-737668   \n2        Bournemouth   BH6 3BE  01347-368222  01935-821636   \n3       Lincolnshire  DN36 5RP  01912-771311  01302-601380   \n4      West Midlands   B70 9DT  01547-429341  01290-367248   \n..               ...       ...           ...           ...   \n495   Greater London  SW1W 8JY  01748-625058  01369-185737   \n496         Highland   IV2 6WT  01916-963261  01370-319414   \n497  South Yorkshire   S75 5EJ  01888-152110  01301-312487   \n498    County Durham   DH8 5LP  01877-379681  01600-463475   \n499     Warwickshire   B94 5RZ  01451-785624  01202-738406   \n\n                          email  \n0       atomkiewicz@hotmail.com  \n1      evan.zigomalas@gmail.com  \n2    france.andrade@hotmail.com  \n3           ulysses@hotmail.com  \n4     tyisha.veness@hotmail.com  \n..                          ...  \n495            avery@veit.co.uk  \n496      reuresti@euresti.co.uk  \n497    cbrenning@brenning.co.uk  \n498   celestina_keeny@gmail.com  \n499              mi@hotmail.com  \n\n[500 rows x 5 columns]",
      "text/html": "<div>\n<style scoped>\n    .dataframe tbody tr th:only-of-type {\n        vertical-align: middle;\n    }\n\n    .dataframe tbody tr th {\n        vertical-align: top;\n    }\n\n    .dataframe thead th {\n        text-align: right;\n    }\n</style>\n<table border=\"1\" class=\"dataframe\">\n  <thead>\n    <tr style=\"text-align: right;\">\n      <th></th>\n      <th>county</th>\n      <th>postal</th>\n      <th>phone1</th>\n      <th>phone2</th>\n      <th>email</th>\n    </tr>\n  </thead>\n  <tbody>\n    <tr>\n      <th>0</th>\n      <td>Kent</td>\n      <td>CT2 7PP</td>\n      <td>01835-703597</td>\n      <td>01944-369967</td>\n      <td>atomkiewicz@hotmail.com</td>\n    </tr>\n    <tr>\n      <th>1</th>\n      <td>Buckinghamshire</td>\n      <td>HP11 2AX</td>\n      <td>01937-864715</td>\n      <td>01714-737668</td>\n      <td>evan.zigomalas@gmail.com</td>\n    </tr>\n    <tr>\n      <th>2</th>\n      <td>Bournemouth</td>\n      <td>BH6 3BE</td>\n      <td>01347-368222</td>\n      <td>01935-821636</td>\n      <td>france.andrade@hotmail.com</td>\n    </tr>\n    <tr>\n      <th>3</th>\n      <td>Lincolnshire</td>\n      <td>DN36 5RP</td>\n      <td>01912-771311</td>\n      <td>01302-601380</td>\n      <td>ulysses@hotmail.com</td>\n    </tr>\n    <tr>\n      <th>4</th>\n      <td>West Midlands</td>\n      <td>B70 9DT</td>\n      <td>01547-429341</td>\n      <td>01290-367248</td>\n      <td>tyisha.veness@hotmail.com</td>\n    </tr>\n    <tr>\n      <th>...</th>\n      <td>...</td>\n      <td>...</td>\n      <td>...</td>\n      <td>...</td>\n      <td>...</td>\n    </tr>\n    <tr>\n      <th>495</th>\n      <td>Greater London</td>\n      <td>SW1W 8JY</td>\n      <td>01748-625058</td>\n      <td>01369-185737</td>\n      <td>avery@veit.co.uk</td>\n    </tr>\n    <tr>\n      <th>496</th>\n      <td>Highland</td>\n      <td>IV2 6WT</td>\n      <td>01916-963261</td>\n      <td>01370-319414</td>\n      <td>reuresti@euresti.co.uk</td>\n    </tr>\n    <tr>\n      <th>497</th>\n      <td>South Yorkshire</td>\n      <td>S75 5EJ</td>\n      <td>01888-152110</td>\n      <td>01301-312487</td>\n      <td>cbrenning@brenning.co.uk</td>\n    </tr>\n    <tr>\n      <th>498</th>\n      <td>County Durham</td>\n      <td>DH8 5LP</td>\n      <td>01877-379681</td>\n      <td>01600-463475</td>\n      <td>celestina_keeny@gmail.com</td>\n    </tr>\n    <tr>\n      <th>499</th>\n      <td>Warwickshire</td>\n      <td>B94 5RZ</td>\n      <td>01451-785624</td>\n      <td>01202-738406</td>\n      <td>mi@hotmail.com</td>\n    </tr>\n  </tbody>\n</table>\n<p>500 rows × 5 columns</p>\n</div>"
     },
     "metadata": {},
     "execution_count": 12
    }
   ],
   "source": [
    "data.iloc[:,-6:-1]"
   ]
  },
  {
   "cell_type": "code",
   "execution_count": 13,
   "metadata": {},
   "outputs": [
    {
     "output_type": "execute_result",
     "data": {
      "text/plain": "         phone1        phone2                       email  \\\n0  01835-703597  01944-369967     atomkiewicz@hotmail.com   \n1  01937-864715  01714-737668    evan.zigomalas@gmail.com   \n2  01347-368222  01935-821636  france.andrade@hotmail.com   \n3  01912-771311  01302-601380         ulysses@hotmail.com   \n\n                                    web  \n0  http://www.alandrosenburgcpapc.co.uk  \n1     http://www.capgeminiamerica.co.uk  \n2      http://www.elliottjohnwesq.co.uk  \n3          http://www.mcmahanbenl.co.uk  ",
      "text/html": "<div>\n<style scoped>\n    .dataframe tbody tr th:only-of-type {\n        vertical-align: middle;\n    }\n\n    .dataframe tbody tr th {\n        vertical-align: top;\n    }\n\n    .dataframe thead th {\n        text-align: right;\n    }\n</style>\n<table border=\"1\" class=\"dataframe\">\n  <thead>\n    <tr style=\"text-align: right;\">\n      <th></th>\n      <th>phone1</th>\n      <th>phone2</th>\n      <th>email</th>\n      <th>web</th>\n    </tr>\n  </thead>\n  <tbody>\n    <tr>\n      <th>0</th>\n      <td>01835-703597</td>\n      <td>01944-369967</td>\n      <td>atomkiewicz@hotmail.com</td>\n      <td>http://www.alandrosenburgcpapc.co.uk</td>\n    </tr>\n    <tr>\n      <th>1</th>\n      <td>01937-864715</td>\n      <td>01714-737668</td>\n      <td>evan.zigomalas@gmail.com</td>\n      <td>http://www.capgeminiamerica.co.uk</td>\n    </tr>\n    <tr>\n      <th>2</th>\n      <td>01347-368222</td>\n      <td>01935-821636</td>\n      <td>france.andrade@hotmail.com</td>\n      <td>http://www.elliottjohnwesq.co.uk</td>\n    </tr>\n    <tr>\n      <th>3</th>\n      <td>01912-771311</td>\n      <td>01302-601380</td>\n      <td>ulysses@hotmail.com</td>\n      <td>http://www.mcmahanbenl.co.uk</td>\n    </tr>\n  </tbody>\n</table>\n</div>"
     },
     "metadata": {},
     "execution_count": 13
    }
   ],
   "source": [
    "data.iloc[:4,7:13]"
   ]
  },
  {
   "cell_type": "code",
   "execution_count": 15,
   "metadata": {},
   "outputs": [
    {
     "output_type": "error",
     "ename": "IndexError",
     "evalue": "positional indexers are out-of-bounds",
     "traceback": [
      "\u001b[1;31m---------------------------------------------------------------------------\u001b[0m",
      "\u001b[1;31mIndexError\u001b[0m                                Traceback (most recent call last)",
      "\u001b[1;32m<ipython-input-15-122a3062beec>\u001b[0m in \u001b[0;36m<module>\u001b[1;34m\u001b[0m\n\u001b[1;32m----> 1\u001b[1;33m \u001b[0mdata\u001b[0m\u001b[1;33m.\u001b[0m\u001b[0miloc\u001b[0m\u001b[1;33m[\u001b[0m\u001b[1;33m[\u001b[0m\u001b[1;36m4\u001b[0m\u001b[1;33m,\u001b[0m\u001b[1;36m5\u001b[0m\u001b[1;33m,\u001b[0m\u001b[1;36m7\u001b[0m\u001b[1;33m]\u001b[0m\u001b[1;33m,\u001b[0m\u001b[1;33m[\u001b[0m\u001b[1;36m10\u001b[0m\u001b[1;33m,\u001b[0m\u001b[1;36m14\u001b[0m\u001b[1;33m,\u001b[0m\u001b[1;36m20\u001b[0m\u001b[1;33m]\u001b[0m\u001b[1;33m]\u001b[0m\u001b[1;33m\u001b[0m\u001b[1;33m\u001b[0m\u001b[0m\n\u001b[0m",
      "\u001b[1;32m~\\AppData\\Local\\Programs\\Python\\Python38-32\\lib\\site-packages\\pandas\\core\\indexing.py\u001b[0m in \u001b[0;36m__getitem__\u001b[1;34m(self, key)\u001b[0m\n\u001b[0;32m   1760\u001b[0m                 \u001b[1;32mexcept\u001b[0m \u001b[1;33m(\u001b[0m\u001b[0mKeyError\u001b[0m\u001b[1;33m,\u001b[0m \u001b[0mIndexError\u001b[0m\u001b[1;33m,\u001b[0m \u001b[0mAttributeError\u001b[0m\u001b[1;33m)\u001b[0m\u001b[1;33m:\u001b[0m\u001b[1;33m\u001b[0m\u001b[1;33m\u001b[0m\u001b[0m\n\u001b[0;32m   1761\u001b[0m                     \u001b[1;32mpass\u001b[0m\u001b[1;33m\u001b[0m\u001b[1;33m\u001b[0m\u001b[0m\n\u001b[1;32m-> 1762\u001b[1;33m             \u001b[1;32mreturn\u001b[0m \u001b[0mself\u001b[0m\u001b[1;33m.\u001b[0m\u001b[0m_getitem_tuple\u001b[0m\u001b[1;33m(\u001b[0m\u001b[0mkey\u001b[0m\u001b[1;33m)\u001b[0m\u001b[1;33m\u001b[0m\u001b[1;33m\u001b[0m\u001b[0m\n\u001b[0m\u001b[0;32m   1763\u001b[0m         \u001b[1;32melse\u001b[0m\u001b[1;33m:\u001b[0m\u001b[1;33m\u001b[0m\u001b[1;33m\u001b[0m\u001b[0m\n\u001b[0;32m   1764\u001b[0m             \u001b[1;31m# we by definition only have the 0th axis\u001b[0m\u001b[1;33m\u001b[0m\u001b[1;33m\u001b[0m\u001b[1;33m\u001b[0m\u001b[0m\n",
      "\u001b[1;32m~\\AppData\\Local\\Programs\\Python\\Python38-32\\lib\\site-packages\\pandas\\core\\indexing.py\u001b[0m in \u001b[0;36m_getitem_tuple\u001b[1;34m(self, tup)\u001b[0m\n\u001b[0;32m   2065\u001b[0m     \u001b[1;32mdef\u001b[0m \u001b[0m_getitem_tuple\u001b[0m\u001b[1;33m(\u001b[0m\u001b[0mself\u001b[0m\u001b[1;33m,\u001b[0m \u001b[0mtup\u001b[0m\u001b[1;33m:\u001b[0m \u001b[0mTuple\u001b[0m\u001b[1;33m)\u001b[0m\u001b[1;33m:\u001b[0m\u001b[1;33m\u001b[0m\u001b[1;33m\u001b[0m\u001b[0m\n\u001b[0;32m   2066\u001b[0m \u001b[1;33m\u001b[0m\u001b[0m\n\u001b[1;32m-> 2067\u001b[1;33m         \u001b[0mself\u001b[0m\u001b[1;33m.\u001b[0m\u001b[0m_has_valid_tuple\u001b[0m\u001b[1;33m(\u001b[0m\u001b[0mtup\u001b[0m\u001b[1;33m)\u001b[0m\u001b[1;33m\u001b[0m\u001b[1;33m\u001b[0m\u001b[0m\n\u001b[0m\u001b[0;32m   2068\u001b[0m         \u001b[1;32mtry\u001b[0m\u001b[1;33m:\u001b[0m\u001b[1;33m\u001b[0m\u001b[1;33m\u001b[0m\u001b[0m\n\u001b[0;32m   2069\u001b[0m             \u001b[1;32mreturn\u001b[0m \u001b[0mself\u001b[0m\u001b[1;33m.\u001b[0m\u001b[0m_getitem_lowerdim\u001b[0m\u001b[1;33m(\u001b[0m\u001b[0mtup\u001b[0m\u001b[1;33m)\u001b[0m\u001b[1;33m\u001b[0m\u001b[1;33m\u001b[0m\u001b[0m\n",
      "\u001b[1;32m~\\AppData\\Local\\Programs\\Python\\Python38-32\\lib\\site-packages\\pandas\\core\\indexing.py\u001b[0m in \u001b[0;36m_has_valid_tuple\u001b[1;34m(self, key)\u001b[0m\n\u001b[0;32m    701\u001b[0m                 \u001b[1;32mraise\u001b[0m \u001b[0mIndexingError\u001b[0m\u001b[1;33m(\u001b[0m\u001b[1;34m\"Too many indexers\"\u001b[0m\u001b[1;33m)\u001b[0m\u001b[1;33m\u001b[0m\u001b[1;33m\u001b[0m\u001b[0m\n\u001b[0;32m    702\u001b[0m             \u001b[1;32mtry\u001b[0m\u001b[1;33m:\u001b[0m\u001b[1;33m\u001b[0m\u001b[1;33m\u001b[0m\u001b[0m\n\u001b[1;32m--> 703\u001b[1;33m                 \u001b[0mself\u001b[0m\u001b[1;33m.\u001b[0m\u001b[0m_validate_key\u001b[0m\u001b[1;33m(\u001b[0m\u001b[0mk\u001b[0m\u001b[1;33m,\u001b[0m \u001b[0mi\u001b[0m\u001b[1;33m)\u001b[0m\u001b[1;33m\u001b[0m\u001b[1;33m\u001b[0m\u001b[0m\n\u001b[0m\u001b[0;32m    704\u001b[0m             \u001b[1;32mexcept\u001b[0m \u001b[0mValueError\u001b[0m\u001b[1;33m:\u001b[0m\u001b[1;33m\u001b[0m\u001b[1;33m\u001b[0m\u001b[0m\n\u001b[0;32m    705\u001b[0m                 raise ValueError(\n",
      "\u001b[1;32m~\\AppData\\Local\\Programs\\Python\\Python38-32\\lib\\site-packages\\pandas\\core\\indexing.py\u001b[0m in \u001b[0;36m_validate_key\u001b[1;34m(self, key, axis)\u001b[0m\n\u001b[0;32m   2007\u001b[0m             \u001b[1;31m# check that the key does not exceed the maximum size of the index\u001b[0m\u001b[1;33m\u001b[0m\u001b[1;33m\u001b[0m\u001b[1;33m\u001b[0m\u001b[0m\n\u001b[0;32m   2008\u001b[0m             \u001b[1;32mif\u001b[0m \u001b[0mlen\u001b[0m\u001b[1;33m(\u001b[0m\u001b[0marr\u001b[0m\u001b[1;33m)\u001b[0m \u001b[1;32mand\u001b[0m \u001b[1;33m(\u001b[0m\u001b[0marr\u001b[0m\u001b[1;33m.\u001b[0m\u001b[0mmax\u001b[0m\u001b[1;33m(\u001b[0m\u001b[1;33m)\u001b[0m \u001b[1;33m>=\u001b[0m \u001b[0mlen_axis\u001b[0m \u001b[1;32mor\u001b[0m \u001b[0marr\u001b[0m\u001b[1;33m.\u001b[0m\u001b[0mmin\u001b[0m\u001b[1;33m(\u001b[0m\u001b[1;33m)\u001b[0m \u001b[1;33m<\u001b[0m \u001b[1;33m-\u001b[0m\u001b[0mlen_axis\u001b[0m\u001b[1;33m)\u001b[0m\u001b[1;33m:\u001b[0m\u001b[1;33m\u001b[0m\u001b[1;33m\u001b[0m\u001b[0m\n\u001b[1;32m-> 2009\u001b[1;33m                 \u001b[1;32mraise\u001b[0m \u001b[0mIndexError\u001b[0m\u001b[1;33m(\u001b[0m\u001b[1;34m\"positional indexers are out-of-bounds\"\u001b[0m\u001b[1;33m)\u001b[0m\u001b[1;33m\u001b[0m\u001b[1;33m\u001b[0m\u001b[0m\n\u001b[0m\u001b[0;32m   2010\u001b[0m         \u001b[1;32melse\u001b[0m\u001b[1;33m:\u001b[0m\u001b[1;33m\u001b[0m\u001b[1;33m\u001b[0m\u001b[0m\n\u001b[0;32m   2011\u001b[0m             \u001b[1;32mraise\u001b[0m \u001b[0mValueError\u001b[0m\u001b[1;33m(\u001b[0m\u001b[1;34mf\"Can only index by location with a [{self._valid_types}]\"\u001b[0m\u001b[1;33m)\u001b[0m\u001b[1;33m\u001b[0m\u001b[1;33m\u001b[0m\u001b[0m\n",
      "\u001b[1;31mIndexError\u001b[0m: positional indexers are out-of-bounds"
     ]
    }
   ],
   "source": [
    "data.iloc[[4,5,7],[10,14,20]]"
   ]
  },
  {
   "cell_type": "code",
   "execution_count": 29,
   "metadata": {},
   "outputs": [
    {
     "output_type": "error",
     "ename": "SyntaxError",
     "evalue": "invalid syntax (<ipython-input-29-fd308621e1b1>, line 1)",
     "traceback": [
      "\u001b[1;36m  File \u001b[1;32m\"<ipython-input-29-fd308621e1b1>\"\u001b[1;36m, line \u001b[1;32m1\u001b[0m\n\u001b[1;33m    data.loc[ ['Andrade':'Veness'],['city':'email']]\u001b[0m\n\u001b[1;37m                        ^\u001b[0m\n\u001b[1;31mSyntaxError\u001b[0m\u001b[1;31m:\u001b[0m invalid syntax\n"
     ]
    }
   ],
   "source": [
    "data.loc[ ['Andrade':'Veness'],['city':'email']]"
   ]
  },
  {
   "cell_type": "code",
   "execution_count": 24,
   "metadata": {},
   "outputs": [
    {
     "output_type": "execute_result",
     "data": {
      "text/plain": "    first_name   last_name                    company_name  \\\n0      Aleshia  Tomkiewicz         Alan D Rosenburg Cpa Pc   \n2       France     Andrade             Elliott, John W Esq   \n3      Ulysses   Mcwalters                  Mcmahan, Ben L   \n4       Tyisha      Veness                  Champagne Room   \n6         Marg    Grasmick   Wrangle Hill Auto Auct & Slvg   \n..         ...         ...                             ...   \n486     Sophia     Gaucher               T C E Systems Inc   \n490     Rosita   Ausdemore               Jurdem, Scott Esq   \n491       Huey     Stancil                   Lindner Funds   \n492     Elbert     Fiorino            Donald, G Nelson Esq   \n499         Mi      Richan  Nelson Wright Haworth Golf Crs   \n\n                    address                            city  \\\n0              14 Taylor St               St. Stephens Ward   \n2              8 Moor Place  East Southbourne and Tuckton W   \n3             505 Exeter Rd              Hawerby cum Beesby   \n4         5396 Forth Street      Greets Green and Lyng Ward   \n6          7457 Cowl St #70                    Bargate Ward   \n..                      ...                             ...   \n486  88 Upper Harrington St                 North East Ward   \n490    8 Heathfield St #657                        Hailsham   \n491             275 Peel Sq                       Park Ward   \n492  726 Westmoreland Place                Ballochmyle Ward   \n499         6 Norwood Grove               Tanworth-in-Arden   \n\n                      county    postal        phone1        phone2  \\\n0                       Kent   CT2 7PP  01835-703597  01944-369967   \n2                Bournemouth   BH6 3BE  01347-368222  01935-821636   \n3               Lincolnshire  DN36 5RP  01912-771311  01302-601380   \n4              West Midlands   B70 9DT  01547-429341  01290-367248   \n6                Southampton  SO14 3TY  01865-582516  01362-620532   \n..                       ...       ...           ...           ...   \n486        North Lanarkshire   G69 8EL  01504-539114  01254-919378   \n490              East Sussex  BN27 1AJ  01273-236188  01997-765432   \n491  North Eart Lincolnshire  DN32 0PT  01502-139578  01468-195646   \n492            East Ayrshire   KA5 6EL  01724-467889  01992-537553   \n499             Warwickshire   B94 5RZ  01451-785624  01202-738406   \n\n                          email                                          web  \n0       atomkiewicz@hotmail.com         http://www.alandrosenburgcpapc.co.uk  \n2    france.andrade@hotmail.com             http://www.elliottjohnwesq.co.uk  \n3           ulysses@hotmail.com                 http://www.mcmahanbenl.co.uk  \n4     tyisha.veness@hotmail.com               http://www.champagneroom.co.uk  \n6              marg@hotmail.com     http://www.wranglehillautoauctslvg.co.uk  \n..                          ...                                          ...  \n486  sophia.gaucher@hotmail.com               http://www.tcesystemsinc.co.uk  \n490      rausdemore@hotmail.com              http://www.jurdemscottesq.co.uk  \n491        hstancil@hotmail.com                http://www.lindnerfunds.co.uk  \n492          elbert@hotmail.com            http://www.donaldgnelsonesq.co.uk  \n499              mi@hotmail.com  http://www.nelsonwrighthaworthgolfcrs.co.uk  \n\n[114 rows x 11 columns]",
      "text/html": "<div>\n<style scoped>\n    .dataframe tbody tr th:only-of-type {\n        vertical-align: middle;\n    }\n\n    .dataframe tbody tr th {\n        vertical-align: top;\n    }\n\n    .dataframe thead th {\n        text-align: right;\n    }\n</style>\n<table border=\"1\" class=\"dataframe\">\n  <thead>\n    <tr style=\"text-align: right;\">\n      <th></th>\n      <th>first_name</th>\n      <th>last_name</th>\n      <th>company_name</th>\n      <th>address</th>\n      <th>city</th>\n      <th>county</th>\n      <th>postal</th>\n      <th>phone1</th>\n      <th>phone2</th>\n      <th>email</th>\n      <th>web</th>\n    </tr>\n  </thead>\n  <tbody>\n    <tr>\n      <th>0</th>\n      <td>Aleshia</td>\n      <td>Tomkiewicz</td>\n      <td>Alan D Rosenburg Cpa Pc</td>\n      <td>14 Taylor St</td>\n      <td>St. Stephens Ward</td>\n      <td>Kent</td>\n      <td>CT2 7PP</td>\n      <td>01835-703597</td>\n      <td>01944-369967</td>\n      <td>atomkiewicz@hotmail.com</td>\n      <td>http://www.alandrosenburgcpapc.co.uk</td>\n    </tr>\n    <tr>\n      <th>2</th>\n      <td>France</td>\n      <td>Andrade</td>\n      <td>Elliott, John W Esq</td>\n      <td>8 Moor Place</td>\n      <td>East Southbourne and Tuckton W</td>\n      <td>Bournemouth</td>\n      <td>BH6 3BE</td>\n      <td>01347-368222</td>\n      <td>01935-821636</td>\n      <td>france.andrade@hotmail.com</td>\n      <td>http://www.elliottjohnwesq.co.uk</td>\n    </tr>\n    <tr>\n      <th>3</th>\n      <td>Ulysses</td>\n      <td>Mcwalters</td>\n      <td>Mcmahan, Ben L</td>\n      <td>505 Exeter Rd</td>\n      <td>Hawerby cum Beesby</td>\n      <td>Lincolnshire</td>\n      <td>DN36 5RP</td>\n      <td>01912-771311</td>\n      <td>01302-601380</td>\n      <td>ulysses@hotmail.com</td>\n      <td>http://www.mcmahanbenl.co.uk</td>\n    </tr>\n    <tr>\n      <th>4</th>\n      <td>Tyisha</td>\n      <td>Veness</td>\n      <td>Champagne Room</td>\n      <td>5396 Forth Street</td>\n      <td>Greets Green and Lyng Ward</td>\n      <td>West Midlands</td>\n      <td>B70 9DT</td>\n      <td>01547-429341</td>\n      <td>01290-367248</td>\n      <td>tyisha.veness@hotmail.com</td>\n      <td>http://www.champagneroom.co.uk</td>\n    </tr>\n    <tr>\n      <th>6</th>\n      <td>Marg</td>\n      <td>Grasmick</td>\n      <td>Wrangle Hill Auto Auct &amp; Slvg</td>\n      <td>7457 Cowl St #70</td>\n      <td>Bargate Ward</td>\n      <td>Southampton</td>\n      <td>SO14 3TY</td>\n      <td>01865-582516</td>\n      <td>01362-620532</td>\n      <td>marg@hotmail.com</td>\n      <td>http://www.wranglehillautoauctslvg.co.uk</td>\n    </tr>\n    <tr>\n      <th>...</th>\n      <td>...</td>\n      <td>...</td>\n      <td>...</td>\n      <td>...</td>\n      <td>...</td>\n      <td>...</td>\n      <td>...</td>\n      <td>...</td>\n      <td>...</td>\n      <td>...</td>\n      <td>...</td>\n    </tr>\n    <tr>\n      <th>486</th>\n      <td>Sophia</td>\n      <td>Gaucher</td>\n      <td>T C E Systems Inc</td>\n      <td>88 Upper Harrington St</td>\n      <td>North East Ward</td>\n      <td>North Lanarkshire</td>\n      <td>G69 8EL</td>\n      <td>01504-539114</td>\n      <td>01254-919378</td>\n      <td>sophia.gaucher@hotmail.com</td>\n      <td>http://www.tcesystemsinc.co.uk</td>\n    </tr>\n    <tr>\n      <th>490</th>\n      <td>Rosita</td>\n      <td>Ausdemore</td>\n      <td>Jurdem, Scott Esq</td>\n      <td>8 Heathfield St #657</td>\n      <td>Hailsham</td>\n      <td>East Sussex</td>\n      <td>BN27 1AJ</td>\n      <td>01273-236188</td>\n      <td>01997-765432</td>\n      <td>rausdemore@hotmail.com</td>\n      <td>http://www.jurdemscottesq.co.uk</td>\n    </tr>\n    <tr>\n      <th>491</th>\n      <td>Huey</td>\n      <td>Stancil</td>\n      <td>Lindner Funds</td>\n      <td>275 Peel Sq</td>\n      <td>Park Ward</td>\n      <td>North Eart Lincolnshire</td>\n      <td>DN32 0PT</td>\n      <td>01502-139578</td>\n      <td>01468-195646</td>\n      <td>hstancil@hotmail.com</td>\n      <td>http://www.lindnerfunds.co.uk</td>\n    </tr>\n    <tr>\n      <th>492</th>\n      <td>Elbert</td>\n      <td>Fiorino</td>\n      <td>Donald, G Nelson Esq</td>\n      <td>726 Westmoreland Place</td>\n      <td>Ballochmyle Ward</td>\n      <td>East Ayrshire</td>\n      <td>KA5 6EL</td>\n      <td>01724-467889</td>\n      <td>01992-537553</td>\n      <td>elbert@hotmail.com</td>\n      <td>http://www.donaldgnelsonesq.co.uk</td>\n    </tr>\n    <tr>\n      <th>499</th>\n      <td>Mi</td>\n      <td>Richan</td>\n      <td>Nelson Wright Haworth Golf Crs</td>\n      <td>6 Norwood Grove</td>\n      <td>Tanworth-in-Arden</td>\n      <td>Warwickshire</td>\n      <td>B94 5RZ</td>\n      <td>01451-785624</td>\n      <td>01202-738406</td>\n      <td>mi@hotmail.com</td>\n      <td>http://www.nelsonwrighthaworthgolfcrs.co.uk</td>\n    </tr>\n  </tbody>\n</table>\n<p>114 rows × 11 columns</p>\n</div>"
     },
     "metadata": {},
     "execution_count": 24
    }
   ],
   "source": [
    "data.loc[data['email'].str.endswith('hotmail.com')]"
   ]
  },
  {
   "cell_type": "code",
   "execution_count": 25,
   "metadata": {},
   "outputs": [
    {
     "output_type": "execute_result",
     "data": {
      "text/plain": "                               city         county    postal        phone1  \\\n272  Little Parndon and Hare Street  Hertfordshire  CM20 2HT  01559-403415   \n285                  Gaer Community        Newport  NP20 3DE  01463-409090   \n427                        Ipplepen          Devon  TQ12 5LL  01324-171614   \n\n           phone2                            email  \n272  01388-777812     antonio.villamarin@gmail.com  \n285  01242-318420  antonio_glasford@glasford.co.uk  \n427  01442-946357         antonio.heilig@gmail.com  ",
      "text/html": "<div>\n<style scoped>\n    .dataframe tbody tr th:only-of-type {\n        vertical-align: middle;\n    }\n\n    .dataframe tbody tr th {\n        vertical-align: top;\n    }\n\n    .dataframe thead th {\n        text-align: right;\n    }\n</style>\n<table border=\"1\" class=\"dataframe\">\n  <thead>\n    <tr style=\"text-align: right;\">\n      <th></th>\n      <th>city</th>\n      <th>county</th>\n      <th>postal</th>\n      <th>phone1</th>\n      <th>phone2</th>\n      <th>email</th>\n    </tr>\n  </thead>\n  <tbody>\n    <tr>\n      <th>272</th>\n      <td>Little Parndon and Hare Street</td>\n      <td>Hertfordshire</td>\n      <td>CM20 2HT</td>\n      <td>01559-403415</td>\n      <td>01388-777812</td>\n      <td>antonio.villamarin@gmail.com</td>\n    </tr>\n    <tr>\n      <th>285</th>\n      <td>Gaer Community</td>\n      <td>Newport</td>\n      <td>NP20 3DE</td>\n      <td>01463-409090</td>\n      <td>01242-318420</td>\n      <td>antonio_glasford@glasford.co.uk</td>\n    </tr>\n    <tr>\n      <th>427</th>\n      <td>Ipplepen</td>\n      <td>Devon</td>\n      <td>TQ12 5LL</td>\n      <td>01324-171614</td>\n      <td>01442-946357</td>\n      <td>antonio.heilig@gmail.com</td>\n    </tr>\n  </tbody>\n</table>\n</div>"
     },
     "metadata": {},
     "execution_count": 25
    }
   ],
   "source": [
    "data.loc[data['first_name']=='Antonio','city':'email']"
   ]
  },
  {
   "cell_type": "code",
   "execution_count": 28,
   "metadata": {},
   "outputs": [
    {
     "output_type": "execute_result",
     "data": {
      "text/plain": "130"
     },
     "metadata": {},
     "execution_count": 28
    }
   ],
   "source": [
    "len(data.loc[data['email'].str.endswith('gmail.com')])"
   ]
  },
  {
   "cell_type": "code",
   "execution_count": 30,
   "metadata": {},
   "outputs": [
    {
     "output_type": "execute_result",
     "data": {
      "text/plain": "  first_name last_name             company_name            address  \\\n2     France   Andrade      Elliott, John W Esq       8 Moor Place   \n4     Tyisha    Veness           Champagne Room  5396 Forth Street   \n5       Eric     Rampy  Thompson, Michael C Esq       9472 Lind St   \n\n                             city            county    postal        phone1  \\\n2  East Southbourne and Tuckton W       Bournemouth   BH6 3BE  01347-368222   \n4      Greets Green and Lyng Ward     West Midlands   B70 9DT  01547-429341   \n5                      Desborough  Northamptonshire  NN14 2GH  01969-886290   \n\n         phone2                       email  \\\n2  01935-821636  france.andrade@hotmail.com   \n4  01290-367248   tyisha.veness@hotmail.com   \n5  01545-817375          erampy@rampy.co.uk   \n\n                                    web  \n2      http://www.elliottjohnwesq.co.uk  \n4        http://www.champagneroom.co.uk  \n5  http://www.thompsonmichaelcesq.co.uk  ",
      "text/html": "<div>\n<style scoped>\n    .dataframe tbody tr th:only-of-type {\n        vertical-align: middle;\n    }\n\n    .dataframe tbody tr th {\n        vertical-align: top;\n    }\n\n    .dataframe thead th {\n        text-align: right;\n    }\n</style>\n<table border=\"1\" class=\"dataframe\">\n  <thead>\n    <tr style=\"text-align: right;\">\n      <th></th>\n      <th>first_name</th>\n      <th>last_name</th>\n      <th>company_name</th>\n      <th>address</th>\n      <th>city</th>\n      <th>county</th>\n      <th>postal</th>\n      <th>phone1</th>\n      <th>phone2</th>\n      <th>email</th>\n      <th>web</th>\n    </tr>\n  </thead>\n  <tbody>\n    <tr>\n      <th>2</th>\n      <td>France</td>\n      <td>Andrade</td>\n      <td>Elliott, John W Esq</td>\n      <td>8 Moor Place</td>\n      <td>East Southbourne and Tuckton W</td>\n      <td>Bournemouth</td>\n      <td>BH6 3BE</td>\n      <td>01347-368222</td>\n      <td>01935-821636</td>\n      <td>france.andrade@hotmail.com</td>\n      <td>http://www.elliottjohnwesq.co.uk</td>\n    </tr>\n    <tr>\n      <th>4</th>\n      <td>Tyisha</td>\n      <td>Veness</td>\n      <td>Champagne Room</td>\n      <td>5396 Forth Street</td>\n      <td>Greets Green and Lyng Ward</td>\n      <td>West Midlands</td>\n      <td>B70 9DT</td>\n      <td>01547-429341</td>\n      <td>01290-367248</td>\n      <td>tyisha.veness@hotmail.com</td>\n      <td>http://www.champagneroom.co.uk</td>\n    </tr>\n    <tr>\n      <th>5</th>\n      <td>Eric</td>\n      <td>Rampy</td>\n      <td>Thompson, Michael C Esq</td>\n      <td>9472 Lind St</td>\n      <td>Desborough</td>\n      <td>Northamptonshire</td>\n      <td>NN14 2GH</td>\n      <td>01969-886290</td>\n      <td>01545-817375</td>\n      <td>erampy@rampy.co.uk</td>\n      <td>http://www.thompsonmichaelcesq.co.uk</td>\n    </tr>\n  </tbody>\n</table>\n</div>"
     },
     "metadata": {},
     "execution_count": 30
    }
   ],
   "source": [
    "data.loc[data['first_name'].isin(['France','Tyisha','Eric'])]"
   ]
  },
  {
   "cell_type": "code",
   "execution_count": 31,
   "metadata": {},
   "outputs": [
    {
     "output_type": "execute_result",
     "data": {
      "text/plain": "      first_name  last_name                  company_name  \\\n2         France    Andrade           Elliott, John W Esq   \n5           Eric      Rampy       Thompson, Michael C Esq   \n11   Charlesetta        Erm              Cain, John M Esq   \n15       Michell  Throssell           Weiss Spirt & Guyer   \n16         Edgar      Kanne         Crowan, Kenneth W Esq   \n..           ...        ...                           ...   \n481        Ahmad    Alsaqri  Alliance Construction Co Inc   \n484   Jacquelyne    Reibman          Great Clips For Hair   \n487     Isabelle       Kono  Rock Springs Petroleum Equip   \n492       Elbert    Fiorino          Donald, G Nelson Esq   \n498    Celestina      Keeny      Bfg Federal Credit Union   \n\n                    address                            city            county  \\\n2              8 Moor Place  East Southbourne and Tuckton W       Bournemouth   \n5              9472 Lind St                      Desborough  Northamptonshire   \n11              5 Hygeia St            Loundsley Green Ward        Derbyshire   \n15               89 Noon St                       Carbrooke           Norfolk   \n16            99 Guthrie St                      New Milton         Hampshire   \n..                      ...                             ...               ...   \n481          21 Pickwick St           Sutton cum Duckmanton        Derbyshire   \n484             70 Lilly Rd                    Shirley Ward    Greater London   \n487      4920 Fazakerley Rd         Plymstock Dunstone Ward             Devon   \n492  726 Westmoreland Place                Ballochmyle Ward     East Ayrshire   \n498             9 Milton St                Consett North ED     County Durham   \n\n       postal        phone1        phone2                         email  \\\n2     BH6 3BE  01347-368222  01935-821636    france.andrade@hotmail.com   \n5    NN14 2GH  01969-886290  01545-817375            erampy@rampy.co.uk   \n11    S40 4LY  01276-816806  01517-624517     charlesetta_erm@gmail.com   \n15   IP25 6JQ  01967-580851  01672-496478    mthrossell@throssell.co.uk   \n16   BH25 5DF  01326-532337  01666-638176         edgar.kanne@yahoo.com   \n..        ...           ...           ...                           ...   \n481   S44 5DS  01567-555570  01852-550588       ahmad.alsaqri@yahoo.com   \n484   CR0 7PT  01846-581451  01850-754504  jacquelyne_reibman@yahoo.com   \n487   PL9 8RD  01552-682601  01953-816728       isabelle.kono@yahoo.com   \n492   KA5 6EL  01724-467889  01992-537553            elbert@hotmail.com   \n498   DH8 5LP  01877-379681  01600-463475     celestina_keeny@gmail.com   \n\n                                            web  \n2              http://www.elliottjohnwesq.co.uk  \n5          http://www.thompsonmichaelcesq.co.uk  \n11                http://www.cainjohnmesq.co.uk  \n15             http://www.weissspirtguyer.co.uk  \n16           http://www.crowankennethwesq.co.uk  \n..                                          ...  \n481  http://www.allianceconstructioncoinc.co.uk  \n484          http://www.greatclipsforhair.co.uk  \n487  http://www.rockspringspetroleumequip.co.uk  \n492           http://www.donaldgnelsonesq.co.uk  \n498      http://www.bfgfederalcreditunion.co.uk  \n\n[192 rows x 11 columns]",
      "text/html": "<div>\n<style scoped>\n    .dataframe tbody tr th:only-of-type {\n        vertical-align: middle;\n    }\n\n    .dataframe tbody tr th {\n        vertical-align: top;\n    }\n\n    .dataframe thead th {\n        text-align: right;\n    }\n</style>\n<table border=\"1\" class=\"dataframe\">\n  <thead>\n    <tr style=\"text-align: right;\">\n      <th></th>\n      <th>first_name</th>\n      <th>last_name</th>\n      <th>company_name</th>\n      <th>address</th>\n      <th>city</th>\n      <th>county</th>\n      <th>postal</th>\n      <th>phone1</th>\n      <th>phone2</th>\n      <th>email</th>\n      <th>web</th>\n    </tr>\n  </thead>\n  <tbody>\n    <tr>\n      <th>2</th>\n      <td>France</td>\n      <td>Andrade</td>\n      <td>Elliott, John W Esq</td>\n      <td>8 Moor Place</td>\n      <td>East Southbourne and Tuckton W</td>\n      <td>Bournemouth</td>\n      <td>BH6 3BE</td>\n      <td>01347-368222</td>\n      <td>01935-821636</td>\n      <td>france.andrade@hotmail.com</td>\n      <td>http://www.elliottjohnwesq.co.uk</td>\n    </tr>\n    <tr>\n      <th>5</th>\n      <td>Eric</td>\n      <td>Rampy</td>\n      <td>Thompson, Michael C Esq</td>\n      <td>9472 Lind St</td>\n      <td>Desborough</td>\n      <td>Northamptonshire</td>\n      <td>NN14 2GH</td>\n      <td>01969-886290</td>\n      <td>01545-817375</td>\n      <td>erampy@rampy.co.uk</td>\n      <td>http://www.thompsonmichaelcesq.co.uk</td>\n    </tr>\n    <tr>\n      <th>11</th>\n      <td>Charlesetta</td>\n      <td>Erm</td>\n      <td>Cain, John M Esq</td>\n      <td>5 Hygeia St</td>\n      <td>Loundsley Green Ward</td>\n      <td>Derbyshire</td>\n      <td>S40 4LY</td>\n      <td>01276-816806</td>\n      <td>01517-624517</td>\n      <td>charlesetta_erm@gmail.com</td>\n      <td>http://www.cainjohnmesq.co.uk</td>\n    </tr>\n    <tr>\n      <th>15</th>\n      <td>Michell</td>\n      <td>Throssell</td>\n      <td>Weiss Spirt &amp; Guyer</td>\n      <td>89 Noon St</td>\n      <td>Carbrooke</td>\n      <td>Norfolk</td>\n      <td>IP25 6JQ</td>\n      <td>01967-580851</td>\n      <td>01672-496478</td>\n      <td>mthrossell@throssell.co.uk</td>\n      <td>http://www.weissspirtguyer.co.uk</td>\n    </tr>\n    <tr>\n      <th>16</th>\n      <td>Edgar</td>\n      <td>Kanne</td>\n      <td>Crowan, Kenneth W Esq</td>\n      <td>99 Guthrie St</td>\n      <td>New Milton</td>\n      <td>Hampshire</td>\n      <td>BH25 5DF</td>\n      <td>01326-532337</td>\n      <td>01666-638176</td>\n      <td>edgar.kanne@yahoo.com</td>\n      <td>http://www.crowankennethwesq.co.uk</td>\n    </tr>\n    <tr>\n      <th>...</th>\n      <td>...</td>\n      <td>...</td>\n      <td>...</td>\n      <td>...</td>\n      <td>...</td>\n      <td>...</td>\n      <td>...</td>\n      <td>...</td>\n      <td>...</td>\n      <td>...</td>\n      <td>...</td>\n    </tr>\n    <tr>\n      <th>481</th>\n      <td>Ahmad</td>\n      <td>Alsaqri</td>\n      <td>Alliance Construction Co Inc</td>\n      <td>21 Pickwick St</td>\n      <td>Sutton cum Duckmanton</td>\n      <td>Derbyshire</td>\n      <td>S44 5DS</td>\n      <td>01567-555570</td>\n      <td>01852-550588</td>\n      <td>ahmad.alsaqri@yahoo.com</td>\n      <td>http://www.allianceconstructioncoinc.co.uk</td>\n    </tr>\n    <tr>\n      <th>484</th>\n      <td>Jacquelyne</td>\n      <td>Reibman</td>\n      <td>Great Clips For Hair</td>\n      <td>70 Lilly Rd</td>\n      <td>Shirley Ward</td>\n      <td>Greater London</td>\n      <td>CR0 7PT</td>\n      <td>01846-581451</td>\n      <td>01850-754504</td>\n      <td>jacquelyne_reibman@yahoo.com</td>\n      <td>http://www.greatclipsforhair.co.uk</td>\n    </tr>\n    <tr>\n      <th>487</th>\n      <td>Isabelle</td>\n      <td>Kono</td>\n      <td>Rock Springs Petroleum Equip</td>\n      <td>4920 Fazakerley Rd</td>\n      <td>Plymstock Dunstone Ward</td>\n      <td>Devon</td>\n      <td>PL9 8RD</td>\n      <td>01552-682601</td>\n      <td>01953-816728</td>\n      <td>isabelle.kono@yahoo.com</td>\n      <td>http://www.rockspringspetroleumequip.co.uk</td>\n    </tr>\n    <tr>\n      <th>492</th>\n      <td>Elbert</td>\n      <td>Fiorino</td>\n      <td>Donald, G Nelson Esq</td>\n      <td>726 Westmoreland Place</td>\n      <td>Ballochmyle Ward</td>\n      <td>East Ayrshire</td>\n      <td>KA5 6EL</td>\n      <td>01724-467889</td>\n      <td>01992-537553</td>\n      <td>elbert@hotmail.com</td>\n      <td>http://www.donaldgnelsonesq.co.uk</td>\n    </tr>\n    <tr>\n      <th>498</th>\n      <td>Celestina</td>\n      <td>Keeny</td>\n      <td>Bfg Federal Credit Union</td>\n      <td>9 Milton St</td>\n      <td>Consett North ED</td>\n      <td>County Durham</td>\n      <td>DH8 5LP</td>\n      <td>01877-379681</td>\n      <td>01600-463475</td>\n      <td>celestina_keeny@gmail.com</td>\n      <td>http://www.bfgfederalcreditunion.co.uk</td>\n    </tr>\n  </tbody>\n</table>\n<p>192 rows × 11 columns</p>\n</div>"
     },
     "metadata": {},
     "execution_count": 31
    }
   ],
   "source": [
    "data.loc[data['company_name'].apply(lambda x: len(x.split(' '))==4)]"
   ]
  },
  {
   "cell_type": "code",
   "execution_count": 38,
   "metadata": {},
   "outputs": [
    {
     "output_type": "execute_result",
     "data": {
      "text/plain": "Empty DataFrame\nColumns: [first_name, last_name, company_name, address, city, county, postal, phone1, phone2, email, web]\nIndex: []",
      "text/html": "<div>\n<style scoped>\n    .dataframe tbody tr th:only-of-type {\n        vertical-align: middle;\n    }\n\n    .dataframe tbody tr th {\n        vertical-align: top;\n    }\n\n    .dataframe thead th {\n        text-align: right;\n    }\n</style>\n<table border=\"1\" class=\"dataframe\">\n  <thead>\n    <tr style=\"text-align: right;\">\n      <th></th>\n      <th>first_name</th>\n      <th>last_name</th>\n      <th>company_name</th>\n      <th>address</th>\n      <th>city</th>\n      <th>county</th>\n      <th>postal</th>\n      <th>phone1</th>\n      <th>phone2</th>\n      <th>email</th>\n      <th>web</th>\n    </tr>\n  </thead>\n  <tbody>\n  </tbody>\n</table>\n</div>"
     },
     "metadata": {},
     "execution_count": 38
    }
   ],
   "source": [
    "data.loc[(data['county']=='Devon')&(data['first_name']=='Danish')]"
   ]
  },
  {
   "cell_type": "code",
   "execution_count": 36,
   "metadata": {},
   "outputs": [
    {
     "output_type": "execute_result",
     "data": {
      "text/plain": "Empty DataFrame\nColumns: [first_name, last_name, company_name, address, city, county, postal, phone1, phone2, email, web]\nIndex: []",
      "text/html": "<div>\n<style scoped>\n    .dataframe tbody tr th:only-of-type {\n        vertical-align: middle;\n    }\n\n    .dataframe tbody tr th {\n        vertical-align: top;\n    }\n\n    .dataframe thead th {\n        text-align: right;\n    }\n</style>\n<table border=\"1\" class=\"dataframe\">\n  <thead>\n    <tr style=\"text-align: right;\">\n      <th></th>\n      <th>first_name</th>\n      <th>last_name</th>\n      <th>company_name</th>\n      <th>address</th>\n      <th>city</th>\n      <th>county</th>\n      <th>postal</th>\n      <th>phone1</th>\n      <th>phone2</th>\n      <th>email</th>\n      <th>web</th>\n    </tr>\n  </thead>\n  <tbody>\n  </tbody>\n</table>\n</div>"
     },
     "metadata": {},
     "execution_count": 36
    }
   ],
   "source": [
    "data.loc[data.first_name=='karthic']"
   ]
  },
  {
   "cell_type": "code",
   "execution_count": 39,
   "metadata": {},
   "outputs": [
    {
     "output_type": "error",
     "ename": "KeyError",
     "evalue": "\"['company_man'] not in index\"",
     "traceback": [
      "\u001b[1;31m---------------------------------------------------------------------------\u001b[0m",
      "\u001b[1;31mKeyError\u001b[0m                                  Traceback (most recent call last)",
      "\u001b[1;32m<ipython-input-39-e43c4160c726>\u001b[0m in \u001b[0;36m<module>\u001b[1;34m\u001b[0m\n\u001b[1;32m----> 1\u001b[1;33m data.loc[(data.first_name=='karthic'),\n\u001b[0m\u001b[0;32m      2\u001b[0m ['company_man','city']]=['Amrita','Coimbatore']\n",
      "\u001b[1;32m~\\AppData\\Local\\Programs\\Python\\Python38-32\\lib\\site-packages\\pandas\\core\\indexing.py\u001b[0m in \u001b[0;36m__setitem__\u001b[1;34m(self, key, value)\u001b[0m\n\u001b[0;32m    668\u001b[0m         \u001b[1;32melse\u001b[0m\u001b[1;33m:\u001b[0m\u001b[1;33m\u001b[0m\u001b[1;33m\u001b[0m\u001b[0m\n\u001b[0;32m    669\u001b[0m             \u001b[0mkey\u001b[0m \u001b[1;33m=\u001b[0m \u001b[0mcom\u001b[0m\u001b[1;33m.\u001b[0m\u001b[0mapply_if_callable\u001b[0m\u001b[1;33m(\u001b[0m\u001b[0mkey\u001b[0m\u001b[1;33m,\u001b[0m \u001b[0mself\u001b[0m\u001b[1;33m.\u001b[0m\u001b[0mobj\u001b[0m\u001b[1;33m)\u001b[0m\u001b[1;33m\u001b[0m\u001b[1;33m\u001b[0m\u001b[0m\n\u001b[1;32m--> 670\u001b[1;33m         \u001b[0mindexer\u001b[0m \u001b[1;33m=\u001b[0m \u001b[0mself\u001b[0m\u001b[1;33m.\u001b[0m\u001b[0m_get_setitem_indexer\u001b[0m\u001b[1;33m(\u001b[0m\u001b[0mkey\u001b[0m\u001b[1;33m)\u001b[0m\u001b[1;33m\u001b[0m\u001b[1;33m\u001b[0m\u001b[0m\n\u001b[0m\u001b[0;32m    671\u001b[0m         \u001b[0mself\u001b[0m\u001b[1;33m.\u001b[0m\u001b[0m_setitem_with_indexer\u001b[0m\u001b[1;33m(\u001b[0m\u001b[0mindexer\u001b[0m\u001b[1;33m,\u001b[0m \u001b[0mvalue\u001b[0m\u001b[1;33m)\u001b[0m\u001b[1;33m\u001b[0m\u001b[1;33m\u001b[0m\u001b[0m\n\u001b[0;32m    672\u001b[0m \u001b[1;33m\u001b[0m\u001b[0m\n",
      "\u001b[1;32m~\\AppData\\Local\\Programs\\Python\\Python38-32\\lib\\site-packages\\pandas\\core\\indexing.py\u001b[0m in \u001b[0;36m_get_setitem_indexer\u001b[1;34m(self, key)\u001b[0m\n\u001b[0;32m    646\u001b[0m         \u001b[1;32mif\u001b[0m \u001b[0misinstance\u001b[0m\u001b[1;33m(\u001b[0m\u001b[0mkey\u001b[0m\u001b[1;33m,\u001b[0m \u001b[0mtuple\u001b[0m\u001b[1;33m)\u001b[0m\u001b[1;33m:\u001b[0m\u001b[1;33m\u001b[0m\u001b[1;33m\u001b[0m\u001b[0m\n\u001b[0;32m    647\u001b[0m             \u001b[1;32mtry\u001b[0m\u001b[1;33m:\u001b[0m\u001b[1;33m\u001b[0m\u001b[1;33m\u001b[0m\u001b[0m\n\u001b[1;32m--> 648\u001b[1;33m                 \u001b[1;32mreturn\u001b[0m \u001b[0mself\u001b[0m\u001b[1;33m.\u001b[0m\u001b[0m_convert_tuple\u001b[0m\u001b[1;33m(\u001b[0m\u001b[0mkey\u001b[0m\u001b[1;33m)\u001b[0m\u001b[1;33m\u001b[0m\u001b[1;33m\u001b[0m\u001b[0m\n\u001b[0m\u001b[0;32m    649\u001b[0m             \u001b[1;32mexcept\u001b[0m \u001b[0mIndexingError\u001b[0m\u001b[1;33m:\u001b[0m\u001b[1;33m\u001b[0m\u001b[1;33m\u001b[0m\u001b[0m\n\u001b[0;32m    650\u001b[0m                 \u001b[1;32mpass\u001b[0m\u001b[1;33m\u001b[0m\u001b[1;33m\u001b[0m\u001b[0m\n",
      "\u001b[1;32m~\\AppData\\Local\\Programs\\Python\\Python38-32\\lib\\site-packages\\pandas\\core\\indexing.py\u001b[0m in \u001b[0;36m_convert_tuple\u001b[1;34m(self, key)\u001b[0m\n\u001b[0;32m    731\u001b[0m                 \u001b[1;32mif\u001b[0m \u001b[0mi\u001b[0m \u001b[1;33m>=\u001b[0m \u001b[0mself\u001b[0m\u001b[1;33m.\u001b[0m\u001b[0mndim\u001b[0m\u001b[1;33m:\u001b[0m\u001b[1;33m\u001b[0m\u001b[1;33m\u001b[0m\u001b[0m\n\u001b[0;32m    732\u001b[0m                     \u001b[1;32mraise\u001b[0m \u001b[0mIndexingError\u001b[0m\u001b[1;33m(\u001b[0m\u001b[1;34m\"Too many indexers\"\u001b[0m\u001b[1;33m)\u001b[0m\u001b[1;33m\u001b[0m\u001b[1;33m\u001b[0m\u001b[0m\n\u001b[1;32m--> 733\u001b[1;33m                 \u001b[0midx\u001b[0m \u001b[1;33m=\u001b[0m \u001b[0mself\u001b[0m\u001b[1;33m.\u001b[0m\u001b[0m_convert_to_indexer\u001b[0m\u001b[1;33m(\u001b[0m\u001b[0mk\u001b[0m\u001b[1;33m,\u001b[0m \u001b[0maxis\u001b[0m\u001b[1;33m=\u001b[0m\u001b[0mi\u001b[0m\u001b[1;33m)\u001b[0m\u001b[1;33m\u001b[0m\u001b[1;33m\u001b[0m\u001b[0m\n\u001b[0m\u001b[0;32m    734\u001b[0m                 \u001b[0mkeyidx\u001b[0m\u001b[1;33m.\u001b[0m\u001b[0mappend\u001b[0m\u001b[1;33m(\u001b[0m\u001b[0midx\u001b[0m\u001b[1;33m)\u001b[0m\u001b[1;33m\u001b[0m\u001b[1;33m\u001b[0m\u001b[0m\n\u001b[0;32m    735\u001b[0m         \u001b[1;32mreturn\u001b[0m \u001b[0mtuple\u001b[0m\u001b[1;33m(\u001b[0m\u001b[0mkeyidx\u001b[0m\u001b[1;33m)\u001b[0m\u001b[1;33m\u001b[0m\u001b[1;33m\u001b[0m\u001b[0m\n",
      "\u001b[1;32m~\\AppData\\Local\\Programs\\Python\\Python38-32\\lib\\site-packages\\pandas\\core\\indexing.py\u001b[0m in \u001b[0;36m_convert_to_indexer\u001b[1;34m(self, obj, axis, raise_missing)\u001b[0m\n\u001b[0;32m   1730\u001b[0m             \u001b[1;32melse\u001b[0m\u001b[1;33m:\u001b[0m\u001b[1;33m\u001b[0m\u001b[1;33m\u001b[0m\u001b[0m\n\u001b[0;32m   1731\u001b[0m                 \u001b[1;31m# When setting, missing keys are not allowed, even with .loc:\u001b[0m\u001b[1;33m\u001b[0m\u001b[1;33m\u001b[0m\u001b[1;33m\u001b[0m\u001b[0m\n\u001b[1;32m-> 1732\u001b[1;33m                 \u001b[1;32mreturn\u001b[0m \u001b[0mself\u001b[0m\u001b[1;33m.\u001b[0m\u001b[0m_get_listlike_indexer\u001b[0m\u001b[1;33m(\u001b[0m\u001b[0mobj\u001b[0m\u001b[1;33m,\u001b[0m \u001b[0maxis\u001b[0m\u001b[1;33m,\u001b[0m \u001b[0mraise_missing\u001b[0m\u001b[1;33m=\u001b[0m\u001b[1;32mTrue\u001b[0m\u001b[1;33m)\u001b[0m\u001b[1;33m[\u001b[0m\u001b[1;36m1\u001b[0m\u001b[1;33m]\u001b[0m\u001b[1;33m\u001b[0m\u001b[1;33m\u001b[0m\u001b[0m\n\u001b[0m\u001b[0;32m   1733\u001b[0m         \u001b[1;32melse\u001b[0m\u001b[1;33m:\u001b[0m\u001b[1;33m\u001b[0m\u001b[1;33m\u001b[0m\u001b[0m\n\u001b[0;32m   1734\u001b[0m             \u001b[1;32mtry\u001b[0m\u001b[1;33m:\u001b[0m\u001b[1;33m\u001b[0m\u001b[1;33m\u001b[0m\u001b[0m\n",
      "\u001b[1;32m~\\AppData\\Local\\Programs\\Python\\Python38-32\\lib\\site-packages\\pandas\\core\\indexing.py\u001b[0m in \u001b[0;36m_get_listlike_indexer\u001b[1;34m(self, key, axis, raise_missing)\u001b[0m\n\u001b[0;32m   1550\u001b[0m             \u001b[0mkeyarr\u001b[0m\u001b[1;33m,\u001b[0m \u001b[0mindexer\u001b[0m\u001b[1;33m,\u001b[0m \u001b[0mnew_indexer\u001b[0m \u001b[1;33m=\u001b[0m \u001b[0max\u001b[0m\u001b[1;33m.\u001b[0m\u001b[0m_reindex_non_unique\u001b[0m\u001b[1;33m(\u001b[0m\u001b[0mkeyarr\u001b[0m\u001b[1;33m)\u001b[0m\u001b[1;33m\u001b[0m\u001b[1;33m\u001b[0m\u001b[0m\n\u001b[0;32m   1551\u001b[0m \u001b[1;33m\u001b[0m\u001b[0m\n\u001b[1;32m-> 1552\u001b[1;33m         self._validate_read_indexer(\n\u001b[0m\u001b[0;32m   1553\u001b[0m             \u001b[0mkeyarr\u001b[0m\u001b[1;33m,\u001b[0m \u001b[0mindexer\u001b[0m\u001b[1;33m,\u001b[0m \u001b[0mo\u001b[0m\u001b[1;33m.\u001b[0m\u001b[0m_get_axis_number\u001b[0m\u001b[1;33m(\u001b[0m\u001b[0maxis\u001b[0m\u001b[1;33m)\u001b[0m\u001b[1;33m,\u001b[0m \u001b[0mraise_missing\u001b[0m\u001b[1;33m=\u001b[0m\u001b[0mraise_missing\u001b[0m\u001b[1;33m\u001b[0m\u001b[1;33m\u001b[0m\u001b[0m\n\u001b[0;32m   1554\u001b[0m         )\n",
      "\u001b[1;32m~\\AppData\\Local\\Programs\\Python\\Python38-32\\lib\\site-packages\\pandas\\core\\indexing.py\u001b[0m in \u001b[0;36m_validate_read_indexer\u001b[1;34m(self, key, indexer, axis, raise_missing)\u001b[0m\n\u001b[0;32m   1644\u001b[0m             \u001b[1;32mif\u001b[0m \u001b[1;32mnot\u001b[0m \u001b[1;33m(\u001b[0m\u001b[0mself\u001b[0m\u001b[1;33m.\u001b[0m\u001b[0mname\u001b[0m \u001b[1;33m==\u001b[0m \u001b[1;34m\"loc\"\u001b[0m \u001b[1;32mand\u001b[0m \u001b[1;32mnot\u001b[0m \u001b[0mraise_missing\u001b[0m\u001b[1;33m)\u001b[0m\u001b[1;33m:\u001b[0m\u001b[1;33m\u001b[0m\u001b[1;33m\u001b[0m\u001b[0m\n\u001b[0;32m   1645\u001b[0m                 \u001b[0mnot_found\u001b[0m \u001b[1;33m=\u001b[0m \u001b[0mlist\u001b[0m\u001b[1;33m(\u001b[0m\u001b[0mset\u001b[0m\u001b[1;33m(\u001b[0m\u001b[0mkey\u001b[0m\u001b[1;33m)\u001b[0m \u001b[1;33m-\u001b[0m \u001b[0mset\u001b[0m\u001b[1;33m(\u001b[0m\u001b[0max\u001b[0m\u001b[1;33m)\u001b[0m\u001b[1;33m)\u001b[0m\u001b[1;33m\u001b[0m\u001b[1;33m\u001b[0m\u001b[0m\n\u001b[1;32m-> 1646\u001b[1;33m                 \u001b[1;32mraise\u001b[0m \u001b[0mKeyError\u001b[0m\u001b[1;33m(\u001b[0m\u001b[1;34mf\"{not_found} not in index\"\u001b[0m\u001b[1;33m)\u001b[0m\u001b[1;33m\u001b[0m\u001b[1;33m\u001b[0m\u001b[0m\n\u001b[0m\u001b[0;32m   1647\u001b[0m \u001b[1;33m\u001b[0m\u001b[0m\n\u001b[0;32m   1648\u001b[0m             \u001b[1;31m# we skip the warning on Categorical/Interval\u001b[0m\u001b[1;33m\u001b[0m\u001b[1;33m\u001b[0m\u001b[1;33m\u001b[0m\u001b[0m\n",
      "\u001b[1;31mKeyError\u001b[0m: \"['company_man'] not in index\""
     ]
    }
   ],
   "source": [
    "data.loc[(data.first_name=='karthic'),\n",
    "['company_man','city']]=['Amrita','Coimbatore']"
   ]
  },
  {
   "cell_type": "code",
   "execution_count": 42,
   "metadata": {},
   "outputs": [],
   "source": [
    "links2='https://raw.githubusercontent.com/fivethirtyeight/data/master/cabinet-turnover/cabinet-turnover.csv'\n",
    "link2=pd.read_csv(links2)"
   ]
  },
  {
   "cell_type": "code",
   "execution_count": 45,
   "metadata": {},
   "outputs": [
    {
     "output_type": "execute_result",
     "data": {
      "text/plain": "  president                                  position              appointee  \\\n0    Carter                              OMB Director             Bert Lance   \n1    Carter               Secretary of Transportation            Brock Adams   \n2    Carter  Secretary of Health, Education & Welfare    Joseph Califano Jr.   \n3    Carter  Secretary of Housing & Urban Development        Patricia Harris   \n4    Carter                 Secretary of the Treasury  W. Michael Blumenthal   \n\n     start      end length   days  \n0  1/21/77  9/23/77    245  247.0  \n1  1/23/77  7/20/79    908  912.0  \n2  1/25/77   8/3/79    920  926.0  \n3  1/23/77   8/3/79    922  926.0  \n4  1/23/77   8/4/79    923  927.0  ",
      "text/html": "<div>\n<style scoped>\n    .dataframe tbody tr th:only-of-type {\n        vertical-align: middle;\n    }\n\n    .dataframe tbody tr th {\n        vertical-align: top;\n    }\n\n    .dataframe thead th {\n        text-align: right;\n    }\n</style>\n<table border=\"1\" class=\"dataframe\">\n  <thead>\n    <tr style=\"text-align: right;\">\n      <th></th>\n      <th>president</th>\n      <th>position</th>\n      <th>appointee</th>\n      <th>start</th>\n      <th>end</th>\n      <th>length</th>\n      <th>days</th>\n    </tr>\n  </thead>\n  <tbody>\n    <tr>\n      <th>0</th>\n      <td>Carter</td>\n      <td>OMB Director</td>\n      <td>Bert Lance</td>\n      <td>1/21/77</td>\n      <td>9/23/77</td>\n      <td>245</td>\n      <td>247.0</td>\n    </tr>\n    <tr>\n      <th>1</th>\n      <td>Carter</td>\n      <td>Secretary of Transportation</td>\n      <td>Brock Adams</td>\n      <td>1/23/77</td>\n      <td>7/20/79</td>\n      <td>908</td>\n      <td>912.0</td>\n    </tr>\n    <tr>\n      <th>2</th>\n      <td>Carter</td>\n      <td>Secretary of Health, Education &amp; Welfare</td>\n      <td>Joseph Califano Jr.</td>\n      <td>1/25/77</td>\n      <td>8/3/79</td>\n      <td>920</td>\n      <td>926.0</td>\n    </tr>\n    <tr>\n      <th>3</th>\n      <td>Carter</td>\n      <td>Secretary of Housing &amp; Urban Development</td>\n      <td>Patricia Harris</td>\n      <td>1/23/77</td>\n      <td>8/3/79</td>\n      <td>922</td>\n      <td>926.0</td>\n    </tr>\n    <tr>\n      <th>4</th>\n      <td>Carter</td>\n      <td>Secretary of the Treasury</td>\n      <td>W. Michael Blumenthal</td>\n      <td>1/23/77</td>\n      <td>8/4/79</td>\n      <td>923</td>\n      <td>927.0</td>\n    </tr>\n  </tbody>\n</table>\n</div>"
     },
     "metadata": {},
     "execution_count": 45
    }
   ],
   "source": [
    "link2.head()"
   ]
  },
  {
   "cell_type": "code",
   "execution_count": 48,
   "metadata": {},
   "outputs": [
    {
     "output_type": "execute_result",
     "data": {
      "text/plain": "(312, 7)"
     },
     "metadata": {},
     "execution_count": 48
    }
   ],
   "source": [
    "link2.shape"
   ]
  },
  {
   "cell_type": "code",
   "execution_count": 50,
   "metadata": {},
   "outputs": [
    {
     "output_type": "error",
     "ename": "AttributeError",
     "evalue": "'Series' object has no attribute 'values_count'",
     "traceback": [
      "\u001b[1;31m---------------------------------------------------------------------------\u001b[0m",
      "\u001b[1;31mAttributeError\u001b[0m                            Traceback (most recent call last)",
      "\u001b[1;32m<ipython-input-50-4bda786b5cf9>\u001b[0m in \u001b[0;36m<module>\u001b[1;34m\u001b[0m\n\u001b[1;32m----> 1\u001b[1;33m \u001b[0mlink2\u001b[0m\u001b[1;33m[\u001b[0m\u001b[1;34m'president'\u001b[0m\u001b[1;33m]\u001b[0m\u001b[1;33m.\u001b[0m\u001b[0mvalues_count\u001b[0m\u001b[1;33m(\u001b[0m\u001b[1;33m)\u001b[0m\u001b[1;33m\u001b[0m\u001b[1;33m\u001b[0m\u001b[0m\n\u001b[0m",
      "\u001b[1;32m~\\AppData\\Local\\Programs\\Python\\Python38-32\\lib\\site-packages\\pandas\\core\\generic.py\u001b[0m in \u001b[0;36m__getattr__\u001b[1;34m(self, name)\u001b[0m\n\u001b[0;32m   5272\u001b[0m             \u001b[1;32mif\u001b[0m \u001b[0mself\u001b[0m\u001b[1;33m.\u001b[0m\u001b[0m_info_axis\u001b[0m\u001b[1;33m.\u001b[0m\u001b[0m_can_hold_identifiers_and_holds_name\u001b[0m\u001b[1;33m(\u001b[0m\u001b[0mname\u001b[0m\u001b[1;33m)\u001b[0m\u001b[1;33m:\u001b[0m\u001b[1;33m\u001b[0m\u001b[1;33m\u001b[0m\u001b[0m\n\u001b[0;32m   5273\u001b[0m                 \u001b[1;32mreturn\u001b[0m \u001b[0mself\u001b[0m\u001b[1;33m[\u001b[0m\u001b[0mname\u001b[0m\u001b[1;33m]\u001b[0m\u001b[1;33m\u001b[0m\u001b[1;33m\u001b[0m\u001b[0m\n\u001b[1;32m-> 5274\u001b[1;33m             \u001b[1;32mreturn\u001b[0m \u001b[0mobject\u001b[0m\u001b[1;33m.\u001b[0m\u001b[0m__getattribute__\u001b[0m\u001b[1;33m(\u001b[0m\u001b[0mself\u001b[0m\u001b[1;33m,\u001b[0m \u001b[0mname\u001b[0m\u001b[1;33m)\u001b[0m\u001b[1;33m\u001b[0m\u001b[1;33m\u001b[0m\u001b[0m\n\u001b[0m\u001b[0;32m   5275\u001b[0m \u001b[1;33m\u001b[0m\u001b[0m\n\u001b[0;32m   5276\u001b[0m     \u001b[1;32mdef\u001b[0m \u001b[0m__setattr__\u001b[0m\u001b[1;33m(\u001b[0m\u001b[0mself\u001b[0m\u001b[1;33m,\u001b[0m \u001b[0mname\u001b[0m\u001b[1;33m:\u001b[0m \u001b[0mstr\u001b[0m\u001b[1;33m,\u001b[0m \u001b[0mvalue\u001b[0m\u001b[1;33m)\u001b[0m \u001b[1;33m->\u001b[0m \u001b[1;32mNone\u001b[0m\u001b[1;33m:\u001b[0m\u001b[1;33m\u001b[0m\u001b[1;33m\u001b[0m\u001b[0m\n",
      "\u001b[1;31mAttributeError\u001b[0m: 'Series' object has no attribute 'values_count'"
     ]
    }
   ],
   "source": [
    "link2['president'].value_count()"
   ]
  },
  {
   "cell_type": "code",
   "execution_count": 57,
   "metadata": {},
   "outputs": [
    {
     "output_type": "execute_result",
     "data": {
      "text/plain": "Bush 43    58\nObama      54\nReagan     53\nClinton    50\nBush 41    34\nCarter     33\nTrump      30\nName: president, dtype: int64"
     },
     "metadata": {},
     "execution_count": 57
    }
   ],
   "source": [
    "link2['president'].value_counts()"
   ]
  },
  {
   "cell_type": "code",
   "execution_count": 54,
   "metadata": {},
   "outputs": [
    {
     "output_type": "execute_result",
     "data": {
      "text/plain": "Index(['president', 'position', 'appointee', 'start', 'end', 'length', 'days'], dtype='object')"
     },
     "metadata": {},
     "execution_count": 54
    }
   ],
   "source": [
    "a=link2.columns\n",
    "a"
   ]
  },
  {
   "cell_type": "code",
   "execution_count": 61,
   "metadata": {},
   "outputs": [
    {
     "output_type": "error",
     "ename": "KeyError",
     "evalue": "'position'",
     "traceback": [
      "\u001b[1;31m---------------------------------------------------------------------------\u001b[0m",
      "\u001b[1;31mKeyError\u001b[0m                                  Traceback (most recent call last)",
      "\u001b[1;32m~\\AppData\\Local\\Programs\\Python\\Python38-32\\lib\\site-packages\\pandas\\core\\indexes\\base.py\u001b[0m in \u001b[0;36mget_loc\u001b[1;34m(self, key, method, tolerance)\u001b[0m\n\u001b[0;32m   2645\u001b[0m             \u001b[1;32mtry\u001b[0m\u001b[1;33m:\u001b[0m\u001b[1;33m\u001b[0m\u001b[1;33m\u001b[0m\u001b[0m\n\u001b[1;32m-> 2646\u001b[1;33m                 \u001b[1;32mreturn\u001b[0m \u001b[0mself\u001b[0m\u001b[1;33m.\u001b[0m\u001b[0m_engine\u001b[0m\u001b[1;33m.\u001b[0m\u001b[0mget_loc\u001b[0m\u001b[1;33m(\u001b[0m\u001b[0mkey\u001b[0m\u001b[1;33m)\u001b[0m\u001b[1;33m\u001b[0m\u001b[1;33m\u001b[0m\u001b[0m\n\u001b[0m\u001b[0;32m   2647\u001b[0m             \u001b[1;32mexcept\u001b[0m \u001b[0mKeyError\u001b[0m\u001b[1;33m:\u001b[0m\u001b[1;33m\u001b[0m\u001b[1;33m\u001b[0m\u001b[0m\n",
      "\u001b[1;32mpandas\\_libs\\index.pyx\u001b[0m in \u001b[0;36mpandas._libs.index.IndexEngine.get_loc\u001b[1;34m()\u001b[0m\n",
      "\u001b[1;32mpandas\\_libs\\index.pyx\u001b[0m in \u001b[0;36mpandas._libs.index.IndexEngine.get_loc\u001b[1;34m()\u001b[0m\n",
      "\u001b[1;32mpandas\\_libs\\hashtable_class_helper.pxi\u001b[0m in \u001b[0;36mpandas._libs.hashtable.PyObjectHashTable.get_item\u001b[1;34m()\u001b[0m\n",
      "\u001b[1;32mpandas\\_libs\\hashtable_class_helper.pxi\u001b[0m in \u001b[0;36mpandas._libs.hashtable.PyObjectHashTable.get_item\u001b[1;34m()\u001b[0m\n",
      "\u001b[1;31mKeyError\u001b[0m: 'position'",
      "\nDuring handling of the above exception, another exception occurred:\n",
      "\u001b[1;31mKeyError\u001b[0m                                  Traceback (most recent call last)",
      "\u001b[1;32m<ipython-input-61-2fbb15393e9f>\u001b[0m in \u001b[0;36m<module>\u001b[1;34m\u001b[0m\n\u001b[1;32m----> 1\u001b[1;33m \u001b[0mdata\u001b[0m\u001b[1;33m.\u001b[0m\u001b[0mloc\u001b[0m\u001b[1;33m[\u001b[0m\u001b[1;33m(\u001b[0m\u001b[0mdata\u001b[0m\u001b[1;33m[\u001b[0m\u001b[1;34m'position'\u001b[0m\u001b[1;33m]\u001b[0m\u001b[1;33m.\u001b[0m\u001b[0mstr\u001b[0m\u001b[1;33m.\u001b[0m\u001b[0mstartswith\u001b[0m\u001b[1;33m(\u001b[0m\u001b[1;34m'secreta'\u001b[0m\u001b[1;33m)\u001b[0m\u001b[1;33m)\u001b[0m\u001b[1;33m]\u001b[0m\u001b[1;33m\u001b[0m\u001b[1;33m\u001b[0m\u001b[0m\n\u001b[0m",
      "\u001b[1;32m~\\AppData\\Local\\Programs\\Python\\Python38-32\\lib\\site-packages\\pandas\\core\\frame.py\u001b[0m in \u001b[0;36m__getitem__\u001b[1;34m(self, key)\u001b[0m\n\u001b[0;32m   2798\u001b[0m             \u001b[1;32mif\u001b[0m \u001b[0mself\u001b[0m\u001b[1;33m.\u001b[0m\u001b[0mcolumns\u001b[0m\u001b[1;33m.\u001b[0m\u001b[0mnlevels\u001b[0m \u001b[1;33m>\u001b[0m \u001b[1;36m1\u001b[0m\u001b[1;33m:\u001b[0m\u001b[1;33m\u001b[0m\u001b[1;33m\u001b[0m\u001b[0m\n\u001b[0;32m   2799\u001b[0m                 \u001b[1;32mreturn\u001b[0m \u001b[0mself\u001b[0m\u001b[1;33m.\u001b[0m\u001b[0m_getitem_multilevel\u001b[0m\u001b[1;33m(\u001b[0m\u001b[0mkey\u001b[0m\u001b[1;33m)\u001b[0m\u001b[1;33m\u001b[0m\u001b[1;33m\u001b[0m\u001b[0m\n\u001b[1;32m-> 2800\u001b[1;33m             \u001b[0mindexer\u001b[0m \u001b[1;33m=\u001b[0m \u001b[0mself\u001b[0m\u001b[1;33m.\u001b[0m\u001b[0mcolumns\u001b[0m\u001b[1;33m.\u001b[0m\u001b[0mget_loc\u001b[0m\u001b[1;33m(\u001b[0m\u001b[0mkey\u001b[0m\u001b[1;33m)\u001b[0m\u001b[1;33m\u001b[0m\u001b[1;33m\u001b[0m\u001b[0m\n\u001b[0m\u001b[0;32m   2801\u001b[0m             \u001b[1;32mif\u001b[0m \u001b[0mis_integer\u001b[0m\u001b[1;33m(\u001b[0m\u001b[0mindexer\u001b[0m\u001b[1;33m)\u001b[0m\u001b[1;33m:\u001b[0m\u001b[1;33m\u001b[0m\u001b[1;33m\u001b[0m\u001b[0m\n\u001b[0;32m   2802\u001b[0m                 \u001b[0mindexer\u001b[0m \u001b[1;33m=\u001b[0m \u001b[1;33m[\u001b[0m\u001b[0mindexer\u001b[0m\u001b[1;33m]\u001b[0m\u001b[1;33m\u001b[0m\u001b[1;33m\u001b[0m\u001b[0m\n",
      "\u001b[1;32m~\\AppData\\Local\\Programs\\Python\\Python38-32\\lib\\site-packages\\pandas\\core\\indexes\\base.py\u001b[0m in \u001b[0;36mget_loc\u001b[1;34m(self, key, method, tolerance)\u001b[0m\n\u001b[0;32m   2646\u001b[0m                 \u001b[1;32mreturn\u001b[0m \u001b[0mself\u001b[0m\u001b[1;33m.\u001b[0m\u001b[0m_engine\u001b[0m\u001b[1;33m.\u001b[0m\u001b[0mget_loc\u001b[0m\u001b[1;33m(\u001b[0m\u001b[0mkey\u001b[0m\u001b[1;33m)\u001b[0m\u001b[1;33m\u001b[0m\u001b[1;33m\u001b[0m\u001b[0m\n\u001b[0;32m   2647\u001b[0m             \u001b[1;32mexcept\u001b[0m \u001b[0mKeyError\u001b[0m\u001b[1;33m:\u001b[0m\u001b[1;33m\u001b[0m\u001b[1;33m\u001b[0m\u001b[0m\n\u001b[1;32m-> 2648\u001b[1;33m                 \u001b[1;32mreturn\u001b[0m \u001b[0mself\u001b[0m\u001b[1;33m.\u001b[0m\u001b[0m_engine\u001b[0m\u001b[1;33m.\u001b[0m\u001b[0mget_loc\u001b[0m\u001b[1;33m(\u001b[0m\u001b[0mself\u001b[0m\u001b[1;33m.\u001b[0m\u001b[0m_maybe_cast_indexer\u001b[0m\u001b[1;33m(\u001b[0m\u001b[0mkey\u001b[0m\u001b[1;33m)\u001b[0m\u001b[1;33m)\u001b[0m\u001b[1;33m\u001b[0m\u001b[1;33m\u001b[0m\u001b[0m\n\u001b[0m\u001b[0;32m   2649\u001b[0m         \u001b[0mindexer\u001b[0m \u001b[1;33m=\u001b[0m \u001b[0mself\u001b[0m\u001b[1;33m.\u001b[0m\u001b[0mget_indexer\u001b[0m\u001b[1;33m(\u001b[0m\u001b[1;33m[\u001b[0m\u001b[0mkey\u001b[0m\u001b[1;33m]\u001b[0m\u001b[1;33m,\u001b[0m \u001b[0mmethod\u001b[0m\u001b[1;33m=\u001b[0m\u001b[0mmethod\u001b[0m\u001b[1;33m,\u001b[0m \u001b[0mtolerance\u001b[0m\u001b[1;33m=\u001b[0m\u001b[0mtolerance\u001b[0m\u001b[1;33m)\u001b[0m\u001b[1;33m\u001b[0m\u001b[1;33m\u001b[0m\u001b[0m\n\u001b[0;32m   2650\u001b[0m         \u001b[1;32mif\u001b[0m \u001b[0mindexer\u001b[0m\u001b[1;33m.\u001b[0m\u001b[0mndim\u001b[0m \u001b[1;33m>\u001b[0m \u001b[1;36m1\u001b[0m \u001b[1;32mor\u001b[0m \u001b[0mindexer\u001b[0m\u001b[1;33m.\u001b[0m\u001b[0msize\u001b[0m \u001b[1;33m>\u001b[0m \u001b[1;36m1\u001b[0m\u001b[1;33m:\u001b[0m\u001b[1;33m\u001b[0m\u001b[1;33m\u001b[0m\u001b[0m\n",
      "\u001b[1;32mpandas\\_libs\\index.pyx\u001b[0m in \u001b[0;36mpandas._libs.index.IndexEngine.get_loc\u001b[1;34m()\u001b[0m\n",
      "\u001b[1;32mpandas\\_libs\\index.pyx\u001b[0m in \u001b[0;36mpandas._libs.index.IndexEngine.get_loc\u001b[1;34m()\u001b[0m\n",
      "\u001b[1;32mpandas\\_libs\\hashtable_class_helper.pxi\u001b[0m in \u001b[0;36mpandas._libs.hashtable.PyObjectHashTable.get_item\u001b[1;34m()\u001b[0m\n",
      "\u001b[1;32mpandas\\_libs\\hashtable_class_helper.pxi\u001b[0m in \u001b[0;36mpandas._libs.hashtable.PyObjectHashTable.get_item\u001b[1;34m()\u001b[0m\n",
      "\u001b[1;31mKeyError\u001b[0m: 'position'"
     ]
    }
   ],
   "source": [
    "data.loc[(data['position'].str.startswith('secreta'))]"
   ]
  },
  {
   "cell_type": "code",
   "execution_count": 65,
   "metadata": {},
   "outputs": [
    {
     "output_type": "execute_result",
     "data": {
      "text/plain": "array(['Carter', 'Reagan', 'Bush 41', 'Clinton', 'Bush 43', 'Obama',\n       'Trump'], dtype=object)"
     },
     "metadata": {},
     "execution_count": 65
    }
   ],
   "source": [
    "link2['president'].unique()"
   ]
  },
  {
   "cell_type": "code",
   "execution_count": 66,
   "metadata": {},
   "outputs": [
    {
     "output_type": "execute_result",
     "data": {
      "text/plain": "  Item_Identifier  Item_Weight Item_Fat_Content  Item_Visibility    Item_Type  \\\n0           FDA15         9.30          Low Fat         0.016047        Dairy   \n1           DRC01         5.92          Regular         0.019278  Soft Drinks   \n\n   Item_MRP Outlet_Identifier  Outlet_Establishment_Year Outlet_Size  \\\n0  249.8092            OUT049                       1999      Medium   \n1   48.2692            OUT018                       2009      Medium   \n\n  Outlet_Location_Type        Outlet_Type  Item_Outlet_Sales  \n0               Tier 1  Supermarket Type1          3735.1380  \n1               Tier 3  Supermarket Type2           443.4228  ",
      "text/html": "<div>\n<style scoped>\n    .dataframe tbody tr th:only-of-type {\n        vertical-align: middle;\n    }\n\n    .dataframe tbody tr th {\n        vertical-align: top;\n    }\n\n    .dataframe thead th {\n        text-align: right;\n    }\n</style>\n<table border=\"1\" class=\"dataframe\">\n  <thead>\n    <tr style=\"text-align: right;\">\n      <th></th>\n      <th>Item_Identifier</th>\n      <th>Item_Weight</th>\n      <th>Item_Fat_Content</th>\n      <th>Item_Visibility</th>\n      <th>Item_Type</th>\n      <th>Item_MRP</th>\n      <th>Outlet_Identifier</th>\n      <th>Outlet_Establishment_Year</th>\n      <th>Outlet_Size</th>\n      <th>Outlet_Location_Type</th>\n      <th>Outlet_Type</th>\n      <th>Item_Outlet_Sales</th>\n    </tr>\n  </thead>\n  <tbody>\n    <tr>\n      <th>0</th>\n      <td>FDA15</td>\n      <td>9.30</td>\n      <td>Low Fat</td>\n      <td>0.016047</td>\n      <td>Dairy</td>\n      <td>249.8092</td>\n      <td>OUT049</td>\n      <td>1999</td>\n      <td>Medium</td>\n      <td>Tier 1</td>\n      <td>Supermarket Type1</td>\n      <td>3735.1380</td>\n    </tr>\n    <tr>\n      <th>1</th>\n      <td>DRC01</td>\n      <td>5.92</td>\n      <td>Regular</td>\n      <td>0.019278</td>\n      <td>Soft Drinks</td>\n      <td>48.2692</td>\n      <td>OUT018</td>\n      <td>2009</td>\n      <td>Medium</td>\n      <td>Tier 3</td>\n      <td>Supermarket Type2</td>\n      <td>443.4228</td>\n    </tr>\n  </tbody>\n</table>\n</div>"
     },
     "metadata": {},
     "execution_count": 66
    }
   ],
   "source": [
    "ddd=pd.read_csv('https://raw.githubusercontent.com/akki8087/Big-Mart-Sales/master/Train.csv')\n",
    "ddd.head(2)"
   ]
  },
  {
   "cell_type": "code",
   "execution_count": 68,
   "metadata": {},
   "outputs": [
    {
     "output_type": "execute_result",
     "data": {
      "text/plain": "122    Leon Panetta\n129    Alice Rivlin\n142    Frank Raines\n151        Jack Lew\nName: appointee, dtype: object"
     },
     "metadata": {},
     "execution_count": 68
    }
   ],
   "source": [
    "link2.loc[(link2['position']=='OMB Director')& (link2['president']=='Clinton')]['appointee']\n"
   ]
  },
  {
   "cell_type": "code",
   "execution_count": null,
   "metadata": {},
   "outputs": [],
   "source": []
  },
  {
   "cell_type": "code",
   "execution_count": 71,
   "metadata": {},
   "outputs": [
    {
     "output_type": "execute_result",
     "data": {
      "text/plain": "Item_Identifier                          FDA15\nItem_Weight                                9.3\nItem_Fat_Content                       Low Fat\nItem_Visibility                      0.0160473\nItem_Type                                Dairy\nItem_MRP                               249.809\nOutlet_Identifier                       OUT049\nOutlet_Establishment_Year                 1999\nOutlet_Size                             Medium\nOutlet_Location_Type                    Tier 1\nOutlet_Type                  Supermarket Type1\nItem_Outlet_Sales                      3735.14\ndtype: object"
     },
     "metadata": {},
     "execution_count": 71
    }
   ],
   "source": [
    "ddd.apply(lambda x:x[0])"
   ]
  },
  {
   "cell_type": "code",
   "execution_count": 73,
   "metadata": {},
   "outputs": [
    {
     "output_type": "execute_result",
     "data": {
      "text/plain": "0       FDA15\n1       DRC01\n2       FDN15\n3       FDX07\n4       NCD19\n        ...  \n8518    FDF22\n8519    FDS36\n8520    NCJ29\n8521    FDN46\n8522    DRG01\nLength: 8523, dtype: object"
     },
     "metadata": {},
     "execution_count": 73
    }
   ],
   "source": [
    "ddd.apply(lambda x:x[0],axis=1)"
   ]
  },
  {
   "cell_type": "code",
   "execution_count": 77,
   "metadata": {},
   "outputs": [],
   "source": [
    "def clip(price):\n",
    "    if price>200:\n",
    "        price=200\n",
    "    return price\n",
    "ddd['Item_MRP']=ddd['Item_MRP'].apply(clip)\n"
   ]
  },
  {
   "cell_type": "code",
   "execution_count": 82,
   "metadata": {},
   "outputs": [
    {
     "output_type": "execute_result",
     "data": {
      "text/plain": "0       False\n1       False\n2       False\n3       False\n4       False\n        ...  \n8518    False\n8519    False\n8520    False\n8521    False\n8522    False\nName: Item_MRP, Length: 8523, dtype: bool"
     },
     "metadata": {},
     "execution_count": 82
    }
   ],
   "source": [
    "ff=ddd['Item_MRP']>200\n",
    "ff\n"
   ]
  },
  {
   "cell_type": "code",
   "execution_count": 84,
   "metadata": {},
   "outputs": [
    {
     "output_type": "execute_result",
     "data": {
      "text/plain": "  Item_Identifier  Item_Weight Item_Fat_Content  Item_Visibility  \\\n0           FDA15        9.300          Low Fat         0.016047   \n1           DRC01        5.920          Regular         0.019278   \n2           FDN15       17.500          Low Fat         0.016760   \n3           FDX07       19.200          Regular         0.000000   \n4           NCD19        8.930          Low Fat         0.000000   \n5           FDP36       10.395          Regular         0.000000   \n6           FDO10       13.650          Regular         0.012741   \n7           FDP10          NaN          Low Fat         0.127470   \n8           FDH17       16.200          Regular         0.016687   \n9           FDU28       19.200          Regular         0.094450   \n\n               Item_Type  Item_MRP Outlet_Identifier  \\\n0                  Dairy  200.0000            OUT049   \n1            Soft Drinks   48.2692            OUT018   \n2                   Meat  141.6180            OUT049   \n3  Fruits and Vegetables  182.0950            OUT010   \n4              Household   53.8614            OUT013   \n5           Baking Goods   51.4008            OUT018   \n6            Snack Foods   57.6588            OUT013   \n7            Snack Foods  107.7622            OUT027   \n8           Frozen Foods   96.9726            OUT045   \n9           Frozen Foods  187.8214            OUT017   \n\n   Outlet_Establishment_Year Outlet_Size  Outlet_Location_Type  \\\n0                       1999      Medium                     2   \n1                       2009      Medium                     2   \n2                       1999      Medium                     2   \n3                       1998         NaN                     2   \n4                       1987        High                     2   \n5                       2009      Medium                     2   \n6                       1987        High                     2   \n7                       1985      Medium                     2   \n8                       2002         NaN                     2   \n9                       2007         NaN                     2   \n\n         Outlet_Type  Item_Outlet_Sales  \n0  Supermarket Type1          3735.1380  \n1  Supermarket Type2           443.4228  \n2  Supermarket Type1          2097.2700  \n3      Grocery Store           732.3800  \n4  Supermarket Type1           994.7052  \n5  Supermarket Type2           556.6088  \n6  Supermarket Type1           343.5528  \n7  Supermarket Type3          4022.7636  \n8  Supermarket Type1          1076.5986  \n9  Supermarket Type1          4710.5350  ",
      "text/html": "<div>\n<style scoped>\n    .dataframe tbody tr th:only-of-type {\n        vertical-align: middle;\n    }\n\n    .dataframe tbody tr th {\n        vertical-align: top;\n    }\n\n    .dataframe thead th {\n        text-align: right;\n    }\n</style>\n<table border=\"1\" class=\"dataframe\">\n  <thead>\n    <tr style=\"text-align: right;\">\n      <th></th>\n      <th>Item_Identifier</th>\n      <th>Item_Weight</th>\n      <th>Item_Fat_Content</th>\n      <th>Item_Visibility</th>\n      <th>Item_Type</th>\n      <th>Item_MRP</th>\n      <th>Outlet_Identifier</th>\n      <th>Outlet_Establishment_Year</th>\n      <th>Outlet_Size</th>\n      <th>Outlet_Location_Type</th>\n      <th>Outlet_Type</th>\n      <th>Item_Outlet_Sales</th>\n    </tr>\n  </thead>\n  <tbody>\n    <tr>\n      <th>0</th>\n      <td>FDA15</td>\n      <td>9.300</td>\n      <td>Low Fat</td>\n      <td>0.016047</td>\n      <td>Dairy</td>\n      <td>200.0000</td>\n      <td>OUT049</td>\n      <td>1999</td>\n      <td>Medium</td>\n      <td>2</td>\n      <td>Supermarket Type1</td>\n      <td>3735.1380</td>\n    </tr>\n    <tr>\n      <th>1</th>\n      <td>DRC01</td>\n      <td>5.920</td>\n      <td>Regular</td>\n      <td>0.019278</td>\n      <td>Soft Drinks</td>\n      <td>48.2692</td>\n      <td>OUT018</td>\n      <td>2009</td>\n      <td>Medium</td>\n      <td>2</td>\n      <td>Supermarket Type2</td>\n      <td>443.4228</td>\n    </tr>\n    <tr>\n      <th>2</th>\n      <td>FDN15</td>\n      <td>17.500</td>\n      <td>Low Fat</td>\n      <td>0.016760</td>\n      <td>Meat</td>\n      <td>141.6180</td>\n      <td>OUT049</td>\n      <td>1999</td>\n      <td>Medium</td>\n      <td>2</td>\n      <td>Supermarket Type1</td>\n      <td>2097.2700</td>\n    </tr>\n    <tr>\n      <th>3</th>\n      <td>FDX07</td>\n      <td>19.200</td>\n      <td>Regular</td>\n      <td>0.000000</td>\n      <td>Fruits and Vegetables</td>\n      <td>182.0950</td>\n      <td>OUT010</td>\n      <td>1998</td>\n      <td>NaN</td>\n      <td>2</td>\n      <td>Grocery Store</td>\n      <td>732.3800</td>\n    </tr>\n    <tr>\n      <th>4</th>\n      <td>NCD19</td>\n      <td>8.930</td>\n      <td>Low Fat</td>\n      <td>0.000000</td>\n      <td>Household</td>\n      <td>53.8614</td>\n      <td>OUT013</td>\n      <td>1987</td>\n      <td>High</td>\n      <td>2</td>\n      <td>Supermarket Type1</td>\n      <td>994.7052</td>\n    </tr>\n    <tr>\n      <th>5</th>\n      <td>FDP36</td>\n      <td>10.395</td>\n      <td>Regular</td>\n      <td>0.000000</td>\n      <td>Baking Goods</td>\n      <td>51.4008</td>\n      <td>OUT018</td>\n      <td>2009</td>\n      <td>Medium</td>\n      <td>2</td>\n      <td>Supermarket Type2</td>\n      <td>556.6088</td>\n    </tr>\n    <tr>\n      <th>6</th>\n      <td>FDO10</td>\n      <td>13.650</td>\n      <td>Regular</td>\n      <td>0.012741</td>\n      <td>Snack Foods</td>\n      <td>57.6588</td>\n      <td>OUT013</td>\n      <td>1987</td>\n      <td>High</td>\n      <td>2</td>\n      <td>Supermarket Type1</td>\n      <td>343.5528</td>\n    </tr>\n    <tr>\n      <th>7</th>\n      <td>FDP10</td>\n      <td>NaN</td>\n      <td>Low Fat</td>\n      <td>0.127470</td>\n      <td>Snack Foods</td>\n      <td>107.7622</td>\n      <td>OUT027</td>\n      <td>1985</td>\n      <td>Medium</td>\n      <td>2</td>\n      <td>Supermarket Type3</td>\n      <td>4022.7636</td>\n    </tr>\n    <tr>\n      <th>8</th>\n      <td>FDH17</td>\n      <td>16.200</td>\n      <td>Regular</td>\n      <td>0.016687</td>\n      <td>Frozen Foods</td>\n      <td>96.9726</td>\n      <td>OUT045</td>\n      <td>2002</td>\n      <td>NaN</td>\n      <td>2</td>\n      <td>Supermarket Type1</td>\n      <td>1076.5986</td>\n    </tr>\n    <tr>\n      <th>9</th>\n      <td>FDU28</td>\n      <td>19.200</td>\n      <td>Regular</td>\n      <td>0.094450</td>\n      <td>Frozen Foods</td>\n      <td>187.8214</td>\n      <td>OUT017</td>\n      <td>2007</td>\n      <td>NaN</td>\n      <td>2</td>\n      <td>Supermarket Type1</td>\n      <td>4710.5350</td>\n    </tr>\n  </tbody>\n</table>\n</div>"
     },
     "metadata": {},
     "execution_count": 84
    }
   ],
   "source": [
    "def code(city):\n",
    "    if city=='Tier 1':\n",
    "        lab=0\n",
    "    elif city=='Tier 2':\n",
    "        lab=1\n",
    "    else:\n",
    "        lab=2\n",
    "    return lab\n",
    "ddd['Outlet_Location_Type']=ddd['Outlet_Location_Type'].apply(code)\n",
    "ddd.head(10)"
   ]
  },
  {
   "cell_type": "code",
   "execution_count": 107,
   "metadata": {},
   "outputs": [
    {
     "output_type": "error",
     "ename": "AttributeError",
     "evalue": "module 'pandas' has no attribute 'read_pdf'",
     "traceback": [
      "\u001b[1;31m---------------------------------------------------------------------------\u001b[0m",
      "\u001b[1;31mAttributeError\u001b[0m                            Traceback (most recent call last)",
      "\u001b[1;32m<ipython-input-107-f31d06cb7a28>\u001b[0m in \u001b[0;36m<module>\u001b[1;34m\u001b[0m\n\u001b[1;32m----> 1\u001b[1;33m \u001b[0mne\u001b[0m\u001b[1;33m=\u001b[0m\u001b[0mpd\u001b[0m\u001b[1;33m.\u001b[0m\u001b[0mread_pdf\u001b[0m\u001b[1;33m(\u001b[0m\u001b[1;34m'https://sedl.org/afterschool/toolkits/science/pdf/ast_sci_data_tables_sample.pdf'\u001b[0m\u001b[1;33m)\u001b[0m\u001b[1;33m\u001b[0m\u001b[1;33m\u001b[0m\u001b[0m\n\u001b[0m\u001b[0;32m      2\u001b[0m \u001b[0mne\u001b[0m\u001b[1;33m[\u001b[0m\u001b[1;36m0\u001b[0m\u001b[1;33m]\u001b[0m\u001b[1;33m\u001b[0m\u001b[1;33m\u001b[0m\u001b[0m\n",
      "\u001b[1;32m~\\AppData\\Local\\Programs\\Python\\Python38-32\\lib\\site-packages\\pandas\\__init__.py\u001b[0m in \u001b[0;36m__getattr__\u001b[1;34m(name)\u001b[0m\n\u001b[0;32m    261\u001b[0m             \u001b[1;32mreturn\u001b[0m \u001b[0m_SparseArray\u001b[0m\u001b[1;33m\u001b[0m\u001b[1;33m\u001b[0m\u001b[0m\n\u001b[0;32m    262\u001b[0m \u001b[1;33m\u001b[0m\u001b[0m\n\u001b[1;32m--> 263\u001b[1;33m         \u001b[1;32mraise\u001b[0m \u001b[0mAttributeError\u001b[0m\u001b[1;33m(\u001b[0m\u001b[1;34mf\"module 'pandas' has no attribute '{name}'\"\u001b[0m\u001b[1;33m)\u001b[0m\u001b[1;33m\u001b[0m\u001b[1;33m\u001b[0m\u001b[0m\n\u001b[0m\u001b[0;32m    264\u001b[0m \u001b[1;33m\u001b[0m\u001b[0m\n\u001b[0;32m    265\u001b[0m \u001b[1;33m\u001b[0m\u001b[0m\n",
      "\u001b[1;31mAttributeError\u001b[0m: module 'pandas' has no attribute 'read_pdf'"
     ]
    }
   ],
   "source": [
    "ne=pd.read_pdf('https://sedl.org/afterschool/toolkits/science/pdf/ast_sci_data_tables_sample.pdf')\n",
    "ne[0]\n"
   ]
  },
  {
   "cell_type": "code",
   "execution_count": 94,
   "metadata": {},
   "outputs": [
    {
     "output_type": "execute_result",
     "data": {
      "text/plain": "Binder     15\nPencil     13\nPen Set     7\nPen         5\nDesk        3\nName: Item, dtype: int64"
     },
     "metadata": {},
     "execution_count": 94
    }
   ],
   "source": [
    "ne[0]['Item'].value_counts()\n"
   ]
  },
  {
   "cell_type": "code",
   "execution_count": 96,
   "metadata": {},
   "outputs": [
    {
     "output_type": "execute_result",
     "data": {
      "text/plain": "           Units    UnitCost        Total\ncount  43.000000   43.000000    43.000000\nmean   49.325581   20.308605   456.462326\nstd    30.078248   47.345118   447.022104\nmin     2.000000    1.290000     9.030000\n25%    27.500000    3.990000   144.590000\n50%    53.000000    4.990000   299.400000\n75%    74.500000   17.990000   600.180000\nmax    96.000000  275.000000  1879.060000",
      "text/html": "<div>\n<style scoped>\n    .dataframe tbody tr th:only-of-type {\n        vertical-align: middle;\n    }\n\n    .dataframe tbody tr th {\n        vertical-align: top;\n    }\n\n    .dataframe thead th {\n        text-align: right;\n    }\n</style>\n<table border=\"1\" class=\"dataframe\">\n  <thead>\n    <tr style=\"text-align: right;\">\n      <th></th>\n      <th>Units</th>\n      <th>UnitCost</th>\n      <th>Total</th>\n    </tr>\n  </thead>\n  <tbody>\n    <tr>\n      <th>count</th>\n      <td>43.000000</td>\n      <td>43.000000</td>\n      <td>43.000000</td>\n    </tr>\n    <tr>\n      <th>mean</th>\n      <td>49.325581</td>\n      <td>20.308605</td>\n      <td>456.462326</td>\n    </tr>\n    <tr>\n      <th>std</th>\n      <td>30.078248</td>\n      <td>47.345118</td>\n      <td>447.022104</td>\n    </tr>\n    <tr>\n      <th>min</th>\n      <td>2.000000</td>\n      <td>1.290000</td>\n      <td>9.030000</td>\n    </tr>\n    <tr>\n      <th>25%</th>\n      <td>27.500000</td>\n      <td>3.990000</td>\n      <td>144.590000</td>\n    </tr>\n    <tr>\n      <th>50%</th>\n      <td>53.000000</td>\n      <td>4.990000</td>\n      <td>299.400000</td>\n    </tr>\n    <tr>\n      <th>75%</th>\n      <td>74.500000</td>\n      <td>17.990000</td>\n      <td>600.180000</td>\n    </tr>\n    <tr>\n      <th>max</th>\n      <td>96.000000</td>\n      <td>275.000000</td>\n      <td>1879.060000</td>\n    </tr>\n  </tbody>\n</table>\n</div>"
     },
     "metadata": {},
     "execution_count": 96
    }
   ],
   "source": [
    "ne[0].describe()"
   ]
  },
  {
   "cell_type": "code",
   "execution_count": 97,
   "metadata": {},
   "outputs": [],
   "source": [
    "o='https://www.espncricinfo.com/india/content/player/253802.html'"
   ]
  },
  {
   "cell_type": "code",
   "execution_count": 117,
   "metadata": {},
   "outputs": [],
   "source": [
    "tt=pd.read_csv('https://raw.githubusercontent.com/dataoptimal/posts/master/data%20cleaning%20with%20python%20and%20pandas/property%20data.csv')"
   ]
  },
  {
   "cell_type": "code",
   "execution_count": 122,
   "metadata": {},
   "outputs": [
    {
     "output_type": "execute_result",
     "data": {
      "text/plain": "PID             float64\nST_NUM          float64\nST_NAME          object\nOWN_OCCUPIED     object\nNUM_BEDROOMS     object\nNUM_BATH         object\nSQ_FT            object\ndtype: object"
     },
     "metadata": {},
     "execution_count": 122
    }
   ],
   "source": [
    "tt.dtypes"
   ]
  },
  {
   "cell_type": "code",
   "execution_count": 123,
   "metadata": {},
   "outputs": [
    {
     "output_type": "execute_result",
     "data": {
      "text/plain": "0    False\n1    False\n2     True\n3    False\n4    False\n5    False\n6     True\n7    False\n8    False\nName: ST_NUM, dtype: bool"
     },
     "metadata": {},
     "execution_count": 123
    }
   ],
   "source": [
    "tt['ST_NUM'].isnull()"
   ]
  },
  {
   "cell_type": "code",
   "execution_count": 124,
   "metadata": {},
   "outputs": [],
   "source": [
    "miss=['n/a','na','--']\n",
    "tt1=pd.read_csv('https://raw.githubusercontent.com/dataoptimal/posts/master/data%20cleaning%20with%20python%20and%20pandas/property%20data.csv',na_values=miss)"
   ]
  },
  {
   "cell_type": "code",
   "execution_count": 125,
   "metadata": {},
   "outputs": [
    {
     "output_type": "execute_result",
     "data": {
      "text/plain": "           PID  ST_NUM     ST_NAME OWN_OCCUPIED  NUM_BEDROOMS NUM_BATH   SQ_FT\n0  100001000.0   104.0      PUTNAM            Y           3.0        1  1000.0\n1  100002000.0   197.0   LEXINGTON            N           3.0      1.5     NaN\n2  100003000.0     NaN   LEXINGTON            N           NaN        1   850.0\n3  100004000.0   201.0    BERKELEY           12           1.0      NaN   700.0\n4          NaN   203.0    BERKELEY            Y           3.0        2  1600.0\n5  100006000.0   207.0    BERKELEY            Y           NaN        1   800.0\n6  100007000.0     NaN  WASHINGTON          NaN           2.0   HURLEY   950.0\n7  100008000.0   213.0     TREMONT            Y           1.0        1     NaN\n8  100009000.0   215.0     TREMONT            Y           NaN        2  1800.0",
      "text/html": "<div>\n<style scoped>\n    .dataframe tbody tr th:only-of-type {\n        vertical-align: middle;\n    }\n\n    .dataframe tbody tr th {\n        vertical-align: top;\n    }\n\n    .dataframe thead th {\n        text-align: right;\n    }\n</style>\n<table border=\"1\" class=\"dataframe\">\n  <thead>\n    <tr style=\"text-align: right;\">\n      <th></th>\n      <th>PID</th>\n      <th>ST_NUM</th>\n      <th>ST_NAME</th>\n      <th>OWN_OCCUPIED</th>\n      <th>NUM_BEDROOMS</th>\n      <th>NUM_BATH</th>\n      <th>SQ_FT</th>\n    </tr>\n  </thead>\n  <tbody>\n    <tr>\n      <th>0</th>\n      <td>100001000.0</td>\n      <td>104.0</td>\n      <td>PUTNAM</td>\n      <td>Y</td>\n      <td>3.0</td>\n      <td>1</td>\n      <td>1000.0</td>\n    </tr>\n    <tr>\n      <th>1</th>\n      <td>100002000.0</td>\n      <td>197.0</td>\n      <td>LEXINGTON</td>\n      <td>N</td>\n      <td>3.0</td>\n      <td>1.5</td>\n      <td>NaN</td>\n    </tr>\n    <tr>\n      <th>2</th>\n      <td>100003000.0</td>\n      <td>NaN</td>\n      <td>LEXINGTON</td>\n      <td>N</td>\n      <td>NaN</td>\n      <td>1</td>\n      <td>850.0</td>\n    </tr>\n    <tr>\n      <th>3</th>\n      <td>100004000.0</td>\n      <td>201.0</td>\n      <td>BERKELEY</td>\n      <td>12</td>\n      <td>1.0</td>\n      <td>NaN</td>\n      <td>700.0</td>\n    </tr>\n    <tr>\n      <th>4</th>\n      <td>NaN</td>\n      <td>203.0</td>\n      <td>BERKELEY</td>\n      <td>Y</td>\n      <td>3.0</td>\n      <td>2</td>\n      <td>1600.0</td>\n    </tr>\n    <tr>\n      <th>5</th>\n      <td>100006000.0</td>\n      <td>207.0</td>\n      <td>BERKELEY</td>\n      <td>Y</td>\n      <td>NaN</td>\n      <td>1</td>\n      <td>800.0</td>\n    </tr>\n    <tr>\n      <th>6</th>\n      <td>100007000.0</td>\n      <td>NaN</td>\n      <td>WASHINGTON</td>\n      <td>NaN</td>\n      <td>2.0</td>\n      <td>HURLEY</td>\n      <td>950.0</td>\n    </tr>\n    <tr>\n      <th>7</th>\n      <td>100008000.0</td>\n      <td>213.0</td>\n      <td>TREMONT</td>\n      <td>Y</td>\n      <td>1.0</td>\n      <td>1</td>\n      <td>NaN</td>\n    </tr>\n    <tr>\n      <th>8</th>\n      <td>100009000.0</td>\n      <td>215.0</td>\n      <td>TREMONT</td>\n      <td>Y</td>\n      <td>NaN</td>\n      <td>2</td>\n      <td>1800.0</td>\n    </tr>\n  </tbody>\n</table>\n</div>"
     },
     "metadata": {},
     "execution_count": 125
    }
   ],
   "source": [
    "tt1"
   ]
  },
  {
   "cell_type": "code",
   "execution_count": 127,
   "metadata": {},
   "outputs": [
    {
     "output_type": "execute_result",
     "data": {
      "text/plain": "0    False\n1    False\n2     True\n3    False\n4    False\n5    False\n6     True\n7    False\n8    False\nName: ST_NUM, dtype: bool"
     },
     "metadata": {},
     "execution_count": 127
    }
   ],
   "source": [
    "tt1['ST_NUM'].isnull()"
   ]
  },
  {
   "cell_type": "code",
   "execution_count": null,
   "metadata": {},
   "outputs": [],
   "source": []
  }
 ]
}