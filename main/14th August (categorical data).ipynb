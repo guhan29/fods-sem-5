{
 "cells": [
  {
   "cell_type": "code",
   "execution_count": 1,
   "metadata": {},
   "outputs": [],
   "source": [
    "import pandas as pd\n",
    "import numpy as np"
   ]
  },
  {
   "cell_type": "code",
   "execution_count": 2,
   "metadata": {},
   "outputs": [
    {
     "output_type": "execute_result",
     "data": {
      "text/plain": "(205, 26)"
     },
     "metadata": {},
     "execution_count": 2
    }
   ],
   "source": [
    "# Define the headers since the data does not have any\n",
    "headers = [\"symboling\", \"normalized_losses\", \"make\", \"fuel_type\", \"aspiration\",\n",
    "           \"num_doors\", \"body_style\", \"drive_wheels\", \"engine_location\",\n",
    "           \"wheel_base\", \"length\", \"width\", \"height\", \"curb_weight\",\n",
    "           \"engine_type\", \"num_cylinders\", \"engine_size\", \"fuel_system\",\n",
    "           \"bore\", \"stroke\", \"compression_ratio\", \"horsepower\", \"peak_rpm\",\n",
    "           \"city_mpg\", \"highway_mpg\", \"price\"]\n",
    " \n",
    "# Read in the CSV file and convert \"?\" to NaN\n",
    "df = pd.read_csv(\"https://archive.ics.uci.edu/ml/machine-learning-databases/autos/imports-85.data\",\n",
    "                  header=None, names=headers, na_values=\"?\" )\n",
    "df.shape"
   ]
  },
  {
   "cell_type": "code",
   "execution_count": 3,
   "metadata": {},
   "outputs": [
    {
     "output_type": "execute_result",
     "data": {
      "text/plain": "   symboling  normalized_losses         make fuel_type aspiration num_doors  \\\n0          3                NaN  alfa-romero       gas        std       two   \n1          3                NaN  alfa-romero       gas        std       two   \n2          1                NaN  alfa-romero       gas        std       two   \n3          2              164.0         audi       gas        std      four   \n4          2              164.0         audi       gas        std      four   \n\n    body_style drive_wheels engine_location  wheel_base  ...  engine_size  \\\n0  convertible          rwd           front        88.6  ...          130   \n1  convertible          rwd           front        88.6  ...          130   \n2    hatchback          rwd           front        94.5  ...          152   \n3        sedan          fwd           front        99.8  ...          109   \n4        sedan          4wd           front        99.4  ...          136   \n\n   fuel_system  bore  stroke compression_ratio horsepower  peak_rpm city_mpg  \\\n0         mpfi  3.47    2.68               9.0      111.0    5000.0       21   \n1         mpfi  3.47    2.68               9.0      111.0    5000.0       21   \n2         mpfi  2.68    3.47               9.0      154.0    5000.0       19   \n3         mpfi  3.19    3.40              10.0      102.0    5500.0       24   \n4         mpfi  3.19    3.40               8.0      115.0    5500.0       18   \n\n   highway_mpg    price  \n0           27  13495.0  \n1           27  16500.0  \n2           26  16500.0  \n3           30  13950.0  \n4           22  17450.0  \n\n[5 rows x 26 columns]",
      "text/html": "<div>\n<style scoped>\n    .dataframe tbody tr th:only-of-type {\n        vertical-align: middle;\n    }\n\n    .dataframe tbody tr th {\n        vertical-align: top;\n    }\n\n    .dataframe thead th {\n        text-align: right;\n    }\n</style>\n<table border=\"1\" class=\"dataframe\">\n  <thead>\n    <tr style=\"text-align: right;\">\n      <th></th>\n      <th>symboling</th>\n      <th>normalized_losses</th>\n      <th>make</th>\n      <th>fuel_type</th>\n      <th>aspiration</th>\n      <th>num_doors</th>\n      <th>body_style</th>\n      <th>drive_wheels</th>\n      <th>engine_location</th>\n      <th>wheel_base</th>\n      <th>...</th>\n      <th>engine_size</th>\n      <th>fuel_system</th>\n      <th>bore</th>\n      <th>stroke</th>\n      <th>compression_ratio</th>\n      <th>horsepower</th>\n      <th>peak_rpm</th>\n      <th>city_mpg</th>\n      <th>highway_mpg</th>\n      <th>price</th>\n    </tr>\n  </thead>\n  <tbody>\n    <tr>\n      <th>0</th>\n      <td>3</td>\n      <td>NaN</td>\n      <td>alfa-romero</td>\n      <td>gas</td>\n      <td>std</td>\n      <td>two</td>\n      <td>convertible</td>\n      <td>rwd</td>\n      <td>front</td>\n      <td>88.6</td>\n      <td>...</td>\n      <td>130</td>\n      <td>mpfi</td>\n      <td>3.47</td>\n      <td>2.68</td>\n      <td>9.0</td>\n      <td>111.0</td>\n      <td>5000.0</td>\n      <td>21</td>\n      <td>27</td>\n      <td>13495.0</td>\n    </tr>\n    <tr>\n      <th>1</th>\n      <td>3</td>\n      <td>NaN</td>\n      <td>alfa-romero</td>\n      <td>gas</td>\n      <td>std</td>\n      <td>two</td>\n      <td>convertible</td>\n      <td>rwd</td>\n      <td>front</td>\n      <td>88.6</td>\n      <td>...</td>\n      <td>130</td>\n      <td>mpfi</td>\n      <td>3.47</td>\n      <td>2.68</td>\n      <td>9.0</td>\n      <td>111.0</td>\n      <td>5000.0</td>\n      <td>21</td>\n      <td>27</td>\n      <td>16500.0</td>\n    </tr>\n    <tr>\n      <th>2</th>\n      <td>1</td>\n      <td>NaN</td>\n      <td>alfa-romero</td>\n      <td>gas</td>\n      <td>std</td>\n      <td>two</td>\n      <td>hatchback</td>\n      <td>rwd</td>\n      <td>front</td>\n      <td>94.5</td>\n      <td>...</td>\n      <td>152</td>\n      <td>mpfi</td>\n      <td>2.68</td>\n      <td>3.47</td>\n      <td>9.0</td>\n      <td>154.0</td>\n      <td>5000.0</td>\n      <td>19</td>\n      <td>26</td>\n      <td>16500.0</td>\n    </tr>\n    <tr>\n      <th>3</th>\n      <td>2</td>\n      <td>164.0</td>\n      <td>audi</td>\n      <td>gas</td>\n      <td>std</td>\n      <td>four</td>\n      <td>sedan</td>\n      <td>fwd</td>\n      <td>front</td>\n      <td>99.8</td>\n      <td>...</td>\n      <td>109</td>\n      <td>mpfi</td>\n      <td>3.19</td>\n      <td>3.40</td>\n      <td>10.0</td>\n      <td>102.0</td>\n      <td>5500.0</td>\n      <td>24</td>\n      <td>30</td>\n      <td>13950.0</td>\n    </tr>\n    <tr>\n      <th>4</th>\n      <td>2</td>\n      <td>164.0</td>\n      <td>audi</td>\n      <td>gas</td>\n      <td>std</td>\n      <td>four</td>\n      <td>sedan</td>\n      <td>4wd</td>\n      <td>front</td>\n      <td>99.4</td>\n      <td>...</td>\n      <td>136</td>\n      <td>mpfi</td>\n      <td>3.19</td>\n      <td>3.40</td>\n      <td>8.0</td>\n      <td>115.0</td>\n      <td>5500.0</td>\n      <td>18</td>\n      <td>22</td>\n      <td>17450.0</td>\n    </tr>\n  </tbody>\n</table>\n<p>5 rows × 26 columns</p>\n</div>"
     },
     "metadata": {},
     "execution_count": 3
    }
   ],
   "source": [
    "df.head()"
   ]
  },
  {
   "cell_type": "code",
   "execution_count": 4,
   "metadata": {},
   "outputs": [
    {
     "output_type": "execute_result",
     "data": {
      "text/plain": "symboling              int64\nnormalized_losses    float64\nmake                  object\nfuel_type             object\naspiration            object\nnum_doors             object\nbody_style            object\ndrive_wheels          object\nengine_location       object\nwheel_base           float64\nlength               float64\nwidth                float64\nheight               float64\ncurb_weight            int64\nengine_type           object\nnum_cylinders         object\nengine_size            int64\nfuel_system           object\nbore                 float64\nstroke               float64\ncompression_ratio    float64\nhorsepower           float64\npeak_rpm             float64\ncity_mpg               int64\nhighway_mpg            int64\nprice                float64\ndtype: object"
     },
     "metadata": {},
     "execution_count": 4
    }
   ],
   "source": [
    "df.dtypes"
   ]
  },
  {
   "cell_type": "code",
   "execution_count": 5,
   "metadata": {},
   "outputs": [
    {
     "output_type": "execute_result",
     "data": {
      "text/plain": "          make fuel_type aspiration num_doors   body_style drive_wheels  \\\n0  alfa-romero       gas        std       two  convertible          rwd   \n1  alfa-romero       gas        std       two  convertible          rwd   \n2  alfa-romero       gas        std       two    hatchback          rwd   \n3         audi       gas        std      four        sedan          fwd   \n4         audi       gas        std      four        sedan          4wd   \n\n  engine_location engine_type num_cylinders fuel_system  \n0           front        dohc          four        mpfi  \n1           front        dohc          four        mpfi  \n2           front        ohcv           six        mpfi  \n3           front         ohc          four        mpfi  \n4           front         ohc          five        mpfi  ",
      "text/html": "<div>\n<style scoped>\n    .dataframe tbody tr th:only-of-type {\n        vertical-align: middle;\n    }\n\n    .dataframe tbody tr th {\n        vertical-align: top;\n    }\n\n    .dataframe thead th {\n        text-align: right;\n    }\n</style>\n<table border=\"1\" class=\"dataframe\">\n  <thead>\n    <tr style=\"text-align: right;\">\n      <th></th>\n      <th>make</th>\n      <th>fuel_type</th>\n      <th>aspiration</th>\n      <th>num_doors</th>\n      <th>body_style</th>\n      <th>drive_wheels</th>\n      <th>engine_location</th>\n      <th>engine_type</th>\n      <th>num_cylinders</th>\n      <th>fuel_system</th>\n    </tr>\n  </thead>\n  <tbody>\n    <tr>\n      <th>0</th>\n      <td>alfa-romero</td>\n      <td>gas</td>\n      <td>std</td>\n      <td>two</td>\n      <td>convertible</td>\n      <td>rwd</td>\n      <td>front</td>\n      <td>dohc</td>\n      <td>four</td>\n      <td>mpfi</td>\n    </tr>\n    <tr>\n      <th>1</th>\n      <td>alfa-romero</td>\n      <td>gas</td>\n      <td>std</td>\n      <td>two</td>\n      <td>convertible</td>\n      <td>rwd</td>\n      <td>front</td>\n      <td>dohc</td>\n      <td>four</td>\n      <td>mpfi</td>\n    </tr>\n    <tr>\n      <th>2</th>\n      <td>alfa-romero</td>\n      <td>gas</td>\n      <td>std</td>\n      <td>two</td>\n      <td>hatchback</td>\n      <td>rwd</td>\n      <td>front</td>\n      <td>ohcv</td>\n      <td>six</td>\n      <td>mpfi</td>\n    </tr>\n    <tr>\n      <th>3</th>\n      <td>audi</td>\n      <td>gas</td>\n      <td>std</td>\n      <td>four</td>\n      <td>sedan</td>\n      <td>fwd</td>\n      <td>front</td>\n      <td>ohc</td>\n      <td>four</td>\n      <td>mpfi</td>\n    </tr>\n    <tr>\n      <th>4</th>\n      <td>audi</td>\n      <td>gas</td>\n      <td>std</td>\n      <td>four</td>\n      <td>sedan</td>\n      <td>4wd</td>\n      <td>front</td>\n      <td>ohc</td>\n      <td>five</td>\n      <td>mpfi</td>\n    </tr>\n  </tbody>\n</table>\n</div>"
     },
     "metadata": {},
     "execution_count": 5
    }
   ],
   "source": [
    "obj_df = df.select_dtypes(include=['object']).copy()\n",
    "obj_df.head() #copying the object columns of the dataset df"
   ]
  },
  {
   "cell_type": "code",
   "execution_count": 6,
   "metadata": {},
   "outputs": [
    {
     "output_type": "execute_result",
     "data": {
      "text/plain": "     make fuel_type aspiration num_doors body_style drive_wheels  \\\n27  dodge       gas      turbo       NaN      sedan          fwd   \n63  mazda    diesel        std       NaN      sedan          fwd   \n\n   engine_location engine_type num_cylinders fuel_system  \n27           front         ohc          four        mpfi  \n63           front         ohc          four         idi  ",
      "text/html": "<div>\n<style scoped>\n    .dataframe tbody tr th:only-of-type {\n        vertical-align: middle;\n    }\n\n    .dataframe tbody tr th {\n        vertical-align: top;\n    }\n\n    .dataframe thead th {\n        text-align: right;\n    }\n</style>\n<table border=\"1\" class=\"dataframe\">\n  <thead>\n    <tr style=\"text-align: right;\">\n      <th></th>\n      <th>make</th>\n      <th>fuel_type</th>\n      <th>aspiration</th>\n      <th>num_doors</th>\n      <th>body_style</th>\n      <th>drive_wheels</th>\n      <th>engine_location</th>\n      <th>engine_type</th>\n      <th>num_cylinders</th>\n      <th>fuel_system</th>\n    </tr>\n  </thead>\n  <tbody>\n    <tr>\n      <th>27</th>\n      <td>dodge</td>\n      <td>gas</td>\n      <td>turbo</td>\n      <td>NaN</td>\n      <td>sedan</td>\n      <td>fwd</td>\n      <td>front</td>\n      <td>ohc</td>\n      <td>four</td>\n      <td>mpfi</td>\n    </tr>\n    <tr>\n      <th>63</th>\n      <td>mazda</td>\n      <td>diesel</td>\n      <td>std</td>\n      <td>NaN</td>\n      <td>sedan</td>\n      <td>fwd</td>\n      <td>front</td>\n      <td>ohc</td>\n      <td>four</td>\n      <td>idi</td>\n    </tr>\n  </tbody>\n</table>\n</div>"
     },
     "metadata": {},
     "execution_count": 6
    }
   ],
   "source": [
    "obj_df[obj_df.isnull().any(axis=1)]"
   ]
  },
  {
   "cell_type": "code",
   "execution_count": 7,
   "metadata": {},
   "outputs": [
    {
     "output_type": "execute_result",
     "data": {
      "text/plain": "make               0\nfuel_type          0\naspiration         0\nnum_doors          2\nbody_style         0\ndrive_wheels       0\nengine_location    0\nengine_type        0\nnum_cylinders      0\nfuel_system        0\ndtype: int64"
     },
     "metadata": {},
     "execution_count": 7
    }
   ],
   "source": [
    "obj_df.isnull().sum()"
   ]
  },
  {
   "cell_type": "code",
   "execution_count": 8,
   "metadata": {},
   "outputs": [
    {
     "output_type": "execute_result",
     "data": {
      "text/plain": "four    114\ntwo      89\nName: num_doors, dtype: int64"
     },
     "metadata": {},
     "execution_count": 8
    }
   ],
   "source": [
    "obj_df['num_doors'].value_counts()"
   ]
  },
  {
   "cell_type": "code",
   "execution_count": 9,
   "metadata": {},
   "outputs": [],
   "source": [
    "obj_df = obj_df.fillna({\"num_doors\":\"four\"})"
   ]
  },
  {
   "cell_type": "markdown",
   "metadata": {},
   "source": [
    "# Approach 1: now we find and replace"
   ]
  },
  {
   "cell_type": "code",
   "execution_count": 10,
   "metadata": {},
   "outputs": [
    {
     "output_type": "execute_result",
     "data": {
      "text/plain": "four      159\nsix        24\nfive       11\neight       5\ntwo         4\nthree       1\ntwelve      1\nName: num_cylinders, dtype: int64"
     },
     "metadata": {},
     "execution_count": 10
    }
   ],
   "source": [
    "obj_df[\"num_cylinders\"].value_counts()"
   ]
  },
  {
   "cell_type": "code",
   "execution_count": 11,
   "metadata": {},
   "outputs": [],
   "source": [
    "cleanup_nums = {\"num_doors\":{\"four\":4, \"two\":2},\n",
    "               \"num_cylinders\":{\"four\":4, \"six\":6, \"five\":5,\"eight\":8,\"two\":2,\"twelve\":12,\"three\":3}}\n"
   ]
  },
  {
   "cell_type": "code",
   "execution_count": 12,
   "metadata": {},
   "outputs": [
    {
     "output_type": "execute_result",
     "data": {
      "text/plain": "          make fuel_type aspiration  num_doors   body_style drive_wheels  \\\n0  alfa-romero       gas        std          2  convertible          rwd   \n1  alfa-romero       gas        std          2  convertible          rwd   \n2  alfa-romero       gas        std          2    hatchback          rwd   \n3         audi       gas        std          4        sedan          fwd   \n4         audi       gas        std          4        sedan          4wd   \n\n  engine_location engine_type  num_cylinders fuel_system  \n0           front        dohc              4        mpfi  \n1           front        dohc              4        mpfi  \n2           front        ohcv              6        mpfi  \n3           front         ohc              4        mpfi  \n4           front         ohc              5        mpfi  ",
      "text/html": "<div>\n<style scoped>\n    .dataframe tbody tr th:only-of-type {\n        vertical-align: middle;\n    }\n\n    .dataframe tbody tr th {\n        vertical-align: top;\n    }\n\n    .dataframe thead th {\n        text-align: right;\n    }\n</style>\n<table border=\"1\" class=\"dataframe\">\n  <thead>\n    <tr style=\"text-align: right;\">\n      <th></th>\n      <th>make</th>\n      <th>fuel_type</th>\n      <th>aspiration</th>\n      <th>num_doors</th>\n      <th>body_style</th>\n      <th>drive_wheels</th>\n      <th>engine_location</th>\n      <th>engine_type</th>\n      <th>num_cylinders</th>\n      <th>fuel_system</th>\n    </tr>\n  </thead>\n  <tbody>\n    <tr>\n      <th>0</th>\n      <td>alfa-romero</td>\n      <td>gas</td>\n      <td>std</td>\n      <td>2</td>\n      <td>convertible</td>\n      <td>rwd</td>\n      <td>front</td>\n      <td>dohc</td>\n      <td>4</td>\n      <td>mpfi</td>\n    </tr>\n    <tr>\n      <th>1</th>\n      <td>alfa-romero</td>\n      <td>gas</td>\n      <td>std</td>\n      <td>2</td>\n      <td>convertible</td>\n      <td>rwd</td>\n      <td>front</td>\n      <td>dohc</td>\n      <td>4</td>\n      <td>mpfi</td>\n    </tr>\n    <tr>\n      <th>2</th>\n      <td>alfa-romero</td>\n      <td>gas</td>\n      <td>std</td>\n      <td>2</td>\n      <td>hatchback</td>\n      <td>rwd</td>\n      <td>front</td>\n      <td>ohcv</td>\n      <td>6</td>\n      <td>mpfi</td>\n    </tr>\n    <tr>\n      <th>3</th>\n      <td>audi</td>\n      <td>gas</td>\n      <td>std</td>\n      <td>4</td>\n      <td>sedan</td>\n      <td>fwd</td>\n      <td>front</td>\n      <td>ohc</td>\n      <td>4</td>\n      <td>mpfi</td>\n    </tr>\n    <tr>\n      <th>4</th>\n      <td>audi</td>\n      <td>gas</td>\n      <td>std</td>\n      <td>4</td>\n      <td>sedan</td>\n      <td>4wd</td>\n      <td>front</td>\n      <td>ohc</td>\n      <td>5</td>\n      <td>mpfi</td>\n    </tr>\n  </tbody>\n</table>\n</div>"
     },
     "metadata": {},
     "execution_count": 12
    }
   ],
   "source": [
    "obj_df.replace(cleanup_nums,inplace=True)\n",
    "obj_df.head()"
   ]
  },
  {
   "cell_type": "code",
   "execution_count": 13,
   "metadata": {},
   "outputs": [
    {
     "output_type": "execute_result",
     "data": {
      "text/plain": "make               object\nfuel_type          object\naspiration         object\nnum_doors           int64\nbody_style         object\ndrive_wheels       object\nengine_location    object\nengine_type        object\nnum_cylinders       int64\nfuel_system        object\ndtype: object"
     },
     "metadata": {},
     "execution_count": 13
    }
   ],
   "source": [
    "obj_df.dtypes"
   ]
  },
  {
   "cell_type": "markdown",
   "metadata": {},
   "source": [
    "# Approach 2: label encoding"
   ]
  },
  {
   "cell_type": "code",
   "execution_count": 14,
   "metadata": {},
   "outputs": [],
   "source": [
    "#convert the attribute to category first, label encoding doesn't work on object type"
   ]
  },
  {
   "cell_type": "code",
   "execution_count": 15,
   "metadata": {},
   "outputs": [
    {
     "output_type": "execute_result",
     "data": {
      "text/plain": "make                 object\nfuel_type            object\naspiration           object\nnum_doors             int64\nbody_style         category\ndrive_wheels         object\nengine_location      object\nengine_type          object\nnum_cylinders         int64\nfuel_system          object\ndtype: object"
     },
     "metadata": {},
     "execution_count": 15
    }
   ],
   "source": [
    "obj_df['body_style'] = obj_df['body_style'].astype('category')\n",
    "obj_df.dtypes"
   ]
  },
  {
   "cell_type": "code",
   "execution_count": 16,
   "metadata": {},
   "outputs": [
    {
     "output_type": "execute_result",
     "data": {
      "text/plain": "          make fuel_type aspiration  num_doors   body_style drive_wheels  \\\n0  alfa-romero       gas        std          2  convertible          rwd   \n1  alfa-romero       gas        std          2  convertible          rwd   \n2  alfa-romero       gas        std          2    hatchback          rwd   \n3         audi       gas        std          4        sedan          fwd   \n4         audi       gas        std          4        sedan          4wd   \n\n  engine_location engine_type  num_cylinders fuel_system  body_style_cat  \n0           front        dohc              4        mpfi               0  \n1           front        dohc              4        mpfi               0  \n2           front        ohcv              6        mpfi               2  \n3           front         ohc              4        mpfi               3  \n4           front         ohc              5        mpfi               3  ",
      "text/html": "<div>\n<style scoped>\n    .dataframe tbody tr th:only-of-type {\n        vertical-align: middle;\n    }\n\n    .dataframe tbody tr th {\n        vertical-align: top;\n    }\n\n    .dataframe thead th {\n        text-align: right;\n    }\n</style>\n<table border=\"1\" class=\"dataframe\">\n  <thead>\n    <tr style=\"text-align: right;\">\n      <th></th>\n      <th>make</th>\n      <th>fuel_type</th>\n      <th>aspiration</th>\n      <th>num_doors</th>\n      <th>body_style</th>\n      <th>drive_wheels</th>\n      <th>engine_location</th>\n      <th>engine_type</th>\n      <th>num_cylinders</th>\n      <th>fuel_system</th>\n      <th>body_style_cat</th>\n    </tr>\n  </thead>\n  <tbody>\n    <tr>\n      <th>0</th>\n      <td>alfa-romero</td>\n      <td>gas</td>\n      <td>std</td>\n      <td>2</td>\n      <td>convertible</td>\n      <td>rwd</td>\n      <td>front</td>\n      <td>dohc</td>\n      <td>4</td>\n      <td>mpfi</td>\n      <td>0</td>\n    </tr>\n    <tr>\n      <th>1</th>\n      <td>alfa-romero</td>\n      <td>gas</td>\n      <td>std</td>\n      <td>2</td>\n      <td>convertible</td>\n      <td>rwd</td>\n      <td>front</td>\n      <td>dohc</td>\n      <td>4</td>\n      <td>mpfi</td>\n      <td>0</td>\n    </tr>\n    <tr>\n      <th>2</th>\n      <td>alfa-romero</td>\n      <td>gas</td>\n      <td>std</td>\n      <td>2</td>\n      <td>hatchback</td>\n      <td>rwd</td>\n      <td>front</td>\n      <td>ohcv</td>\n      <td>6</td>\n      <td>mpfi</td>\n      <td>2</td>\n    </tr>\n    <tr>\n      <th>3</th>\n      <td>audi</td>\n      <td>gas</td>\n      <td>std</td>\n      <td>4</td>\n      <td>sedan</td>\n      <td>fwd</td>\n      <td>front</td>\n      <td>ohc</td>\n      <td>4</td>\n      <td>mpfi</td>\n      <td>3</td>\n    </tr>\n    <tr>\n      <th>4</th>\n      <td>audi</td>\n      <td>gas</td>\n      <td>std</td>\n      <td>4</td>\n      <td>sedan</td>\n      <td>4wd</td>\n      <td>front</td>\n      <td>ohc</td>\n      <td>5</td>\n      <td>mpfi</td>\n      <td>3</td>\n    </tr>\n  </tbody>\n</table>\n</div>"
     },
     "metadata": {},
     "execution_count": 16
    }
   ],
   "source": [
    "obj_df['body_style_cat'] = obj_df['body_style'].cat.codes\n",
    "obj_df.head()"
   ]
  },
  {
   "cell_type": "code",
   "execution_count": 17,
   "metadata": {},
   "outputs": [
    {
     "output_type": "execute_result",
     "data": {
      "text/plain": "make                 object\nfuel_type            object\naspiration           object\nnum_doors             int64\nbody_style         category\ndrive_wheels         object\nengine_location      object\nengine_type          object\nnum_cylinders         int64\nfuel_system          object\nbody_style_cat         int8\ndtype: object"
     },
     "metadata": {},
     "execution_count": 17
    }
   ],
   "source": [
    "obj_df.dtypes"
   ]
  },
  {
   "cell_type": "code",
   "execution_count": 18,
   "metadata": {},
   "outputs": [
    {
     "output_type": "execute_result",
     "data": {
      "text/plain": "sedan          96\nhatchback      70\nwagon          25\nhardtop         8\nconvertible     6\nName: body_style, dtype: int64"
     },
     "metadata": {},
     "execution_count": 18
    }
   ],
   "source": [
    "obj_df['body_style'].value_counts()"
   ]
  },
  {
   "cell_type": "markdown",
   "metadata": {},
   "source": [
    "# Approach 3: One hot encoding"
   ]
  },
  {
   "cell_type": "code",
   "execution_count": 19,
   "metadata": {},
   "outputs": [
    {
     "output_type": "execute_result",
     "data": {
      "text/plain": "          make fuel_type aspiration  num_doors   body_style engine_location  \\\n0  alfa-romero       gas        std          2  convertible           front   \n1  alfa-romero       gas        std          2  convertible           front   \n2  alfa-romero       gas        std          2    hatchback           front   \n3         audi       gas        std          4        sedan           front   \n4         audi       gas        std          4        sedan           front   \n\n  engine_type  num_cylinders fuel_system  body_style_cat  drive_wheels_4wd  \\\n0        dohc              4        mpfi               0                 0   \n1        dohc              4        mpfi               0                 0   \n2        ohcv              6        mpfi               2                 0   \n3         ohc              4        mpfi               3                 0   \n4         ohc              5        mpfi               3                 1   \n\n   drive_wheels_fwd  drive_wheels_rwd  \n0                 0                 1  \n1                 0                 1  \n2                 0                 1  \n3                 1                 0  \n4                 0                 0  ",
      "text/html": "<div>\n<style scoped>\n    .dataframe tbody tr th:only-of-type {\n        vertical-align: middle;\n    }\n\n    .dataframe tbody tr th {\n        vertical-align: top;\n    }\n\n    .dataframe thead th {\n        text-align: right;\n    }\n</style>\n<table border=\"1\" class=\"dataframe\">\n  <thead>\n    <tr style=\"text-align: right;\">\n      <th></th>\n      <th>make</th>\n      <th>fuel_type</th>\n      <th>aspiration</th>\n      <th>num_doors</th>\n      <th>body_style</th>\n      <th>engine_location</th>\n      <th>engine_type</th>\n      <th>num_cylinders</th>\n      <th>fuel_system</th>\n      <th>body_style_cat</th>\n      <th>drive_wheels_4wd</th>\n      <th>drive_wheels_fwd</th>\n      <th>drive_wheels_rwd</th>\n    </tr>\n  </thead>\n  <tbody>\n    <tr>\n      <th>0</th>\n      <td>alfa-romero</td>\n      <td>gas</td>\n      <td>std</td>\n      <td>2</td>\n      <td>convertible</td>\n      <td>front</td>\n      <td>dohc</td>\n      <td>4</td>\n      <td>mpfi</td>\n      <td>0</td>\n      <td>0</td>\n      <td>0</td>\n      <td>1</td>\n    </tr>\n    <tr>\n      <th>1</th>\n      <td>alfa-romero</td>\n      <td>gas</td>\n      <td>std</td>\n      <td>2</td>\n      <td>convertible</td>\n      <td>front</td>\n      <td>dohc</td>\n      <td>4</td>\n      <td>mpfi</td>\n      <td>0</td>\n      <td>0</td>\n      <td>0</td>\n      <td>1</td>\n    </tr>\n    <tr>\n      <th>2</th>\n      <td>alfa-romero</td>\n      <td>gas</td>\n      <td>std</td>\n      <td>2</td>\n      <td>hatchback</td>\n      <td>front</td>\n      <td>ohcv</td>\n      <td>6</td>\n      <td>mpfi</td>\n      <td>2</td>\n      <td>0</td>\n      <td>0</td>\n      <td>1</td>\n    </tr>\n    <tr>\n      <th>3</th>\n      <td>audi</td>\n      <td>gas</td>\n      <td>std</td>\n      <td>4</td>\n      <td>sedan</td>\n      <td>front</td>\n      <td>ohc</td>\n      <td>4</td>\n      <td>mpfi</td>\n      <td>3</td>\n      <td>0</td>\n      <td>1</td>\n      <td>0</td>\n    </tr>\n    <tr>\n      <th>4</th>\n      <td>audi</td>\n      <td>gas</td>\n      <td>std</td>\n      <td>4</td>\n      <td>sedan</td>\n      <td>front</td>\n      <td>ohc</td>\n      <td>5</td>\n      <td>mpfi</td>\n      <td>3</td>\n      <td>1</td>\n      <td>0</td>\n      <td>0</td>\n    </tr>\n  </tbody>\n</table>\n</div>"
     },
     "metadata": {},
     "execution_count": 19
    }
   ],
   "source": [
    "pd.get_dummies(obj_df, columns=[\"drive_wheels\"]).head() #get_dummies() is used to get the one hot encoded codes"
   ]
  },
  {
   "cell_type": "code",
   "execution_count": 20,
   "metadata": {},
   "outputs": [
    {
     "output_type": "execute_result",
     "data": {
      "text/plain": "fwd    120\nrwd     76\n4wd      9\nName: drive_wheels, dtype: int64"
     },
     "metadata": {},
     "execution_count": 20
    }
   ],
   "source": [
    "obj_df['drive_wheels'].value_counts()"
   ]
  },
  {
   "cell_type": "markdown",
   "metadata": {},
   "source": [
    "## disadvantages- creates a lot of categories, makes the dataset huge"
   ]
  },
  {
   "cell_type": "code",
   "execution_count": 21,
   "metadata": {},
   "outputs": [
    {
     "output_type": "execute_result",
     "data": {
      "text/plain": "          make fuel_type aspiration  num_doors engine_location engine_type  \\\n0  alfa-romero       gas        std          2           front        dohc   \n1  alfa-romero       gas        std          2           front        dohc   \n2  alfa-romero       gas        std          2           front        ohcv   \n3         audi       gas        std          4           front         ohc   \n4         audi       gas        std          4           front         ohc   \n\n   num_cylinders fuel_system  body_style_cat  body_convertible  body_hardtop  \\\n0              4        mpfi               0                 1             0   \n1              4        mpfi               0                 1             0   \n2              6        mpfi               2                 0             0   \n3              4        mpfi               3                 0             0   \n4              5        mpfi               3                 0             0   \n\n   body_hatchback  body_sedan  body_wagon  drive_4wd  drive_fwd  drive_rwd  \n0               0           0           0          0          0          1  \n1               0           0           0          0          0          1  \n2               1           0           0          0          0          1  \n3               0           1           0          0          1          0  \n4               0           1           0          1          0          0  ",
      "text/html": "<div>\n<style scoped>\n    .dataframe tbody tr th:only-of-type {\n        vertical-align: middle;\n    }\n\n    .dataframe tbody tr th {\n        vertical-align: top;\n    }\n\n    .dataframe thead th {\n        text-align: right;\n    }\n</style>\n<table border=\"1\" class=\"dataframe\">\n  <thead>\n    <tr style=\"text-align: right;\">\n      <th></th>\n      <th>make</th>\n      <th>fuel_type</th>\n      <th>aspiration</th>\n      <th>num_doors</th>\n      <th>engine_location</th>\n      <th>engine_type</th>\n      <th>num_cylinders</th>\n      <th>fuel_system</th>\n      <th>body_style_cat</th>\n      <th>body_convertible</th>\n      <th>body_hardtop</th>\n      <th>body_hatchback</th>\n      <th>body_sedan</th>\n      <th>body_wagon</th>\n      <th>drive_4wd</th>\n      <th>drive_fwd</th>\n      <th>drive_rwd</th>\n    </tr>\n  </thead>\n  <tbody>\n    <tr>\n      <th>0</th>\n      <td>alfa-romero</td>\n      <td>gas</td>\n      <td>std</td>\n      <td>2</td>\n      <td>front</td>\n      <td>dohc</td>\n      <td>4</td>\n      <td>mpfi</td>\n      <td>0</td>\n      <td>1</td>\n      <td>0</td>\n      <td>0</td>\n      <td>0</td>\n      <td>0</td>\n      <td>0</td>\n      <td>0</td>\n      <td>1</td>\n    </tr>\n    <tr>\n      <th>1</th>\n      <td>alfa-romero</td>\n      <td>gas</td>\n      <td>std</td>\n      <td>2</td>\n      <td>front</td>\n      <td>dohc</td>\n      <td>4</td>\n      <td>mpfi</td>\n      <td>0</td>\n      <td>1</td>\n      <td>0</td>\n      <td>0</td>\n      <td>0</td>\n      <td>0</td>\n      <td>0</td>\n      <td>0</td>\n      <td>1</td>\n    </tr>\n    <tr>\n      <th>2</th>\n      <td>alfa-romero</td>\n      <td>gas</td>\n      <td>std</td>\n      <td>2</td>\n      <td>front</td>\n      <td>ohcv</td>\n      <td>6</td>\n      <td>mpfi</td>\n      <td>2</td>\n      <td>0</td>\n      <td>0</td>\n      <td>1</td>\n      <td>0</td>\n      <td>0</td>\n      <td>0</td>\n      <td>0</td>\n      <td>1</td>\n    </tr>\n    <tr>\n      <th>3</th>\n      <td>audi</td>\n      <td>gas</td>\n      <td>std</td>\n      <td>4</td>\n      <td>front</td>\n      <td>ohc</td>\n      <td>4</td>\n      <td>mpfi</td>\n      <td>3</td>\n      <td>0</td>\n      <td>0</td>\n      <td>0</td>\n      <td>1</td>\n      <td>0</td>\n      <td>0</td>\n      <td>1</td>\n      <td>0</td>\n    </tr>\n    <tr>\n      <th>4</th>\n      <td>audi</td>\n      <td>gas</td>\n      <td>std</td>\n      <td>4</td>\n      <td>front</td>\n      <td>ohc</td>\n      <td>5</td>\n      <td>mpfi</td>\n      <td>3</td>\n      <td>0</td>\n      <td>0</td>\n      <td>0</td>\n      <td>1</td>\n      <td>0</td>\n      <td>1</td>\n      <td>0</td>\n      <td>0</td>\n    </tr>\n  </tbody>\n</table>\n</div>"
     },
     "metadata": {},
     "execution_count": 21
    }
   ],
   "source": [
    "pd.get_dummies(obj_df, columns=[\"body_style\",\"drive_wheels\"],prefix=[\"body\",\"drive\"]).head()"
   ]
  },
  {
   "cell_type": "markdown",
   "metadata": {},
   "source": [
    "# Approach 4: custom binary encoding"
   ]
  },
  {
   "cell_type": "code",
   "execution_count": 22,
   "metadata": {},
   "outputs": [
    {
     "output_type": "execute_result",
     "data": {
      "text/plain": "ohc      148\nohcf      15\nohcv      13\ndohc      12\nl         12\nrotor      4\ndohcv      1\nName: engine_type, dtype: int64"
     },
     "metadata": {},
     "execution_count": 22
    }
   ],
   "source": [
    "obj_df['engine_type'].value_counts()"
   ]
  },
  {
   "cell_type": "code",
   "execution_count": 23,
   "metadata": {
    "scrolled": true
   },
   "outputs": [
    {
     "output_type": "execute_result",
     "data": {
      "text/plain": "            make engine_type  OHC_Code\n0    alfa-romero        dohc         1\n1    alfa-romero        dohc         1\n2    alfa-romero        ohcv         1\n3           audi         ohc         1\n4           audi         ohc         1\n..           ...         ...       ...\n200        volvo         ohc         1\n201        volvo         ohc         1\n202        volvo        ohcv         1\n203        volvo         ohc         1\n204        volvo         ohc         1\n\n[205 rows x 3 columns]",
      "text/html": "<div>\n<style scoped>\n    .dataframe tbody tr th:only-of-type {\n        vertical-align: middle;\n    }\n\n    .dataframe tbody tr th {\n        vertical-align: top;\n    }\n\n    .dataframe thead th {\n        text-align: right;\n    }\n</style>\n<table border=\"1\" class=\"dataframe\">\n  <thead>\n    <tr style=\"text-align: right;\">\n      <th></th>\n      <th>make</th>\n      <th>engine_type</th>\n      <th>OHC_Code</th>\n    </tr>\n  </thead>\n  <tbody>\n    <tr>\n      <th>0</th>\n      <td>alfa-romero</td>\n      <td>dohc</td>\n      <td>1</td>\n    </tr>\n    <tr>\n      <th>1</th>\n      <td>alfa-romero</td>\n      <td>dohc</td>\n      <td>1</td>\n    </tr>\n    <tr>\n      <th>2</th>\n      <td>alfa-romero</td>\n      <td>ohcv</td>\n      <td>1</td>\n    </tr>\n    <tr>\n      <th>3</th>\n      <td>audi</td>\n      <td>ohc</td>\n      <td>1</td>\n    </tr>\n    <tr>\n      <th>4</th>\n      <td>audi</td>\n      <td>ohc</td>\n      <td>1</td>\n    </tr>\n    <tr>\n      <th>...</th>\n      <td>...</td>\n      <td>...</td>\n      <td>...</td>\n    </tr>\n    <tr>\n      <th>200</th>\n      <td>volvo</td>\n      <td>ohc</td>\n      <td>1</td>\n    </tr>\n    <tr>\n      <th>201</th>\n      <td>volvo</td>\n      <td>ohc</td>\n      <td>1</td>\n    </tr>\n    <tr>\n      <th>202</th>\n      <td>volvo</td>\n      <td>ohcv</td>\n      <td>1</td>\n    </tr>\n    <tr>\n      <th>203</th>\n      <td>volvo</td>\n      <td>ohc</td>\n      <td>1</td>\n    </tr>\n    <tr>\n      <th>204</th>\n      <td>volvo</td>\n      <td>ohc</td>\n      <td>1</td>\n    </tr>\n  </tbody>\n</table>\n<p>205 rows × 3 columns</p>\n</div>"
     },
     "metadata": {},
     "execution_count": 23
    }
   ],
   "source": [
    "obj_df['OHC_Code']=np.where(obj_df['engine_type'].str.contains('ohc'),1,0)\n",
    "obj_df[[\"make\",\"engine_type\",\"OHC_Code\"]]"
   ]
  },
  {
   "cell_type": "markdown",
   "metadata": {},
   "source": [
    "# label and binary encoding shown below as before but using sklearn"
   ]
  },
  {
   "cell_type": "code",
   "execution_count": 24,
   "metadata": {},
   "outputs": [],
   "source": [
    "from sklearn.preprocessing import LabelEncoder"
   ]
  },
  {
   "cell_type": "code",
   "execution_count": 25,
   "metadata": {},
   "outputs": [
    {
     "output_type": "execute_result",
     "data": {
      "text/plain": "           make  make_code\n0   alfa-romero          0\n1   alfa-romero          0\n2   alfa-romero          0\n3          audi          1\n4          audi          1\n5          audi          1\n6          audi          1\n7          audi          1\n8          audi          1\n9          audi          1\n10          bmw          2",
      "text/html": "<div>\n<style scoped>\n    .dataframe tbody tr th:only-of-type {\n        vertical-align: middle;\n    }\n\n    .dataframe tbody tr th {\n        vertical-align: top;\n    }\n\n    .dataframe thead th {\n        text-align: right;\n    }\n</style>\n<table border=\"1\" class=\"dataframe\">\n  <thead>\n    <tr style=\"text-align: right;\">\n      <th></th>\n      <th>make</th>\n      <th>make_code</th>\n    </tr>\n  </thead>\n  <tbody>\n    <tr>\n      <th>0</th>\n      <td>alfa-romero</td>\n      <td>0</td>\n    </tr>\n    <tr>\n      <th>1</th>\n      <td>alfa-romero</td>\n      <td>0</td>\n    </tr>\n    <tr>\n      <th>2</th>\n      <td>alfa-romero</td>\n      <td>0</td>\n    </tr>\n    <tr>\n      <th>3</th>\n      <td>audi</td>\n      <td>1</td>\n    </tr>\n    <tr>\n      <th>4</th>\n      <td>audi</td>\n      <td>1</td>\n    </tr>\n    <tr>\n      <th>5</th>\n      <td>audi</td>\n      <td>1</td>\n    </tr>\n    <tr>\n      <th>6</th>\n      <td>audi</td>\n      <td>1</td>\n    </tr>\n    <tr>\n      <th>7</th>\n      <td>audi</td>\n      <td>1</td>\n    </tr>\n    <tr>\n      <th>8</th>\n      <td>audi</td>\n      <td>1</td>\n    </tr>\n    <tr>\n      <th>9</th>\n      <td>audi</td>\n      <td>1</td>\n    </tr>\n    <tr>\n      <th>10</th>\n      <td>bmw</td>\n      <td>2</td>\n    </tr>\n  </tbody>\n</table>\n</div>"
     },
     "metadata": {},
     "execution_count": 25
    }
   ],
   "source": [
    "lb_make = LabelEncoder()\n",
    "obj_df['make_code'] = lb_make.fit_transform(obj_df['make'])\n",
    "obj_df[['make','make_code']].head(11)"
   ]
  },
  {
   "cell_type": "code",
   "execution_count": 26,
   "metadata": {
    "scrolled": true
   },
   "outputs": [
    {
     "output_type": "execute_result",
     "data": {
      "text/plain": "   convertible  hardtop  hatchback  sedan  wagon\n0            1        0          0      0      0\n1            1        0          0      0      0\n2            0        0          1      0      0\n3            0        0          0      1      0\n4            0        0          0      1      0",
      "text/html": "<div>\n<style scoped>\n    .dataframe tbody tr th:only-of-type {\n        vertical-align: middle;\n    }\n\n    .dataframe tbody tr th {\n        vertical-align: top;\n    }\n\n    .dataframe thead th {\n        text-align: right;\n    }\n</style>\n<table border=\"1\" class=\"dataframe\">\n  <thead>\n    <tr style=\"text-align: right;\">\n      <th></th>\n      <th>convertible</th>\n      <th>hardtop</th>\n      <th>hatchback</th>\n      <th>sedan</th>\n      <th>wagon</th>\n    </tr>\n  </thead>\n  <tbody>\n    <tr>\n      <th>0</th>\n      <td>1</td>\n      <td>0</td>\n      <td>0</td>\n      <td>0</td>\n      <td>0</td>\n    </tr>\n    <tr>\n      <th>1</th>\n      <td>1</td>\n      <td>0</td>\n      <td>0</td>\n      <td>0</td>\n      <td>0</td>\n    </tr>\n    <tr>\n      <th>2</th>\n      <td>0</td>\n      <td>0</td>\n      <td>1</td>\n      <td>0</td>\n      <td>0</td>\n    </tr>\n    <tr>\n      <th>3</th>\n      <td>0</td>\n      <td>0</td>\n      <td>0</td>\n      <td>1</td>\n      <td>0</td>\n    </tr>\n    <tr>\n      <th>4</th>\n      <td>0</td>\n      <td>0</td>\n      <td>0</td>\n      <td>1</td>\n      <td>0</td>\n    </tr>\n  </tbody>\n</table>\n</div>"
     },
     "metadata": {},
     "execution_count": 26
    }
   ],
   "source": [
    "from sklearn.preprocessing import LabelBinarizer\n",
    "\n",
    "lb_style = LabelBinarizer()\n",
    "lb_results = lb_style.fit_transform(obj_df['body_style'])\n",
    "pd.DataFrame(lb_results, columns = lb_style.classes_).head()"
   ]
  },
  {
   "cell_type": "code",
   "execution_count": null,
   "metadata": {},
   "outputs": [],
   "source": []
  },
  {
   "cell_type": "code",
   "execution_count": 27,
   "metadata": {},
   "outputs": [],
   "source": [
    "df=pd.read_csv('https://raw.githubusercontent.com/fivethirtyeight/data/master/biopics/biopics.csv',encoding='latin1')"
   ]
  },
  {
   "cell_type": "code",
   "execution_count": 28,
   "metadata": {
    "scrolled": true
   },
   "outputs": [
    {
     "output_type": "execute_result",
     "data": {
      "text/plain": "                     title                                  site country  \\\n0      10 Rillington Place  http://www.imdb.com/title/tt0066730/      UK   \n1         12 Years a Slave  http://www.imdb.com/title/tt2024544/   US/UK   \n2                127 Hours  http://www.imdb.com/title/tt1542344/   US/UK   \n3                     1987  http://www.imdb.com/title/tt2833074/  Canada   \n4                 20 Dates  http://www.imdb.com/title/tt0138987/      US   \n..                     ...                                   ...     ...   \n756  Young Man with a Horn  http://www.imdb.com/title/tt0043153/      US   \n757      Young Mr. Lincoln  http://www.imdb.com/title/tt0032155/      US   \n758       Young Tom Edison  http://www.imdb.com/title/tt0033289/      US   \n759          Young Winston  http://www.imdb.com/title/tt0069528/      US   \n760    Your Cheatin' Heart  http://www.imdb.com/title/tt0058765/      US   \n\n     year_release box_office              director  number_of_subjects  \\\n0            1971          -     Richard Fleischer                   1   \n1            2013     $56.7M         Steve McQueen                   1   \n2            2010     $18.3M           Danny Boyle                   1   \n3            2014          -         Ricardo Trogi                   1   \n4            1998      $537K       Myles Berkowitz                   1   \n..            ...        ...                   ...                 ...   \n756          1950          -        Michael Curtiz                   1   \n757          1939          -             John Ford                   1   \n758          1940          -         Norman Taurog                   1   \n759          1972          -  Richard Attenborough                   1   \n760          1964          -           Gene Nelson                   1   \n\n               subject type_of_subject race_known      subject_race  \\\n0        John Christie        Criminal    Unknown               NaN   \n1      Solomon Northup           Other      Known  African American   \n2         Aron Ralston         Athlete    Unknown               NaN   \n3        Ricardo Trogi           Other      Known             White   \n4      Myles Berkowitz           Other    Unknown               NaN   \n..                 ...             ...        ...               ...   \n756    Bix Beiderbecke        Musician      Known             White   \n757    Abraham Lincoln    World leader      Known             White   \n758      Thomas Edison           Other      Known             White   \n759  Winston Churchill    World leader      Known             White   \n760      Hank Williams        Musician    Unknown               NaN   \n\n     person_of_color subject_sex    lead_actor_actress  \n0                  0        Male  Richard Attenborough  \n1                  1        Male      Chiwetel Ejiofor  \n2                  0        Male          James Franco  \n3                  0        Male     Jean-Carl Boucher  \n4                  0        Male       Myles Berkowitz  \n..               ...         ...                   ...  \n756                0        Male          Kirk Douglas  \n757                0        Male           Henry Fonda  \n758                0        Male         Mickey Rooney  \n759                0        Male            Simon Ward  \n760                0        Male       George Hamilton  \n\n[761 rows x 14 columns]",
      "text/html": "<div>\n<style scoped>\n    .dataframe tbody tr th:only-of-type {\n        vertical-align: middle;\n    }\n\n    .dataframe tbody tr th {\n        vertical-align: top;\n    }\n\n    .dataframe thead th {\n        text-align: right;\n    }\n</style>\n<table border=\"1\" class=\"dataframe\">\n  <thead>\n    <tr style=\"text-align: right;\">\n      <th></th>\n      <th>title</th>\n      <th>site</th>\n      <th>country</th>\n      <th>year_release</th>\n      <th>box_office</th>\n      <th>director</th>\n      <th>number_of_subjects</th>\n      <th>subject</th>\n      <th>type_of_subject</th>\n      <th>race_known</th>\n      <th>subject_race</th>\n      <th>person_of_color</th>\n      <th>subject_sex</th>\n      <th>lead_actor_actress</th>\n    </tr>\n  </thead>\n  <tbody>\n    <tr>\n      <th>0</th>\n      <td>10 Rillington Place</td>\n      <td>http://www.imdb.com/title/tt0066730/</td>\n      <td>UK</td>\n      <td>1971</td>\n      <td>-</td>\n      <td>Richard Fleischer</td>\n      <td>1</td>\n      <td>John Christie</td>\n      <td>Criminal</td>\n      <td>Unknown</td>\n      <td>NaN</td>\n      <td>0</td>\n      <td>Male</td>\n      <td>Richard Attenborough</td>\n    </tr>\n    <tr>\n      <th>1</th>\n      <td>12 Years a Slave</td>\n      <td>http://www.imdb.com/title/tt2024544/</td>\n      <td>US/UK</td>\n      <td>2013</td>\n      <td>$56.7M</td>\n      <td>Steve McQueen</td>\n      <td>1</td>\n      <td>Solomon Northup</td>\n      <td>Other</td>\n      <td>Known</td>\n      <td>African American</td>\n      <td>1</td>\n      <td>Male</td>\n      <td>Chiwetel Ejiofor</td>\n    </tr>\n    <tr>\n      <th>2</th>\n      <td>127 Hours</td>\n      <td>http://www.imdb.com/title/tt1542344/</td>\n      <td>US/UK</td>\n      <td>2010</td>\n      <td>$18.3M</td>\n      <td>Danny Boyle</td>\n      <td>1</td>\n      <td>Aron Ralston</td>\n      <td>Athlete</td>\n      <td>Unknown</td>\n      <td>NaN</td>\n      <td>0</td>\n      <td>Male</td>\n      <td>James Franco</td>\n    </tr>\n    <tr>\n      <th>3</th>\n      <td>1987</td>\n      <td>http://www.imdb.com/title/tt2833074/</td>\n      <td>Canada</td>\n      <td>2014</td>\n      <td>-</td>\n      <td>Ricardo Trogi</td>\n      <td>1</td>\n      <td>Ricardo Trogi</td>\n      <td>Other</td>\n      <td>Known</td>\n      <td>White</td>\n      <td>0</td>\n      <td>Male</td>\n      <td>Jean-Carl Boucher</td>\n    </tr>\n    <tr>\n      <th>4</th>\n      <td>20 Dates</td>\n      <td>http://www.imdb.com/title/tt0138987/</td>\n      <td>US</td>\n      <td>1998</td>\n      <td>$537K</td>\n      <td>Myles Berkowitz</td>\n      <td>1</td>\n      <td>Myles Berkowitz</td>\n      <td>Other</td>\n      <td>Unknown</td>\n      <td>NaN</td>\n      <td>0</td>\n      <td>Male</td>\n      <td>Myles Berkowitz</td>\n    </tr>\n    <tr>\n      <th>...</th>\n      <td>...</td>\n      <td>...</td>\n      <td>...</td>\n      <td>...</td>\n      <td>...</td>\n      <td>...</td>\n      <td>...</td>\n      <td>...</td>\n      <td>...</td>\n      <td>...</td>\n      <td>...</td>\n      <td>...</td>\n      <td>...</td>\n      <td>...</td>\n    </tr>\n    <tr>\n      <th>756</th>\n      <td>Young Man with a Horn</td>\n      <td>http://www.imdb.com/title/tt0043153/</td>\n      <td>US</td>\n      <td>1950</td>\n      <td>-</td>\n      <td>Michael Curtiz</td>\n      <td>1</td>\n      <td>Bix Beiderbecke</td>\n      <td>Musician</td>\n      <td>Known</td>\n      <td>White</td>\n      <td>0</td>\n      <td>Male</td>\n      <td>Kirk Douglas</td>\n    </tr>\n    <tr>\n      <th>757</th>\n      <td>Young Mr. Lincoln</td>\n      <td>http://www.imdb.com/title/tt0032155/</td>\n      <td>US</td>\n      <td>1939</td>\n      <td>-</td>\n      <td>John Ford</td>\n      <td>1</td>\n      <td>Abraham Lincoln</td>\n      <td>World leader</td>\n      <td>Known</td>\n      <td>White</td>\n      <td>0</td>\n      <td>Male</td>\n      <td>Henry Fonda</td>\n    </tr>\n    <tr>\n      <th>758</th>\n      <td>Young Tom Edison</td>\n      <td>http://www.imdb.com/title/tt0033289/</td>\n      <td>US</td>\n      <td>1940</td>\n      <td>-</td>\n      <td>Norman Taurog</td>\n      <td>1</td>\n      <td>Thomas Edison</td>\n      <td>Other</td>\n      <td>Known</td>\n      <td>White</td>\n      <td>0</td>\n      <td>Male</td>\n      <td>Mickey Rooney</td>\n    </tr>\n    <tr>\n      <th>759</th>\n      <td>Young Winston</td>\n      <td>http://www.imdb.com/title/tt0069528/</td>\n      <td>US</td>\n      <td>1972</td>\n      <td>-</td>\n      <td>Richard Attenborough</td>\n      <td>1</td>\n      <td>Winston Churchill</td>\n      <td>World leader</td>\n      <td>Known</td>\n      <td>White</td>\n      <td>0</td>\n      <td>Male</td>\n      <td>Simon Ward</td>\n    </tr>\n    <tr>\n      <th>760</th>\n      <td>Your Cheatin' Heart</td>\n      <td>http://www.imdb.com/title/tt0058765/</td>\n      <td>US</td>\n      <td>1964</td>\n      <td>-</td>\n      <td>Gene Nelson</td>\n      <td>1</td>\n      <td>Hank Williams</td>\n      <td>Musician</td>\n      <td>Unknown</td>\n      <td>NaN</td>\n      <td>0</td>\n      <td>Male</td>\n      <td>George Hamilton</td>\n    </tr>\n  </tbody>\n</table>\n<p>761 rows × 14 columns</p>\n</div>"
     },
     "metadata": {},
     "execution_count": 28
    }
   ],
   "source": [
    "df"
   ]
  },
  {
   "cell_type": "code",
   "execution_count": 29,
   "metadata": {},
   "outputs": [
    {
     "output_type": "execute_result",
     "data": {
      "text/plain": "title                 object\nsite                  object\ncountry               object\nyear_release           int64\nbox_office            object\ndirector              object\nnumber_of_subjects     int64\nsubject               object\ntype_of_subject       object\nrace_known            object\nsubject_race          object\nperson_of_color        int64\nsubject_sex           object\nlead_actor_actress    object\ndtype: object"
     },
     "metadata": {},
     "execution_count": 29
    }
   ],
   "source": [
    "df.dtypes"
   ]
  },
  {
   "cell_type": "code",
   "execution_count": 30,
   "metadata": {},
   "outputs": [
    {
     "output_type": "execute_result",
     "data": {
      "text/plain": "7"
     },
     "metadata": {},
     "execution_count": 30
    }
   ],
   "source": [
    "df['country'].nunique()"
   ]
  },
  {
   "cell_type": "code",
   "execution_count": 31,
   "metadata": {},
   "outputs": [],
   "source": [
    "df['country'] = df['country'].astype('category')"
   ]
  },
  {
   "cell_type": "code",
   "execution_count": 32,
   "metadata": {},
   "outputs": [],
   "source": [
    "df['country'] = df['country'].cat.codes"
   ]
  },
  {
   "cell_type": "code",
   "execution_count": 33,
   "metadata": {},
   "outputs": [
    {
     "output_type": "execute_result",
     "data": {
      "text/plain": "                     title                                  site  country  \\\n0      10 Rillington Place  http://www.imdb.com/title/tt0066730/        2   \n1         12 Years a Slave  http://www.imdb.com/title/tt2024544/        5   \n2                127 Hours  http://www.imdb.com/title/tt1542344/        5   \n3                     1987  http://www.imdb.com/title/tt2833074/        0   \n4                 20 Dates  http://www.imdb.com/title/tt0138987/        3   \n..                     ...                                   ...      ...   \n756  Young Man with a Horn  http://www.imdb.com/title/tt0043153/        3   \n757      Young Mr. Lincoln  http://www.imdb.com/title/tt0032155/        3   \n758       Young Tom Edison  http://www.imdb.com/title/tt0033289/        3   \n759          Young Winston  http://www.imdb.com/title/tt0069528/        3   \n760    Your Cheatin' Heart  http://www.imdb.com/title/tt0058765/        3   \n\n     year_release box_office              director  number_of_subjects  \\\n0            1971          -     Richard Fleischer                   1   \n1            2013     $56.7M         Steve McQueen                   1   \n2            2010     $18.3M           Danny Boyle                   1   \n3            2014          -         Ricardo Trogi                   1   \n4            1998      $537K       Myles Berkowitz                   1   \n..            ...        ...                   ...                 ...   \n756          1950          -        Michael Curtiz                   1   \n757          1939          -             John Ford                   1   \n758          1940          -         Norman Taurog                   1   \n759          1972          -  Richard Attenborough                   1   \n760          1964          -           Gene Nelson                   1   \n\n               subject type_of_subject race_known      subject_race  \\\n0        John Christie        Criminal    Unknown               NaN   \n1      Solomon Northup           Other      Known  African American   \n2         Aron Ralston         Athlete    Unknown               NaN   \n3        Ricardo Trogi           Other      Known             White   \n4      Myles Berkowitz           Other    Unknown               NaN   \n..                 ...             ...        ...               ...   \n756    Bix Beiderbecke        Musician      Known             White   \n757    Abraham Lincoln    World leader      Known             White   \n758      Thomas Edison           Other      Known             White   \n759  Winston Churchill    World leader      Known             White   \n760      Hank Williams        Musician    Unknown               NaN   \n\n     person_of_color subject_sex    lead_actor_actress  \n0                  0        Male  Richard Attenborough  \n1                  1        Male      Chiwetel Ejiofor  \n2                  0        Male          James Franco  \n3                  0        Male     Jean-Carl Boucher  \n4                  0        Male       Myles Berkowitz  \n..               ...         ...                   ...  \n756                0        Male          Kirk Douglas  \n757                0        Male           Henry Fonda  \n758                0        Male         Mickey Rooney  \n759                0        Male            Simon Ward  \n760                0        Male       George Hamilton  \n\n[761 rows x 14 columns]",
      "text/html": "<div>\n<style scoped>\n    .dataframe tbody tr th:only-of-type {\n        vertical-align: middle;\n    }\n\n    .dataframe tbody tr th {\n        vertical-align: top;\n    }\n\n    .dataframe thead th {\n        text-align: right;\n    }\n</style>\n<table border=\"1\" class=\"dataframe\">\n  <thead>\n    <tr style=\"text-align: right;\">\n      <th></th>\n      <th>title</th>\n      <th>site</th>\n      <th>country</th>\n      <th>year_release</th>\n      <th>box_office</th>\n      <th>director</th>\n      <th>number_of_subjects</th>\n      <th>subject</th>\n      <th>type_of_subject</th>\n      <th>race_known</th>\n      <th>subject_race</th>\n      <th>person_of_color</th>\n      <th>subject_sex</th>\n      <th>lead_actor_actress</th>\n    </tr>\n  </thead>\n  <tbody>\n    <tr>\n      <th>0</th>\n      <td>10 Rillington Place</td>\n      <td>http://www.imdb.com/title/tt0066730/</td>\n      <td>2</td>\n      <td>1971</td>\n      <td>-</td>\n      <td>Richard Fleischer</td>\n      <td>1</td>\n      <td>John Christie</td>\n      <td>Criminal</td>\n      <td>Unknown</td>\n      <td>NaN</td>\n      <td>0</td>\n      <td>Male</td>\n      <td>Richard Attenborough</td>\n    </tr>\n    <tr>\n      <th>1</th>\n      <td>12 Years a Slave</td>\n      <td>http://www.imdb.com/title/tt2024544/</td>\n      <td>5</td>\n      <td>2013</td>\n      <td>$56.7M</td>\n      <td>Steve McQueen</td>\n      <td>1</td>\n      <td>Solomon Northup</td>\n      <td>Other</td>\n      <td>Known</td>\n      <td>African American</td>\n      <td>1</td>\n      <td>Male</td>\n      <td>Chiwetel Ejiofor</td>\n    </tr>\n    <tr>\n      <th>2</th>\n      <td>127 Hours</td>\n      <td>http://www.imdb.com/title/tt1542344/</td>\n      <td>5</td>\n      <td>2010</td>\n      <td>$18.3M</td>\n      <td>Danny Boyle</td>\n      <td>1</td>\n      <td>Aron Ralston</td>\n      <td>Athlete</td>\n      <td>Unknown</td>\n      <td>NaN</td>\n      <td>0</td>\n      <td>Male</td>\n      <td>James Franco</td>\n    </tr>\n    <tr>\n      <th>3</th>\n      <td>1987</td>\n      <td>http://www.imdb.com/title/tt2833074/</td>\n      <td>0</td>\n      <td>2014</td>\n      <td>-</td>\n      <td>Ricardo Trogi</td>\n      <td>1</td>\n      <td>Ricardo Trogi</td>\n      <td>Other</td>\n      <td>Known</td>\n      <td>White</td>\n      <td>0</td>\n      <td>Male</td>\n      <td>Jean-Carl Boucher</td>\n    </tr>\n    <tr>\n      <th>4</th>\n      <td>20 Dates</td>\n      <td>http://www.imdb.com/title/tt0138987/</td>\n      <td>3</td>\n      <td>1998</td>\n      <td>$537K</td>\n      <td>Myles Berkowitz</td>\n      <td>1</td>\n      <td>Myles Berkowitz</td>\n      <td>Other</td>\n      <td>Unknown</td>\n      <td>NaN</td>\n      <td>0</td>\n      <td>Male</td>\n      <td>Myles Berkowitz</td>\n    </tr>\n    <tr>\n      <th>...</th>\n      <td>...</td>\n      <td>...</td>\n      <td>...</td>\n      <td>...</td>\n      <td>...</td>\n      <td>...</td>\n      <td>...</td>\n      <td>...</td>\n      <td>...</td>\n      <td>...</td>\n      <td>...</td>\n      <td>...</td>\n      <td>...</td>\n      <td>...</td>\n    </tr>\n    <tr>\n      <th>756</th>\n      <td>Young Man with a Horn</td>\n      <td>http://www.imdb.com/title/tt0043153/</td>\n      <td>3</td>\n      <td>1950</td>\n      <td>-</td>\n      <td>Michael Curtiz</td>\n      <td>1</td>\n      <td>Bix Beiderbecke</td>\n      <td>Musician</td>\n      <td>Known</td>\n      <td>White</td>\n      <td>0</td>\n      <td>Male</td>\n      <td>Kirk Douglas</td>\n    </tr>\n    <tr>\n      <th>757</th>\n      <td>Young Mr. Lincoln</td>\n      <td>http://www.imdb.com/title/tt0032155/</td>\n      <td>3</td>\n      <td>1939</td>\n      <td>-</td>\n      <td>John Ford</td>\n      <td>1</td>\n      <td>Abraham Lincoln</td>\n      <td>World leader</td>\n      <td>Known</td>\n      <td>White</td>\n      <td>0</td>\n      <td>Male</td>\n      <td>Henry Fonda</td>\n    </tr>\n    <tr>\n      <th>758</th>\n      <td>Young Tom Edison</td>\n      <td>http://www.imdb.com/title/tt0033289/</td>\n      <td>3</td>\n      <td>1940</td>\n      <td>-</td>\n      <td>Norman Taurog</td>\n      <td>1</td>\n      <td>Thomas Edison</td>\n      <td>Other</td>\n      <td>Known</td>\n      <td>White</td>\n      <td>0</td>\n      <td>Male</td>\n      <td>Mickey Rooney</td>\n    </tr>\n    <tr>\n      <th>759</th>\n      <td>Young Winston</td>\n      <td>http://www.imdb.com/title/tt0069528/</td>\n      <td>3</td>\n      <td>1972</td>\n      <td>-</td>\n      <td>Richard Attenborough</td>\n      <td>1</td>\n      <td>Winston Churchill</td>\n      <td>World leader</td>\n      <td>Known</td>\n      <td>White</td>\n      <td>0</td>\n      <td>Male</td>\n      <td>Simon Ward</td>\n    </tr>\n    <tr>\n      <th>760</th>\n      <td>Your Cheatin' Heart</td>\n      <td>http://www.imdb.com/title/tt0058765/</td>\n      <td>3</td>\n      <td>1964</td>\n      <td>-</td>\n      <td>Gene Nelson</td>\n      <td>1</td>\n      <td>Hank Williams</td>\n      <td>Musician</td>\n      <td>Unknown</td>\n      <td>NaN</td>\n      <td>0</td>\n      <td>Male</td>\n      <td>George Hamilton</td>\n    </tr>\n  </tbody>\n</table>\n<p>761 rows × 14 columns</p>\n</div>"
     },
     "metadata": {},
     "execution_count": 33
    }
   ],
   "source": [
    "df"
   ]
  },
  {
   "cell_type": "code",
   "execution_count": 34,
   "metadata": {},
   "outputs": [
    {
     "output_type": "execute_result",
     "data": {
      "text/plain": "3    489\n2    146\n5     82\n0     18\n1     13\n4     11\n6      2\nName: country, dtype: int64"
     },
     "metadata": {},
     "execution_count": 34
    }
   ],
   "source": [
    "df['country'].value_counts()"
   ]
  },
  {
   "cell_type": "code",
   "execution_count": null,
   "metadata": {},
   "outputs": [],
   "source": []
  }
 ],
 "metadata": {
  "kernelspec": {
   "display_name": "Python 3",
   "language": "python",
   "name": "python3"
  },
  "language_info": {
   "codemirror_mode": {
    "name": "ipython",
    "version": 3
   },
   "file_extension": ".py",
   "mimetype": "text/x-python",
   "name": "python",
   "nbconvert_exporter": "python",
   "pygments_lexer": "ipython3",
   "version": "3.8.2-final"
  }
 },
 "nbformat": 4,
 "nbformat_minor": 2
}