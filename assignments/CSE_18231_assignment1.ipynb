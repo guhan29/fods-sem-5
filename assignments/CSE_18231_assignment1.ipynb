{
 "metadata": {
  "language_info": {
   "codemirror_mode": {
    "name": "ipython",
    "version": 3
   },
   "file_extension": ".py",
   "mimetype": "text/x-python",
   "name": "python",
   "nbconvert_exporter": "python",
   "pygments_lexer": "ipython3",
   "version": 3
  },
  "orig_nbformat": 2,
  "kernelspec": {
   "name": "python_defaultSpec_1596980982718",
   "display_name": "Python 3.8.2 32-bit"
  }
 },
 "nbformat": 4,
 "nbformat_minor": 2,
 "cells": [
  {
   "cell_type": "code",
   "execution_count": 119,
   "metadata": {},
   "outputs": [
    {
     "output_type": "execute_result",
     "data": {
      "text/plain": "     Undergraduate Major Starting Median Salary Mid-Career Median Salary  \\\n0             Accounting             $46,000.00               $77,100.00   \n1  Aerospace Engineering             $57,700.00              $101,000.00   \n2            Agriculture             $42,600.00               $71,900.00   \n3           Anthropology             $36,800.00               $61,500.00   \n4           Architecture             $41,600.00               $76,800.00   \n\n   Percent change from Starting to Mid-Career Salary  \\\n0                                               67.6   \n1                                               75.0   \n2                                               68.8   \n3                                               67.1   \n4                                               84.6   \n\n  Mid-Career 10th Percentile Salary Mid-Career 25th Percentile Salary  \\\n0                        $42,200.00                        $56,100.00   \n1                        $64,300.00                        $82,100.00   \n2                        $36,300.00                        $52,100.00   \n3                        $33,800.00                        $45,500.00   \n4                        $50,600.00                        $62,200.00   \n\n  Mid-Career 75th Percentile Salary Mid-Career 90th Percentile Salary  \n0                       $108,000.00                       $152,000.00  \n1                       $127,000.00                       $161,000.00  \n2                        $96,300.00                       $150,000.00  \n3                        $89,300.00                       $138,000.00  \n4                        $97,000.00                       $136,000.00  ",
      "text/html": "<div>\n<style scoped>\n    .dataframe tbody tr th:only-of-type {\n        vertical-align: middle;\n    }\n\n    .dataframe tbody tr th {\n        vertical-align: top;\n    }\n\n    .dataframe thead th {\n        text-align: right;\n    }\n</style>\n<table border=\"1\" class=\"dataframe\">\n  <thead>\n    <tr style=\"text-align: right;\">\n      <th></th>\n      <th>Undergraduate Major</th>\n      <th>Starting Median Salary</th>\n      <th>Mid-Career Median Salary</th>\n      <th>Percent change from Starting to Mid-Career Salary</th>\n      <th>Mid-Career 10th Percentile Salary</th>\n      <th>Mid-Career 25th Percentile Salary</th>\n      <th>Mid-Career 75th Percentile Salary</th>\n      <th>Mid-Career 90th Percentile Salary</th>\n    </tr>\n  </thead>\n  <tbody>\n    <tr>\n      <th>0</th>\n      <td>Accounting</td>\n      <td>$46,000.00</td>\n      <td>$77,100.00</td>\n      <td>67.6</td>\n      <td>$42,200.00</td>\n      <td>$56,100.00</td>\n      <td>$108,000.00</td>\n      <td>$152,000.00</td>\n    </tr>\n    <tr>\n      <th>1</th>\n      <td>Aerospace Engineering</td>\n      <td>$57,700.00</td>\n      <td>$101,000.00</td>\n      <td>75.0</td>\n      <td>$64,300.00</td>\n      <td>$82,100.00</td>\n      <td>$127,000.00</td>\n      <td>$161,000.00</td>\n    </tr>\n    <tr>\n      <th>2</th>\n      <td>Agriculture</td>\n      <td>$42,600.00</td>\n      <td>$71,900.00</td>\n      <td>68.8</td>\n      <td>$36,300.00</td>\n      <td>$52,100.00</td>\n      <td>$96,300.00</td>\n      <td>$150,000.00</td>\n    </tr>\n    <tr>\n      <th>3</th>\n      <td>Anthropology</td>\n      <td>$36,800.00</td>\n      <td>$61,500.00</td>\n      <td>67.1</td>\n      <td>$33,800.00</td>\n      <td>$45,500.00</td>\n      <td>$89,300.00</td>\n      <td>$138,000.00</td>\n    </tr>\n    <tr>\n      <th>4</th>\n      <td>Architecture</td>\n      <td>$41,600.00</td>\n      <td>$76,800.00</td>\n      <td>84.6</td>\n      <td>$50,600.00</td>\n      <td>$62,200.00</td>\n      <td>$97,000.00</td>\n      <td>$136,000.00</td>\n    </tr>\n  </tbody>\n</table>\n</div>"
     },
     "metadata": {},
     "execution_count": 119
    }
   ],
   "source": [
    "import pandas as pd \n",
    "df=pd.read_csv('ass1.csv')\n",
    "df.head(5)"
   ]
  },
  {
   "cell_type": "code",
   "execution_count": 120,
   "metadata": {},
   "outputs": [
    {
     "output_type": "execute_result",
     "data": {
      "text/plain": "Index(['Undergraduate Major', 'Starting Median Salary',\n       'Mid-Career Median Salary',\n       'Percent change from Starting to Mid-Career Salary',\n       'Mid-Career 10th Percentile Salary',\n       'Mid-Career 25th Percentile Salary',\n       'Mid-Career 75th Percentile Salary',\n       'Mid-Career 90th Percentile Salary'],\n      dtype='object')"
     },
     "metadata": {},
     "execution_count": 120
    }
   ],
   "source": [
    "df.columns"
   ]
  },
  {
   "cell_type": "code",
   "execution_count": 121,
   "metadata": {},
   "outputs": [
    {
     "output_type": "execute_result",
     "data": {
      "text/plain": "400"
     },
     "metadata": {},
     "execution_count": 121
    }
   ],
   "source": [
    "df.size"
   ]
  },
  {
   "cell_type": "code",
   "execution_count": 122,
   "metadata": {},
   "outputs": [
    {
     "output_type": "execute_result",
     "data": {
      "text/plain": "Index(['major', 'Start Med Sal', 'Mid Career Med Sal',\n       'Start-Mid Career Sal Change', '10%tile Sal', '25%tile Sal',\n       '75%tile Sal', '90%tileSal'],\n      dtype='object')"
     },
     "metadata": {},
     "execution_count": 122
    }
   ],
   "source": [
    "names=['major','Start Med Sal', 'Mid Career Med Sal', 'Start-Mid Career Sal Change', '10%tile Sal','25%tile Sal','75%tile Sal','90%tileSal']\n",
    "df=pd.read_csv('ass1.csv',names=names,skiprows=1)\n",
    "df.columns"
   ]
  },
  {
   "cell_type": "code",
   "execution_count": 125,
   "metadata": {},
   "outputs": [
    {
     "output_type": "execute_result",
     "data": {
      "text/plain": "major                           object\nStart Med Sal                   object\nMid Career Med Sal              object\nStart-Mid Career Sal Change    float64\n10%tile Sal                     object\n25%tile Sal                     object\n75%tile Sal                     object\n90%tileSal                      object\ndtype: object"
     },
     "metadata": {},
     "execution_count": 125
    }
   ],
   "source": [
    "df.dtypes"
   ]
  },
  {
   "cell_type": "code",
   "execution_count": 126,
   "metadata": {},
   "outputs": [
    {
     "output_type": "execute_result",
     "data": {
      "text/plain": "major                           object\nStart Med Sal                  float64\nMid Career Med Sal             float64\nStart-Mid Career Sal Change    float64\n10%tile Sal                    float64\n25%tile Sal                    float64\n75%tile Sal                    float64\n90%tileSal                     float64\ndtype: object"
     },
     "metadata": {},
     "execution_count": 126
    }
   ],
   "source": [
    "names=names[1:]\n",
    "for i in nam:\n",
    "    df[i]=df[i].str.replace('\\$','').str.replace(',','').astype('float')\n",
    "df.dtypes"
   ]
  },
  {
   "cell_type": "code",
   "execution_count": 127,
   "metadata": {},
   "outputs": [
    {
     "output_type": "execute_result",
     "data": {
      "text/plain": "1       Aerospace Engineering\n4                Architecture\n5                 Art History\n9                   Chemistry\n11             Communications\n12       Computer Engineering\n13           Computer Science\n17                  Economics\n20                    English\n21                       Film\n22                    Finance\n25                    Geology\n28                    History\n33    International Relations\n34                 Journalism\n36                  Marketing\n37                       Math\n42                 Philosophy\n44                    Physics\n45          Political Science\nName: major, dtype: object"
     },
     "metadata": {},
     "execution_count": 127
    }
   ],
   "source": [
    "df.loc[(df['Start-Mid Career Sal Change']>70.0),'major']"
   ]
  },
  {
   "cell_type": "code",
   "execution_count": 135,
   "metadata": {},
   "outputs": [
    {
     "output_type": "execute_result",
     "data": {
      "text/plain": "34000.0"
     },
     "metadata": {},
     "execution_count": 135
    }
   ],
   "source": [
    "df.loc[(df['90%tileSal']-df['10%tile Sal'])>40000.0,'Start Med Sal'].min()"
   ]
  },
  {
   "cell_type": "code",
   "execution_count": 141,
   "metadata": {},
   "outputs": [
    {
     "output_type": "execute_result",
     "data": {
      "text/plain": "School Name                           object\nSchool Type                           object\nStarting Median Salary               float64\nMid-Career Median Salary             float64\nMid-Career 10th Percentile Salary    float64\nMid-Career 25th Percentile Salary    float64\nMid-Career 75th Percentile Salary    float64\nMid-Career 90th Percentile Salary    float64\ndtype: object"
     },
     "metadata": {},
     "execution_count": 141
    }
   ],
   "source": [
    "df2=pd.read_csv('a2.csv')\n",
    "na=df2.columns[2:]\n",
    "for i in na:\n",
    "    df2[i]=df2[i].str.replace('\\$','').str.replace(',','').astype('float')\n",
    "df2.dtypes"
   ]
  },
  {
   "cell_type": "code",
   "execution_count": 142,
   "metadata": {},
   "outputs": [
    {
     "output_type": "execute_result",
     "data": {
      "text/plain": "School Name                           0\nSchool Type                           0\nStarting Median Salary                0\nMid-Career Median Salary              0\nMid-Career 10th Percentile Salary    38\nMid-Career 25th Percentile Salary     0\nMid-Career 75th Percentile Salary     0\nMid-Career 90th Percentile Salary    38\ndtype: int64"
     },
     "metadata": {},
     "execution_count": 142
    }
   ],
   "source": [
    "df2.isnull().sum()"
   ]
  },
  {
   "cell_type": "code",
   "execution_count": 143,
   "metadata": {},
   "outputs": [
    {
     "output_type": "execute_result",
     "data": {
      "text/plain": "0      76800.0\n1          NaN\n2          NaN\n3      66800.0\n4          NaN\n        ...   \n264    32200.0\n265    25600.0\n266    30700.0\n267    22600.0\n268    27000.0\nName: Mid-Career 10th Percentile Salary, Length: 269, dtype: float64"
     },
     "metadata": {},
     "execution_count": 143
    }
   ],
   "source": [
    "df2['Mid-Career 10th Percentile Salary']"
   ]
  },
  {
   "cell_type": "code",
   "execution_count": 159,
   "metadata": {},
   "outputs": [
    {
     "output_type": "execute_result",
     "data": {
      "text/plain": "School Name                          0\nSchool Type                          0\nStarting Median Salary               0\nMid-Career Median Salary             0\nMid-Career 10th Percentile Salary    0\nMid-Career 25th Percentile Salary    0\nMid-Career 75th Percentile Salary    0\nMid-Career 90th Percentile Salary    0\ndtype: int64"
     },
     "metadata": {},
     "execution_count": 159
    }
   ],
   "source": [
    "df2['Mid-Career 90th Percentile Salary'] = df2.groupby('School Type').transform(lambda x: x.fillna(x.mean()))\n",
    "df2['Mid-Career 10th Percentile Salary'] = df2.groupby('School Type').transform(lambda x: x.fillna(x.mean()))\n",
    "df2.isnull().sum()\n"
   ]
  },
  {
   "cell_type": "code",
   "execution_count": 149,
   "metadata": {},
   "outputs": [
    {
     "output_type": "execute_result",
     "data": {
      "text/plain": "45746.8085106383"
     },
     "metadata": {},
     "execution_count": 149
    }
   ],
   "source": [
    "df2['Starting Median Salary'].loc[(df2['School Type']=='Liberal Arts')].mean()"
   ]
  },
  {
   "cell_type": "code",
   "execution_count": 162,
   "metadata": {},
   "outputs": [
    {
     "output_type": "execute_result",
     "data": {
      "text/plain": "                                School Name  School Type  \\\n1  California Institute of Technology (CIT)  Engineering   \n\n   Starting Median Salary  Mid-Career Median Salary  \\\n1                 75500.0                  123000.0   \n\n   Mid-Career 10th Percentile Salary  Mid-Career 25th Percentile Salary  \\\n1                            75500.0                           104000.0   \n\n   Mid-Career 75th Percentile Salary  Mid-Career 90th Percentile Salary  \n1                           161000.0                            75500.0  ",
      "text/html": "<div>\n<style scoped>\n    .dataframe tbody tr th:only-of-type {\n        vertical-align: middle;\n    }\n\n    .dataframe tbody tr th {\n        vertical-align: top;\n    }\n\n    .dataframe thead th {\n        text-align: right;\n    }\n</style>\n<table border=\"1\" class=\"dataframe\">\n  <thead>\n    <tr style=\"text-align: right;\">\n      <th></th>\n      <th>School Name</th>\n      <th>School Type</th>\n      <th>Starting Median Salary</th>\n      <th>Mid-Career Median Salary</th>\n      <th>Mid-Career 10th Percentile Salary</th>\n      <th>Mid-Career 25th Percentile Salary</th>\n      <th>Mid-Career 75th Percentile Salary</th>\n      <th>Mid-Career 90th Percentile Salary</th>\n    </tr>\n  </thead>\n  <tbody>\n    <tr>\n      <th>1</th>\n      <td>California Institute of Technology (CIT)</td>\n      <td>Engineering</td>\n      <td>75500.0</td>\n      <td>123000.0</td>\n      <td>75500.0</td>\n      <td>104000.0</td>\n      <td>161000.0</td>\n      <td>75500.0</td>\n    </tr>\n  </tbody>\n</table>\n</div>"
     },
     "metadata": {},
     "execution_count": 162
    }
   ],
   "source": [
    "temp= df2['Mid-Career 25th Percentile Salary'].max()\n",
    "df2.loc[(df2['Mid-Career 25th Percentile Salary'] == temp)]\n"
   ]
  },
  {
   "cell_type": "code",
   "execution_count": 165,
   "metadata": {},
   "outputs": [
    {
     "output_type": "execute_result",
     "data": {
      "text/plain": "41300.0"
     },
     "metadata": {},
     "execution_count": 165
    }
   ],
   "source": [
    "a=df2.loc[(df2['School Type'] == 'Party')]\n",
    "b=df2.loc[(df2['School Type'] == 'Ivy League')]\n",
    "a['Starting Median Salary'].min()\n"
   ]
  },
  {
   "cell_type": "code",
   "execution_count": 166,
   "metadata": {},
   "outputs": [
    {
     "output_type": "execute_result",
     "data": {
      "text/plain": "52900.0"
     },
     "metadata": {},
     "execution_count": 166
    }
   ],
   "source": [
    "a['Starting Median Salary'].max()"
   ]
  },
  {
   "cell_type": "code",
   "execution_count": 168,
   "metadata": {},
   "outputs": [
    {
     "output_type": "execute_result",
     "data": {
      "text/plain": "56200.0"
     },
     "metadata": {},
     "execution_count": 168
    }
   ],
   "source": [
    "b['Starting Median Salary'].min()"
   ]
  },
  {
   "cell_type": "code",
   "execution_count": 169,
   "metadata": {},
   "outputs": [
    {
     "output_type": "execute_result",
     "data": {
      "text/plain": "66500.0"
     },
     "metadata": {},
     "execution_count": 169
    }
   ],
   "source": [
    "b['Starting Median Salary'].max()"
   ]
  },
  {
   "cell_type": "code",
   "execution_count": 172,
   "metadata": {},
   "outputs": [
    {
     "output_type": "execute_result",
     "data": {
      "text/plain": "1    Engineering\nName: School Type, dtype: object"
     },
     "metadata": {},
     "execution_count": 172
    }
   ],
   "source": [
    "(df2.loc[df2['Starting Median Salary'] == df2['Starting Median Salary'].max()])['School Type']\n"
   ]
  },
  {
   "cell_type": "code",
   "execution_count": 173,
   "metadata": {},
   "outputs": [
    {
     "output_type": "execute_result",
     "data": {
      "text/plain": "array(['Massachusetts Institute of Technology (MIT)',\n       'California Institute of Technology (CIT)', 'Harvey Mudd College',\n       'Princeton University'], dtype=object)"
     },
     "metadata": {},
     "execution_count": 173
    }
   ],
   "source": [
    "(df2.loc[(df2['Starting Median Salary'] > 65000)])['School Name'].unique()"
   ]
  },
  {
   "cell_type": "code",
   "execution_count": null,
   "metadata": {},
   "outputs": [],
   "source": []
  }
 ]
}