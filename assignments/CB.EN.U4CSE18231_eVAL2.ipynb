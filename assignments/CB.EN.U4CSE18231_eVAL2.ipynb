{
 "cells": [
  {
   "cell_type": "markdown",
   "metadata": {},
   "source": [
    "# EVALUATION - 2 "
   ]
  },
  {
   "cell_type": "markdown",
   "metadata": {
    "colab_type": "text",
    "id": "_8rI0BMA7W2g"
   },
   "source": [
    "Telecom Churn Datasets\n",
    "\n",
    "Each row represents a customer; each column contains customer’s attributes. The datasets have the following attributes or features:\n",
    "\n",
    "State: string\n",
    "Account length: integer\n",
    "Area code: integer\n",
    "International plan: string\n",
    "Voice mail plan: string\n",
    "Number vmail messages: integer\n",
    "Total day minutes: double\n",
    "Total day calls: integer\n",
    "Total day charge: double\n",
    "Total eve minutes: double\n",
    "Total eve calls: integer\n",
    "Total eve charge: double\n",
    "Total night minutes: double\n",
    "Total night calls: integer\n",
    "Total night charge: double\n",
    "Total intl minutes: double\n",
    "Total intl calls: integer\n",
    "Total intl charge: double\n",
    "Customer service calls: integer\n",
    "Churn: string ( 0-loyal users, 1- churned users)"
   ]
  },
  {
   "cell_type": "code",
   "execution_count": 3,
   "metadata": {
    "colab": {},
    "colab_type": "code",
    "id": "VKq2cKzh0MqB"
   },
   "outputs": [],
   "source": [
    "import pandas as pd\n",
    "import numpy as np"
   ]
  },
  {
   "cell_type": "code",
   "execution_count": 4,
   "metadata": {
    "colab": {},
    "colab_type": "code",
    "id": "l2YevV5I0PZ9"
   },
   "outputs": [],
   "source": [
    "df=pd.read_csv('https://raw.githubusercontent.com/Yorko/mlcourse.ai/master/data/telecom_churn.csv')"
   ]
  },
  {
   "cell_type": "code",
   "execution_count": 5,
   "metadata": {
    "colab": {
     "base_uri": "https://localhost:8080/",
     "height": 231
    },
    "colab_type": "code",
    "id": "x0ROCLUI0Uc0",
    "outputId": "5669a36e-3d7f-4f53-e05a-14ae364da3f8"
   },
   "outputs": [
    {
     "output_type": "execute_result",
     "data": {
      "text/plain": "  State  Account length  Area code International plan Voice mail plan  \\\n0    KS             128        415                 No             Yes   \n1    OH             107        415                 No             Yes   \n2    NJ             137        415                 No              No   \n3    OH              84        408                Yes              No   \n4    OK              75        415                Yes              No   \n\n   Number vmail messages  Total day minutes  Total day calls  \\\n0                     25              265.1              110   \n1                     26              161.6              123   \n2                      0              243.4              114   \n3                      0              299.4               71   \n4                      0              166.7              113   \n\n   Total day charge  Total eve minutes  Total eve calls  Total eve charge  \\\n0             45.07              197.4               99             16.78   \n1             27.47              195.5              103             16.62   \n2             41.38              121.2              110             10.30   \n3             50.90               61.9               88              5.26   \n4             28.34              148.3              122             12.61   \n\n   Total night minutes  Total night calls  Total night charge  \\\n0                244.7                 91               11.01   \n1                254.4                103               11.45   \n2                162.6                104                7.32   \n3                196.9                 89                8.86   \n4                186.9                121                8.41   \n\n   Total intl minutes  Total intl calls  Total intl charge  \\\n0                10.0                 3               2.70   \n1                13.7                 3               3.70   \n2                12.2                 5               3.29   \n3                 6.6                 7               1.78   \n4                10.1                 3               2.73   \n\n   Customer service calls  Churn  \n0                       1  False  \n1                       1  False  \n2                       0  False  \n3                       2  False  \n4                       3  False  ",
      "text/html": "<div>\n<style scoped>\n    .dataframe tbody tr th:only-of-type {\n        vertical-align: middle;\n    }\n\n    .dataframe tbody tr th {\n        vertical-align: top;\n    }\n\n    .dataframe thead th {\n        text-align: right;\n    }\n</style>\n<table border=\"1\" class=\"dataframe\">\n  <thead>\n    <tr style=\"text-align: right;\">\n      <th></th>\n      <th>State</th>\n      <th>Account length</th>\n      <th>Area code</th>\n      <th>International plan</th>\n      <th>Voice mail plan</th>\n      <th>Number vmail messages</th>\n      <th>Total day minutes</th>\n      <th>Total day calls</th>\n      <th>Total day charge</th>\n      <th>Total eve minutes</th>\n      <th>Total eve calls</th>\n      <th>Total eve charge</th>\n      <th>Total night minutes</th>\n      <th>Total night calls</th>\n      <th>Total night charge</th>\n      <th>Total intl minutes</th>\n      <th>Total intl calls</th>\n      <th>Total intl charge</th>\n      <th>Customer service calls</th>\n      <th>Churn</th>\n    </tr>\n  </thead>\n  <tbody>\n    <tr>\n      <th>0</th>\n      <td>KS</td>\n      <td>128</td>\n      <td>415</td>\n      <td>No</td>\n      <td>Yes</td>\n      <td>25</td>\n      <td>265.1</td>\n      <td>110</td>\n      <td>45.07</td>\n      <td>197.4</td>\n      <td>99</td>\n      <td>16.78</td>\n      <td>244.7</td>\n      <td>91</td>\n      <td>11.01</td>\n      <td>10.0</td>\n      <td>3</td>\n      <td>2.70</td>\n      <td>1</td>\n      <td>False</td>\n    </tr>\n    <tr>\n      <th>1</th>\n      <td>OH</td>\n      <td>107</td>\n      <td>415</td>\n      <td>No</td>\n      <td>Yes</td>\n      <td>26</td>\n      <td>161.6</td>\n      <td>123</td>\n      <td>27.47</td>\n      <td>195.5</td>\n      <td>103</td>\n      <td>16.62</td>\n      <td>254.4</td>\n      <td>103</td>\n      <td>11.45</td>\n      <td>13.7</td>\n      <td>3</td>\n      <td>3.70</td>\n      <td>1</td>\n      <td>False</td>\n    </tr>\n    <tr>\n      <th>2</th>\n      <td>NJ</td>\n      <td>137</td>\n      <td>415</td>\n      <td>No</td>\n      <td>No</td>\n      <td>0</td>\n      <td>243.4</td>\n      <td>114</td>\n      <td>41.38</td>\n      <td>121.2</td>\n      <td>110</td>\n      <td>10.30</td>\n      <td>162.6</td>\n      <td>104</td>\n      <td>7.32</td>\n      <td>12.2</td>\n      <td>5</td>\n      <td>3.29</td>\n      <td>0</td>\n      <td>False</td>\n    </tr>\n    <tr>\n      <th>3</th>\n      <td>OH</td>\n      <td>84</td>\n      <td>408</td>\n      <td>Yes</td>\n      <td>No</td>\n      <td>0</td>\n      <td>299.4</td>\n      <td>71</td>\n      <td>50.90</td>\n      <td>61.9</td>\n      <td>88</td>\n      <td>5.26</td>\n      <td>196.9</td>\n      <td>89</td>\n      <td>8.86</td>\n      <td>6.6</td>\n      <td>7</td>\n      <td>1.78</td>\n      <td>2</td>\n      <td>False</td>\n    </tr>\n    <tr>\n      <th>4</th>\n      <td>OK</td>\n      <td>75</td>\n      <td>415</td>\n      <td>Yes</td>\n      <td>No</td>\n      <td>0</td>\n      <td>166.7</td>\n      <td>113</td>\n      <td>28.34</td>\n      <td>148.3</td>\n      <td>122</td>\n      <td>12.61</td>\n      <td>186.9</td>\n      <td>121</td>\n      <td>8.41</td>\n      <td>10.1</td>\n      <td>3</td>\n      <td>2.73</td>\n      <td>3</td>\n      <td>False</td>\n    </tr>\n  </tbody>\n</table>\n</div>"
     },
     "metadata": {},
     "execution_count": 5
    }
   ],
   "source": [
    "df.head(5)"
   ]
  },
  {
   "cell_type": "markdown",
   "metadata": {
    "colab_type": "text",
    "id": "UMXbpRNn4_wM"
   },
   "source": [
    "# 1. how many records are there where the state name starts with W"
   ]
  },
  {
   "cell_type": "code",
   "execution_count": 30,
   "metadata": {
    "colab": {
     "base_uri": "https://localhost:8080/",
     "height": 231
    },
    "colab_type": "code",
    "id": "rukTXtUi4s50",
    "outputId": "f52ac073-f779-48e6-c03b-c463fd80c17d"
   },
   "outputs": [
    {
     "output_type": "execute_result",
     "data": {
      "text/plain": "327"
     },
     "metadata": {},
     "execution_count": 30
    }
   ],
   "source": [
    "def state_name():\n",
    "    a,b=df.loc[df['State'].str.startswith('W')].shape\n",
    "    return a\n",
    "\n",
    "state_name()\n"
   ]
  },
  {
   "cell_type": "markdown",
   "metadata": {
    "colab_type": "text",
    "id": "aDx0uzKk5th-"
   },
   "source": [
    "# 2. Print the average total day minutes for all churn categories"
   ]
  },
  {
   "cell_type": "code",
   "execution_count": 29,
   "metadata": {
    "colab": {
     "base_uri": "https://localhost:8080/",
     "height": 167
    },
    "colab_type": "code",
    "id": "5p5-_kez5X2w",
    "outputId": "cee8712c-e445-4a1f-cfc4-1b3abb95d21b"
   },
   "outputs": [
    {
     "output_type": "execute_result",
     "data": {
      "text/plain": "Churn\nFalse    175.175754\nTrue     206.914079\nName: Total day minutes, dtype: float64"
     },
     "metadata": {},
     "execution_count": 29
    }
   ],
   "source": [
    "def category_total_minute():\n",
    "    temp=df.groupby('Churn').mean()\n",
    "    return temp['Total day minutes']\n",
    "    \n",
    "category_total_minute()\n",
    "\n"
   ]
  },
  {
   "cell_type": "markdown",
   "metadata": {
    "colab_type": "text",
    "id": "4E8fpgb86e85"
   },
   "source": [
    "# 3. The percentage of voice mail plan for churn=0 users"
   ]
  },
  {
   "cell_type": "code",
   "execution_count": 36,
   "metadata": {
    "colab": {
     "base_uri": "https://localhost:8080/",
     "height": 137
    },
    "colab_type": "code",
    "id": "HFMfO1es5xTm",
    "outputId": "effb91aa-0ba3-4d84-859f-d59c7b079d8f"
   },
   "outputs": [
    {
     "output_type": "execute_result",
     "data": {
      "text/plain": "No     70.45614\nYes    29.54386\nName: Voice mail plan, dtype: float64"
     },
     "metadata": {},
     "execution_count": 36
    }
   ],
   "source": [
    "def perc_voice_mail():\n",
    "    return df.loc[df['Churn']==False,'Voice mail plan'].value_counts()/df.loc[df['Churn']==False,'Voice mail plan'].value_counts().sum()*100\n",
    "perc_voice_mail()\n"
   ]
  },
  {
   "cell_type": "markdown",
   "metadata": {},
   "source": [
    "# 4. convert the international plan column to boolean - No - false and yes - True and display the datatype of that column"
   ]
  },
  {
   "cell_type": "code",
   "execution_count": 39,
   "metadata": {},
   "outputs": [
    {
     "output_type": "execute_result",
     "data": {
      "text/plain": "International plan    bool\ndtype: object"
     },
     "metadata": {},
     "execution_count": 39
    }
   ],
   "source": [
    "def convert_bool():\n",
    "    df['International plan']=df['International plan'].astype(bool)\n",
    "    return df[['International plan']].dtypes\n",
    "convert_bool()\n"
   ]
  },
  {
   "cell_type": "markdown",
   "metadata": {
    "colab_type": "text",
    "id": "R3uBHFZ36q7D"
   },
   "source": [
    "# 5. Average number of day, evening, and night calls by area code, area code on row and day, evening and night averages on column"
   ]
  },
  {
   "cell_type": "code",
   "execution_count": 50,
   "metadata": {
    "colab": {
     "base_uri": "https://localhost:8080/",
     "height": 167
    },
    "colab_type": "code",
    "id": "XPWFRxnM6U4D",
    "outputId": "4fae7aab-0aee-4eec-e215-74f0ad31fa47"
   },
   "outputs": [
    {
     "output_type": "execute_result",
     "data": {
      "text/plain": "           Total day calls  Total eve calls  Total night calls\nArea code                                                     \n408             100.496420        99.788783          99.039379\n415             100.576435       100.503927         100.398187\n510             100.097619        99.671429         100.601190",
      "text/html": "<div>\n<style scoped>\n    .dataframe tbody tr th:only-of-type {\n        vertical-align: middle;\n    }\n\n    .dataframe tbody tr th {\n        vertical-align: top;\n    }\n\n    .dataframe thead th {\n        text-align: right;\n    }\n</style>\n<table border=\"1\" class=\"dataframe\">\n  <thead>\n    <tr style=\"text-align: right;\">\n      <th></th>\n      <th>Total day calls</th>\n      <th>Total eve calls</th>\n      <th>Total night calls</th>\n    </tr>\n    <tr>\n      <th>Area code</th>\n      <th></th>\n      <th></th>\n      <th></th>\n    </tr>\n  </thead>\n  <tbody>\n    <tr>\n      <th>408</th>\n      <td>100.496420</td>\n      <td>99.788783</td>\n      <td>99.039379</td>\n    </tr>\n    <tr>\n      <th>415</th>\n      <td>100.576435</td>\n      <td>100.503927</td>\n      <td>100.398187</td>\n    </tr>\n    <tr>\n      <th>510</th>\n      <td>100.097619</td>\n      <td>99.671429</td>\n      <td>100.601190</td>\n    </tr>\n  </tbody>\n</table>\n</div>"
     },
     "metadata": {},
     "execution_count": 50
    }
   ],
   "source": [
    "def avg_stat():\n",
    "    tempor=df.groupby('Area code')['Total day calls','Total eve calls','Total night calls'].mean()\n",
    "    return tempor\n",
    "avg_stat()\n",
    "\n"
   ]
  },
  {
   "cell_type": "markdown",
   "metadata": {},
   "source": [
    "# 6. display summary table for  churn wise international plan"
   ]
  },
  {
   "cell_type": "code",
   "execution_count": 44,
   "metadata": {},
   "outputs": [
    {
     "output_type": "execute_result",
     "data": {
      "text/plain": "Churn  International plan\nFalse  True                  2850\nTrue   True                   483\nName: International plan, dtype: int64"
     },
     "metadata": {},
     "execution_count": 44
    }
   ],
   "source": [
    "def churn_international():\n",
    "    grp=df.groupby('Churn')\n",
    "    return grp['International plan'].value_counts()\n",
    "churn_international()"
   ]
  },
  {
   "cell_type": "markdown",
   "metadata": {},
   "source": [
    "# 7. Add an extra column called num_label which will be filled based on the total night calls with a margin of 1,25,50,75,100,200 and map to these labels 'Very Low','Low' ,'Medium','High','Very High'"
   ]
  },
  {
   "cell_type": "code",
   "execution_count": 77,
   "metadata": {},
   "outputs": [
    {
     "output_type": "execute_result",
     "data": {
      "text/plain": "     State  Account length  Area code  International plan Voice mail plan  \\\n0       KS             128        415                True             Yes   \n1       OH             107        415                True             Yes   \n2       NJ             137        415                True              No   \n3       OH              84        408                True              No   \n4       OK              75        415                True              No   \n...    ...             ...        ...                 ...             ...   \n3328    AZ             192        415                True             Yes   \n3329    WV              68        415                True              No   \n3330    RI              28        510                True              No   \n3331    CT             184        510                True              No   \n3332    TN              74        415                True             Yes   \n\n      Number vmail messages  Total day minutes  Total day calls  \\\n0                        25              265.1              110   \n1                        26              161.6              123   \n2                         0              243.4              114   \n3                         0              299.4               71   \n4                         0              166.7              113   \n...                     ...                ...              ...   \n3328                     36              156.2               77   \n3329                      0              231.1               57   \n3330                      0              180.8              109   \n3331                      0              213.8              105   \n3332                     25              234.4              113   \n\n      Total day charge  Total eve minutes  ...  Total eve charge  \\\n0                45.07              197.4  ...             16.78   \n1                27.47              195.5  ...             16.62   \n2                41.38              121.2  ...             10.30   \n3                50.90               61.9  ...              5.26   \n4                28.34              148.3  ...             12.61   \n...                ...                ...  ...               ...   \n3328             26.55              215.5  ...             18.32   \n3329             39.29              153.4  ...             13.04   \n3330             30.74              288.8  ...             24.55   \n3331             36.35              159.6  ...             13.57   \n3332             39.85              265.9  ...             22.60   \n\n      Total night minutes  Total night calls  Total night charge  \\\n0                   244.7                 91               11.01   \n1                   254.4                103               11.45   \n2                   162.6                104                7.32   \n3                   196.9                 89                8.86   \n4                   186.9                121                8.41   \n...                   ...                ...                 ...   \n3328                279.1                 83               12.56   \n3329                191.3                123                8.61   \n3330                191.9                 91                8.64   \n3331                139.2                137                6.26   \n3332                241.4                 77               10.86   \n\n      Total intl minutes  Total intl calls  Total intl charge  \\\n0                   10.0                 3               2.70   \n1                   13.7                 3               3.70   \n2                   12.2                 5               3.29   \n3                    6.6                 7               1.78   \n4                   10.1                 3               2.73   \n...                  ...               ...                ...   \n3328                 9.9                 6               2.67   \n3329                 9.6                 4               2.59   \n3330                14.1                 6               3.81   \n3331                 5.0                10               1.35   \n3332                13.7                 4               3.70   \n\n      Customer service calls  Churn  num_label  \n0                          1  False       High  \n1                          1  False  Very High  \n2                          0  False  Very High  \n3                          2  False       High  \n4                          3  False  Very High  \n...                      ...    ...        ...  \n3328                       2  False       High  \n3329                       3  False  Very High  \n3330                       2  False       High  \n3331                       2  False  Very High  \n3332                       0  False       High  \n\n[3333 rows x 21 columns]",
      "text/html": "<div>\n<style scoped>\n    .dataframe tbody tr th:only-of-type {\n        vertical-align: middle;\n    }\n\n    .dataframe tbody tr th {\n        vertical-align: top;\n    }\n\n    .dataframe thead th {\n        text-align: right;\n    }\n</style>\n<table border=\"1\" class=\"dataframe\">\n  <thead>\n    <tr style=\"text-align: right;\">\n      <th></th>\n      <th>State</th>\n      <th>Account length</th>\n      <th>Area code</th>\n      <th>International plan</th>\n      <th>Voice mail plan</th>\n      <th>Number vmail messages</th>\n      <th>Total day minutes</th>\n      <th>Total day calls</th>\n      <th>Total day charge</th>\n      <th>Total eve minutes</th>\n      <th>...</th>\n      <th>Total eve charge</th>\n      <th>Total night minutes</th>\n      <th>Total night calls</th>\n      <th>Total night charge</th>\n      <th>Total intl minutes</th>\n      <th>Total intl calls</th>\n      <th>Total intl charge</th>\n      <th>Customer service calls</th>\n      <th>Churn</th>\n      <th>num_label</th>\n    </tr>\n  </thead>\n  <tbody>\n    <tr>\n      <th>0</th>\n      <td>KS</td>\n      <td>128</td>\n      <td>415</td>\n      <td>True</td>\n      <td>Yes</td>\n      <td>25</td>\n      <td>265.1</td>\n      <td>110</td>\n      <td>45.07</td>\n      <td>197.4</td>\n      <td>...</td>\n      <td>16.78</td>\n      <td>244.7</td>\n      <td>91</td>\n      <td>11.01</td>\n      <td>10.0</td>\n      <td>3</td>\n      <td>2.70</td>\n      <td>1</td>\n      <td>False</td>\n      <td>High</td>\n    </tr>\n    <tr>\n      <th>1</th>\n      <td>OH</td>\n      <td>107</td>\n      <td>415</td>\n      <td>True</td>\n      <td>Yes</td>\n      <td>26</td>\n      <td>161.6</td>\n      <td>123</td>\n      <td>27.47</td>\n      <td>195.5</td>\n      <td>...</td>\n      <td>16.62</td>\n      <td>254.4</td>\n      <td>103</td>\n      <td>11.45</td>\n      <td>13.7</td>\n      <td>3</td>\n      <td>3.70</td>\n      <td>1</td>\n      <td>False</td>\n      <td>Very High</td>\n    </tr>\n    <tr>\n      <th>2</th>\n      <td>NJ</td>\n      <td>137</td>\n      <td>415</td>\n      <td>True</td>\n      <td>No</td>\n      <td>0</td>\n      <td>243.4</td>\n      <td>114</td>\n      <td>41.38</td>\n      <td>121.2</td>\n      <td>...</td>\n      <td>10.30</td>\n      <td>162.6</td>\n      <td>104</td>\n      <td>7.32</td>\n      <td>12.2</td>\n      <td>5</td>\n      <td>3.29</td>\n      <td>0</td>\n      <td>False</td>\n      <td>Very High</td>\n    </tr>\n    <tr>\n      <th>3</th>\n      <td>OH</td>\n      <td>84</td>\n      <td>408</td>\n      <td>True</td>\n      <td>No</td>\n      <td>0</td>\n      <td>299.4</td>\n      <td>71</td>\n      <td>50.90</td>\n      <td>61.9</td>\n      <td>...</td>\n      <td>5.26</td>\n      <td>196.9</td>\n      <td>89</td>\n      <td>8.86</td>\n      <td>6.6</td>\n      <td>7</td>\n      <td>1.78</td>\n      <td>2</td>\n      <td>False</td>\n      <td>High</td>\n    </tr>\n    <tr>\n      <th>4</th>\n      <td>OK</td>\n      <td>75</td>\n      <td>415</td>\n      <td>True</td>\n      <td>No</td>\n      <td>0</td>\n      <td>166.7</td>\n      <td>113</td>\n      <td>28.34</td>\n      <td>148.3</td>\n      <td>...</td>\n      <td>12.61</td>\n      <td>186.9</td>\n      <td>121</td>\n      <td>8.41</td>\n      <td>10.1</td>\n      <td>3</td>\n      <td>2.73</td>\n      <td>3</td>\n      <td>False</td>\n      <td>Very High</td>\n    </tr>\n    <tr>\n      <th>...</th>\n      <td>...</td>\n      <td>...</td>\n      <td>...</td>\n      <td>...</td>\n      <td>...</td>\n      <td>...</td>\n      <td>...</td>\n      <td>...</td>\n      <td>...</td>\n      <td>...</td>\n      <td>...</td>\n      <td>...</td>\n      <td>...</td>\n      <td>...</td>\n      <td>...</td>\n      <td>...</td>\n      <td>...</td>\n      <td>...</td>\n      <td>...</td>\n      <td>...</td>\n      <td>...</td>\n    </tr>\n    <tr>\n      <th>3328</th>\n      <td>AZ</td>\n      <td>192</td>\n      <td>415</td>\n      <td>True</td>\n      <td>Yes</td>\n      <td>36</td>\n      <td>156.2</td>\n      <td>77</td>\n      <td>26.55</td>\n      <td>215.5</td>\n      <td>...</td>\n      <td>18.32</td>\n      <td>279.1</td>\n      <td>83</td>\n      <td>12.56</td>\n      <td>9.9</td>\n      <td>6</td>\n      <td>2.67</td>\n      <td>2</td>\n      <td>False</td>\n      <td>High</td>\n    </tr>\n    <tr>\n      <th>3329</th>\n      <td>WV</td>\n      <td>68</td>\n      <td>415</td>\n      <td>True</td>\n      <td>No</td>\n      <td>0</td>\n      <td>231.1</td>\n      <td>57</td>\n      <td>39.29</td>\n      <td>153.4</td>\n      <td>...</td>\n      <td>13.04</td>\n      <td>191.3</td>\n      <td>123</td>\n      <td>8.61</td>\n      <td>9.6</td>\n      <td>4</td>\n      <td>2.59</td>\n      <td>3</td>\n      <td>False</td>\n      <td>Very High</td>\n    </tr>\n    <tr>\n      <th>3330</th>\n      <td>RI</td>\n      <td>28</td>\n      <td>510</td>\n      <td>True</td>\n      <td>No</td>\n      <td>0</td>\n      <td>180.8</td>\n      <td>109</td>\n      <td>30.74</td>\n      <td>288.8</td>\n      <td>...</td>\n      <td>24.55</td>\n      <td>191.9</td>\n      <td>91</td>\n      <td>8.64</td>\n      <td>14.1</td>\n      <td>6</td>\n      <td>3.81</td>\n      <td>2</td>\n      <td>False</td>\n      <td>High</td>\n    </tr>\n    <tr>\n      <th>3331</th>\n      <td>CT</td>\n      <td>184</td>\n      <td>510</td>\n      <td>True</td>\n      <td>No</td>\n      <td>0</td>\n      <td>213.8</td>\n      <td>105</td>\n      <td>36.35</td>\n      <td>159.6</td>\n      <td>...</td>\n      <td>13.57</td>\n      <td>139.2</td>\n      <td>137</td>\n      <td>6.26</td>\n      <td>5.0</td>\n      <td>10</td>\n      <td>1.35</td>\n      <td>2</td>\n      <td>False</td>\n      <td>Very High</td>\n    </tr>\n    <tr>\n      <th>3332</th>\n      <td>TN</td>\n      <td>74</td>\n      <td>415</td>\n      <td>True</td>\n      <td>Yes</td>\n      <td>25</td>\n      <td>234.4</td>\n      <td>113</td>\n      <td>39.85</td>\n      <td>265.9</td>\n      <td>...</td>\n      <td>22.60</td>\n      <td>241.4</td>\n      <td>77</td>\n      <td>10.86</td>\n      <td>13.7</td>\n      <td>4</td>\n      <td>3.70</td>\n      <td>0</td>\n      <td>False</td>\n      <td>High</td>\n    </tr>\n  </tbody>\n</table>\n<p>3333 rows × 21 columns</p>\n</div>"
     },
     "metadata": {},
     "execution_count": 77
    }
   ],
   "source": [
    " def change(x):\n",
    "    if(x>1 and x<25):\n",
    "      return 'Very Low'\n",
    "    elif(x>25 and x<20):\n",
    "      return 'Low'\n",
    "    elif(x>50 and x<75):\n",
    "      return 'Medium'\n",
    "    elif(x>75 and x<100):\n",
    "      return 'High'\n",
    "    elif(x>100 and x<200):\n",
    "      return 'Very High'\n",
    "df['num_label'] = df['Total night calls'].apply(lambda x: change(x))\n",
    "df\n"
   ]
  },
  {
   "cell_type": "markdown",
   "metadata": {},
   "source": [
    "# 8. find the sum of total charge for day, evening and night by area code"
   ]
  },
  {
   "cell_type": "code",
   "execution_count": 49,
   "metadata": {},
   "outputs": [
    {
     "output_type": "execute_result",
     "data": {
      "text/plain": "           Total day charge  Total eve charge  Total night charge\nArea code                                                        \n408                25240.79          14337.60             7512.49\n415                51092.06          28226.97            15046.92\n510                25531.32          14374.87             7568.66",
      "text/html": "<div>\n<style scoped>\n    .dataframe tbody tr th:only-of-type {\n        vertical-align: middle;\n    }\n\n    .dataframe tbody tr th {\n        vertical-align: top;\n    }\n\n    .dataframe thead th {\n        text-align: right;\n    }\n</style>\n<table border=\"1\" class=\"dataframe\">\n  <thead>\n    <tr style=\"text-align: right;\">\n      <th></th>\n      <th>Total day charge</th>\n      <th>Total eve charge</th>\n      <th>Total night charge</th>\n    </tr>\n    <tr>\n      <th>Area code</th>\n      <th></th>\n      <th></th>\n      <th></th>\n    </tr>\n  </thead>\n  <tbody>\n    <tr>\n      <th>408</th>\n      <td>25240.79</td>\n      <td>14337.60</td>\n      <td>7512.49</td>\n    </tr>\n    <tr>\n      <th>415</th>\n      <td>51092.06</td>\n      <td>28226.97</td>\n      <td>15046.92</td>\n    </tr>\n    <tr>\n      <th>510</th>\n      <td>25531.32</td>\n      <td>14374.87</td>\n      <td>7568.66</td>\n    </tr>\n  </tbody>\n</table>\n</div>"
     },
     "metadata": {},
     "execution_count": 49
    }
   ],
   "source": [
    "def sum_total():\n",
    "    gr=df.groupby('Area code')['Total day charge','Total eve charge','Total night charge'].sum()\n",
    "    return gr\n",
    "    return # write your code here\n",
    "sum_total()\n"
   ]
  },
  {
   "cell_type": "markdown",
   "metadata": {},
   "source": [
    "# 9. How many customers are there who made day calls below average and day charge was above average.\n",
    "# store this customer details in another dataframe"
   ]
  },
  {
   "cell_type": "code",
   "execution_count": 71,
   "metadata": {
    "scrolled": true,
    "tags": []
   },
   "outputs": [
    {
     "output_type": "stream",
     "name": "stdout",
     "text": "811\n"
    }
   ],
   "source": [
    "def select_custom():\n",
    "    x=df['Total day calls'].mean()\n",
    "    y= df['Total day charge'].mean()\n",
    "    cust= df.loc[(df['Total day calls']< x) & (df['Total day charge']>y)]\n",
    "    a1,b1=cust.shape\n",
    "    print(a1)\n",
    "    return cust\n",
    "cust=select_custom()\n"
   ]
  },
  {
   "cell_type": "markdown",
   "metadata": {},
   "source": [
    "# 10. take the dataframe created by Q19 and compute the total minutes and convert the total minutes to hour and display 5 values"
   ]
  },
  {
   "cell_type": "code",
   "execution_count": 72,
   "metadata": {
    "tags": []
   },
   "outputs": [
    {
     "output_type": "stream",
     "name": "stdout",
     "text": "811\n"
    },
    {
     "output_type": "execute_result",
     "data": {
      "text/plain": "3     9.303333\n5    10.798333\n6    12.988333\n8    12.531667\n9    13.450000\ndtype: float64"
     },
     "metadata": {},
     "execution_count": 72
    }
   ],
   "source": [
    "def total_min():\n",
    "    cust=select_custom()\n",
    "    tot = (cust['Total day minutes'] + cust['Total eve minutes'] + cust['Total night minutes'])/60\n",
    "    return tot.head(5)\n",
    "total_min()\n"
   ]
  },
  {
   "cell_type": "code",
   "execution_count": null,
   "metadata": {},
   "outputs": [],
   "source": []
  }
 ],
 "metadata": {
  "colab": {
   "collapsed_sections": [],
   "name": "churn_eval.ipynb",
   "provenance": []
  },
  "kernelspec": {
   "display_name": "Python 3",
   "language": "python",
   "name": "python3"
  },
  "language_info": {
   "codemirror_mode": {
    "name": "ipython",
    "version": 3
   },
   "file_extension": ".py",
   "mimetype": "text/x-python",
   "name": "python",
   "nbconvert_exporter": "python",
   "pygments_lexer": "ipython3",
   "version": "3.8.2-final"
  }
 },
 "nbformat": 4,
 "nbformat_minor": 1
}