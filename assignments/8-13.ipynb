{
 "metadata": {
  "language_info": {
   "codemirror_mode": {
    "name": "ipython",
    "version": 3
   },
   "file_extension": ".py",
   "mimetype": "text/x-python",
   "name": "python",
   "nbconvert_exporter": "python",
   "pygments_lexer": "ipython3",
   "version": "3.8.2-final"
  },
  "orig_nbformat": 2,
  "kernelspec": {
   "name": "python_defaultSpec_1597390853911",
   "display_name": "Python 3.8.2 32-bit"
  }
 },
 "nbformat": 4,
 "nbformat_minor": 2,
 "cells": [
  {
   "cell_type": "code",
   "execution_count": 1,
   "metadata": {},
   "outputs": [
    {
     "output_type": "execute_result",
     "data": {
      "text/plain": "  last_name  first_name  ... icpsr_id                    wikipedia_id\n0   Bassett     Richard  ...    507.0    Richard Bassett (politician)\n1     Bland  Theodorick  ...    786.0  Theodorick Bland (congressman)\n2     Burke     Aedanus  ...   1260.0                   Aedanus Burke\n3   Carroll      Daniel  ...   1538.0                  Daniel Carroll\n4    Clymer      George  ...   1859.0                   George Clymer\n\n[5 rows x 34 columns]",
      "text/html": "<div>\n<style scoped>\n    .dataframe tbody tr th:only-of-type {\n        vertical-align: middle;\n    }\n\n    .dataframe tbody tr th {\n        vertical-align: top;\n    }\n\n    .dataframe thead th {\n        text-align: right;\n    }\n</style>\n<table border=\"1\" class=\"dataframe\">\n  <thead>\n    <tr style=\"text-align: right;\">\n      <th></th>\n      <th>last_name</th>\n      <th>first_name</th>\n      <th>middle_name</th>\n      <th>suffix</th>\n      <th>nickname</th>\n      <th>full_name</th>\n      <th>birthday</th>\n      <th>gender</th>\n      <th>type</th>\n      <th>state</th>\n      <th>district</th>\n      <th>senate_class</th>\n      <th>party</th>\n      <th>url</th>\n      <th>address</th>\n      <th>phone</th>\n      <th>contact_form</th>\n      <th>rss_url</th>\n      <th>twitter</th>\n      <th>facebook</th>\n      <th>youtube</th>\n      <th>youtube_id</th>\n      <th>bioguide_id</th>\n      <th>thomas_id</th>\n      <th>opensecrets_id</th>\n      <th>lis_id</th>\n      <th>fec_ids</th>\n      <th>cspan_id</th>\n      <th>govtrack_id</th>\n      <th>votesmart_id</th>\n      <th>ballotpedia_id</th>\n      <th>washington_post_id</th>\n      <th>icpsr_id</th>\n      <th>wikipedia_id</th>\n    </tr>\n  </thead>\n  <tbody>\n    <tr>\n      <th>0</th>\n      <td>Bassett</td>\n      <td>Richard</td>\n      <td>NaN</td>\n      <td>NaN</td>\n      <td>NaN</td>\n      <td>NaN</td>\n      <td>1745-04-02</td>\n      <td>M</td>\n      <td>sen</td>\n      <td>DE</td>\n      <td>NaN</td>\n      <td>2.0</td>\n      <td>Anti-Administration</td>\n      <td>NaN</td>\n      <td>NaN</td>\n      <td>NaN</td>\n      <td>NaN</td>\n      <td>NaN</td>\n      <td>NaN</td>\n      <td>NaN</td>\n      <td>NaN</td>\n      <td>NaN</td>\n      <td>B000226</td>\n      <td>NaN</td>\n      <td>NaN</td>\n      <td>NaN</td>\n      <td>NaN</td>\n      <td>NaN</td>\n      <td>401222</td>\n      <td>NaN</td>\n      <td>NaN</td>\n      <td>NaN</td>\n      <td>507.0</td>\n      <td>Richard Bassett (politician)</td>\n    </tr>\n    <tr>\n      <th>1</th>\n      <td>Bland</td>\n      <td>Theodorick</td>\n      <td>NaN</td>\n      <td>NaN</td>\n      <td>NaN</td>\n      <td>NaN</td>\n      <td>1742-03-21</td>\n      <td>M</td>\n      <td>rep</td>\n      <td>VA</td>\n      <td>9.0</td>\n      <td>NaN</td>\n      <td>NaN</td>\n      <td>NaN</td>\n      <td>NaN</td>\n      <td>NaN</td>\n      <td>NaN</td>\n      <td>NaN</td>\n      <td>NaN</td>\n      <td>NaN</td>\n      <td>NaN</td>\n      <td>NaN</td>\n      <td>B000546</td>\n      <td>NaN</td>\n      <td>NaN</td>\n      <td>NaN</td>\n      <td>NaN</td>\n      <td>NaN</td>\n      <td>401521</td>\n      <td>NaN</td>\n      <td>NaN</td>\n      <td>NaN</td>\n      <td>786.0</td>\n      <td>Theodorick Bland (congressman)</td>\n    </tr>\n    <tr>\n      <th>2</th>\n      <td>Burke</td>\n      <td>Aedanus</td>\n      <td>NaN</td>\n      <td>NaN</td>\n      <td>NaN</td>\n      <td>NaN</td>\n      <td>1743-06-16</td>\n      <td>M</td>\n      <td>rep</td>\n      <td>SC</td>\n      <td>2.0</td>\n      <td>NaN</td>\n      <td>NaN</td>\n      <td>NaN</td>\n      <td>NaN</td>\n      <td>NaN</td>\n      <td>NaN</td>\n      <td>NaN</td>\n      <td>NaN</td>\n      <td>NaN</td>\n      <td>NaN</td>\n      <td>NaN</td>\n      <td>B001086</td>\n      <td>NaN</td>\n      <td>NaN</td>\n      <td>NaN</td>\n      <td>NaN</td>\n      <td>NaN</td>\n      <td>402032</td>\n      <td>NaN</td>\n      <td>NaN</td>\n      <td>NaN</td>\n      <td>1260.0</td>\n      <td>Aedanus Burke</td>\n    </tr>\n    <tr>\n      <th>3</th>\n      <td>Carroll</td>\n      <td>Daniel</td>\n      <td>NaN</td>\n      <td>NaN</td>\n      <td>NaN</td>\n      <td>NaN</td>\n      <td>1730-07-22</td>\n      <td>M</td>\n      <td>rep</td>\n      <td>MD</td>\n      <td>6.0</td>\n      <td>NaN</td>\n      <td>NaN</td>\n      <td>NaN</td>\n      <td>NaN</td>\n      <td>NaN</td>\n      <td>NaN</td>\n      <td>NaN</td>\n      <td>NaN</td>\n      <td>NaN</td>\n      <td>NaN</td>\n      <td>NaN</td>\n      <td>C000187</td>\n      <td>NaN</td>\n      <td>NaN</td>\n      <td>NaN</td>\n      <td>NaN</td>\n      <td>NaN</td>\n      <td>402334</td>\n      <td>NaN</td>\n      <td>NaN</td>\n      <td>NaN</td>\n      <td>1538.0</td>\n      <td>Daniel Carroll</td>\n    </tr>\n    <tr>\n      <th>4</th>\n      <td>Clymer</td>\n      <td>George</td>\n      <td>NaN</td>\n      <td>NaN</td>\n      <td>NaN</td>\n      <td>NaN</td>\n      <td>1739-03-16</td>\n      <td>M</td>\n      <td>rep</td>\n      <td>PA</td>\n      <td>-1.0</td>\n      <td>NaN</td>\n      <td>NaN</td>\n      <td>NaN</td>\n      <td>NaN</td>\n      <td>NaN</td>\n      <td>NaN</td>\n      <td>NaN</td>\n      <td>NaN</td>\n      <td>NaN</td>\n      <td>NaN</td>\n      <td>NaN</td>\n      <td>C000538</td>\n      <td>NaN</td>\n      <td>NaN</td>\n      <td>NaN</td>\n      <td>NaN</td>\n      <td>NaN</td>\n      <td>402671</td>\n      <td>NaN</td>\n      <td>NaN</td>\n      <td>NaN</td>\n      <td>1859.0</td>\n      <td>George Clymer</td>\n    </tr>\n  </tbody>\n</table>\n</div>"
     },
     "metadata": {},
     "execution_count": 1
    }
   ],
   "source": [
    "import pandas as pd \n",
    "w=pd.read_csv('https://theunitedstates.io/congress-legislators/legislators-historical.csv')\n",
    "w.head()"
   ]
  },
  {
   "cell_type": "code",
   "execution_count": 15,
   "metadata": {},
   "outputs": [
    {
     "output_type": "execute_result",
     "data": {
      "text/plain": "2404011"
     },
     "metadata": {},
     "execution_count": 15
    }
   ],
   "source": [
    "w[(w['last_name']=='Abbott')]['govtrack_id'].sum()"
   ]
  },
  {
   "cell_type": "code",
   "execution_count": 16,
   "metadata": {},
   "outputs": [
    {
     "output_type": "execute_result",
     "data": {
      "text/plain": "1462"
     },
     "metadata": {},
     "execution_count": 16
    }
   ],
   "source": [
    "b=w.groupby('state')\n",
    "b['last_name'].count().max()"
   ]
  },
  {
   "cell_type": "code",
   "execution_count": 11,
   "metadata": {},
   "outputs": [
    {
     "output_type": "execute_result",
     "data": {
      "text/plain": "M    38\nF     2\nName: gender, dtype: int64"
     },
     "metadata": {},
     "execution_count": 11
    }
   ],
   "source": [
    "w[(w['state']=='WY')]['gender'].value_counts()"
   ]
  },
  {
   "cell_type": "code",
   "execution_count": null,
   "metadata": {},
   "outputs": [],
   "source": []
  }
 ]
}