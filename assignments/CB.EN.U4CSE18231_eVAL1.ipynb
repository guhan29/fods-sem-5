{
 "cells": [
  {
   "cell_type": "markdown",
   "metadata": {},
   "source": [
    "# EVALUATION - 1"
   ]
  },
  {
   "cell_type": "markdown",
   "metadata": {
    "colab_type": "text",
    "id": "_8rI0BMA7W2g"
   },
   "source": [
    "Telecom Churn Datasets\n",
    "\n",
    "Each row represents a customer; each column contains customer’s attributes. The datasets have the following attributes or features:\n",
    "\n",
    "State: string\n",
    "Account length: integer\n",
    "Area code: integer\n",
    "International plan: string\n",
    "Voice mail plan: string\n",
    "Number vmail messages: integer\n",
    "Total day minutes: double\n",
    "Total day calls: integer\n",
    "Total day charge: double\n",
    "Total eve minutes: double\n",
    "Total eve calls: integer\n",
    "Total eve charge: double\n",
    "Total night minutes: double\n",
    "Total night calls: integer\n",
    "Total night charge: double\n",
    "Total intl minutes: double\n",
    "Total intl calls: integer\n",
    "Total intl charge: double\n",
    "Customer service calls: integer\n",
    "Churn: string ( 0-loyal users, 1- churned users)"
   ]
  },
  {
   "cell_type": "code",
   "execution_count": 1,
   "metadata": {
    "colab": {},
    "colab_type": "code",
    "id": "VKq2cKzh0MqB"
   },
   "outputs": [],
   "source": [
    "import pandas as pd"
   ]
  },
  {
   "cell_type": "code",
   "execution_count": 2,
   "metadata": {
    "colab": {},
    "colab_type": "code",
    "id": "l2YevV5I0PZ9"
   },
   "outputs": [],
   "source": [
    "df=pd.read_csv('https://raw.githubusercontent.com/Yorko/mlcourse.ai/master/data/telecom_churn.csv')"
   ]
  },
  {
   "cell_type": "code",
   "execution_count": 3,
   "metadata": {
    "colab": {
     "base_uri": "https://localhost:8080/",
     "height": 231
    },
    "colab_type": "code",
    "id": "x0ROCLUI0Uc0",
    "outputId": "5669a36e-3d7f-4f53-e05a-14ae364da3f8"
   },
   "outputs": [
    {
     "output_type": "execute_result",
     "data": {
      "text/plain": "  State  Account length  Area code International plan Voice mail plan  \\\n0    KS             128        415                 No             Yes   \n1    OH             107        415                 No             Yes   \n2    NJ             137        415                 No              No   \n3    OH              84        408                Yes              No   \n4    OK              75        415                Yes              No   \n\n   Number vmail messages  Total day minutes  Total day calls  \\\n0                     25              265.1              110   \n1                     26              161.6              123   \n2                      0              243.4              114   \n3                      0              299.4               71   \n4                      0              166.7              113   \n\n   Total day charge  Total eve minutes  Total eve calls  Total eve charge  \\\n0             45.07              197.4               99             16.78   \n1             27.47              195.5              103             16.62   \n2             41.38              121.2              110             10.30   \n3             50.90               61.9               88              5.26   \n4             28.34              148.3              122             12.61   \n\n   Total night minutes  Total night calls  Total night charge  \\\n0                244.7                 91               11.01   \n1                254.4                103               11.45   \n2                162.6                104                7.32   \n3                196.9                 89                8.86   \n4                186.9                121                8.41   \n\n   Total intl minutes  Total intl calls  Total intl charge  \\\n0                10.0                 3               2.70   \n1                13.7                 3               3.70   \n2                12.2                 5               3.29   \n3                 6.6                 7               1.78   \n4                10.1                 3               2.73   \n\n   Customer service calls  Churn  \n0                       1  False  \n1                       1  False  \n2                       0  False  \n3                       2  False  \n4                       3  False  ",
      "text/html": "<div>\n<style scoped>\n    .dataframe tbody tr th:only-of-type {\n        vertical-align: middle;\n    }\n\n    .dataframe tbody tr th {\n        vertical-align: top;\n    }\n\n    .dataframe thead th {\n        text-align: right;\n    }\n</style>\n<table border=\"1\" class=\"dataframe\">\n  <thead>\n    <tr style=\"text-align: right;\">\n      <th></th>\n      <th>State</th>\n      <th>Account length</th>\n      <th>Area code</th>\n      <th>International plan</th>\n      <th>Voice mail plan</th>\n      <th>Number vmail messages</th>\n      <th>Total day minutes</th>\n      <th>Total day calls</th>\n      <th>Total day charge</th>\n      <th>Total eve minutes</th>\n      <th>Total eve calls</th>\n      <th>Total eve charge</th>\n      <th>Total night minutes</th>\n      <th>Total night calls</th>\n      <th>Total night charge</th>\n      <th>Total intl minutes</th>\n      <th>Total intl calls</th>\n      <th>Total intl charge</th>\n      <th>Customer service calls</th>\n      <th>Churn</th>\n    </tr>\n  </thead>\n  <tbody>\n    <tr>\n      <th>0</th>\n      <td>KS</td>\n      <td>128</td>\n      <td>415</td>\n      <td>No</td>\n      <td>Yes</td>\n      <td>25</td>\n      <td>265.1</td>\n      <td>110</td>\n      <td>45.07</td>\n      <td>197.4</td>\n      <td>99</td>\n      <td>16.78</td>\n      <td>244.7</td>\n      <td>91</td>\n      <td>11.01</td>\n      <td>10.0</td>\n      <td>3</td>\n      <td>2.70</td>\n      <td>1</td>\n      <td>False</td>\n    </tr>\n    <tr>\n      <th>1</th>\n      <td>OH</td>\n      <td>107</td>\n      <td>415</td>\n      <td>No</td>\n      <td>Yes</td>\n      <td>26</td>\n      <td>161.6</td>\n      <td>123</td>\n      <td>27.47</td>\n      <td>195.5</td>\n      <td>103</td>\n      <td>16.62</td>\n      <td>254.4</td>\n      <td>103</td>\n      <td>11.45</td>\n      <td>13.7</td>\n      <td>3</td>\n      <td>3.70</td>\n      <td>1</td>\n      <td>False</td>\n    </tr>\n    <tr>\n      <th>2</th>\n      <td>NJ</td>\n      <td>137</td>\n      <td>415</td>\n      <td>No</td>\n      <td>No</td>\n      <td>0</td>\n      <td>243.4</td>\n      <td>114</td>\n      <td>41.38</td>\n      <td>121.2</td>\n      <td>110</td>\n      <td>10.30</td>\n      <td>162.6</td>\n      <td>104</td>\n      <td>7.32</td>\n      <td>12.2</td>\n      <td>5</td>\n      <td>3.29</td>\n      <td>0</td>\n      <td>False</td>\n    </tr>\n    <tr>\n      <th>3</th>\n      <td>OH</td>\n      <td>84</td>\n      <td>408</td>\n      <td>Yes</td>\n      <td>No</td>\n      <td>0</td>\n      <td>299.4</td>\n      <td>71</td>\n      <td>50.90</td>\n      <td>61.9</td>\n      <td>88</td>\n      <td>5.26</td>\n      <td>196.9</td>\n      <td>89</td>\n      <td>8.86</td>\n      <td>6.6</td>\n      <td>7</td>\n      <td>1.78</td>\n      <td>2</td>\n      <td>False</td>\n    </tr>\n    <tr>\n      <th>4</th>\n      <td>OK</td>\n      <td>75</td>\n      <td>415</td>\n      <td>Yes</td>\n      <td>No</td>\n      <td>0</td>\n      <td>166.7</td>\n      <td>113</td>\n      <td>28.34</td>\n      <td>148.3</td>\n      <td>122</td>\n      <td>12.61</td>\n      <td>186.9</td>\n      <td>121</td>\n      <td>8.41</td>\n      <td>10.1</td>\n      <td>3</td>\n      <td>2.73</td>\n      <td>3</td>\n      <td>False</td>\n    </tr>\n  </tbody>\n</table>\n</div>"
     },
     "metadata": {},
     "execution_count": 3
    }
   ],
   "source": [
    "df.head(5)"
   ]
  },
  {
   "cell_type": "markdown",
   "metadata": {
    "colab_type": "text",
    "id": "FsuMmMTU0Y7g"
   },
   "source": [
    "# 1. display the number of rows of the dataset - 1 Mark"
   ]
  },
  {
   "cell_type": "code",
   "execution_count": 5,
   "metadata": {
    "colab": {
     "base_uri": "https://localhost:8080/",
     "height": 34
    },
    "colab_type": "code",
    "id": "M7blb0510Vmu",
    "outputId": "697d68c9-7bd3-4062-81bb-b19a4ac708f4",
    "scrolled": true
   },
   "outputs": [
    {
     "output_type": "execute_result",
     "data": {
      "text/plain": "3333"
     },
     "metadata": {},
     "execution_count": 5
    }
   ],
   "source": [
    "def no_rows():\n",
    "    a,b=df.shape\n",
    "    return a\n",
    "no_rows()"
   ]
  },
  {
   "cell_type": "markdown",
   "metadata": {
    "colab_type": "text",
    "id": "LC_yoCdm0oM6"
   },
   "source": [
    "# 2. select only string columns and display first 3 valueses - 1 Mark"
   ]
  },
  {
   "cell_type": "code",
   "execution_count": 6,
   "metadata": {
    "colab": {
     "base_uri": "https://localhost:8080/",
     "height": 158
    },
    "colab_type": "code",
    "id": "xGNJyNH90hcV",
    "outputId": "edec4c8a-1bd1-430f-8aa8-b78eefb3b1e2"
   },
   "outputs": [
    {
     "output_type": "execute_result",
     "data": {
      "text/plain": "  State International plan Voice mail plan\n0    KS                 No             Yes\n1    OH                 No             Yes\n2    NJ                 No              No",
      "text/html": "<div>\n<style scoped>\n    .dataframe tbody tr th:only-of-type {\n        vertical-align: middle;\n    }\n\n    .dataframe tbody tr th {\n        vertical-align: top;\n    }\n\n    .dataframe thead th {\n        text-align: right;\n    }\n</style>\n<table border=\"1\" class=\"dataframe\">\n  <thead>\n    <tr style=\"text-align: right;\">\n      <th></th>\n      <th>State</th>\n      <th>International plan</th>\n      <th>Voice mail plan</th>\n    </tr>\n  </thead>\n  <tbody>\n    <tr>\n      <th>0</th>\n      <td>KS</td>\n      <td>No</td>\n      <td>Yes</td>\n    </tr>\n    <tr>\n      <th>1</th>\n      <td>OH</td>\n      <td>No</td>\n      <td>Yes</td>\n    </tr>\n    <tr>\n      <th>2</th>\n      <td>NJ</td>\n      <td>No</td>\n      <td>No</td>\n    </tr>\n  </tbody>\n</table>\n</div>"
     },
     "metadata": {},
     "execution_count": 6
    }
   ],
   "source": [
    "def col_name():\n",
    "    strings=(df.select_dtypes(include='object')).head(3)\n",
    "    return strings\n",
    "col_name()"
   ]
  },
  {
   "cell_type": "markdown",
   "metadata": {
    "colab_type": "text",
    "id": "xmmoO1z704dH"
   },
   "source": [
    "# 3. convert the churn datatype to int and display the type of churn column - 1 Mark"
   ]
  },
  {
   "cell_type": "code",
   "execution_count": 8,
   "metadata": {
    "colab": {},
    "colab_type": "code",
    "id": "6oZWha7D0yMP"
   },
   "outputs": [
    {
     "output_type": "execute_result",
     "data": {
      "text/plain": "dtype('int32')"
     },
     "metadata": {},
     "execution_count": 8
    }
   ],
   "source": [
    "def change_type():\n",
    "    df['Churn']=df['Churn'].astype('int')\n",
    "    return df['Churn'].dtype\n",
    "change_type()"
   ]
  },
  {
   "cell_type": "markdown",
   "metadata": {
    "colab_type": "text",
    "id": "TMgT8bM61O9-"
   },
   "source": [
    "# 4. print the most frequently occuring value for state, international plan and voice mail plan from summary statistics -  1 Mark"
   ]
  },
  {
   "cell_type": "code",
   "execution_count": 14,
   "metadata": {
    "colab": {
     "base_uri": "https://localhost:8080/",
     "height": 167
    },
    "colab_type": "code",
    "id": "wNe-JUbS1ALp",
    "outputId": "e750f704-a99d-4819-9296-9b71be664113"
   },
   "outputs": [
    {
     "output_type": "execute_result",
     "data": {
      "text/plain": "  State International plan Voice mail plan\n0    WV                 No              No",
      "text/html": "<div>\n<style scoped>\n    .dataframe tbody tr th:only-of-type {\n        vertical-align: middle;\n    }\n\n    .dataframe tbody tr th {\n        vertical-align: top;\n    }\n\n    .dataframe thead th {\n        text-align: right;\n    }\n</style>\n<table border=\"1\" class=\"dataframe\">\n  <thead>\n    <tr style=\"text-align: right;\">\n      <th></th>\n      <th>State</th>\n      <th>International plan</th>\n      <th>Voice mail plan</th>\n    </tr>\n  </thead>\n  <tbody>\n    <tr>\n      <th>0</th>\n      <td>WV</td>\n      <td>No</td>\n      <td>No</td>\n    </tr>\n  </tbody>\n</table>\n</div>"
     },
     "metadata": {},
     "execution_count": 14
    }
   ],
   "source": [
    "def dis_summary():\n",
    "    return df[['State','International plan','Voice mail plan']].mode()\n",
    "    \n",
    "dis_summary()\n",
    "\n"
   ]
  },
  {
   "cell_type": "markdown",
   "metadata": {
    "colab_type": "text",
    "id": "0VkXkdgS3Ivc"
   },
   "source": [
    "# 5. What is the percentage of churn in each category - 1 Mark"
   ]
  },
  {
   "cell_type": "code",
   "execution_count": 24,
   "metadata": {
    "colab": {
     "base_uri": "https://localhost:8080/",
     "height": 70
    },
    "colab_type": "code",
    "id": "kp1dF41K29er",
    "outputId": "8bfca32a-0b8f-4eb1-a268-3f0f56030dec"
   },
   "outputs": [
    {
     "output_type": "execute_result",
     "data": {
      "text/plain": "0    85.508551\n1    14.491449\nName: Churn, dtype: float64"
     },
     "metadata": {},
     "execution_count": 24
    }
   ],
   "source": [
    "def perc_churn():\n",
    "    return df['Churn'].value_counts()/df['Churn'].value_counts().sum()*100\n",
    "perc_churn()\n"
   ]
  },
  {
   "cell_type": "markdown",
   "metadata": {
    "colab_type": "text",
    "id": "GXy77UDm3Yni"
   },
   "source": [
    "# 6. sort the dataframe in the descending order of Total day charge and display first 5 states - 1 Mark"
   ]
  },
  {
   "cell_type": "code",
   "execution_count": 13,
   "metadata": {
    "colab": {
     "base_uri": "https://localhost:8080/",
     "height": 231
    },
    "colab_type": "code",
    "id": "psBPV9qs3NzL",
    "outputId": "33893621-d6ac-488f-c851-4c036f8edd77"
   },
   "outputs": [
    {
     "output_type": "execute_result",
     "data": {
      "text/plain": "365     CO\n985     NY\n2594    OH\n156     OH\n605     MO\nName: State, dtype: object"
     },
     "metadata": {},
     "execution_count": 13
    }
   ],
   "source": [
    "def sort_disp():    \n",
    "    t=df.sort_values('Total day charge',ascending=False).head(5)\n",
    "    return t['State']\n",
    "sort_disp()\n"
   ]
  },
  {
   "cell_type": "markdown",
   "metadata": {
    "colab_type": "text",
    "id": "sQE8hmrw3uKQ"
   },
   "source": [
    "# 7. sort the dataframe in the ascending order of churn and then dy descending order of total dat charge and display first area code and account length - 1 Mark"
   ]
  },
  {
   "cell_type": "code",
   "execution_count": 19,
   "metadata": {
    "colab": {
     "base_uri": "https://localhost:8080/",
     "height": 231
    },
    "colab_type": "code",
    "id": "0LlB1yj_3lpE",
    "outputId": "1fcff373-45f3-4362-e2f5-ab21d2ed4d9a"
   },
   "outputs": [
    {
     "output_type": "execute_result",
     "data": {
      "text/plain": "     Area code  Account length\n688        510              13",
      "text/html": "<div>\n<style scoped>\n    .dataframe tbody tr th:only-of-type {\n        vertical-align: middle;\n    }\n\n    .dataframe tbody tr th {\n        vertical-align: top;\n    }\n\n    .dataframe thead th {\n        text-align: right;\n    }\n</style>\n<table border=\"1\" class=\"dataframe\">\n  <thead>\n    <tr style=\"text-align: right;\">\n      <th></th>\n      <th>Area code</th>\n      <th>Account length</th>\n    </tr>\n  </thead>\n  <tbody>\n    <tr>\n      <th>688</th>\n      <td>510</td>\n      <td>13</td>\n    </tr>\n  </tbody>\n</table>\n</div>"
     },
     "metadata": {},
     "execution_count": 19
    }
   ],
   "source": [
    "def sort_val1():    \n",
    "    return df.sort_values(['Churn','Total day charge'],ascending=[True,False])[['Area code','Account length']].head(1)\n",
    "sort_val1()\n"
   ]
  },
  {
   "cell_type": "markdown",
   "metadata": {
    "colab_type": "text",
    "id": "RQackhW-4DiV"
   },
   "source": [
    "# 8. What are average values of all columns for churned users? - 1 Mark"
   ]
  },
  {
   "cell_type": "code",
   "execution_count": 20,
   "metadata": {
    "colab": {
     "base_uri": "https://localhost:8080/",
     "height": 336
    },
    "colab_type": "code",
    "id": "RBs5tCEs36gr",
    "outputId": "052035f5-36da-4384-a3d2-316e3f4538d6"
   },
   "outputs": [
    {
     "output_type": "execute_result",
     "data": {
      "text/plain": "Account length            102.664596\nArea code                 437.817805\nNumber vmail messages       5.115942\nTotal day minutes         206.914079\nTotal day calls           101.335404\nTotal day charge           35.175921\nTotal eve minutes         212.410145\nTotal eve calls           100.561077\nTotal eve charge           18.054969\nTotal night minutes       205.231677\nTotal night calls         100.399586\nTotal night charge          9.235528\nTotal intl minutes         10.700000\nTotal intl calls            4.163561\nTotal intl charge           2.889545\nCustomer service calls      2.229814\nChurn                       1.000000\ndtype: float64"
     },
     "metadata": {},
     "execution_count": 20
    }
   ],
   "source": [
    "def avg_churn():\n",
    "    return df[df['Churn']==True].mean()\n",
    "avg_churn()\n"
   ]
  },
  {
   "cell_type": "markdown",
   "metadata": {
    "colab_type": "text",
    "id": "hlCLODXz4drQ"
   },
   "source": [
    "# 9. What is the maximum length of voice mail calls for loyal users  who do not have an international plan? - 1 Mark"
   ]
  },
  {
   "cell_type": "code",
   "execution_count": 30,
   "metadata": {
    "colab": {
     "base_uri": "https://localhost:8080/",
     "height": 34
    },
    "colab_type": "code",
    "id": "I65-ew6R4I_9",
    "outputId": "7e116c2c-a32f-4c8e-e7f8-8dfdac75602d"
   },
   "outputs": [
    {
     "output_type": "execute_result",
     "data": {
      "text/plain": "831.0"
     },
     "metadata": {},
     "execution_count": 30
    }
   ],
   "source": [
    "def max_val():\n",
    "    d=df.loc[(df['Churn']==0)&(df['International plan']=='No'),['Total day minutes','Total eve minutes','Total night minutes']]\n",
    "    return d.sum(axis=1).max()\n",
    "    \n",
    "max_val()\n"
   ]
  },
  {
   "cell_type": "markdown",
   "metadata": {
    "colab_type": "text",
    "id": "lviJNmM54pYX"
   },
   "source": [
    "# 10. display max value of all columns - 1 Mark"
   ]
  },
  {
   "cell_type": "code",
   "execution_count": 21,
   "metadata": {
    "colab": {
     "base_uri": "https://localhost:8080/",
     "height": 390
    },
    "colab_type": "code",
    "id": "eb4U-gdX4h-X",
    "outputId": "79003d36-64f1-4088-ccf4-7fd9ee539ba6"
   },
   "outputs": [
    {
     "output_type": "execute_result",
     "data": {
      "text/plain": "State                        WY\nAccount length              243\nArea code                   510\nInternational plan          Yes\nVoice mail plan             Yes\nNumber vmail messages        51\nTotal day minutes         350.8\nTotal day calls             165\nTotal day charge          59.64\nTotal eve minutes         363.7\nTotal eve calls             170\nTotal eve charge          30.91\nTotal night minutes         395\nTotal night calls           175\nTotal night charge        17.77\nTotal intl minutes           20\nTotal intl calls             20\nTotal intl charge           5.4\nCustomer service calls        9\nChurn                         1\ndtype: object"
     },
     "metadata": {},
     "execution_count": 21
    }
   ],
   "source": [
    "def max_all():\n",
    "    return df.max()\n",
    "max_all()\n"
   ]
  },
  {
   "cell_type": "code",
   "execution_count": null,
   "metadata": {},
   "outputs": [],
   "source": []
  }
 ],
 "metadata": {
  "colab": {
   "collapsed_sections": [],
   "name": "churn_eval.ipynb",
   "provenance": []
  },
  "kernelspec": {
   "display_name": "Python 3",
   "language": "python",
   "name": "python3"
  },
  "language_info": {
   "codemirror_mode": {
    "name": "ipython",
    "version": 3
   },
   "file_extension": ".py",
   "mimetype": "text/x-python",
   "name": "python",
   "nbconvert_exporter": "python",
   "pygments_lexer": "ipython3",
   "version": "3.8.2-final"
  }
 },
 "nbformat": 4,
 "nbformat_minor": 1
}